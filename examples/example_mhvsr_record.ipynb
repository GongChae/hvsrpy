{
 "cells": [
  {
   "cell_type": "markdown",
   "metadata": {},
   "source": [
    "# Horizontal-to-Vertical Spectral Ratio (HVSR) Measurements from Microtremor Recordings (mHVSR)\n",
    "\n",
    "## License Information\n",
    "\n",
    "This file is part of _hvsrpy_, a Python package for horizontal-to-vertical spectral ratio processing.\n",
    "\n",
    "    Copyright (C) 2019-2024 Joseph P. Vantassel (joseph.p.vantassel@gmail.com)\n",
    "\n",
    "    This program is free software: you can redistribute it and/or modify\n",
    "    it under the terms of the GNU General Public License as published by\n",
    "    the Free Software Foundation, either version 3 of the License, or\n",
    "    (at your option) any later version.\n",
    "\n",
    "    This program is distributed in the hope that it will be useful,\n",
    "    but WITHOUT ANY WARRANTY; without even the implied warranty of\n",
    "    MERCHANTABILITY or FITNESS FOR A PARTICULAR PURPOSE.  See the\n",
    "    GNU General Public License for more details.\n",
    "\n",
    "    You should have received a copy of the GNU General Public License\n",
    "    along with this program.  If not, see <https: //www.gnu.org/licenses/>.\n",
    "    \n",
    "## About _hvsrpy_\n",
    "\n",
    "_hvsrpy_ is an open-source Python package for performing horizontal-to-vertical spectral ratio (HVSR) processing of microtremor and earthquake recordings. _hvsrpy_ was developed by [Joseph P. Vantassel](https://www.jpvantassel.com/) with contributions from Dana M. Brannon under the supervision of Professor Brady R. Cox at The University of Texas at Austin. _hvsrpy_ continues to be developed and maintained by [Joseph P. Vantassel and his research group at Virginia Tech](https://geoimaging-research.org/).\n",
    "\n",
    "## Citation\n",
    "\n",
    "If you use _hvsrpy_ in your research or consulting, we ask you please cite the following:\n",
    "\n",
    ">Joseph Vantassel. (2020). jpvantassel/hvsrpy: latest (Concept). Zenodo.\n",
    "[http://doi.org/10.5281/zenodo.3666956](http://doi.org/10.5281/zenodo.3666956)\n",
    "\n",
    "_Note: For software, version specific citations should be preferred to\n",
    "general concept citations, such as that listed above. To generate a version\n",
    "specific citation for hvsrpy, please use the citation tool on the hvsrpy\n",
    "[archive](http://doi.org/10.5281/zenodo.3666956)._\n",
    "\n",
    "## About this notebook\n",
    "\n",
    "This notebook demonstrates traditional mHVSR processing using _hvsrpy_.\n",
    "\n",
    "The lognormal statistics implemented in _hvsrpy_ were developed by Cox et al. (2020).\n",
    "If you use this feature, please also cite Cox et al. (2020) to recognize their original work.\n",
    "\n",
    "> Cox, B. R., Cheng, T., Vantassel, J. P., & Manuel, L. (2020). \"A statistical\n",
    "> representation and frequency-domain window-rejection algorithm for single-station\n",
    "> HVSR measurements. Geophysical Journal International, 221(3), 2170–2183.\n",
    "> https://doi.org/10.1093/gji/ggaa119\n",
    "\n",
    "The microtremor data presented are those by Cox and Vantassel (2018).\n",
    "If you use this data, please also cite Cox and Vantassel (2018).\n",
    "\n",
    ">Cox, B.R. and Vantassel, J.P. (2018). Dynamic Characterization of Wellington, New Zealand. DesignSafe-CI [publisher]. https://doi.org/10.17603/DS24M6J\n",
    "\n",
    "## Getting Started\n",
    "\n",
    "1. Install _hvsrpy_, with `pip install hvsrpy`. More information on _pip_ can be found [here](https://jpvantassel.github.io/python3-course/#/intro/pip). __(~3 minutes)__\n",
    "2. Try analyzing the provided examples. __(~10 minutes)__\n",
    "3. Try your own files by changing the file names below. __(~15 minutes)__\n",
    "\n",
    "Happy Processing!"
   ]
  },
  {
   "cell_type": "code",
   "metadata": {
    "tags": [],
    "ExecuteTime": {
     "end_time": "2025-05-06T06:12:40.484702Z",
     "start_time": "2025-05-06T06:12:40.481677Z"
    }
   },
   "source": [
    "import numpy as np\n",
    "import pandas as pd\n",
    "import matplotlib.pyplot as plt\n",
    "import pathlib\n",
    "from collections import defaultdict\n",
    "import hvsrpy\n",
    "from hvsrpy import sesame\n",
    "from io import StringIO\n",
    "import contextlib\n",
    "\n",
    "def safe_print(s):\n",
    "    try:\n",
    "        print(s)\n",
    "    except UnicodeEncodeError:\n",
    "        print(s.encode('utf-8', errors='replace').decode('utf-8'))\n",
    "\n",
    "\n",
    "plt.style.use(hvsrpy.HVSRPY_MPL_STYLE)"
   ],
   "outputs": [],
   "execution_count": 21
  },
  {
   "cell_type": "markdown",
   "metadata": {},
   "source": [
    "## Input Data"
   ]
  },
  {
   "cell_type": "code",
   "metadata": {
    "tags": [],
    "ExecuteTime": {
     "end_time": "2025-05-06T06:12:40.497803Z",
     "start_time": "2025-05-06T06:12:40.490804Z"
    }
   },
   "source": [
    "# ✅ 데이터 폴더 지정\n",
    "data_dir = pathlib.Path(\"C:/SOLODATA/zonghap/3month/3월부터얻은데이터목록\")\n",
    "sac_files = sorted(data_dir.glob(\"*.sac\"))\n",
    "\n",
    "# ✅ Z/N/E 그룹화\n",
    "grouped_files = defaultdict(dict)\n",
    "for file in sac_files:\n",
    "    parts = file.stem.split(\".\")\n",
    "    if len(parts) < 9:\n",
    "        continue\n",
    "    base_id = \".\".join(parts[:-1])\n",
    "    comp = parts[-1]\n",
    "    grouped_files[base_id][comp] = str(file)\n",
    "\n",
    "fname_sets = []\n",
    "for base, comps in grouped_files.items():\n",
    "    if all(k in comps for k in [\"E\", \"N\", \"Z\"]):\n",
    "        fname_sets.append([comps[\"Z\"], comps[\"N\"], comps[\"E\"]])\n",
    "\n",
    "# ✅ 저장 폴더\n",
    "save_root = pathlib.Path(\"C:/SOLODATA/zonghap/hvsr_output\")\n",
    "output_dir = save_root / data_dir.name\n",
    "output_dir.mkdir(parents=True, exist_ok=True)"
   ],
   "outputs": [],
   "execution_count": 22
  },
  {
   "cell_type": "markdown",
   "metadata": {},
   "source": [
    "## Preprocessing Settings"
   ]
  },
  {
   "cell_type": "code",
   "metadata": {
    "tags": [],
    "ExecuteTime": {
     "end_time": "2025-05-06T06:12:40.510406Z",
     "start_time": "2025-05-06T06:12:40.506279Z"
    }
   },
   "source": [
    "preprocessing_settings = hvsrpy.settings.HvsrPreProcessingSettings()\n",
    "preprocessing_settings.detrend = \"linear\"\n",
    "preprocessing_settings.window_length_in_seconds = 30\n",
    "preprocessing_settings.orient_to_degrees_from_north = 0.0\n",
    "preprocessing_settings.filter_corner_frequencies_in_hz = (1, 10)\n",
    "preprocessing_settings.ignore_dissimilar_time_step_warning = False\n",
    "\n",
    "print(\"Preprocessing Summary\")\n",
    "print(\"-\"*60)\n",
    "preprocessing_settings.psummary()"
   ],
   "outputs": [
    {
     "name": "stdout",
     "output_type": "stream",
     "text": [
      "Preprocessing Summary\n",
      "------------------------------------------------------------\n",
      "hvsrpy_version                           : 2.0.0\n",
      "orient_to_degrees_from_north             : 0.0\n",
      "filter_corner_frequencies_in_hz          : (1, 10)\n",
      "window_length_in_seconds                 : 30\n",
      "detrend                                  : linear\n",
      "ignore_dissimilar_time_step_warning      : False\n",
      "preprocessing_method                     : hvsr\n"
     ]
    }
   ],
   "execution_count": 23
  },
  {
   "cell_type": "markdown",
   "metadata": {},
   "source": [
    "## Processing Settings"
   ]
  },
  {
   "cell_type": "code",
   "metadata": {
    "tags": [],
    "ExecuteTime": {
     "end_time": "2025-05-06T06:12:40.594598Z",
     "start_time": "2025-05-06T06:12:40.590546Z"
    }
   },
   "source": [
    "processing_settings = hvsrpy.settings.HvsrTraditionalProcessingSettings()\n",
    "processing_settings.window_type_and_width = (\"tukey\", 0.2)\n",
    "processing_settings.smoothing=dict(operator=\"konno_and_ohmachi\",\n",
    "                                   bandwidth=40,\n",
    "                                   center_frequencies_in_hz=np.geomspace(0.2, 50, 200))\n",
    "processing_settings.method_to_combine_horizontals = \"geometric_mean\"\n",
    "processing_settings.handle_dissimilar_time_steps_by = \"frequency_domain_resampling\"\n",
    "\n",
    "print(\"Processing Summary\")\n",
    "print(\"-\"*60)\n",
    "processing_settings.psummary()"
   ],
   "outputs": [
    {
     "name": "stdout",
     "output_type": "stream",
     "text": [
      "Processing Summary\n",
      "------------------------------------------------------------\n",
      "hvsrpy_version                           : 2.0.0\n",
      "window_type_and_width                    : ('tukey', 0.2)\n",
      "smoothing                                :\n",
      "     operator                            : konno_and_ohmachi\n",
      "     bandwidth                           : 40\n",
      "     center_frequencies_in_hz            : [0.2, 0.205626908165 ... 1767550226364, 50.0]\n",
      "fft_settings                             : None\n",
      "handle_dissimilar_time_steps_by          : frequency_domain_resampling\n",
      "processing_method                        : traditional\n",
      "method_to_combine_horizontals            : geometric_mean\n"
     ]
    }
   ],
   "execution_count": 24
  },
  {
   "cell_type": "markdown",
   "metadata": {},
   "source": [
    "## Calculate HVSR"
   ]
  },
  {
   "cell_type": "code",
   "metadata": {
    "ExecuteTime": {
     "end_time": "2025-05-06T06:13:15.206855Z",
     "start_time": "2025-05-06T06:12:40.619225Z"
    }
   },
   "source": [
    "# ✅ 루프 시작\n",
    "for fname_set in fname_sets:\n",
    "    base_name = pathlib.Path(fname_set[0]).stem.replace(\".Z\", \"\")\n",
    "    print(f\"\\n▶ Processing: {base_name}\")\n",
    "\n",
    "    try:\n",
    "        srecords = hvsrpy.read([fname_set])\n",
    "        srecords = hvsrpy.preprocess(srecords, preprocessing_settings)\n",
    "        hvsr = hvsrpy.process(srecords, processing_settings)\n",
    "        search_range_in_hz = (1, 10)\n",
    "        verbose = 1\n",
    "        hvsr.update_peaks_bounded(search_range_in_hz=search_range_in_hz)\n",
    "        n = 2\n",
    "        search_range_in_hz = (1, 10)\n",
    "        _ = hvsrpy.frequency_domain_window_rejection(hvsr, n=n, search_range_in_hz=search_range_in_hz)\n",
    "\n",
    "        # ✅ 요약 표 저장 (CSV)\n",
    "        rounded_fn= round(fn,3)\n",
    "        summary_df = pd.DataFrame({\n",
    "            \"Statistic\": [\n",
    "                \"Resonant Site Frequency, fn (Hz)\",\n",
    "                \"Resonant Site Period, Tn (s)\",\n",
    "                \"Resonance Amplitude, An\",\n",
    "                \"Peak of the mean curve\"\n",
    "            ],\n",
    "            \"Exponentiated Lognormal Median (units)\": [fn, Tn, An,rounded_fn],\n",
    "            \"Lognormal Standard Deviation (log units)\": [fn_std_log, fn_std_log, An_std_log,\"\"],\n",
    "            \"-1 Lognormal Standard Deviation (units)\": [fn_lo, Tn_lo, An_lo,\"\"],\n",
    "            \"+1 Lognormal Standard Deviation (units)\": [fn_hi, Tn_hi, An_hi,\"\"]\n",
    "        })\n",
    "\n",
    "        csv_path = output_dir / f\"{base_name}_summary.csv\"\n",
    "        with open(csv_path, \"w\", encoding=\"utf-8\", newline=\"\") as f:\n",
    "            summary_df.to_csv(f, index=False)\n",
    "            f.write(\"\\n\")\n",
    "            f.write(f\"The peak of the mean curve is at {fn:.3f} Hz with amplitude {An:.3f}.\\n\")\n",
    "\n",
    "        # ✅ 그래프 저장 (PNG)\n",
    "        fig, ax = hvsrpy.plot_single_panel_hvsr_curves(hvsr)\n",
    "\n",
    "        # ✅ 기타 설정 (기존 코드 유지)\n",
    "        ax.get_legend().remove()\n",
    "        ax.legend(loc=\"center left\", bbox_to_anchor=(1, 0.5))\n",
    "        fig.savefig(output_dir / f\"{base_name}_hvsr.png\", bbox_inches=\"tight\")\n",
    "        plt.close(fig)\n",
    "\n",
    "    except Exception as e:\n",
    "        print(f\"⚠️ 오류 발생: {base_name} - {e}\")\n"
   ],
   "outputs": [
    {
     "name": "stdout",
     "output_type": "stream",
     "text": [
      "\n",
      "▶ Processing: 453015908.0001.2025.03.23.03.34.18.000\n"
     ]
    },
    {
     "data": {
      "text/plain": [
       "<pandas.io.formats.style.Styler at 0x208832e4910>"
      ],
      "text/html": [
       "<style type=\"text/css\">\n",
       "#T_1b671 caption {\n",
       "  caption-side: bottom;\n",
       "  font-size: 1.25em;\n",
       "}\n",
       "</style>\n",
       "<table id=\"T_1b671\">\n",
       "  <caption>The peak of the mean curve is at 1.149 Hz with amplitude 10.256.</caption>\n",
       "  <thead>\n",
       "    <tr>\n",
       "      <th class=\"blank level0\" >&nbsp;</th>\n",
       "      <th id=\"T_1b671_level0_col0\" class=\"col_heading level0 col0\" >Exponentitated Lognormal Median (units)</th>\n",
       "      <th id=\"T_1b671_level0_col1\" class=\"col_heading level0 col1\" >Lognormal Standard Deviation (log units)</th>\n",
       "      <th id=\"T_1b671_level0_col2\" class=\"col_heading level0 col2\" >-1 Lognormal Standard Deviation (units)</th>\n",
       "      <th id=\"T_1b671_level0_col3\" class=\"col_heading level0 col3\" >+1 Lognormal Standard Deviation (units)</th>\n",
       "    </tr>\n",
       "  </thead>\n",
       "  <tbody>\n",
       "    <tr>\n",
       "      <th id=\"T_1b671_level0_row0\" class=\"row_heading level0 row0\" >Resonant Site Frequency, fn (Hz)</th>\n",
       "      <td id=\"T_1b671_row0_col0\" class=\"data row0 col0\" >1.257</td>\n",
       "      <td id=\"T_1b671_row0_col1\" class=\"data row0 col1\" >0.124</td>\n",
       "      <td id=\"T_1b671_row0_col2\" class=\"data row0 col2\" >1.111</td>\n",
       "      <td id=\"T_1b671_row0_col3\" class=\"data row0 col3\" >1.423</td>\n",
       "    </tr>\n",
       "    <tr>\n",
       "      <th id=\"T_1b671_level0_row1\" class=\"row_heading level0 row1\" >Resonant Site Period, Tn (s)</th>\n",
       "      <td id=\"T_1b671_row1_col0\" class=\"data row1 col0\" >0.795</td>\n",
       "      <td id=\"T_1b671_row1_col1\" class=\"data row1 col1\" >0.124</td>\n",
       "      <td id=\"T_1b671_row1_col2\" class=\"data row1 col2\" >0.900</td>\n",
       "      <td id=\"T_1b671_row1_col3\" class=\"data row1 col3\" >0.703</td>\n",
       "    </tr>\n",
       "    <tr>\n",
       "      <th id=\"T_1b671_level0_row2\" class=\"row_heading level0 row2\" >Resonance Amplitude, An</th>\n",
       "      <td id=\"T_1b671_row2_col0\" class=\"data row2 col0\" >13.995</td>\n",
       "      <td id=\"T_1b671_row2_col1\" class=\"data row2 col1\" >0.467</td>\n",
       "      <td id=\"T_1b671_row2_col2\" class=\"data row2 col2\" >8.774</td>\n",
       "      <td id=\"T_1b671_row2_col3\" class=\"data row2 col3\" >22.323</td>\n",
       "    </tr>\n",
       "  </tbody>\n",
       "</table>\n"
      ]
     },
     "metadata": {},
     "output_type": "display_data"
    },
    {
     "name": "stdout",
     "output_type": "stream",
     "text": [
      "\n",
      "▶ Processing: 453015908.0002.2025.03.23.04.40.34.000\n"
     ]
    },
    {
     "data": {
      "text/plain": [
       "<pandas.io.formats.style.Styler at 0x2088f6a48d0>"
      ],
      "text/html": [
       "<style type=\"text/css\">\n",
       "#T_8b00d caption {\n",
       "  caption-side: bottom;\n",
       "  font-size: 1.25em;\n",
       "}\n",
       "</style>\n",
       "<table id=\"T_8b00d\">\n",
       "  <caption>The peak of the mean curve is at 1.117 Hz with amplitude 6.881.</caption>\n",
       "  <thead>\n",
       "    <tr>\n",
       "      <th class=\"blank level0\" >&nbsp;</th>\n",
       "      <th id=\"T_8b00d_level0_col0\" class=\"col_heading level0 col0\" >Exponentitated Lognormal Median (units)</th>\n",
       "      <th id=\"T_8b00d_level0_col1\" class=\"col_heading level0 col1\" >Lognormal Standard Deviation (log units)</th>\n",
       "      <th id=\"T_8b00d_level0_col2\" class=\"col_heading level0 col2\" >-1 Lognormal Standard Deviation (units)</th>\n",
       "      <th id=\"T_8b00d_level0_col3\" class=\"col_heading level0 col3\" >+1 Lognormal Standard Deviation (units)</th>\n",
       "    </tr>\n",
       "  </thead>\n",
       "  <tbody>\n",
       "    <tr>\n",
       "      <th id=\"T_8b00d_level0_row0\" class=\"row_heading level0 row0\" >Resonant Site Frequency, fn (Hz)</th>\n",
       "      <td id=\"T_8b00d_row0_col0\" class=\"data row0 col0\" >1.868</td>\n",
       "      <td id=\"T_8b00d_row0_col1\" class=\"data row0 col1\" >0.595</td>\n",
       "      <td id=\"T_8b00d_row0_col2\" class=\"data row0 col2\" >1.030</td>\n",
       "      <td id=\"T_8b00d_row0_col3\" class=\"data row0 col3\" >3.387</td>\n",
       "    </tr>\n",
       "    <tr>\n",
       "      <th id=\"T_8b00d_level0_row1\" class=\"row_heading level0 row1\" >Resonant Site Period, Tn (s)</th>\n",
       "      <td id=\"T_8b00d_row1_col0\" class=\"data row1 col0\" >0.535</td>\n",
       "      <td id=\"T_8b00d_row1_col1\" class=\"data row1 col1\" >0.595</td>\n",
       "      <td id=\"T_8b00d_row1_col2\" class=\"data row1 col2\" >0.971</td>\n",
       "      <td id=\"T_8b00d_row1_col3\" class=\"data row1 col3\" >0.295</td>\n",
       "    </tr>\n",
       "    <tr>\n",
       "      <th id=\"T_8b00d_level0_row2\" class=\"row_heading level0 row2\" >Resonance Amplitude, An</th>\n",
       "      <td id=\"T_8b00d_row2_col0\" class=\"data row2 col0\" >10.931</td>\n",
       "      <td id=\"T_8b00d_row2_col1\" class=\"data row2 col1\" >0.480</td>\n",
       "      <td id=\"T_8b00d_row2_col2\" class=\"data row2 col2\" >6.763</td>\n",
       "      <td id=\"T_8b00d_row2_col3\" class=\"data row2 col3\" >17.667</td>\n",
       "    </tr>\n",
       "  </tbody>\n",
       "</table>\n"
      ]
     },
     "metadata": {},
     "output_type": "display_data"
    },
    {
     "name": "stdout",
     "output_type": "stream",
     "text": [
      "\n",
      "▶ Processing: 453015908.0003.2025.03.23.05.43.22.000\n"
     ]
    },
    {
     "data": {
      "text/plain": [
       "<pandas.io.formats.style.Styler at 0x2088328f810>"
      ],
      "text/html": [
       "<style type=\"text/css\">\n",
       "#T_34282 caption {\n",
       "  caption-side: bottom;\n",
       "  font-size: 1.25em;\n",
       "}\n",
       "</style>\n",
       "<table id=\"T_34282\">\n",
       "  <caption>The peak of the mean curve is at 1.149 Hz with amplitude 6.422.</caption>\n",
       "  <thead>\n",
       "    <tr>\n",
       "      <th class=\"blank level0\" >&nbsp;</th>\n",
       "      <th id=\"T_34282_level0_col0\" class=\"col_heading level0 col0\" >Exponentitated Lognormal Median (units)</th>\n",
       "      <th id=\"T_34282_level0_col1\" class=\"col_heading level0 col1\" >Lognormal Standard Deviation (log units)</th>\n",
       "      <th id=\"T_34282_level0_col2\" class=\"col_heading level0 col2\" >-1 Lognormal Standard Deviation (units)</th>\n",
       "      <th id=\"T_34282_level0_col3\" class=\"col_heading level0 col3\" >+1 Lognormal Standard Deviation (units)</th>\n",
       "    </tr>\n",
       "  </thead>\n",
       "  <tbody>\n",
       "    <tr>\n",
       "      <th id=\"T_34282_level0_row0\" class=\"row_heading level0 row0\" >Resonant Site Frequency, fn (Hz)</th>\n",
       "      <td id=\"T_34282_row0_col0\" class=\"data row0 col0\" >1.863</td>\n",
       "      <td id=\"T_34282_row0_col1\" class=\"data row0 col1\" >0.590</td>\n",
       "      <td id=\"T_34282_row0_col2\" class=\"data row0 col2\" >1.032</td>\n",
       "      <td id=\"T_34282_row0_col3\" class=\"data row0 col3\" >3.362</td>\n",
       "    </tr>\n",
       "    <tr>\n",
       "      <th id=\"T_34282_level0_row1\" class=\"row_heading level0 row1\" >Resonant Site Period, Tn (s)</th>\n",
       "      <td id=\"T_34282_row1_col0\" class=\"data row1 col0\" >0.537</td>\n",
       "      <td id=\"T_34282_row1_col1\" class=\"data row1 col1\" >0.590</td>\n",
       "      <td id=\"T_34282_row1_col2\" class=\"data row1 col2\" >0.969</td>\n",
       "      <td id=\"T_34282_row1_col3\" class=\"data row1 col3\" >0.297</td>\n",
       "    </tr>\n",
       "    <tr>\n",
       "      <th id=\"T_34282_level0_row2\" class=\"row_heading level0 row2\" >Resonance Amplitude, An</th>\n",
       "      <td id=\"T_34282_row2_col0\" class=\"data row2 col0\" >9.945</td>\n",
       "      <td id=\"T_34282_row2_col1\" class=\"data row2 col1\" >0.417</td>\n",
       "      <td id=\"T_34282_row2_col2\" class=\"data row2 col2\" >6.554</td>\n",
       "      <td id=\"T_34282_row2_col3\" class=\"data row2 col3\" >15.091</td>\n",
       "    </tr>\n",
       "  </tbody>\n",
       "</table>\n"
      ]
     },
     "metadata": {},
     "output_type": "display_data"
    },
    {
     "name": "stdout",
     "output_type": "stream",
     "text": [
      "\n",
      "▶ Processing: 453015908.0004.2025.03.23.07.20.34.000\n"
     ]
    },
    {
     "data": {
      "text/plain": [
       "<pandas.io.formats.style.Styler at 0x208aea352d0>"
      ],
      "text/html": [
       "<style type=\"text/css\">\n",
       "#T_31f02 caption {\n",
       "  caption-side: bottom;\n",
       "  font-size: 1.25em;\n",
       "}\n",
       "</style>\n",
       "<table id=\"T_31f02\">\n",
       "  <caption>The peak of the mean curve is at 4.599 Hz with amplitude 6.451.</caption>\n",
       "  <thead>\n",
       "    <tr>\n",
       "      <th class=\"blank level0\" >&nbsp;</th>\n",
       "      <th id=\"T_31f02_level0_col0\" class=\"col_heading level0 col0\" >Exponentitated Lognormal Median (units)</th>\n",
       "      <th id=\"T_31f02_level0_col1\" class=\"col_heading level0 col1\" >Lognormal Standard Deviation (log units)</th>\n",
       "      <th id=\"T_31f02_level0_col2\" class=\"col_heading level0 col2\" >-1 Lognormal Standard Deviation (units)</th>\n",
       "      <th id=\"T_31f02_level0_col3\" class=\"col_heading level0 col3\" >+1 Lognormal Standard Deviation (units)</th>\n",
       "    </tr>\n",
       "  </thead>\n",
       "  <tbody>\n",
       "    <tr>\n",
       "      <th id=\"T_31f02_level0_row0\" class=\"row_heading level0 row0\" >Resonant Site Frequency, fn (Hz)</th>\n",
       "      <td id=\"T_31f02_row0_col0\" class=\"data row0 col0\" >2.317</td>\n",
       "      <td id=\"T_31f02_row0_col1\" class=\"data row0 col1\" >0.665</td>\n",
       "      <td id=\"T_31f02_row0_col2\" class=\"data row0 col2\" >1.192</td>\n",
       "      <td id=\"T_31f02_row0_col3\" class=\"data row0 col3\" >4.503</td>\n",
       "    </tr>\n",
       "    <tr>\n",
       "      <th id=\"T_31f02_level0_row1\" class=\"row_heading level0 row1\" >Resonant Site Period, Tn (s)</th>\n",
       "      <td id=\"T_31f02_row1_col0\" class=\"data row1 col0\" >0.432</td>\n",
       "      <td id=\"T_31f02_row1_col1\" class=\"data row1 col1\" >0.665</td>\n",
       "      <td id=\"T_31f02_row1_col2\" class=\"data row1 col2\" >0.839</td>\n",
       "      <td id=\"T_31f02_row1_col3\" class=\"data row1 col3\" >0.222</td>\n",
       "    </tr>\n",
       "    <tr>\n",
       "      <th id=\"T_31f02_level0_row2\" class=\"row_heading level0 row2\" >Resonance Amplitude, An</th>\n",
       "      <td id=\"T_31f02_row2_col0\" class=\"data row2 col0\" >9.872</td>\n",
       "      <td id=\"T_31f02_row2_col1\" class=\"data row2 col1\" >0.505</td>\n",
       "      <td id=\"T_31f02_row2_col2\" class=\"data row2 col2\" >5.957</td>\n",
       "      <td id=\"T_31f02_row2_col3\" class=\"data row2 col3\" >16.360</td>\n",
       "    </tr>\n",
       "  </tbody>\n",
       "</table>\n"
      ]
     },
     "metadata": {},
     "output_type": "display_data"
    },
    {
     "name": "stdout",
     "output_type": "stream",
     "text": [
      "\n",
      "▶ Processing: 453015908.0005.2025.03.23.08.25.18.000\n"
     ]
    },
    {
     "data": {
      "text/plain": [
       "<pandas.io.formats.style.Styler at 0x2089eba7490>"
      ],
      "text/html": [
       "<style type=\"text/css\">\n",
       "#T_b5101 caption {\n",
       "  caption-side: bottom;\n",
       "  font-size: 1.25em;\n",
       "}\n",
       "</style>\n",
       "<table id=\"T_b5101\">\n",
       "  <caption>The peak of the mean curve is at 4.473 Hz with amplitude 6.488.</caption>\n",
       "  <thead>\n",
       "    <tr>\n",
       "      <th class=\"blank level0\" >&nbsp;</th>\n",
       "      <th id=\"T_b5101_level0_col0\" class=\"col_heading level0 col0\" >Exponentitated Lognormal Median (units)</th>\n",
       "      <th id=\"T_b5101_level0_col1\" class=\"col_heading level0 col1\" >Lognormal Standard Deviation (log units)</th>\n",
       "      <th id=\"T_b5101_level0_col2\" class=\"col_heading level0 col2\" >-1 Lognormal Standard Deviation (units)</th>\n",
       "      <th id=\"T_b5101_level0_col3\" class=\"col_heading level0 col3\" >+1 Lognormal Standard Deviation (units)</th>\n",
       "    </tr>\n",
       "  </thead>\n",
       "  <tbody>\n",
       "    <tr>\n",
       "      <th id=\"T_b5101_level0_row0\" class=\"row_heading level0 row0\" >Resonant Site Frequency, fn (Hz)</th>\n",
       "      <td id=\"T_b5101_row0_col0\" class=\"data row0 col0\" >3.050</td>\n",
       "      <td id=\"T_b5101_row0_col1\" class=\"data row0 col1\" >0.597</td>\n",
       "      <td id=\"T_b5101_row0_col2\" class=\"data row0 col2\" >1.680</td>\n",
       "      <td id=\"T_b5101_row0_col3\" class=\"data row0 col3\" >5.538</td>\n",
       "    </tr>\n",
       "    <tr>\n",
       "      <th id=\"T_b5101_level0_row1\" class=\"row_heading level0 row1\" >Resonant Site Period, Tn (s)</th>\n",
       "      <td id=\"T_b5101_row1_col0\" class=\"data row1 col0\" >0.328</td>\n",
       "      <td id=\"T_b5101_row1_col1\" class=\"data row1 col1\" >0.597</td>\n",
       "      <td id=\"T_b5101_row1_col2\" class=\"data row1 col2\" >0.595</td>\n",
       "      <td id=\"T_b5101_row1_col3\" class=\"data row1 col3\" >0.181</td>\n",
       "    </tr>\n",
       "    <tr>\n",
       "      <th id=\"T_b5101_level0_row2\" class=\"row_heading level0 row2\" >Resonance Amplitude, An</th>\n",
       "      <td id=\"T_b5101_row2_col0\" class=\"data row2 col0\" >8.001</td>\n",
       "      <td id=\"T_b5101_row2_col1\" class=\"data row2 col1\" >0.357</td>\n",
       "      <td id=\"T_b5101_row2_col2\" class=\"data row2 col2\" >5.600</td>\n",
       "      <td id=\"T_b5101_row2_col3\" class=\"data row2 col3\" >11.431</td>\n",
       "    </tr>\n",
       "  </tbody>\n",
       "</table>\n"
      ]
     },
     "metadata": {},
     "output_type": "display_data"
    },
    {
     "name": "stdout",
     "output_type": "stream",
     "text": [
      "\n",
      "▶ Processing: 453015908.0006.2025.03.25.06.28.50.000\n"
     ]
    },
    {
     "data": {
      "text/plain": [
       "<pandas.io.formats.style.Styler at 0x20878d14510>"
      ],
      "text/html": [
       "<style type=\"text/css\">\n",
       "#T_b5382 caption {\n",
       "  caption-side: bottom;\n",
       "  font-size: 1.25em;\n",
       "}\n",
       "</style>\n",
       "<table id=\"T_b5382\">\n",
       "  <caption>The peak of the mean curve is at 4.003 Hz with amplitude 19.260.</caption>\n",
       "  <thead>\n",
       "    <tr>\n",
       "      <th class=\"blank level0\" >&nbsp;</th>\n",
       "      <th id=\"T_b5382_level0_col0\" class=\"col_heading level0 col0\" >Exponentitated Lognormal Median (units)</th>\n",
       "      <th id=\"T_b5382_level0_col1\" class=\"col_heading level0 col1\" >Lognormal Standard Deviation (log units)</th>\n",
       "      <th id=\"T_b5382_level0_col2\" class=\"col_heading level0 col2\" >-1 Lognormal Standard Deviation (units)</th>\n",
       "      <th id=\"T_b5382_level0_col3\" class=\"col_heading level0 col3\" >+1 Lognormal Standard Deviation (units)</th>\n",
       "    </tr>\n",
       "  </thead>\n",
       "  <tbody>\n",
       "    <tr>\n",
       "      <th id=\"T_b5382_level0_row0\" class=\"row_heading level0 row0\" >Resonant Site Frequency, fn (Hz)</th>\n",
       "      <td id=\"T_b5382_row0_col0\" class=\"data row0 col0\" >1.995</td>\n",
       "      <td id=\"T_b5382_row0_col1\" class=\"data row0 col1\" >0.575</td>\n",
       "      <td id=\"T_b5382_row0_col2\" class=\"data row0 col2\" >1.123</td>\n",
       "      <td id=\"T_b5382_row0_col3\" class=\"data row0 col3\" >3.547</td>\n",
       "    </tr>\n",
       "    <tr>\n",
       "      <th id=\"T_b5382_level0_row1\" class=\"row_heading level0 row1\" >Resonant Site Period, Tn (s)</th>\n",
       "      <td id=\"T_b5382_row1_col0\" class=\"data row1 col0\" >0.501</td>\n",
       "      <td id=\"T_b5382_row1_col1\" class=\"data row1 col1\" >0.575</td>\n",
       "      <td id=\"T_b5382_row1_col2\" class=\"data row1 col2\" >0.891</td>\n",
       "      <td id=\"T_b5382_row1_col3\" class=\"data row1 col3\" >0.282</td>\n",
       "    </tr>\n",
       "    <tr>\n",
       "      <th id=\"T_b5382_level0_row2\" class=\"row_heading level0 row2\" >Resonance Amplitude, An</th>\n",
       "      <td id=\"T_b5382_row2_col0\" class=\"data row2 col0\" >27.393</td>\n",
       "      <td id=\"T_b5382_row2_col1\" class=\"data row2 col1\" >0.469</td>\n",
       "      <td id=\"T_b5382_row2_col2\" class=\"data row2 col2\" >17.142</td>\n",
       "      <td id=\"T_b5382_row2_col3\" class=\"data row2 col3\" >43.777</td>\n",
       "    </tr>\n",
       "  </tbody>\n",
       "</table>\n"
      ]
     },
     "metadata": {},
     "output_type": "display_data"
    },
    {
     "name": "stdout",
     "output_type": "stream",
     "text": [
      "\n",
      "▶ Processing: 453015908.0007.2025.03.25.07.35.10.000\n"
     ]
    },
    {
     "data": {
      "text/plain": [
       "<pandas.io.formats.style.Styler at 0x208ae3f01d0>"
      ],
      "text/html": [
       "<style type=\"text/css\">\n",
       "#T_bd418 caption {\n",
       "  caption-side: bottom;\n",
       "  font-size: 1.25em;\n",
       "}\n",
       "</style>\n",
       "<table id=\"T_bd418\">\n",
       "  <caption>The peak of the mean curve is at 4.003 Hz with amplitude 12.028.</caption>\n",
       "  <thead>\n",
       "    <tr>\n",
       "      <th class=\"blank level0\" >&nbsp;</th>\n",
       "      <th id=\"T_bd418_level0_col0\" class=\"col_heading level0 col0\" >Exponentitated Lognormal Median (units)</th>\n",
       "      <th id=\"T_bd418_level0_col1\" class=\"col_heading level0 col1\" >Lognormal Standard Deviation (log units)</th>\n",
       "      <th id=\"T_bd418_level0_col2\" class=\"col_heading level0 col2\" >-1 Lognormal Standard Deviation (units)</th>\n",
       "      <th id=\"T_bd418_level0_col3\" class=\"col_heading level0 col3\" >+1 Lognormal Standard Deviation (units)</th>\n",
       "    </tr>\n",
       "  </thead>\n",
       "  <tbody>\n",
       "    <tr>\n",
       "      <th id=\"T_bd418_level0_row0\" class=\"row_heading level0 row0\" >Resonant Site Frequency, fn (Hz)</th>\n",
       "      <td id=\"T_bd418_row0_col0\" class=\"data row0 col0\" >3.996</td>\n",
       "      <td id=\"T_bd418_row0_col1\" class=\"data row0 col1\" >0.031</td>\n",
       "      <td id=\"T_bd418_row0_col2\" class=\"data row0 col2\" >3.875</td>\n",
       "      <td id=\"T_bd418_row0_col3\" class=\"data row0 col3\" >4.121</td>\n",
       "    </tr>\n",
       "    <tr>\n",
       "      <th id=\"T_bd418_level0_row1\" class=\"row_heading level0 row1\" >Resonant Site Period, Tn (s)</th>\n",
       "      <td id=\"T_bd418_row1_col0\" class=\"data row1 col0\" >0.250</td>\n",
       "      <td id=\"T_bd418_row1_col1\" class=\"data row1 col1\" >0.031</td>\n",
       "      <td id=\"T_bd418_row1_col2\" class=\"data row1 col2\" >0.258</td>\n",
       "      <td id=\"T_bd418_row1_col3\" class=\"data row1 col3\" >0.243</td>\n",
       "    </tr>\n",
       "    <tr>\n",
       "      <th id=\"T_bd418_level0_row2\" class=\"row_heading level0 row2\" >Resonance Amplitude, An</th>\n",
       "      <td id=\"T_bd418_row2_col0\" class=\"data row2 col0\" >12.515</td>\n",
       "      <td id=\"T_bd418_row2_col1\" class=\"data row2 col1\" >0.650</td>\n",
       "      <td id=\"T_bd418_row2_col2\" class=\"data row2 col2\" >6.531</td>\n",
       "      <td id=\"T_bd418_row2_col3\" class=\"data row2 col3\" >23.982</td>\n",
       "    </tr>\n",
       "  </tbody>\n",
       "</table>\n"
      ]
     },
     "metadata": {},
     "output_type": "display_data"
    },
    {
     "name": "stdout",
     "output_type": "stream",
     "text": [
      "\n",
      "▶ Processing: 453015908.0008.2025.04.01.04.52.50.000\n"
     ]
    },
    {
     "data": {
      "text/plain": [
       "<pandas.io.formats.style.Styler at 0x20878d16c50>"
      ],
      "text/html": [
       "<style type=\"text/css\">\n",
       "#T_94420 caption {\n",
       "  caption-side: bottom;\n",
       "  font-size: 1.25em;\n",
       "}\n",
       "</style>\n",
       "<table id=\"T_94420\">\n",
       "  <caption>The peak of the mean curve is at 1.028 Hz with amplitude 7.388.</caption>\n",
       "  <thead>\n",
       "    <tr>\n",
       "      <th class=\"blank level0\" >&nbsp;</th>\n",
       "      <th id=\"T_94420_level0_col0\" class=\"col_heading level0 col0\" >Exponentitated Lognormal Median (units)</th>\n",
       "      <th id=\"T_94420_level0_col1\" class=\"col_heading level0 col1\" >Lognormal Standard Deviation (log units)</th>\n",
       "      <th id=\"T_94420_level0_col2\" class=\"col_heading level0 col2\" >-1 Lognormal Standard Deviation (units)</th>\n",
       "      <th id=\"T_94420_level0_col3\" class=\"col_heading level0 col3\" >+1 Lognormal Standard Deviation (units)</th>\n",
       "    </tr>\n",
       "  </thead>\n",
       "  <tbody>\n",
       "    <tr>\n",
       "      <th id=\"T_94420_level0_row0\" class=\"row_heading level0 row0\" >Resonant Site Frequency, fn (Hz)</th>\n",
       "      <td id=\"T_94420_row0_col0\" class=\"data row0 col0\" >2.108</td>\n",
       "      <td id=\"T_94420_row0_col1\" class=\"data row0 col1\" >0.757</td>\n",
       "      <td id=\"T_94420_row0_col2\" class=\"data row0 col2\" >0.989</td>\n",
       "      <td id=\"T_94420_row0_col3\" class=\"data row0 col3\" >4.492</td>\n",
       "    </tr>\n",
       "    <tr>\n",
       "      <th id=\"T_94420_level0_row1\" class=\"row_heading level0 row1\" >Resonant Site Period, Tn (s)</th>\n",
       "      <td id=\"T_94420_row1_col0\" class=\"data row1 col0\" >0.474</td>\n",
       "      <td id=\"T_94420_row1_col1\" class=\"data row1 col1\" >0.757</td>\n",
       "      <td id=\"T_94420_row1_col2\" class=\"data row1 col2\" >1.011</td>\n",
       "      <td id=\"T_94420_row1_col3\" class=\"data row1 col3\" >0.223</td>\n",
       "    </tr>\n",
       "    <tr>\n",
       "      <th id=\"T_94420_level0_row2\" class=\"row_heading level0 row2\" >Resonance Amplitude, An</th>\n",
       "      <td id=\"T_94420_row2_col0\" class=\"data row2 col0\" >10.610</td>\n",
       "      <td id=\"T_94420_row2_col1\" class=\"data row2 col1\" >0.427</td>\n",
       "      <td id=\"T_94420_row2_col2\" class=\"data row2 col2\" >6.919</td>\n",
       "      <td id=\"T_94420_row2_col3\" class=\"data row2 col3\" >16.269</td>\n",
       "    </tr>\n",
       "  </tbody>\n",
       "</table>\n"
      ]
     },
     "metadata": {},
     "output_type": "display_data"
    },
    {
     "name": "stdout",
     "output_type": "stream",
     "text": [
      "\n",
      "▶ Processing: 453015908.0009.2025.04.01.05.57.46.000\n"
     ]
    },
    {
     "data": {
      "text/plain": [
       "<pandas.io.formats.style.Styler at 0x208aee101d0>"
      ],
      "text/html": [
       "<style type=\"text/css\">\n",
       "#T_ed323 caption {\n",
       "  caption-side: bottom;\n",
       "  font-size: 1.25em;\n",
       "}\n",
       "</style>\n",
       "<table id=\"T_ed323\">\n",
       "  <caption>The peak of the mean curve is at 1.028 Hz with amplitude 9.657.</caption>\n",
       "  <thead>\n",
       "    <tr>\n",
       "      <th class=\"blank level0\" >&nbsp;</th>\n",
       "      <th id=\"T_ed323_level0_col0\" class=\"col_heading level0 col0\" >Exponentitated Lognormal Median (units)</th>\n",
       "      <th id=\"T_ed323_level0_col1\" class=\"col_heading level0 col1\" >Lognormal Standard Deviation (log units)</th>\n",
       "      <th id=\"T_ed323_level0_col2\" class=\"col_heading level0 col2\" >-1 Lognormal Standard Deviation (units)</th>\n",
       "      <th id=\"T_ed323_level0_col3\" class=\"col_heading level0 col3\" >+1 Lognormal Standard Deviation (units)</th>\n",
       "    </tr>\n",
       "  </thead>\n",
       "  <tbody>\n",
       "    <tr>\n",
       "      <th id=\"T_ed323_level0_row0\" class=\"row_heading level0 row0\" >Resonant Site Frequency, fn (Hz)</th>\n",
       "      <td id=\"T_ed323_row0_col0\" class=\"data row0 col0\" >1.477</td>\n",
       "      <td id=\"T_ed323_row0_col1\" class=\"data row0 col1\" >0.241</td>\n",
       "      <td id=\"T_ed323_row0_col2\" class=\"data row0 col2\" >1.160</td>\n",
       "      <td id=\"T_ed323_row0_col3\" class=\"data row0 col3\" >1.880</td>\n",
       "    </tr>\n",
       "    <tr>\n",
       "      <th id=\"T_ed323_level0_row1\" class=\"row_heading level0 row1\" >Resonant Site Period, Tn (s)</th>\n",
       "      <td id=\"T_ed323_row1_col0\" class=\"data row1 col0\" >0.677</td>\n",
       "      <td id=\"T_ed323_row1_col1\" class=\"data row1 col1\" >0.241</td>\n",
       "      <td id=\"T_ed323_row1_col2\" class=\"data row1 col2\" >0.862</td>\n",
       "      <td id=\"T_ed323_row1_col3\" class=\"data row1 col3\" >0.532</td>\n",
       "    </tr>\n",
       "    <tr>\n",
       "      <th id=\"T_ed323_level0_row2\" class=\"row_heading level0 row2\" >Resonance Amplitude, An</th>\n",
       "      <td id=\"T_ed323_row2_col0\" class=\"data row2 col0\" >12.485</td>\n",
       "      <td id=\"T_ed323_row2_col1\" class=\"data row2 col1\" >0.448</td>\n",
       "      <td id=\"T_ed323_row2_col2\" class=\"data row2 col2\" >7.974</td>\n",
       "      <td id=\"T_ed323_row2_col3\" class=\"data row2 col3\" >19.547</td>\n",
       "    </tr>\n",
       "  </tbody>\n",
       "</table>\n"
      ]
     },
     "metadata": {},
     "output_type": "display_data"
    },
    {
     "name": "stdout",
     "output_type": "stream",
     "text": [
      "\n",
      "▶ Processing: 453015908.0010.2025.04.02.00.34.34.000\n"
     ]
    },
    {
     "data": {
      "text/plain": [
       "<pandas.io.formats.style.Styler at 0x208aeeb1350>"
      ],
      "text/html": [
       "<style type=\"text/css\">\n",
       "#T_ed2c8 caption {\n",
       "  caption-side: bottom;\n",
       "  font-size: 1.25em;\n",
       "}\n",
       "</style>\n",
       "<table id=\"T_ed2c8\">\n",
       "  <caption>The peak of the mean curve is at 2.950 Hz with amplitude 19.565.</caption>\n",
       "  <thead>\n",
       "    <tr>\n",
       "      <th class=\"blank level0\" >&nbsp;</th>\n",
       "      <th id=\"T_ed2c8_level0_col0\" class=\"col_heading level0 col0\" >Exponentitated Lognormal Median (units)</th>\n",
       "      <th id=\"T_ed2c8_level0_col1\" class=\"col_heading level0 col1\" >Lognormal Standard Deviation (log units)</th>\n",
       "      <th id=\"T_ed2c8_level0_col2\" class=\"col_heading level0 col2\" >-1 Lognormal Standard Deviation (units)</th>\n",
       "      <th id=\"T_ed2c8_level0_col3\" class=\"col_heading level0 col3\" >+1 Lognormal Standard Deviation (units)</th>\n",
       "    </tr>\n",
       "  </thead>\n",
       "  <tbody>\n",
       "    <tr>\n",
       "      <th id=\"T_ed2c8_level0_row0\" class=\"row_heading level0 row0\" >Resonant Site Frequency, fn (Hz)</th>\n",
       "      <td id=\"T_ed2c8_row0_col0\" class=\"data row0 col0\" >2.946</td>\n",
       "      <td id=\"T_ed2c8_row0_col1\" class=\"data row0 col1\" >0.019</td>\n",
       "      <td id=\"T_ed2c8_row0_col2\" class=\"data row0 col2\" >2.892</td>\n",
       "      <td id=\"T_ed2c8_row0_col3\" class=\"data row0 col3\" >3.002</td>\n",
       "    </tr>\n",
       "    <tr>\n",
       "      <th id=\"T_ed2c8_level0_row1\" class=\"row_heading level0 row1\" >Resonant Site Period, Tn (s)</th>\n",
       "      <td id=\"T_ed2c8_row1_col0\" class=\"data row1 col0\" >0.339</td>\n",
       "      <td id=\"T_ed2c8_row1_col1\" class=\"data row1 col1\" >0.019</td>\n",
       "      <td id=\"T_ed2c8_row1_col2\" class=\"data row1 col2\" >0.346</td>\n",
       "      <td id=\"T_ed2c8_row1_col3\" class=\"data row1 col3\" >0.333</td>\n",
       "    </tr>\n",
       "    <tr>\n",
       "      <th id=\"T_ed2c8_level0_row2\" class=\"row_heading level0 row2\" >Resonance Amplitude, An</th>\n",
       "      <td id=\"T_ed2c8_row2_col0\" class=\"data row2 col0\" >19.891</td>\n",
       "      <td id=\"T_ed2c8_row2_col1\" class=\"data row2 col1\" >0.538</td>\n",
       "      <td id=\"T_ed2c8_row2_col2\" class=\"data row2 col2\" >11.613</td>\n",
       "      <td id=\"T_ed2c8_row2_col3\" class=\"data row2 col3\" >34.067</td>\n",
       "    </tr>\n",
       "  </tbody>\n",
       "</table>\n"
      ]
     },
     "metadata": {},
     "output_type": "display_data"
    },
    {
     "name": "stdout",
     "output_type": "stream",
     "text": [
      "\n",
      "▶ Processing: 453015908.0011.2025.04.06.04.13.54.000\n"
     ]
    },
    {
     "data": {
      "text/plain": [
       "<pandas.io.formats.style.Styler at 0x208ae0c01d0>"
      ],
      "text/html": [
       "<style type=\"text/css\">\n",
       "#T_5a2bc caption {\n",
       "  caption-side: bottom;\n",
       "  font-size: 1.25em;\n",
       "}\n",
       "</style>\n",
       "<table id=\"T_5a2bc\">\n",
       "  <caption>The peak of the mean curve is at 6.416 Hz with amplitude 8.634.</caption>\n",
       "  <thead>\n",
       "    <tr>\n",
       "      <th class=\"blank level0\" >&nbsp;</th>\n",
       "      <th id=\"T_5a2bc_level0_col0\" class=\"col_heading level0 col0\" >Exponentitated Lognormal Median (units)</th>\n",
       "      <th id=\"T_5a2bc_level0_col1\" class=\"col_heading level0 col1\" >Lognormal Standard Deviation (log units)</th>\n",
       "      <th id=\"T_5a2bc_level0_col2\" class=\"col_heading level0 col2\" >-1 Lognormal Standard Deviation (units)</th>\n",
       "      <th id=\"T_5a2bc_level0_col3\" class=\"col_heading level0 col3\" >+1 Lognormal Standard Deviation (units)</th>\n",
       "    </tr>\n",
       "  </thead>\n",
       "  <tbody>\n",
       "    <tr>\n",
       "      <th id=\"T_5a2bc_level0_row0\" class=\"row_heading level0 row0\" >Resonant Site Frequency, fn (Hz)</th>\n",
       "      <td id=\"T_5a2bc_row0_col0\" class=\"data row0 col0\" >6.076</td>\n",
       "      <td id=\"T_5a2bc_row0_col1\" class=\"data row0 col1\" >0.065</td>\n",
       "      <td id=\"T_5a2bc_row0_col2\" class=\"data row0 col2\" >5.695</td>\n",
       "      <td id=\"T_5a2bc_row0_col3\" class=\"data row0 col3\" >6.483</td>\n",
       "    </tr>\n",
       "    <tr>\n",
       "      <th id=\"T_5a2bc_level0_row1\" class=\"row_heading level0 row1\" >Resonant Site Period, Tn (s)</th>\n",
       "      <td id=\"T_5a2bc_row1_col0\" class=\"data row1 col0\" >0.165</td>\n",
       "      <td id=\"T_5a2bc_row1_col1\" class=\"data row1 col1\" >0.065</td>\n",
       "      <td id=\"T_5a2bc_row1_col2\" class=\"data row1 col2\" >0.176</td>\n",
       "      <td id=\"T_5a2bc_row1_col3\" class=\"data row1 col3\" >0.154</td>\n",
       "    </tr>\n",
       "    <tr>\n",
       "      <th id=\"T_5a2bc_level0_row2\" class=\"row_heading level0 row2\" >Resonance Amplitude, An</th>\n",
       "      <td id=\"T_5a2bc_row2_col0\" class=\"data row2 col0\" >9.214</td>\n",
       "      <td id=\"T_5a2bc_row2_col1\" class=\"data row2 col1\" >0.231</td>\n",
       "      <td id=\"T_5a2bc_row2_col2\" class=\"data row2 col2\" >7.312</td>\n",
       "      <td id=\"T_5a2bc_row2_col3\" class=\"data row2 col3\" >11.610</td>\n",
       "    </tr>\n",
       "  </tbody>\n",
       "</table>\n"
      ]
     },
     "metadata": {},
     "output_type": "display_data"
    },
    {
     "name": "stdout",
     "output_type": "stream",
     "text": [
      "\n",
      "▶ Processing: 453015908.0012.2025.04.06.05.23.10.000\n"
     ]
    },
    {
     "data": {
      "text/plain": [
       "<pandas.io.formats.style.Styler at 0x208a9f8f490>"
      ],
      "text/html": [
       "<style type=\"text/css\">\n",
       "#T_b6c47 caption {\n",
       "  caption-side: bottom;\n",
       "  font-size: 1.25em;\n",
       "}\n",
       "</style>\n",
       "<table id=\"T_b6c47\">\n",
       "  <caption>The peak of the mean curve is at 6.241 Hz with amplitude 9.126.</caption>\n",
       "  <thead>\n",
       "    <tr>\n",
       "      <th class=\"blank level0\" >&nbsp;</th>\n",
       "      <th id=\"T_b6c47_level0_col0\" class=\"col_heading level0 col0\" >Exponentitated Lognormal Median (units)</th>\n",
       "      <th id=\"T_b6c47_level0_col1\" class=\"col_heading level0 col1\" >Lognormal Standard Deviation (log units)</th>\n",
       "      <th id=\"T_b6c47_level0_col2\" class=\"col_heading level0 col2\" >-1 Lognormal Standard Deviation (units)</th>\n",
       "      <th id=\"T_b6c47_level0_col3\" class=\"col_heading level0 col3\" >+1 Lognormal Standard Deviation (units)</th>\n",
       "    </tr>\n",
       "  </thead>\n",
       "  <tbody>\n",
       "    <tr>\n",
       "      <th id=\"T_b6c47_level0_row0\" class=\"row_heading level0 row0\" >Resonant Site Frequency, fn (Hz)</th>\n",
       "      <td id=\"T_b6c47_row0_col0\" class=\"data row0 col0\" >6.092</td>\n",
       "      <td id=\"T_b6c47_row0_col1\" class=\"data row0 col1\" >0.057</td>\n",
       "      <td id=\"T_b6c47_row0_col2\" class=\"data row0 col2\" >5.752</td>\n",
       "      <td id=\"T_b6c47_row0_col3\" class=\"data row0 col3\" >6.452</td>\n",
       "    </tr>\n",
       "    <tr>\n",
       "      <th id=\"T_b6c47_level0_row1\" class=\"row_heading level0 row1\" >Resonant Site Period, Tn (s)</th>\n",
       "      <td id=\"T_b6c47_row1_col0\" class=\"data row1 col0\" >0.164</td>\n",
       "      <td id=\"T_b6c47_row1_col1\" class=\"data row1 col1\" >0.057</td>\n",
       "      <td id=\"T_b6c47_row1_col2\" class=\"data row1 col2\" >0.174</td>\n",
       "      <td id=\"T_b6c47_row1_col3\" class=\"data row1 col3\" >0.155</td>\n",
       "    </tr>\n",
       "    <tr>\n",
       "      <th id=\"T_b6c47_level0_row2\" class=\"row_heading level0 row2\" >Resonance Amplitude, An</th>\n",
       "      <td id=\"T_b6c47_row2_col0\" class=\"data row2 col0\" >9.751</td>\n",
       "      <td id=\"T_b6c47_row2_col1\" class=\"data row2 col1\" >0.230</td>\n",
       "      <td id=\"T_b6c47_row2_col2\" class=\"data row2 col2\" >7.748</td>\n",
       "      <td id=\"T_b6c47_row2_col3\" class=\"data row2 col3\" >12.272</td>\n",
       "    </tr>\n",
       "  </tbody>\n",
       "</table>\n"
      ]
     },
     "metadata": {},
     "output_type": "display_data"
    },
    {
     "name": "stdout",
     "output_type": "stream",
     "text": [
      "\n",
      "▶ Processing: 453016751.0001.2025.03.23.03.38.10.000\n"
     ]
    },
    {
     "data": {
      "text/plain": [
       "<pandas.io.formats.style.Styler at 0x208b6532bd0>"
      ],
      "text/html": [
       "<style type=\"text/css\">\n",
       "#T_035f7 caption {\n",
       "  caption-side: bottom;\n",
       "  font-size: 1.25em;\n",
       "}\n",
       "</style>\n",
       "<table id=\"T_035f7\">\n",
       "  <caption>The peak of the mean curve is at 1.214 Hz with amplitude 20.819.</caption>\n",
       "  <thead>\n",
       "    <tr>\n",
       "      <th class=\"blank level0\" >&nbsp;</th>\n",
       "      <th id=\"T_035f7_level0_col0\" class=\"col_heading level0 col0\" >Exponentitated Lognormal Median (units)</th>\n",
       "      <th id=\"T_035f7_level0_col1\" class=\"col_heading level0 col1\" >Lognormal Standard Deviation (log units)</th>\n",
       "      <th id=\"T_035f7_level0_col2\" class=\"col_heading level0 col2\" >-1 Lognormal Standard Deviation (units)</th>\n",
       "      <th id=\"T_035f7_level0_col3\" class=\"col_heading level0 col3\" >+1 Lognormal Standard Deviation (units)</th>\n",
       "    </tr>\n",
       "  </thead>\n",
       "  <tbody>\n",
       "    <tr>\n",
       "      <th id=\"T_035f7_level0_row0\" class=\"row_heading level0 row0\" >Resonant Site Frequency, fn (Hz)</th>\n",
       "      <td id=\"T_035f7_row0_col0\" class=\"data row0 col0\" >1.240</td>\n",
       "      <td id=\"T_035f7_row0_col1\" class=\"data row0 col1\" >0.111</td>\n",
       "      <td id=\"T_035f7_row0_col2\" class=\"data row0 col2\" >1.110</td>\n",
       "      <td id=\"T_035f7_row0_col3\" class=\"data row0 col3\" >1.385</td>\n",
       "    </tr>\n",
       "    <tr>\n",
       "      <th id=\"T_035f7_level0_row1\" class=\"row_heading level0 row1\" >Resonant Site Period, Tn (s)</th>\n",
       "      <td id=\"T_035f7_row1_col0\" class=\"data row1 col0\" >0.807</td>\n",
       "      <td id=\"T_035f7_row1_col1\" class=\"data row1 col1\" >0.111</td>\n",
       "      <td id=\"T_035f7_row1_col2\" class=\"data row1 col2\" >0.901</td>\n",
       "      <td id=\"T_035f7_row1_col3\" class=\"data row1 col3\" >0.722</td>\n",
       "    </tr>\n",
       "    <tr>\n",
       "      <th id=\"T_035f7_level0_row2\" class=\"row_heading level0 row2\" >Resonance Amplitude, An</th>\n",
       "      <td id=\"T_035f7_row2_col0\" class=\"data row2 col0\" >27.303</td>\n",
       "      <td id=\"T_035f7_row2_col1\" class=\"data row2 col1\" >0.430</td>\n",
       "      <td id=\"T_035f7_row2_col2\" class=\"data row2 col2\" >17.755</td>\n",
       "      <td id=\"T_035f7_row2_col3\" class=\"data row2 col3\" >41.986</td>\n",
       "    </tr>\n",
       "  </tbody>\n",
       "</table>\n"
      ]
     },
     "metadata": {},
     "output_type": "display_data"
    },
    {
     "name": "stdout",
     "output_type": "stream",
     "text": [
      "\n",
      "▶ Processing: 453016751.0002.2025.03.23.04.40.26.000\n"
     ]
    },
    {
     "data": {
      "text/plain": [
       "<pandas.io.formats.style.Styler at 0x208a9f00f50>"
      ],
      "text/html": [
       "<style type=\"text/css\">\n",
       "#T_0fdf6 caption {\n",
       "  caption-side: bottom;\n",
       "  font-size: 1.25em;\n",
       "}\n",
       "</style>\n",
       "<table id=\"T_0fdf6\">\n",
       "  <caption>The peak of the mean curve is at 1.149 Hz with amplitude 23.800.</caption>\n",
       "  <thead>\n",
       "    <tr>\n",
       "      <th class=\"blank level0\" >&nbsp;</th>\n",
       "      <th id=\"T_0fdf6_level0_col0\" class=\"col_heading level0 col0\" >Exponentitated Lognormal Median (units)</th>\n",
       "      <th id=\"T_0fdf6_level0_col1\" class=\"col_heading level0 col1\" >Lognormal Standard Deviation (log units)</th>\n",
       "      <th id=\"T_0fdf6_level0_col2\" class=\"col_heading level0 col2\" >-1 Lognormal Standard Deviation (units)</th>\n",
       "      <th id=\"T_0fdf6_level0_col3\" class=\"col_heading level0 col3\" >+1 Lognormal Standard Deviation (units)</th>\n",
       "    </tr>\n",
       "  </thead>\n",
       "  <tbody>\n",
       "    <tr>\n",
       "      <th id=\"T_0fdf6_level0_row0\" class=\"row_heading level0 row0\" >Resonant Site Frequency, fn (Hz)</th>\n",
       "      <td id=\"T_0fdf6_row0_col0\" class=\"data row0 col0\" >1.242</td>\n",
       "      <td id=\"T_0fdf6_row0_col1\" class=\"data row0 col1\" >0.116</td>\n",
       "      <td id=\"T_0fdf6_row0_col2\" class=\"data row0 col2\" >1.106</td>\n",
       "      <td id=\"T_0fdf6_row0_col3\" class=\"data row0 col3\" >1.395</td>\n",
       "    </tr>\n",
       "    <tr>\n",
       "      <th id=\"T_0fdf6_level0_row1\" class=\"row_heading level0 row1\" >Resonant Site Period, Tn (s)</th>\n",
       "      <td id=\"T_0fdf6_row1_col0\" class=\"data row1 col0\" >0.805</td>\n",
       "      <td id=\"T_0fdf6_row1_col1\" class=\"data row1 col1\" >0.116</td>\n",
       "      <td id=\"T_0fdf6_row1_col2\" class=\"data row1 col2\" >0.904</td>\n",
       "      <td id=\"T_0fdf6_row1_col3\" class=\"data row1 col3\" >0.717</td>\n",
       "    </tr>\n",
       "    <tr>\n",
       "      <th id=\"T_0fdf6_level0_row2\" class=\"row_heading level0 row2\" >Resonance Amplitude, An</th>\n",
       "      <td id=\"T_0fdf6_row2_col0\" class=\"data row2 col0\" >30.968</td>\n",
       "      <td id=\"T_0fdf6_row2_col1\" class=\"data row2 col1\" >0.578</td>\n",
       "      <td id=\"T_0fdf6_row2_col2\" class=\"data row2 col2\" >17.370</td>\n",
       "      <td id=\"T_0fdf6_row2_col3\" class=\"data row2 col3\" >55.209</td>\n",
       "    </tr>\n",
       "  </tbody>\n",
       "</table>\n"
      ]
     },
     "metadata": {},
     "output_type": "display_data"
    },
    {
     "name": "stdout",
     "output_type": "stream",
     "text": [
      "\n",
      "▶ Processing: 453016751.0003.2025.03.23.05.43.30.000\n"
     ]
    },
    {
     "data": {
      "text/plain": [
       "<pandas.io.formats.style.Styler at 0x208b6585f90>"
      ],
      "text/html": [
       "<style type=\"text/css\">\n",
       "#T_d65be caption {\n",
       "  caption-side: bottom;\n",
       "  font-size: 1.25em;\n",
       "}\n",
       "</style>\n",
       "<table id=\"T_d65be\">\n",
       "  <caption>The peak of the mean curve is at 1.117 Hz with amplitude 21.492.</caption>\n",
       "  <thead>\n",
       "    <tr>\n",
       "      <th class=\"blank level0\" >&nbsp;</th>\n",
       "      <th id=\"T_d65be_level0_col0\" class=\"col_heading level0 col0\" >Exponentitated Lognormal Median (units)</th>\n",
       "      <th id=\"T_d65be_level0_col1\" class=\"col_heading level0 col1\" >Lognormal Standard Deviation (log units)</th>\n",
       "      <th id=\"T_d65be_level0_col2\" class=\"col_heading level0 col2\" >-1 Lognormal Standard Deviation (units)</th>\n",
       "      <th id=\"T_d65be_level0_col3\" class=\"col_heading level0 col3\" >+1 Lognormal Standard Deviation (units)</th>\n",
       "    </tr>\n",
       "  </thead>\n",
       "  <tbody>\n",
       "    <tr>\n",
       "      <th id=\"T_d65be_level0_row0\" class=\"row_heading level0 row0\" >Resonant Site Frequency, fn (Hz)</th>\n",
       "      <td id=\"T_d65be_row0_col0\" class=\"data row0 col0\" >1.203</td>\n",
       "      <td id=\"T_d65be_row0_col1\" class=\"data row0 col1\" >0.089</td>\n",
       "      <td id=\"T_d65be_row0_col2\" class=\"data row0 col2\" >1.101</td>\n",
       "      <td id=\"T_d65be_row0_col3\" class=\"data row0 col3\" >1.314</td>\n",
       "    </tr>\n",
       "    <tr>\n",
       "      <th id=\"T_d65be_level0_row1\" class=\"row_heading level0 row1\" >Resonant Site Period, Tn (s)</th>\n",
       "      <td id=\"T_d65be_row1_col0\" class=\"data row1 col0\" >0.831</td>\n",
       "      <td id=\"T_d65be_row1_col1\" class=\"data row1 col1\" >0.089</td>\n",
       "      <td id=\"T_d65be_row1_col2\" class=\"data row1 col2\" >0.909</td>\n",
       "      <td id=\"T_d65be_row1_col3\" class=\"data row1 col3\" >0.761</td>\n",
       "    </tr>\n",
       "    <tr>\n",
       "      <th id=\"T_d65be_level0_row2\" class=\"row_heading level0 row2\" >Resonance Amplitude, An</th>\n",
       "      <td id=\"T_d65be_row2_col0\" class=\"data row2 col0\" >26.499</td>\n",
       "      <td id=\"T_d65be_row2_col1\" class=\"data row2 col1\" >0.614</td>\n",
       "      <td id=\"T_d65be_row2_col2\" class=\"data row2 col2\" >14.345</td>\n",
       "      <td id=\"T_d65be_row2_col3\" class=\"data row2 col3\" >48.950</td>\n",
       "    </tr>\n",
       "  </tbody>\n",
       "</table>\n"
      ]
     },
     "metadata": {},
     "output_type": "display_data"
    },
    {
     "name": "stdout",
     "output_type": "stream",
     "text": [
      "\n",
      "▶ Processing: 453016751.0004.2025.03.23.07.14.02.000\n"
     ]
    },
    {
     "data": {
      "text/plain": [
       "<pandas.io.formats.style.Styler at 0x2088327f490>"
      ],
      "text/html": [
       "<style type=\"text/css\">\n",
       "#T_a7e87 caption {\n",
       "  caption-side: bottom;\n",
       "  font-size: 1.25em;\n",
       "}\n",
       "</style>\n",
       "<table id=\"T_a7e87\">\n",
       "  <caption>The peak of the mean curve is at 4.599 Hz with amplitude 9.960.</caption>\n",
       "  <thead>\n",
       "    <tr>\n",
       "      <th class=\"blank level0\" >&nbsp;</th>\n",
       "      <th id=\"T_a7e87_level0_col0\" class=\"col_heading level0 col0\" >Exponentitated Lognormal Median (units)</th>\n",
       "      <th id=\"T_a7e87_level0_col1\" class=\"col_heading level0 col1\" >Lognormal Standard Deviation (log units)</th>\n",
       "      <th id=\"T_a7e87_level0_col2\" class=\"col_heading level0 col2\" >-1 Lognormal Standard Deviation (units)</th>\n",
       "      <th id=\"T_a7e87_level0_col3\" class=\"col_heading level0 col3\" >+1 Lognormal Standard Deviation (units)</th>\n",
       "    </tr>\n",
       "  </thead>\n",
       "  <tbody>\n",
       "    <tr>\n",
       "      <th id=\"T_a7e87_level0_row0\" class=\"row_heading level0 row0\" >Resonant Site Frequency, fn (Hz)</th>\n",
       "      <td id=\"T_a7e87_row0_col0\" class=\"data row0 col0\" >2.327</td>\n",
       "      <td id=\"T_a7e87_row0_col1\" class=\"data row0 col1\" >0.657</td>\n",
       "      <td id=\"T_a7e87_row0_col2\" class=\"data row0 col2\" >1.206</td>\n",
       "      <td id=\"T_a7e87_row0_col3\" class=\"data row0 col3\" >4.489</td>\n",
       "    </tr>\n",
       "    <tr>\n",
       "      <th id=\"T_a7e87_level0_row1\" class=\"row_heading level0 row1\" >Resonant Site Period, Tn (s)</th>\n",
       "      <td id=\"T_a7e87_row1_col0\" class=\"data row1 col0\" >0.430</td>\n",
       "      <td id=\"T_a7e87_row1_col1\" class=\"data row1 col1\" >0.657</td>\n",
       "      <td id=\"T_a7e87_row1_col2\" class=\"data row1 col2\" >0.829</td>\n",
       "      <td id=\"T_a7e87_row1_col3\" class=\"data row1 col3\" >0.223</td>\n",
       "    </tr>\n",
       "    <tr>\n",
       "      <th id=\"T_a7e87_level0_row2\" class=\"row_heading level0 row2\" >Resonance Amplitude, An</th>\n",
       "      <td id=\"T_a7e87_row2_col0\" class=\"data row2 col0\" >15.290</td>\n",
       "      <td id=\"T_a7e87_row2_col1\" class=\"data row2 col1\" >0.535</td>\n",
       "      <td id=\"T_a7e87_row2_col2\" class=\"data row2 col2\" >8.958</td>\n",
       "      <td id=\"T_a7e87_row2_col3\" class=\"data row2 col3\" >26.099</td>\n",
       "    </tr>\n",
       "  </tbody>\n",
       "</table>\n"
      ]
     },
     "metadata": {},
     "output_type": "display_data"
    },
    {
     "name": "stdout",
     "output_type": "stream",
     "text": [
      "\n",
      "▶ Processing: 453016751.0005.2025.03.23.08.21.30.000\n"
     ]
    },
    {
     "data": {
      "text/plain": [
       "<pandas.io.formats.style.Styler at 0x208879a69d0>"
      ],
      "text/html": [
       "<style type=\"text/css\">\n",
       "#T_f310d caption {\n",
       "  caption-side: bottom;\n",
       "  font-size: 1.25em;\n",
       "}\n",
       "</style>\n",
       "<table id=\"T_f310d\">\n",
       "  <caption>The peak of the mean curve is at 4.599 Hz with amplitude 10.451.</caption>\n",
       "  <thead>\n",
       "    <tr>\n",
       "      <th class=\"blank level0\" >&nbsp;</th>\n",
       "      <th id=\"T_f310d_level0_col0\" class=\"col_heading level0 col0\" >Exponentitated Lognormal Median (units)</th>\n",
       "      <th id=\"T_f310d_level0_col1\" class=\"col_heading level0 col1\" >Lognormal Standard Deviation (log units)</th>\n",
       "      <th id=\"T_f310d_level0_col2\" class=\"col_heading level0 col2\" >-1 Lognormal Standard Deviation (units)</th>\n",
       "      <th id=\"T_f310d_level0_col3\" class=\"col_heading level0 col3\" >+1 Lognormal Standard Deviation (units)</th>\n",
       "    </tr>\n",
       "  </thead>\n",
       "  <tbody>\n",
       "    <tr>\n",
       "      <th id=\"T_f310d_level0_row0\" class=\"row_heading level0 row0\" >Resonant Site Frequency, fn (Hz)</th>\n",
       "      <td id=\"T_f310d_row0_col0\" class=\"data row0 col0\" >2.698</td>\n",
       "      <td id=\"T_f310d_row0_col1\" class=\"data row0 col1\" >0.642</td>\n",
       "      <td id=\"T_f310d_row0_col2\" class=\"data row0 col2\" >1.419</td>\n",
       "      <td id=\"T_f310d_row0_col3\" class=\"data row0 col3\" >5.129</td>\n",
       "    </tr>\n",
       "    <tr>\n",
       "      <th id=\"T_f310d_level0_row1\" class=\"row_heading level0 row1\" >Resonant Site Period, Tn (s)</th>\n",
       "      <td id=\"T_f310d_row1_col0\" class=\"data row1 col0\" >0.371</td>\n",
       "      <td id=\"T_f310d_row1_col1\" class=\"data row1 col1\" >0.642</td>\n",
       "      <td id=\"T_f310d_row1_col2\" class=\"data row1 col2\" >0.705</td>\n",
       "      <td id=\"T_f310d_row1_col3\" class=\"data row1 col3\" >0.195</td>\n",
       "    </tr>\n",
       "    <tr>\n",
       "      <th id=\"T_f310d_level0_row2\" class=\"row_heading level0 row2\" >Resonance Amplitude, An</th>\n",
       "      <td id=\"T_f310d_row2_col0\" class=\"data row2 col0\" >13.601</td>\n",
       "      <td id=\"T_f310d_row2_col1\" class=\"data row2 col1\" >0.411</td>\n",
       "      <td id=\"T_f310d_row2_col2\" class=\"data row2 col2\" >9.020</td>\n",
       "      <td id=\"T_f310d_row2_col3\" class=\"data row2 col3\" >20.509</td>\n",
       "    </tr>\n",
       "  </tbody>\n",
       "</table>\n"
      ]
     },
     "metadata": {},
     "output_type": "display_data"
    },
    {
     "name": "stdout",
     "output_type": "stream",
     "text": [
      "\n",
      "▶ Processing: 453016751.0006.2025.03.23.09.26.30.000\n"
     ]
    },
    {
     "data": {
      "text/plain": [
       "<pandas.io.formats.style.Styler at 0x2088f3af490>"
      ],
      "text/html": [
       "<style type=\"text/css\">\n",
       "#T_d0c66 caption {\n",
       "  caption-side: bottom;\n",
       "  font-size: 1.25em;\n",
       "}\n",
       "</style>\n",
       "<table id=\"T_d0c66\">\n",
       "  <caption>The peak of the mean curve is at 4.599 Hz with amplitude 10.200.</caption>\n",
       "  <thead>\n",
       "    <tr>\n",
       "      <th class=\"blank level0\" >&nbsp;</th>\n",
       "      <th id=\"T_d0c66_level0_col0\" class=\"col_heading level0 col0\" >Exponentitated Lognormal Median (units)</th>\n",
       "      <th id=\"T_d0c66_level0_col1\" class=\"col_heading level0 col1\" >Lognormal Standard Deviation (log units)</th>\n",
       "      <th id=\"T_d0c66_level0_col2\" class=\"col_heading level0 col2\" >-1 Lognormal Standard Deviation (units)</th>\n",
       "      <th id=\"T_d0c66_level0_col3\" class=\"col_heading level0 col3\" >+1 Lognormal Standard Deviation (units)</th>\n",
       "    </tr>\n",
       "  </thead>\n",
       "  <tbody>\n",
       "    <tr>\n",
       "      <th id=\"T_d0c66_level0_row0\" class=\"row_heading level0 row0\" >Resonant Site Frequency, fn (Hz)</th>\n",
       "      <td id=\"T_d0c66_row0_col0\" class=\"data row0 col0\" >4.540</td>\n",
       "      <td id=\"T_d0c66_row0_col1\" class=\"data row0 col1\" >0.024</td>\n",
       "      <td id=\"T_d0c66_row0_col2\" class=\"data row0 col2\" >4.431</td>\n",
       "      <td id=\"T_d0c66_row0_col3\" class=\"data row0 col3\" >4.651</td>\n",
       "    </tr>\n",
       "    <tr>\n",
       "      <th id=\"T_d0c66_level0_row1\" class=\"row_heading level0 row1\" >Resonant Site Period, Tn (s)</th>\n",
       "      <td id=\"T_d0c66_row1_col0\" class=\"data row1 col0\" >0.220</td>\n",
       "      <td id=\"T_d0c66_row1_col1\" class=\"data row1 col1\" >0.024</td>\n",
       "      <td id=\"T_d0c66_row1_col2\" class=\"data row1 col2\" >0.226</td>\n",
       "      <td id=\"T_d0c66_row1_col3\" class=\"data row1 col3\" >0.215</td>\n",
       "    </tr>\n",
       "    <tr>\n",
       "      <th id=\"T_d0c66_level0_row2\" class=\"row_heading level0 row2\" >Resonance Amplitude, An</th>\n",
       "      <td id=\"T_d0c66_row2_col0\" class=\"data row2 col0\" >10.486</td>\n",
       "      <td id=\"T_d0c66_row2_col1\" class=\"data row2 col1\" >0.214</td>\n",
       "      <td id=\"T_d0c66_row2_col2\" class=\"data row2 col2\" >8.463</td>\n",
       "      <td id=\"T_d0c66_row2_col3\" class=\"data row2 col3\" >12.991</td>\n",
       "    </tr>\n",
       "  </tbody>\n",
       "</table>\n"
      ]
     },
     "metadata": {},
     "output_type": "display_data"
    },
    {
     "name": "stdout",
     "output_type": "stream",
     "text": [
      "\n",
      "▶ Processing: 453016751.0007.2025.04.01.04.56.14.000\n"
     ]
    },
    {
     "data": {
      "text/plain": [
       "<pandas.io.formats.style.Styler at 0x2089a98f490>"
      ],
      "text/html": [
       "<style type=\"text/css\">\n",
       "#T_16a48 caption {\n",
       "  caption-side: bottom;\n",
       "  font-size: 1.25em;\n",
       "}\n",
       "</style>\n",
       "<table id=\"T_16a48\">\n",
       "  <caption>The peak of the mean curve is at 1.434 Hz with amplitude 4.196.</caption>\n",
       "  <thead>\n",
       "    <tr>\n",
       "      <th class=\"blank level0\" >&nbsp;</th>\n",
       "      <th id=\"T_16a48_level0_col0\" class=\"col_heading level0 col0\" >Exponentitated Lognormal Median (units)</th>\n",
       "      <th id=\"T_16a48_level0_col1\" class=\"col_heading level0 col1\" >Lognormal Standard Deviation (log units)</th>\n",
       "      <th id=\"T_16a48_level0_col2\" class=\"col_heading level0 col2\" >-1 Lognormal Standard Deviation (units)</th>\n",
       "      <th id=\"T_16a48_level0_col3\" class=\"col_heading level0 col3\" >+1 Lognormal Standard Deviation (units)</th>\n",
       "    </tr>\n",
       "  </thead>\n",
       "  <tbody>\n",
       "    <tr>\n",
       "      <th id=\"T_16a48_level0_row0\" class=\"row_heading level0 row0\" >Resonant Site Frequency, fn (Hz)</th>\n",
       "      <td id=\"T_16a48_row0_col0\" class=\"data row0 col0\" >2.664</td>\n",
       "      <td id=\"T_16a48_row0_col1\" class=\"data row0 col1\" >0.722</td>\n",
       "      <td id=\"T_16a48_row0_col2\" class=\"data row0 col2\" >1.294</td>\n",
       "      <td id=\"T_16a48_row0_col3\" class=\"data row0 col3\" >5.485</td>\n",
       "    </tr>\n",
       "    <tr>\n",
       "      <th id=\"T_16a48_level0_row1\" class=\"row_heading level0 row1\" >Resonant Site Period, Tn (s)</th>\n",
       "      <td id=\"T_16a48_row1_col0\" class=\"data row1 col0\" >0.375</td>\n",
       "      <td id=\"T_16a48_row1_col1\" class=\"data row1 col1\" >0.722</td>\n",
       "      <td id=\"T_16a48_row1_col2\" class=\"data row1 col2\" >0.773</td>\n",
       "      <td id=\"T_16a48_row1_col3\" class=\"data row1 col3\" >0.182</td>\n",
       "    </tr>\n",
       "    <tr>\n",
       "      <th id=\"T_16a48_level0_row2\" class=\"row_heading level0 row2\" >Resonance Amplitude, An</th>\n",
       "      <td id=\"T_16a48_row2_col0\" class=\"data row2 col0\" >6.349</td>\n",
       "      <td id=\"T_16a48_row2_col1\" class=\"data row2 col1\" >0.561</td>\n",
       "      <td id=\"T_16a48_row2_col2\" class=\"data row2 col2\" >3.622</td>\n",
       "      <td id=\"T_16a48_row2_col3\" class=\"data row2 col3\" >11.128</td>\n",
       "    </tr>\n",
       "  </tbody>\n",
       "</table>\n"
      ]
     },
     "metadata": {},
     "output_type": "display_data"
    },
    {
     "name": "stdout",
     "output_type": "stream",
     "text": [
      "\n",
      "▶ Processing: 453016751.0008.2025.04.01.06.01.38.000\n"
     ]
    },
    {
     "data": {
      "text/plain": [
       "<pandas.io.formats.style.Styler at 0x2088fdb2210>"
      ],
      "text/html": [
       "<style type=\"text/css\">\n",
       "#T_2d75f caption {\n",
       "  caption-side: bottom;\n",
       "  font-size: 1.25em;\n",
       "}\n",
       "</style>\n",
       "<table id=\"T_2d75f\">\n",
       "  <caption>The peak of the mean curve is at 1.248 Hz with amplitude 4.408.</caption>\n",
       "  <thead>\n",
       "    <tr>\n",
       "      <th class=\"blank level0\" >&nbsp;</th>\n",
       "      <th id=\"T_2d75f_level0_col0\" class=\"col_heading level0 col0\" >Exponentitated Lognormal Median (units)</th>\n",
       "      <th id=\"T_2d75f_level0_col1\" class=\"col_heading level0 col1\" >Lognormal Standard Deviation (log units)</th>\n",
       "      <th id=\"T_2d75f_level0_col2\" class=\"col_heading level0 col2\" >-1 Lognormal Standard Deviation (units)</th>\n",
       "      <th id=\"T_2d75f_level0_col3\" class=\"col_heading level0 col3\" >+1 Lognormal Standard Deviation (units)</th>\n",
       "    </tr>\n",
       "  </thead>\n",
       "  <tbody>\n",
       "    <tr>\n",
       "      <th id=\"T_2d75f_level0_row0\" class=\"row_heading level0 row0\" >Resonant Site Frequency, fn (Hz)</th>\n",
       "      <td id=\"T_2d75f_row0_col0\" class=\"data row0 col0\" >1.931</td>\n",
       "      <td id=\"T_2d75f_row0_col1\" class=\"data row0 col1\" >0.762</td>\n",
       "      <td id=\"T_2d75f_row0_col2\" class=\"data row0 col2\" >0.901</td>\n",
       "      <td id=\"T_2d75f_row0_col3\" class=\"data row0 col3\" >4.137</td>\n",
       "    </tr>\n",
       "    <tr>\n",
       "      <th id=\"T_2d75f_level0_row1\" class=\"row_heading level0 row1\" >Resonant Site Period, Tn (s)</th>\n",
       "      <td id=\"T_2d75f_row1_col0\" class=\"data row1 col0\" >0.518</td>\n",
       "      <td id=\"T_2d75f_row1_col1\" class=\"data row1 col1\" >0.762</td>\n",
       "      <td id=\"T_2d75f_row1_col2\" class=\"data row1 col2\" >1.110</td>\n",
       "      <td id=\"T_2d75f_row1_col3\" class=\"data row1 col3\" >0.242</td>\n",
       "    </tr>\n",
       "    <tr>\n",
       "      <th id=\"T_2d75f_level0_row2\" class=\"row_heading level0 row2\" >Resonance Amplitude, An</th>\n",
       "      <td id=\"T_2d75f_row2_col0\" class=\"data row2 col0\" >5.967</td>\n",
       "      <td id=\"T_2d75f_row2_col1\" class=\"data row2 col1\" >0.526</td>\n",
       "      <td id=\"T_2d75f_row2_col2\" class=\"data row2 col2\" >3.525</td>\n",
       "      <td id=\"T_2d75f_row2_col3\" class=\"data row2 col3\" >10.101</td>\n",
       "    </tr>\n",
       "  </tbody>\n",
       "</table>\n"
      ]
     },
     "metadata": {},
     "output_type": "display_data"
    },
    {
     "name": "stdout",
     "output_type": "stream",
     "text": [
      "\n",
      "▶ Processing: 453016751.0009.2025.04.02.00.34.46.000\n"
     ]
    },
    {
     "data": {
      "text/plain": [
       "<pandas.io.formats.style.Styler at 0x2089a5873d0>"
      ],
      "text/html": [
       "<style type=\"text/css\">\n",
       "#T_cacdf caption {\n",
       "  caption-side: bottom;\n",
       "  font-size: 1.25em;\n",
       "}\n",
       "</style>\n",
       "<table id=\"T_cacdf\">\n",
       "  <caption>The peak of the mean curve is at 2.950 Hz with amplitude 19.091.</caption>\n",
       "  <thead>\n",
       "    <tr>\n",
       "      <th class=\"blank level0\" >&nbsp;</th>\n",
       "      <th id=\"T_cacdf_level0_col0\" class=\"col_heading level0 col0\" >Exponentitated Lognormal Median (units)</th>\n",
       "      <th id=\"T_cacdf_level0_col1\" class=\"col_heading level0 col1\" >Lognormal Standard Deviation (log units)</th>\n",
       "      <th id=\"T_cacdf_level0_col2\" class=\"col_heading level0 col2\" >-1 Lognormal Standard Deviation (units)</th>\n",
       "      <th id=\"T_cacdf_level0_col3\" class=\"col_heading level0 col3\" >+1 Lognormal Standard Deviation (units)</th>\n",
       "    </tr>\n",
       "  </thead>\n",
       "  <tbody>\n",
       "    <tr>\n",
       "      <th id=\"T_cacdf_level0_row0\" class=\"row_heading level0 row0\" >Resonant Site Frequency, fn (Hz)</th>\n",
       "      <td id=\"T_cacdf_row0_col0\" class=\"data row0 col0\" >2.942</td>\n",
       "      <td id=\"T_cacdf_row0_col1\" class=\"data row0 col1\" >0.019</td>\n",
       "      <td id=\"T_cacdf_row0_col2\" class=\"data row0 col2\" >2.886</td>\n",
       "      <td id=\"T_cacdf_row0_col3\" class=\"data row0 col3\" >2.998</td>\n",
       "    </tr>\n",
       "    <tr>\n",
       "      <th id=\"T_cacdf_level0_row1\" class=\"row_heading level0 row1\" >Resonant Site Period, Tn (s)</th>\n",
       "      <td id=\"T_cacdf_row1_col0\" class=\"data row1 col0\" >0.340</td>\n",
       "      <td id=\"T_cacdf_row1_col1\" class=\"data row1 col1\" >0.019</td>\n",
       "      <td id=\"T_cacdf_row1_col2\" class=\"data row1 col2\" >0.346</td>\n",
       "      <td id=\"T_cacdf_row1_col3\" class=\"data row1 col3\" >0.334</td>\n",
       "    </tr>\n",
       "    <tr>\n",
       "      <th id=\"T_cacdf_level0_row2\" class=\"row_heading level0 row2\" >Resonance Amplitude, An</th>\n",
       "      <td id=\"T_cacdf_row2_col0\" class=\"data row2 col0\" >19.473</td>\n",
       "      <td id=\"T_cacdf_row2_col1\" class=\"data row2 col1\" >0.520</td>\n",
       "      <td id=\"T_cacdf_row2_col2\" class=\"data row2 col2\" >11.575</td>\n",
       "      <td id=\"T_cacdf_row2_col3\" class=\"data row2 col3\" >32.758</td>\n",
       "    </tr>\n",
       "  </tbody>\n",
       "</table>\n"
      ]
     },
     "metadata": {},
     "output_type": "display_data"
    },
    {
     "name": "stdout",
     "output_type": "stream",
     "text": [
      "\n",
      "▶ Processing: 453016751.0010.2025.04.06.04.11.14.000\n"
     ]
    },
    {
     "data": {
      "text/plain": [
       "<pandas.io.formats.style.Styler at 0x2089541b6d0>"
      ],
      "text/html": [
       "<style type=\"text/css\">\n",
       "#T_c03c7 caption {\n",
       "  caption-side: bottom;\n",
       "  font-size: 1.25em;\n",
       "}\n",
       "</style>\n",
       "<table id=\"T_c03c7\">\n",
       "  <caption>The peak of the mean curve is at 4.998 Hz with amplitude 3.458.</caption>\n",
       "  <thead>\n",
       "    <tr>\n",
       "      <th class=\"blank level0\" >&nbsp;</th>\n",
       "      <th id=\"T_c03c7_level0_col0\" class=\"col_heading level0 col0\" >Exponentitated Lognormal Median (units)</th>\n",
       "      <th id=\"T_c03c7_level0_col1\" class=\"col_heading level0 col1\" >Lognormal Standard Deviation (log units)</th>\n",
       "      <th id=\"T_c03c7_level0_col2\" class=\"col_heading level0 col2\" >-1 Lognormal Standard Deviation (units)</th>\n",
       "      <th id=\"T_c03c7_level0_col3\" class=\"col_heading level0 col3\" >+1 Lognormal Standard Deviation (units)</th>\n",
       "    </tr>\n",
       "  </thead>\n",
       "  <tbody>\n",
       "    <tr>\n",
       "      <th id=\"T_c03c7_level0_row0\" class=\"row_heading level0 row0\" >Resonant Site Frequency, fn (Hz)</th>\n",
       "      <td id=\"T_c03c7_row0_col0\" class=\"data row0 col0\" >2.127</td>\n",
       "      <td id=\"T_c03c7_row0_col1\" class=\"data row0 col1\" >0.688</td>\n",
       "      <td id=\"T_c03c7_row0_col2\" class=\"data row0 col2\" >1.069</td>\n",
       "      <td id=\"T_c03c7_row0_col3\" class=\"data row0 col3\" >4.230</td>\n",
       "    </tr>\n",
       "    <tr>\n",
       "      <th id=\"T_c03c7_level0_row1\" class=\"row_heading level0 row1\" >Resonant Site Period, Tn (s)</th>\n",
       "      <td id=\"T_c03c7_row1_col0\" class=\"data row1 col0\" >0.470</td>\n",
       "      <td id=\"T_c03c7_row1_col1\" class=\"data row1 col1\" >0.688</td>\n",
       "      <td id=\"T_c03c7_row1_col2\" class=\"data row1 col2\" >0.935</td>\n",
       "      <td id=\"T_c03c7_row1_col3\" class=\"data row1 col3\" >0.236</td>\n",
       "    </tr>\n",
       "    <tr>\n",
       "      <th id=\"T_c03c7_level0_row2\" class=\"row_heading level0 row2\" >Resonance Amplitude, An</th>\n",
       "      <td id=\"T_c03c7_row2_col0\" class=\"data row2 col0\" >5.842</td>\n",
       "      <td id=\"T_c03c7_row2_col1\" class=\"data row2 col1\" >0.604</td>\n",
       "      <td id=\"T_c03c7_row2_col2\" class=\"data row2 col2\" >3.195</td>\n",
       "      <td id=\"T_c03c7_row2_col3\" class=\"data row2 col3\" >10.682</td>\n",
       "    </tr>\n",
       "  </tbody>\n",
       "</table>\n"
      ]
     },
     "metadata": {},
     "output_type": "display_data"
    },
    {
     "name": "stdout",
     "output_type": "stream",
     "text": [
      "\n",
      "▶ Processing: 453016751.0011.2025.04.06.05.26.02.000\n"
     ]
    },
    {
     "data": {
      "text/plain": [
       "<pandas.io.formats.style.Styler at 0x2089a11b990>"
      ],
      "text/html": [
       "<style type=\"text/css\">\n",
       "#T_2acc6 caption {\n",
       "  caption-side: bottom;\n",
       "  font-size: 1.25em;\n",
       "}\n",
       "</style>\n",
       "<table id=\"T_2acc6\">\n",
       "  <caption>The peak of the mean curve is at 5.139 Hz with amplitude 3.482.</caption>\n",
       "  <thead>\n",
       "    <tr>\n",
       "      <th class=\"blank level0\" >&nbsp;</th>\n",
       "      <th id=\"T_2acc6_level0_col0\" class=\"col_heading level0 col0\" >Exponentitated Lognormal Median (units)</th>\n",
       "      <th id=\"T_2acc6_level0_col1\" class=\"col_heading level0 col1\" >Lognormal Standard Deviation (log units)</th>\n",
       "      <th id=\"T_2acc6_level0_col2\" class=\"col_heading level0 col2\" >-1 Lognormal Standard Deviation (units)</th>\n",
       "      <th id=\"T_2acc6_level0_col3\" class=\"col_heading level0 col3\" >+1 Lognormal Standard Deviation (units)</th>\n",
       "    </tr>\n",
       "  </thead>\n",
       "  <tbody>\n",
       "    <tr>\n",
       "      <th id=\"T_2acc6_level0_row0\" class=\"row_heading level0 row0\" >Resonant Site Frequency, fn (Hz)</th>\n",
       "      <td id=\"T_2acc6_row0_col0\" class=\"data row0 col0\" >2.038</td>\n",
       "      <td id=\"T_2acc6_row0_col1\" class=\"data row0 col1\" >0.687</td>\n",
       "      <td id=\"T_2acc6_row0_col2\" class=\"data row0 col2\" >1.025</td>\n",
       "      <td id=\"T_2acc6_row0_col3\" class=\"data row0 col3\" >4.051</td>\n",
       "    </tr>\n",
       "    <tr>\n",
       "      <th id=\"T_2acc6_level0_row1\" class=\"row_heading level0 row1\" >Resonant Site Period, Tn (s)</th>\n",
       "      <td id=\"T_2acc6_row1_col0\" class=\"data row1 col0\" >0.491</td>\n",
       "      <td id=\"T_2acc6_row1_col1\" class=\"data row1 col1\" >0.687</td>\n",
       "      <td id=\"T_2acc6_row1_col2\" class=\"data row1 col2\" >0.975</td>\n",
       "      <td id=\"T_2acc6_row1_col3\" class=\"data row1 col3\" >0.247</td>\n",
       "    </tr>\n",
       "    <tr>\n",
       "      <th id=\"T_2acc6_level0_row2\" class=\"row_heading level0 row2\" >Resonance Amplitude, An</th>\n",
       "      <td id=\"T_2acc6_row2_col0\" class=\"data row2 col0\" >6.014</td>\n",
       "      <td id=\"T_2acc6_row2_col1\" class=\"data row2 col1\" >0.634</td>\n",
       "      <td id=\"T_2acc6_row2_col2\" class=\"data row2 col2\" >3.189</td>\n",
       "      <td id=\"T_2acc6_row2_col3\" class=\"data row2 col3\" >11.341</td>\n",
       "    </tr>\n",
       "  </tbody>\n",
       "</table>\n"
      ]
     },
     "metadata": {},
     "output_type": "display_data"
    },
    {
     "name": "stdout",
     "output_type": "stream",
     "text": [
      "\n",
      "▶ Processing: 453016751.0012.2025.04.11.02.48.10.000\n"
     ]
    },
    {
     "data": {
      "text/plain": [
       "<pandas.io.formats.style.Styler at 0x2089e330910>"
      ],
      "text/html": [
       "<style type=\"text/css\">\n",
       "#T_2151e caption {\n",
       "  caption-side: bottom;\n",
       "  font-size: 1.25em;\n",
       "}\n",
       "</style>\n",
       "<table id=\"T_2151e\">\n",
       "  <caption>The peak of the mean curve is at 4.116 Hz with amplitude 17.323.</caption>\n",
       "  <thead>\n",
       "    <tr>\n",
       "      <th class=\"blank level0\" >&nbsp;</th>\n",
       "      <th id=\"T_2151e_level0_col0\" class=\"col_heading level0 col0\" >Exponentitated Lognormal Median (units)</th>\n",
       "      <th id=\"T_2151e_level0_col1\" class=\"col_heading level0 col1\" >Lognormal Standard Deviation (log units)</th>\n",
       "      <th id=\"T_2151e_level0_col2\" class=\"col_heading level0 col2\" >-1 Lognormal Standard Deviation (units)</th>\n",
       "      <th id=\"T_2151e_level0_col3\" class=\"col_heading level0 col3\" >+1 Lognormal Standard Deviation (units)</th>\n",
       "    </tr>\n",
       "  </thead>\n",
       "  <tbody>\n",
       "    <tr>\n",
       "      <th id=\"T_2151e_level0_row0\" class=\"row_heading level0 row0\" >Resonant Site Frequency, fn (Hz)</th>\n",
       "      <td id=\"T_2151e_row0_col0\" class=\"data row0 col0\" >3.059</td>\n",
       "      <td id=\"T_2151e_row0_col1\" class=\"data row0 col1\" >0.238</td>\n",
       "      <td id=\"T_2151e_row0_col2\" class=\"data row0 col2\" >2.410</td>\n",
       "      <td id=\"T_2151e_row0_col3\" class=\"data row0 col3\" >3.883</td>\n",
       "    </tr>\n",
       "    <tr>\n",
       "      <th id=\"T_2151e_level0_row1\" class=\"row_heading level0 row1\" >Resonant Site Period, Tn (s)</th>\n",
       "      <td id=\"T_2151e_row1_col0\" class=\"data row1 col0\" >0.327</td>\n",
       "      <td id=\"T_2151e_row1_col1\" class=\"data row1 col1\" >0.238</td>\n",
       "      <td id=\"T_2151e_row1_col2\" class=\"data row1 col2\" >0.415</td>\n",
       "      <td id=\"T_2151e_row1_col3\" class=\"data row1 col3\" >0.258</td>\n",
       "    </tr>\n",
       "    <tr>\n",
       "      <th id=\"T_2151e_level0_row2\" class=\"row_heading level0 row2\" >Resonance Amplitude, An</th>\n",
       "      <td id=\"T_2151e_row2_col0\" class=\"data row2 col0\" >22.731</td>\n",
       "      <td id=\"T_2151e_row2_col1\" class=\"data row2 col1\" >0.344</td>\n",
       "      <td id=\"T_2151e_row2_col2\" class=\"data row2 col2\" >16.114</td>\n",
       "      <td id=\"T_2151e_row2_col3\" class=\"data row2 col3\" >32.065</td>\n",
       "    </tr>\n",
       "  </tbody>\n",
       "</table>\n"
      ]
     },
     "metadata": {},
     "output_type": "display_data"
    },
    {
     "name": "stdout",
     "output_type": "stream",
     "text": [
      "\n",
      "▶ Processing: 453016751.0013.2025.04.11.04.02.26.000\n"
     ]
    },
    {
     "data": {
      "text/plain": [
       "<pandas.io.formats.style.Styler at 0x2089a233d90>"
      ],
      "text/html": [
       "<style type=\"text/css\">\n",
       "#T_07a37 caption {\n",
       "  caption-side: bottom;\n",
       "  font-size: 1.25em;\n",
       "}\n",
       "</style>\n",
       "<table id=\"T_07a37\">\n",
       "  <caption>The peak of the mean curve is at 4.232 Hz with amplitude 16.265.</caption>\n",
       "  <thead>\n",
       "    <tr>\n",
       "      <th class=\"blank level0\" >&nbsp;</th>\n",
       "      <th id=\"T_07a37_level0_col0\" class=\"col_heading level0 col0\" >Exponentitated Lognormal Median (units)</th>\n",
       "      <th id=\"T_07a37_level0_col1\" class=\"col_heading level0 col1\" >Lognormal Standard Deviation (log units)</th>\n",
       "      <th id=\"T_07a37_level0_col2\" class=\"col_heading level0 col2\" >-1 Lognormal Standard Deviation (units)</th>\n",
       "      <th id=\"T_07a37_level0_col3\" class=\"col_heading level0 col3\" >+1 Lognormal Standard Deviation (units)</th>\n",
       "    </tr>\n",
       "  </thead>\n",
       "  <tbody>\n",
       "    <tr>\n",
       "      <th id=\"T_07a37_level0_row0\" class=\"row_heading level0 row0\" >Resonant Site Frequency, fn (Hz)</th>\n",
       "      <td id=\"T_07a37_row0_col0\" class=\"data row0 col0\" >3.031</td>\n",
       "      <td id=\"T_07a37_row0_col1\" class=\"data row0 col1\" >0.245</td>\n",
       "      <td id=\"T_07a37_row0_col2\" class=\"data row0 col2\" >2.372</td>\n",
       "      <td id=\"T_07a37_row0_col3\" class=\"data row0 col3\" >3.873</td>\n",
       "    </tr>\n",
       "    <tr>\n",
       "      <th id=\"T_07a37_level0_row1\" class=\"row_heading level0 row1\" >Resonant Site Period, Tn (s)</th>\n",
       "      <td id=\"T_07a37_row1_col0\" class=\"data row1 col0\" >0.330</td>\n",
       "      <td id=\"T_07a37_row1_col1\" class=\"data row1 col1\" >0.245</td>\n",
       "      <td id=\"T_07a37_row1_col2\" class=\"data row1 col2\" >0.422</td>\n",
       "      <td id=\"T_07a37_row1_col3\" class=\"data row1 col3\" >0.258</td>\n",
       "    </tr>\n",
       "    <tr>\n",
       "      <th id=\"T_07a37_level0_row2\" class=\"row_heading level0 row2\" >Resonance Amplitude, An</th>\n",
       "      <td id=\"T_07a37_row2_col0\" class=\"data row2 col0\" >22.046</td>\n",
       "      <td id=\"T_07a37_row2_col1\" class=\"data row2 col1\" >0.291</td>\n",
       "      <td id=\"T_07a37_row2_col2\" class=\"data row2 col2\" >16.476</td>\n",
       "      <td id=\"T_07a37_row2_col3\" class=\"data row2 col3\" >29.500</td>\n",
       "    </tr>\n",
       "  </tbody>\n",
       "</table>\n"
      ]
     },
     "metadata": {},
     "output_type": "display_data"
    },
    {
     "name": "stdout",
     "output_type": "stream",
     "text": [
      "\n",
      "▶ Processing: 453017681.0001.2025.03.23.03.28.26.000\n"
     ]
    },
    {
     "data": {
      "text/plain": [
       "<pandas.io.formats.style.Styler at 0x2089a1e7490>"
      ],
      "text/html": [
       "<style type=\"text/css\">\n",
       "#T_0a9b6 caption {\n",
       "  caption-side: bottom;\n",
       "  font-size: 1.25em;\n",
       "}\n",
       "</style>\n",
       "<table id=\"T_0a9b6\">\n",
       "  <caption>The peak of the mean curve is at 1.248 Hz with amplitude 23.328.</caption>\n",
       "  <thead>\n",
       "    <tr>\n",
       "      <th class=\"blank level0\" >&nbsp;</th>\n",
       "      <th id=\"T_0a9b6_level0_col0\" class=\"col_heading level0 col0\" >Exponentitated Lognormal Median (units)</th>\n",
       "      <th id=\"T_0a9b6_level0_col1\" class=\"col_heading level0 col1\" >Lognormal Standard Deviation (log units)</th>\n",
       "      <th id=\"T_0a9b6_level0_col2\" class=\"col_heading level0 col2\" >-1 Lognormal Standard Deviation (units)</th>\n",
       "      <th id=\"T_0a9b6_level0_col3\" class=\"col_heading level0 col3\" >+1 Lognormal Standard Deviation (units)</th>\n",
       "    </tr>\n",
       "  </thead>\n",
       "  <tbody>\n",
       "    <tr>\n",
       "      <th id=\"T_0a9b6_level0_row0\" class=\"row_heading level0 row0\" >Resonant Site Frequency, fn (Hz)</th>\n",
       "      <td id=\"T_0a9b6_row0_col0\" class=\"data row0 col0\" >1.240</td>\n",
       "      <td id=\"T_0a9b6_row0_col1\" class=\"data row0 col1\" >0.102</td>\n",
       "      <td id=\"T_0a9b6_row0_col2\" class=\"data row0 col2\" >1.120</td>\n",
       "      <td id=\"T_0a9b6_row0_col3\" class=\"data row0 col3\" >1.373</td>\n",
       "    </tr>\n",
       "    <tr>\n",
       "      <th id=\"T_0a9b6_level0_row1\" class=\"row_heading level0 row1\" >Resonant Site Period, Tn (s)</th>\n",
       "      <td id=\"T_0a9b6_row1_col0\" class=\"data row1 col0\" >0.806</td>\n",
       "      <td id=\"T_0a9b6_row1_col1\" class=\"data row1 col1\" >0.102</td>\n",
       "      <td id=\"T_0a9b6_row1_col2\" class=\"data row1 col2\" >0.893</td>\n",
       "      <td id=\"T_0a9b6_row1_col3\" class=\"data row1 col3\" >0.728</td>\n",
       "    </tr>\n",
       "    <tr>\n",
       "      <th id=\"T_0a9b6_level0_row2\" class=\"row_heading level0 row2\" >Resonance Amplitude, An</th>\n",
       "      <td id=\"T_0a9b6_row2_col0\" class=\"data row2 col0\" >28.943</td>\n",
       "      <td id=\"T_0a9b6_row2_col1\" class=\"data row2 col1\" >0.439</td>\n",
       "      <td id=\"T_0a9b6_row2_col2\" class=\"data row2 col2\" >18.660</td>\n",
       "      <td id=\"T_0a9b6_row2_col3\" class=\"data row2 col3\" >44.894</td>\n",
       "    </tr>\n",
       "  </tbody>\n",
       "</table>\n"
      ]
     },
     "metadata": {},
     "output_type": "display_data"
    },
    {
     "name": "stdout",
     "output_type": "stream",
     "text": [
      "\n",
      "▶ Processing: 453017681.0002.2025.03.23.04.36.06.000\n"
     ]
    },
    {
     "data": {
      "text/plain": [
       "<pandas.io.formats.style.Styler at 0x2089a6db510>"
      ],
      "text/html": [
       "<style type=\"text/css\">\n",
       "#T_e537c caption {\n",
       "  caption-side: bottom;\n",
       "  font-size: 1.25em;\n",
       "}\n",
       "</style>\n",
       "<table id=\"T_e537c\">\n",
       "  <caption>The peak of the mean curve is at 1.214 Hz with amplitude 25.646.</caption>\n",
       "  <thead>\n",
       "    <tr>\n",
       "      <th class=\"blank level0\" >&nbsp;</th>\n",
       "      <th id=\"T_e537c_level0_col0\" class=\"col_heading level0 col0\" >Exponentitated Lognormal Median (units)</th>\n",
       "      <th id=\"T_e537c_level0_col1\" class=\"col_heading level0 col1\" >Lognormal Standard Deviation (log units)</th>\n",
       "      <th id=\"T_e537c_level0_col2\" class=\"col_heading level0 col2\" >-1 Lognormal Standard Deviation (units)</th>\n",
       "      <th id=\"T_e537c_level0_col3\" class=\"col_heading level0 col3\" >+1 Lognormal Standard Deviation (units)</th>\n",
       "    </tr>\n",
       "  </thead>\n",
       "  <tbody>\n",
       "    <tr>\n",
       "      <th id=\"T_e537c_level0_row0\" class=\"row_heading level0 row0\" >Resonant Site Frequency, fn (Hz)</th>\n",
       "      <td id=\"T_e537c_row0_col0\" class=\"data row0 col0\" >1.227</td>\n",
       "      <td id=\"T_e537c_row0_col1\" class=\"data row0 col1\" >0.106</td>\n",
       "      <td id=\"T_e537c_row0_col2\" class=\"data row0 col2\" >1.103</td>\n",
       "      <td id=\"T_e537c_row0_col3\" class=\"data row0 col3\" >1.364</td>\n",
       "    </tr>\n",
       "    <tr>\n",
       "      <th id=\"T_e537c_level0_row1\" class=\"row_heading level0 row1\" >Resonant Site Period, Tn (s)</th>\n",
       "      <td id=\"T_e537c_row1_col0\" class=\"data row1 col0\" >0.815</td>\n",
       "      <td id=\"T_e537c_row1_col1\" class=\"data row1 col1\" >0.106</td>\n",
       "      <td id=\"T_e537c_row1_col2\" class=\"data row1 col2\" >0.907</td>\n",
       "      <td id=\"T_e537c_row1_col3\" class=\"data row1 col3\" >0.733</td>\n",
       "    </tr>\n",
       "    <tr>\n",
       "      <th id=\"T_e537c_level0_row2\" class=\"row_heading level0 row2\" >Resonance Amplitude, An</th>\n",
       "      <td id=\"T_e537c_row2_col0\" class=\"data row2 col0\" >33.090</td>\n",
       "      <td id=\"T_e537c_row2_col1\" class=\"data row2 col1\" >0.391</td>\n",
       "      <td id=\"T_e537c_row2_col2\" class=\"data row2 col2\" >22.385</td>\n",
       "      <td id=\"T_e537c_row2_col3\" class=\"data row2 col3\" >48.915</td>\n",
       "    </tr>\n",
       "  </tbody>\n",
       "</table>\n"
      ]
     },
     "metadata": {},
     "output_type": "display_data"
    },
    {
     "name": "stdout",
     "output_type": "stream",
     "text": [
      "\n",
      "▶ Processing: 453017681.0003.2025.03.23.05.39.54.000\n"
     ]
    },
    {
     "data": {
      "text/plain": [
       "<pandas.io.formats.style.Styler at 0x20873b57490>"
      ],
      "text/html": [
       "<style type=\"text/css\">\n",
       "#T_75a57 caption {\n",
       "  caption-side: bottom;\n",
       "  font-size: 1.25em;\n",
       "}\n",
       "</style>\n",
       "<table id=\"T_75a57\">\n",
       "  <caption>The peak of the mean curve is at 1.248 Hz with amplitude 23.561.</caption>\n",
       "  <thead>\n",
       "    <tr>\n",
       "      <th class=\"blank level0\" >&nbsp;</th>\n",
       "      <th id=\"T_75a57_level0_col0\" class=\"col_heading level0 col0\" >Exponentitated Lognormal Median (units)</th>\n",
       "      <th id=\"T_75a57_level0_col1\" class=\"col_heading level0 col1\" >Lognormal Standard Deviation (log units)</th>\n",
       "      <th id=\"T_75a57_level0_col2\" class=\"col_heading level0 col2\" >-1 Lognormal Standard Deviation (units)</th>\n",
       "      <th id=\"T_75a57_level0_col3\" class=\"col_heading level0 col3\" >+1 Lognormal Standard Deviation (units)</th>\n",
       "    </tr>\n",
       "  </thead>\n",
       "  <tbody>\n",
       "    <tr>\n",
       "      <th id=\"T_75a57_level0_row0\" class=\"row_heading level0 row0\" >Resonant Site Frequency, fn (Hz)</th>\n",
       "      <td id=\"T_75a57_row0_col0\" class=\"data row0 col0\" >1.255</td>\n",
       "      <td id=\"T_75a57_row0_col1\" class=\"data row0 col1\" >0.113</td>\n",
       "      <td id=\"T_75a57_row0_col2\" class=\"data row0 col2\" >1.122</td>\n",
       "      <td id=\"T_75a57_row0_col3\" class=\"data row0 col3\" >1.405</td>\n",
       "    </tr>\n",
       "    <tr>\n",
       "      <th id=\"T_75a57_level0_row1\" class=\"row_heading level0 row1\" >Resonant Site Period, Tn (s)</th>\n",
       "      <td id=\"T_75a57_row1_col0\" class=\"data row1 col0\" >0.796</td>\n",
       "      <td id=\"T_75a57_row1_col1\" class=\"data row1 col1\" >0.113</td>\n",
       "      <td id=\"T_75a57_row1_col2\" class=\"data row1 col2\" >0.891</td>\n",
       "      <td id=\"T_75a57_row1_col3\" class=\"data row1 col3\" >0.712</td>\n",
       "    </tr>\n",
       "    <tr>\n",
       "      <th id=\"T_75a57_level0_row2\" class=\"row_heading level0 row2\" >Resonance Amplitude, An</th>\n",
       "      <td id=\"T_75a57_row2_col0\" class=\"data row2 col0\" >30.339</td>\n",
       "      <td id=\"T_75a57_row2_col1\" class=\"data row2 col1\" >0.402</td>\n",
       "      <td id=\"T_75a57_row2_col2\" class=\"data row2 col2\" >20.288</td>\n",
       "      <td id=\"T_75a57_row2_col3\" class=\"data row2 col3\" >45.370</td>\n",
       "    </tr>\n",
       "  </tbody>\n",
       "</table>\n"
      ]
     },
     "metadata": {},
     "output_type": "display_data"
    },
    {
     "name": "stdout",
     "output_type": "stream",
     "text": [
      "\n",
      "▶ Processing: 453017681.0004.2025.03.23.07.22.38.000\n"
     ]
    },
    {
     "data": {
      "text/plain": [
       "<pandas.io.formats.style.Styler at 0x208781e7490>"
      ],
      "text/html": [
       "<style type=\"text/css\">\n",
       "#T_6e2a4 caption {\n",
       "  caption-side: bottom;\n",
       "  font-size: 1.25em;\n",
       "}\n",
       "</style>\n",
       "<table id=\"T_6e2a4\">\n",
       "  <caption>The peak of the mean curve is at 4.351 Hz with amplitude 6.704.</caption>\n",
       "  <thead>\n",
       "    <tr>\n",
       "      <th class=\"blank level0\" >&nbsp;</th>\n",
       "      <th id=\"T_6e2a4_level0_col0\" class=\"col_heading level0 col0\" >Exponentitated Lognormal Median (units)</th>\n",
       "      <th id=\"T_6e2a4_level0_col1\" class=\"col_heading level0 col1\" >Lognormal Standard Deviation (log units)</th>\n",
       "      <th id=\"T_6e2a4_level0_col2\" class=\"col_heading level0 col2\" >-1 Lognormal Standard Deviation (units)</th>\n",
       "      <th id=\"T_6e2a4_level0_col3\" class=\"col_heading level0 col3\" >+1 Lognormal Standard Deviation (units)</th>\n",
       "    </tr>\n",
       "  </thead>\n",
       "  <tbody>\n",
       "    <tr>\n",
       "      <th id=\"T_6e2a4_level0_row0\" class=\"row_heading level0 row0\" >Resonant Site Frequency, fn (Hz)</th>\n",
       "      <td id=\"T_6e2a4_row0_col0\" class=\"data row0 col0\" >2.698</td>\n",
       "      <td id=\"T_6e2a4_row0_col1\" class=\"data row0 col1\" >0.637</td>\n",
       "      <td id=\"T_6e2a4_row0_col2\" class=\"data row0 col2\" >1.428</td>\n",
       "      <td id=\"T_6e2a4_row0_col3\" class=\"data row0 col3\" >5.099</td>\n",
       "    </tr>\n",
       "    <tr>\n",
       "      <th id=\"T_6e2a4_level0_row1\" class=\"row_heading level0 row1\" >Resonant Site Period, Tn (s)</th>\n",
       "      <td id=\"T_6e2a4_row1_col0\" class=\"data row1 col0\" >0.371</td>\n",
       "      <td id=\"T_6e2a4_row1_col1\" class=\"data row1 col1\" >0.637</td>\n",
       "      <td id=\"T_6e2a4_row1_col2\" class=\"data row1 col2\" >0.700</td>\n",
       "      <td id=\"T_6e2a4_row1_col3\" class=\"data row1 col3\" >0.196</td>\n",
       "    </tr>\n",
       "    <tr>\n",
       "      <th id=\"T_6e2a4_level0_row2\" class=\"row_heading level0 row2\" >Resonance Amplitude, An</th>\n",
       "      <td id=\"T_6e2a4_row2_col0\" class=\"data row2 col0\" >9.432</td>\n",
       "      <td id=\"T_6e2a4_row2_col1\" class=\"data row2 col1\" >0.549</td>\n",
       "      <td id=\"T_6e2a4_row2_col2\" class=\"data row2 col2\" >5.449</td>\n",
       "      <td id=\"T_6e2a4_row2_col3\" class=\"data row2 col3\" >16.325</td>\n",
       "    </tr>\n",
       "  </tbody>\n",
       "</table>\n"
      ]
     },
     "metadata": {},
     "output_type": "display_data"
    },
    {
     "name": "stdout",
     "output_type": "stream",
     "text": [
      "\n",
      "▶ Processing: 453017681.0005.2025.03.23.08.27.02.000\n"
     ]
    },
    {
     "data": {
      "text/plain": [
       "<pandas.io.formats.style.Styler at 0x2089ae60110>"
      ],
      "text/html": [
       "<style type=\"text/css\">\n",
       "#T_a1a78 caption {\n",
       "  caption-side: bottom;\n",
       "  font-size: 1.25em;\n",
       "}\n",
       "</style>\n",
       "<table id=\"T_a1a78\">\n",
       "  <caption>The peak of the mean curve is at 4.232 Hz with amplitude 7.080.</caption>\n",
       "  <thead>\n",
       "    <tr>\n",
       "      <th class=\"blank level0\" >&nbsp;</th>\n",
       "      <th id=\"T_a1a78_level0_col0\" class=\"col_heading level0 col0\" >Exponentitated Lognormal Median (units)</th>\n",
       "      <th id=\"T_a1a78_level0_col1\" class=\"col_heading level0 col1\" >Lognormal Standard Deviation (log units)</th>\n",
       "      <th id=\"T_a1a78_level0_col2\" class=\"col_heading level0 col2\" >-1 Lognormal Standard Deviation (units)</th>\n",
       "      <th id=\"T_a1a78_level0_col3\" class=\"col_heading level0 col3\" >+1 Lognormal Standard Deviation (units)</th>\n",
       "    </tr>\n",
       "  </thead>\n",
       "  <tbody>\n",
       "    <tr>\n",
       "      <th id=\"T_a1a78_level0_row0\" class=\"row_heading level0 row0\" >Resonant Site Frequency, fn (Hz)</th>\n",
       "      <td id=\"T_a1a78_row0_col0\" class=\"data row0 col0\" >4.264</td>\n",
       "      <td id=\"T_a1a78_row0_col1\" class=\"data row0 col1\" >0.055</td>\n",
       "      <td id=\"T_a1a78_row0_col2\" class=\"data row0 col2\" >4.037</td>\n",
       "      <td id=\"T_a1a78_row0_col3\" class=\"data row0 col3\" >4.504</td>\n",
       "    </tr>\n",
       "    <tr>\n",
       "      <th id=\"T_a1a78_level0_row1\" class=\"row_heading level0 row1\" >Resonant Site Period, Tn (s)</th>\n",
       "      <td id=\"T_a1a78_row1_col0\" class=\"data row1 col0\" >0.234</td>\n",
       "      <td id=\"T_a1a78_row1_col1\" class=\"data row1 col1\" >0.055</td>\n",
       "      <td id=\"T_a1a78_row1_col2\" class=\"data row1 col2\" >0.248</td>\n",
       "      <td id=\"T_a1a78_row1_col3\" class=\"data row1 col3\" >0.222</td>\n",
       "    </tr>\n",
       "    <tr>\n",
       "      <th id=\"T_a1a78_level0_row2\" class=\"row_heading level0 row2\" >Resonance Amplitude, An</th>\n",
       "      <td id=\"T_a1a78_row2_col0\" class=\"data row2 col0\" >7.478</td>\n",
       "      <td id=\"T_a1a78_row2_col1\" class=\"data row2 col1\" >0.160</td>\n",
       "      <td id=\"T_a1a78_row2_col2\" class=\"data row2 col2\" >6.369</td>\n",
       "      <td id=\"T_a1a78_row2_col3\" class=\"data row2 col3\" >8.779</td>\n",
       "    </tr>\n",
       "  </tbody>\n",
       "</table>\n"
      ]
     },
     "metadata": {},
     "output_type": "display_data"
    },
    {
     "name": "stdout",
     "output_type": "stream",
     "text": [
      "\n",
      "▶ Processing: 453017681.0006.2025.03.23.09.31.10.000\n"
     ]
    },
    {
     "data": {
      "text/plain": [
       "<pandas.io.formats.style.Styler at 0x2089ad7bcd0>"
      ],
      "text/html": [
       "<style type=\"text/css\">\n",
       "#T_7b144 caption {\n",
       "  caption-side: bottom;\n",
       "  font-size: 1.25em;\n",
       "}\n",
       "</style>\n",
       "<table id=\"T_7b144\">\n",
       "  <caption>The peak of the mean curve is at 4.232 Hz with amplitude 7.290.</caption>\n",
       "  <thead>\n",
       "    <tr>\n",
       "      <th class=\"blank level0\" >&nbsp;</th>\n",
       "      <th id=\"T_7b144_level0_col0\" class=\"col_heading level0 col0\" >Exponentitated Lognormal Median (units)</th>\n",
       "      <th id=\"T_7b144_level0_col1\" class=\"col_heading level0 col1\" >Lognormal Standard Deviation (log units)</th>\n",
       "      <th id=\"T_7b144_level0_col2\" class=\"col_heading level0 col2\" >-1 Lognormal Standard Deviation (units)</th>\n",
       "      <th id=\"T_7b144_level0_col3\" class=\"col_heading level0 col3\" >+1 Lognormal Standard Deviation (units)</th>\n",
       "    </tr>\n",
       "  </thead>\n",
       "  <tbody>\n",
       "    <tr>\n",
       "      <th id=\"T_7b144_level0_row0\" class=\"row_heading level0 row0\" >Resonant Site Frequency, fn (Hz)</th>\n",
       "      <td id=\"T_7b144_row0_col0\" class=\"data row0 col0\" >4.216</td>\n",
       "      <td id=\"T_7b144_row0_col1\" class=\"data row0 col1\" >0.049</td>\n",
       "      <td id=\"T_7b144_row0_col2\" class=\"data row0 col2\" >4.016</td>\n",
       "      <td id=\"T_7b144_row0_col3\" class=\"data row0 col3\" >4.425</td>\n",
       "    </tr>\n",
       "    <tr>\n",
       "      <th id=\"T_7b144_level0_row1\" class=\"row_heading level0 row1\" >Resonant Site Period, Tn (s)</th>\n",
       "      <td id=\"T_7b144_row1_col0\" class=\"data row1 col0\" >0.237</td>\n",
       "      <td id=\"T_7b144_row1_col1\" class=\"data row1 col1\" >0.049</td>\n",
       "      <td id=\"T_7b144_row1_col2\" class=\"data row1 col2\" >0.249</td>\n",
       "      <td id=\"T_7b144_row1_col3\" class=\"data row1 col3\" >0.226</td>\n",
       "    </tr>\n",
       "    <tr>\n",
       "      <th id=\"T_7b144_level0_row2\" class=\"row_heading level0 row2\" >Resonance Amplitude, An</th>\n",
       "      <td id=\"T_7b144_row2_col0\" class=\"data row2 col0\" >7.679</td>\n",
       "      <td id=\"T_7b144_row2_col1\" class=\"data row2 col1\" >0.148</td>\n",
       "      <td id=\"T_7b144_row2_col2\" class=\"data row2 col2\" >6.622</td>\n",
       "      <td id=\"T_7b144_row2_col3\" class=\"data row2 col3\" >8.905</td>\n",
       "    </tr>\n",
       "  </tbody>\n",
       "</table>\n"
      ]
     },
     "metadata": {},
     "output_type": "display_data"
    },
    {
     "name": "stdout",
     "output_type": "stream",
     "text": [
      "\n",
      "▶ Processing: 453017681.0007.2025.03.25.06.33.58.000\n"
     ]
    },
    {
     "data": {
      "text/plain": [
       "<pandas.io.formats.style.Styler at 0x2089ae6c590>"
      ],
      "text/html": [
       "<style type=\"text/css\">\n",
       "#T_266ca caption {\n",
       "  caption-side: bottom;\n",
       "  font-size: 1.25em;\n",
       "}\n",
       "</style>\n",
       "<table id=\"T_266ca\">\n",
       "  <caption>The peak of the mean curve is at 4.003 Hz with amplitude 13.964.</caption>\n",
       "  <thead>\n",
       "    <tr>\n",
       "      <th class=\"blank level0\" >&nbsp;</th>\n",
       "      <th id=\"T_266ca_level0_col0\" class=\"col_heading level0 col0\" >Exponentitated Lognormal Median (units)</th>\n",
       "      <th id=\"T_266ca_level0_col1\" class=\"col_heading level0 col1\" >Lognormal Standard Deviation (log units)</th>\n",
       "      <th id=\"T_266ca_level0_col2\" class=\"col_heading level0 col2\" >-1 Lognormal Standard Deviation (units)</th>\n",
       "      <th id=\"T_266ca_level0_col3\" class=\"col_heading level0 col3\" >+1 Lognormal Standard Deviation (units)</th>\n",
       "    </tr>\n",
       "  </thead>\n",
       "  <tbody>\n",
       "    <tr>\n",
       "      <th id=\"T_266ca_level0_row0\" class=\"row_heading level0 row0\" >Resonant Site Frequency, fn (Hz)</th>\n",
       "      <td id=\"T_266ca_row0_col0\" class=\"data row0 col0\" >2.390</td>\n",
       "      <td id=\"T_266ca_row0_col1\" class=\"data row0 col1\" >0.584</td>\n",
       "      <td id=\"T_266ca_row0_col2\" class=\"data row0 col2\" >1.333</td>\n",
       "      <td id=\"T_266ca_row0_col3\" class=\"data row0 col3\" >4.284</td>\n",
       "    </tr>\n",
       "    <tr>\n",
       "      <th id=\"T_266ca_level0_row1\" class=\"row_heading level0 row1\" >Resonant Site Period, Tn (s)</th>\n",
       "      <td id=\"T_266ca_row1_col0\" class=\"data row1 col0\" >0.418</td>\n",
       "      <td id=\"T_266ca_row1_col1\" class=\"data row1 col1\" >0.584</td>\n",
       "      <td id=\"T_266ca_row1_col2\" class=\"data row1 col2\" >0.750</td>\n",
       "      <td id=\"T_266ca_row1_col3\" class=\"data row1 col3\" >0.233</td>\n",
       "    </tr>\n",
       "    <tr>\n",
       "      <th id=\"T_266ca_level0_row2\" class=\"row_heading level0 row2\" >Resonance Amplitude, An</th>\n",
       "      <td id=\"T_266ca_row2_col0\" class=\"data row2 col0\" >18.824</td>\n",
       "      <td id=\"T_266ca_row2_col1\" class=\"data row2 col1\" >0.515</td>\n",
       "      <td id=\"T_266ca_row2_col2\" class=\"data row2 col2\" >11.245</td>\n",
       "      <td id=\"T_266ca_row2_col3\" class=\"data row2 col3\" >31.511</td>\n",
       "    </tr>\n",
       "  </tbody>\n",
       "</table>\n"
      ]
     },
     "metadata": {},
     "output_type": "display_data"
    },
    {
     "name": "stdout",
     "output_type": "stream",
     "text": [
      "\n",
      "▶ Processing: 453017681.0008.2025.03.25.07.38.06.000\n"
     ]
    },
    {
     "data": {
      "text/plain": [
       "<pandas.io.formats.style.Styler at 0x2087360f490>"
      ],
      "text/html": [
       "<style type=\"text/css\">\n",
       "#T_759c1 caption {\n",
       "  caption-side: bottom;\n",
       "  font-size: 1.25em;\n",
       "}\n",
       "</style>\n",
       "<table id=\"T_759c1\">\n",
       "  <caption>The peak of the mean curve is at 4.003 Hz with amplitude 12.476.</caption>\n",
       "  <thead>\n",
       "    <tr>\n",
       "      <th class=\"blank level0\" >&nbsp;</th>\n",
       "      <th id=\"T_759c1_level0_col0\" class=\"col_heading level0 col0\" >Exponentitated Lognormal Median (units)</th>\n",
       "      <th id=\"T_759c1_level0_col1\" class=\"col_heading level0 col1\" >Lognormal Standard Deviation (log units)</th>\n",
       "      <th id=\"T_759c1_level0_col2\" class=\"col_heading level0 col2\" >-1 Lognormal Standard Deviation (units)</th>\n",
       "      <th id=\"T_759c1_level0_col3\" class=\"col_heading level0 col3\" >+1 Lognormal Standard Deviation (units)</th>\n",
       "    </tr>\n",
       "  </thead>\n",
       "  <tbody>\n",
       "    <tr>\n",
       "      <th id=\"T_759c1_level0_row0\" class=\"row_heading level0 row0\" >Resonant Site Frequency, fn (Hz)</th>\n",
       "      <td id=\"T_759c1_row0_col0\" class=\"data row0 col0\" >2.378</td>\n",
       "      <td id=\"T_759c1_row0_col1\" class=\"data row0 col1\" >0.592</td>\n",
       "      <td id=\"T_759c1_row0_col2\" class=\"data row0 col2\" >1.316</td>\n",
       "      <td id=\"T_759c1_row0_col3\" class=\"data row0 col3\" >4.300</td>\n",
       "    </tr>\n",
       "    <tr>\n",
       "      <th id=\"T_759c1_level0_row1\" class=\"row_heading level0 row1\" >Resonant Site Period, Tn (s)</th>\n",
       "      <td id=\"T_759c1_row1_col0\" class=\"data row1 col0\" >0.420</td>\n",
       "      <td id=\"T_759c1_row1_col1\" class=\"data row1 col1\" >0.592</td>\n",
       "      <td id=\"T_759c1_row1_col2\" class=\"data row1 col2\" >0.760</td>\n",
       "      <td id=\"T_759c1_row1_col3\" class=\"data row1 col3\" >0.233</td>\n",
       "    </tr>\n",
       "    <tr>\n",
       "      <th id=\"T_759c1_level0_row2\" class=\"row_heading level0 row2\" >Resonance Amplitude, An</th>\n",
       "      <td id=\"T_759c1_row2_col0\" class=\"data row2 col0\" >17.684</td>\n",
       "      <td id=\"T_759c1_row2_col1\" class=\"data row2 col1\" >0.552</td>\n",
       "      <td id=\"T_759c1_row2_col2\" class=\"data row2 col2\" >10.186</td>\n",
       "      <td id=\"T_759c1_row2_col3\" class=\"data row2 col3\" >30.699</td>\n",
       "    </tr>\n",
       "  </tbody>\n",
       "</table>\n"
      ]
     },
     "metadata": {},
     "output_type": "display_data"
    },
    {
     "name": "stdout",
     "output_type": "stream",
     "text": [
      "\n",
      "▶ Processing: 453017681.0009.2025.04.01.04.48.22.000\n"
     ]
    },
    {
     "data": {
      "text/plain": [
       "<pandas.io.formats.style.Styler at 0x20873587ad0>"
      ],
      "text/html": [
       "<style type=\"text/css\">\n",
       "#T_71d70 caption {\n",
       "  caption-side: bottom;\n",
       "  font-size: 1.25em;\n",
       "}\n",
       "</style>\n",
       "<table id=\"T_71d70\">\n",
       "  <caption>The peak of the mean curve is at 1.181 Hz with amplitude 19.197.</caption>\n",
       "  <thead>\n",
       "    <tr>\n",
       "      <th class=\"blank level0\" >&nbsp;</th>\n",
       "      <th id=\"T_71d70_level0_col0\" class=\"col_heading level0 col0\" >Exponentitated Lognormal Median (units)</th>\n",
       "      <th id=\"T_71d70_level0_col1\" class=\"col_heading level0 col1\" >Lognormal Standard Deviation (log units)</th>\n",
       "      <th id=\"T_71d70_level0_col2\" class=\"col_heading level0 col2\" >-1 Lognormal Standard Deviation (units)</th>\n",
       "      <th id=\"T_71d70_level0_col3\" class=\"col_heading level0 col3\" >+1 Lognormal Standard Deviation (units)</th>\n",
       "    </tr>\n",
       "  </thead>\n",
       "  <tbody>\n",
       "    <tr>\n",
       "      <th id=\"T_71d70_level0_row0\" class=\"row_heading level0 row0\" >Resonant Site Frequency, fn (Hz)</th>\n",
       "      <td id=\"T_71d70_row0_col0\" class=\"data row0 col0\" >1.249</td>\n",
       "      <td id=\"T_71d70_row0_col1\" class=\"data row0 col1\" >0.114</td>\n",
       "      <td id=\"T_71d70_row0_col2\" class=\"data row0 col2\" >1.114</td>\n",
       "      <td id=\"T_71d70_row0_col3\" class=\"data row0 col3\" >1.399</td>\n",
       "    </tr>\n",
       "    <tr>\n",
       "      <th id=\"T_71d70_level0_row1\" class=\"row_heading level0 row1\" >Resonant Site Period, Tn (s)</th>\n",
       "      <td id=\"T_71d70_row1_col0\" class=\"data row1 col0\" >0.801</td>\n",
       "      <td id=\"T_71d70_row1_col1\" class=\"data row1 col1\" >0.114</td>\n",
       "      <td id=\"T_71d70_row1_col2\" class=\"data row1 col2\" >0.897</td>\n",
       "      <td id=\"T_71d70_row1_col3\" class=\"data row1 col3\" >0.715</td>\n",
       "    </tr>\n",
       "    <tr>\n",
       "      <th id=\"T_71d70_level0_row2\" class=\"row_heading level0 row2\" >Resonance Amplitude, An</th>\n",
       "      <td id=\"T_71d70_row2_col0\" class=\"data row2 col0\" >24.171</td>\n",
       "      <td id=\"T_71d70_row2_col1\" class=\"data row2 col1\" >0.574</td>\n",
       "      <td id=\"T_71d70_row2_col2\" class=\"data row2 col2\" >13.612</td>\n",
       "      <td id=\"T_71d70_row2_col3\" class=\"data row2 col3\" >42.921</td>\n",
       "    </tr>\n",
       "  </tbody>\n",
       "</table>\n"
      ]
     },
     "metadata": {},
     "output_type": "display_data"
    },
    {
     "name": "stdout",
     "output_type": "stream",
     "text": [
      "\n",
      "▶ Processing: 453017681.0010.2025.04.01.05.56.30.000\n"
     ]
    },
    {
     "data": {
      "text/plain": [
       "<pandas.io.formats.style.Styler at 0x20873558c50>"
      ],
      "text/html": [
       "<style type=\"text/css\">\n",
       "#T_82d43 caption {\n",
       "  caption-side: bottom;\n",
       "  font-size: 1.25em;\n",
       "}\n",
       "</style>\n",
       "<table id=\"T_82d43\">\n",
       "  <caption>The peak of the mean curve is at 1.248 Hz with amplitude 20.612.</caption>\n",
       "  <thead>\n",
       "    <tr>\n",
       "      <th class=\"blank level0\" >&nbsp;</th>\n",
       "      <th id=\"T_82d43_level0_col0\" class=\"col_heading level0 col0\" >Exponentitated Lognormal Median (units)</th>\n",
       "      <th id=\"T_82d43_level0_col1\" class=\"col_heading level0 col1\" >Lognormal Standard Deviation (log units)</th>\n",
       "      <th id=\"T_82d43_level0_col2\" class=\"col_heading level0 col2\" >-1 Lognormal Standard Deviation (units)</th>\n",
       "      <th id=\"T_82d43_level0_col3\" class=\"col_heading level0 col3\" >+1 Lognormal Standard Deviation (units)</th>\n",
       "    </tr>\n",
       "  </thead>\n",
       "  <tbody>\n",
       "    <tr>\n",
       "      <th id=\"T_82d43_level0_row0\" class=\"row_heading level0 row0\" >Resonant Site Frequency, fn (Hz)</th>\n",
       "      <td id=\"T_82d43_row0_col0\" class=\"data row0 col0\" >1.273</td>\n",
       "      <td id=\"T_82d43_row0_col1\" class=\"data row0 col1\" >0.120</td>\n",
       "      <td id=\"T_82d43_row0_col2\" class=\"data row0 col2\" >1.129</td>\n",
       "      <td id=\"T_82d43_row0_col3\" class=\"data row0 col3\" >1.435</td>\n",
       "    </tr>\n",
       "    <tr>\n",
       "      <th id=\"T_82d43_level0_row1\" class=\"row_heading level0 row1\" >Resonant Site Period, Tn (s)</th>\n",
       "      <td id=\"T_82d43_row1_col0\" class=\"data row1 col0\" >0.786</td>\n",
       "      <td id=\"T_82d43_row1_col1\" class=\"data row1 col1\" >0.120</td>\n",
       "      <td id=\"T_82d43_row1_col2\" class=\"data row1 col2\" >0.886</td>\n",
       "      <td id=\"T_82d43_row1_col3\" class=\"data row1 col3\" >0.697</td>\n",
       "    </tr>\n",
       "    <tr>\n",
       "      <th id=\"T_82d43_level0_row2\" class=\"row_heading level0 row2\" >Resonance Amplitude, An</th>\n",
       "      <td id=\"T_82d43_row2_col0\" class=\"data row2 col0\" >26.946</td>\n",
       "      <td id=\"T_82d43_row2_col1\" class=\"data row2 col1\" >0.594</td>\n",
       "      <td id=\"T_82d43_row2_col2\" class=\"data row2 col2\" >14.877</td>\n",
       "      <td id=\"T_82d43_row2_col3\" class=\"data row2 col3\" >48.805</td>\n",
       "    </tr>\n",
       "  </tbody>\n",
       "</table>\n"
      ]
     },
     "metadata": {},
     "output_type": "display_data"
    },
    {
     "name": "stdout",
     "output_type": "stream",
     "text": [
      "\n",
      "▶ Processing: 453017681.0011.2025.04.06.04.06.30.000\n"
     ]
    },
    {
     "data": {
      "text/plain": [
       "<pandas.io.formats.style.Styler at 0x208788af490>"
      ],
      "text/html": [
       "<style type=\"text/css\">\n",
       "#T_93cee caption {\n",
       "  caption-side: bottom;\n",
       "  font-size: 1.25em;\n",
       "}\n",
       "</style>\n",
       "<table id=\"T_93cee\">\n",
       "  <caption>The peak of the mean curve is at 1.087 Hz with amplitude 4.778.</caption>\n",
       "  <thead>\n",
       "    <tr>\n",
       "      <th class=\"blank level0\" >&nbsp;</th>\n",
       "      <th id=\"T_93cee_level0_col0\" class=\"col_heading level0 col0\" >Exponentitated Lognormal Median (units)</th>\n",
       "      <th id=\"T_93cee_level0_col1\" class=\"col_heading level0 col1\" >Lognormal Standard Deviation (log units)</th>\n",
       "      <th id=\"T_93cee_level0_col2\" class=\"col_heading level0 col2\" >-1 Lognormal Standard Deviation (units)</th>\n",
       "      <th id=\"T_93cee_level0_col3\" class=\"col_heading level0 col3\" >+1 Lognormal Standard Deviation (units)</th>\n",
       "    </tr>\n",
       "  </thead>\n",
       "  <tbody>\n",
       "    <tr>\n",
       "      <th id=\"T_93cee_level0_row0\" class=\"row_heading level0 row0\" >Resonant Site Frequency, fn (Hz)</th>\n",
       "      <td id=\"T_93cee_row0_col0\" class=\"data row0 col0\" >1.148</td>\n",
       "      <td id=\"T_93cee_row0_col1\" class=\"data row0 col1\" >0.073</td>\n",
       "      <td id=\"T_93cee_row0_col2\" class=\"data row0 col2\" >1.067</td>\n",
       "      <td id=\"T_93cee_row0_col3\" class=\"data row0 col3\" >1.234</td>\n",
       "    </tr>\n",
       "    <tr>\n",
       "      <th id=\"T_93cee_level0_row1\" class=\"row_heading level0 row1\" >Resonant Site Period, Tn (s)</th>\n",
       "      <td id=\"T_93cee_row1_col0\" class=\"data row1 col0\" >0.871</td>\n",
       "      <td id=\"T_93cee_row1_col1\" class=\"data row1 col1\" >0.073</td>\n",
       "      <td id=\"T_93cee_row1_col2\" class=\"data row1 col2\" >0.937</td>\n",
       "      <td id=\"T_93cee_row1_col3\" class=\"data row1 col3\" >0.810</td>\n",
       "    </tr>\n",
       "    <tr>\n",
       "      <th id=\"T_93cee_level0_row2\" class=\"row_heading level0 row2\" >Resonance Amplitude, An</th>\n",
       "      <td id=\"T_93cee_row2_col0\" class=\"data row2 col0\" >5.778</td>\n",
       "      <td id=\"T_93cee_row2_col1\" class=\"data row2 col1\" >0.571</td>\n",
       "      <td id=\"T_93cee_row2_col2\" class=\"data row2 col2\" >3.266</td>\n",
       "      <td id=\"T_93cee_row2_col3\" class=\"data row2 col3\" >10.224</td>\n",
       "    </tr>\n",
       "  </tbody>\n",
       "</table>\n"
      ]
     },
     "metadata": {},
     "output_type": "display_data"
    },
    {
     "name": "stdout",
     "output_type": "stream",
     "text": [
      "\n",
      "▶ Processing: 453017681.0012.2025.04.06.05.21.50.000\n"
     ]
    },
    {
     "data": {
      "text/plain": [
       "<pandas.io.formats.style.Styler at 0x2087893c5d0>"
      ],
      "text/html": [
       "<style type=\"text/css\">\n",
       "#T_dbb1c caption {\n",
       "  caption-side: bottom;\n",
       "  font-size: 1.25em;\n",
       "}\n",
       "</style>\n",
       "<table id=\"T_dbb1c\">\n",
       "  <caption>The peak of the mean curve is at 1.087 Hz with amplitude 5.714.</caption>\n",
       "  <thead>\n",
       "    <tr>\n",
       "      <th class=\"blank level0\" >&nbsp;</th>\n",
       "      <th id=\"T_dbb1c_level0_col0\" class=\"col_heading level0 col0\" >Exponentitated Lognormal Median (units)</th>\n",
       "      <th id=\"T_dbb1c_level0_col1\" class=\"col_heading level0 col1\" >Lognormal Standard Deviation (log units)</th>\n",
       "      <th id=\"T_dbb1c_level0_col2\" class=\"col_heading level0 col2\" >-1 Lognormal Standard Deviation (units)</th>\n",
       "      <th id=\"T_dbb1c_level0_col3\" class=\"col_heading level0 col3\" >+1 Lognormal Standard Deviation (units)</th>\n",
       "    </tr>\n",
       "  </thead>\n",
       "  <tbody>\n",
       "    <tr>\n",
       "      <th id=\"T_dbb1c_level0_row0\" class=\"row_heading level0 row0\" >Resonant Site Frequency, fn (Hz)</th>\n",
       "      <td id=\"T_dbb1c_row0_col0\" class=\"data row0 col0\" >1.160</td>\n",
       "      <td id=\"T_dbb1c_row0_col1\" class=\"data row0 col1\" >0.094</td>\n",
       "      <td id=\"T_dbb1c_row0_col2\" class=\"data row0 col2\" >1.056</td>\n",
       "      <td id=\"T_dbb1c_row0_col3\" class=\"data row0 col3\" >1.275</td>\n",
       "    </tr>\n",
       "    <tr>\n",
       "      <th id=\"T_dbb1c_level0_row1\" class=\"row_heading level0 row1\" >Resonant Site Period, Tn (s)</th>\n",
       "      <td id=\"T_dbb1c_row1_col0\" class=\"data row1 col0\" >0.862</td>\n",
       "      <td id=\"T_dbb1c_row1_col1\" class=\"data row1 col1\" >0.094</td>\n",
       "      <td id=\"T_dbb1c_row1_col2\" class=\"data row1 col2\" >0.947</td>\n",
       "      <td id=\"T_dbb1c_row1_col3\" class=\"data row1 col3\" >0.785</td>\n",
       "    </tr>\n",
       "    <tr>\n",
       "      <th id=\"T_dbb1c_level0_row2\" class=\"row_heading level0 row2\" >Resonance Amplitude, An</th>\n",
       "      <td id=\"T_dbb1c_row2_col0\" class=\"data row2 col0\" >6.888</td>\n",
       "      <td id=\"T_dbb1c_row2_col1\" class=\"data row2 col1\" >0.611</td>\n",
       "      <td id=\"T_dbb1c_row2_col2\" class=\"data row2 col2\" >3.740</td>\n",
       "      <td id=\"T_dbb1c_row2_col3\" class=\"data row2 col3\" >12.689</td>\n",
       "    </tr>\n",
       "  </tbody>\n",
       "</table>\n"
      ]
     },
     "metadata": {},
     "output_type": "display_data"
    },
    {
     "data": {
      "text/plain": [
       "<pandas.io.formats.style.Styler at 0x2088309f850>"
      ],
      "text/html": [
       "<style type=\"text/css\">\n",
       "#T_c655c caption {\n",
       "  caption-side: bottom;\n",
       "  font-size: 1.25em;\n",
       "}\n",
       "</style>\n",
       "<table id=\"T_c655c\">\n",
       "  <caption>The peak of the mean curve is at 1.028 Hz with amplitude 6.343.</caption>\n",
       "  <thead>\n",
       "    <tr>\n",
       "      <th class=\"blank level0\" >&nbsp;</th>\n",
       "      <th id=\"T_c655c_level0_col0\" class=\"col_heading level0 col0\" >Exponentitated Lognormal Median (units)</th>\n",
       "      <th id=\"T_c655c_level0_col1\" class=\"col_heading level0 col1\" >Lognormal Standard Deviation (log units)</th>\n",
       "      <th id=\"T_c655c_level0_col2\" class=\"col_heading level0 col2\" >-1 Lognormal Standard Deviation (units)</th>\n",
       "      <th id=\"T_c655c_level0_col3\" class=\"col_heading level0 col3\" >+1 Lognormal Standard Deviation (units)</th>\n",
       "    </tr>\n",
       "  </thead>\n",
       "  <tbody>\n",
       "    <tr>\n",
       "      <th id=\"T_c655c_level0_row0\" class=\"row_heading level0 row0\" >Resonant Site Frequency, fn (Hz)</th>\n",
       "      <td id=\"T_c655c_row0_col0\" class=\"data row0 col0\" >1.193</td>\n",
       "      <td id=\"T_c655c_row0_col1\" class=\"data row0 col1\" >0.113</td>\n",
       "      <td id=\"T_c655c_row0_col2\" class=\"data row0 col2\" >1.066</td>\n",
       "      <td id=\"T_c655c_row0_col3\" class=\"data row0 col3\" >1.336</td>\n",
       "    </tr>\n",
       "    <tr>\n",
       "      <th id=\"T_c655c_level0_row1\" class=\"row_heading level0 row1\" >Resonant Site Period, Tn (s)</th>\n",
       "      <td id=\"T_c655c_row1_col0\" class=\"data row1 col0\" >0.838</td>\n",
       "      <td id=\"T_c655c_row1_col1\" class=\"data row1 col1\" >0.113</td>\n",
       "      <td id=\"T_c655c_row1_col2\" class=\"data row1 col2\" >0.938</td>\n",
       "      <td id=\"T_c655c_row1_col3\" class=\"data row1 col3\" >0.748</td>\n",
       "    </tr>\n",
       "    <tr>\n",
       "      <th id=\"T_c655c_level0_row2\" class=\"row_heading level0 row2\" >Resonance Amplitude, An</th>\n",
       "      <td id=\"T_c655c_row2_col0\" class=\"data row2 col0\" >6.881</td>\n",
       "      <td id=\"T_c655c_row2_col1\" class=\"data row2 col1\" >0.710</td>\n",
       "      <td id=\"T_c655c_row2_col2\" class=\"data row2 col2\" >3.384</td>\n",
       "      <td id=\"T_c655c_row2_col3\" class=\"data row2 col3\" >13.993</td>\n",
       "    </tr>\n",
       "  </tbody>\n",
       "</table>\n"
      ]
     },
     "metadata": {},
     "output_type": "display_data"
    },
    {
     "name": "stdout",
     "output_type": "stream",
     "text": [
      "\n",
      "▶ Processing: 453017681.0013.2025.04.08.23.14.30.000\n"
     ]
    },
    {
     "data": {
      "text/plain": [
       "<pandas.io.formats.style.Styler at 0x208788d3890>"
      ],
      "text/html": [
       "<style type=\"text/css\">\n",
       "#T_2ae3f caption {\n",
       "  caption-side: bottom;\n",
       "  font-size: 1.25em;\n",
       "}\n",
       "</style>\n",
       "<table id=\"T_2ae3f\">\n",
       "  <caption>The peak of the mean curve is at 1.087 Hz with amplitude 6.124.</caption>\n",
       "  <thead>\n",
       "    <tr>\n",
       "      <th class=\"blank level0\" >&nbsp;</th>\n",
       "      <th id=\"T_2ae3f_level0_col0\" class=\"col_heading level0 col0\" >Exponentitated Lognormal Median (units)</th>\n",
       "      <th id=\"T_2ae3f_level0_col1\" class=\"col_heading level0 col1\" >Lognormal Standard Deviation (log units)</th>\n",
       "      <th id=\"T_2ae3f_level0_col2\" class=\"col_heading level0 col2\" >-1 Lognormal Standard Deviation (units)</th>\n",
       "      <th id=\"T_2ae3f_level0_col3\" class=\"col_heading level0 col3\" >+1 Lognormal Standard Deviation (units)</th>\n",
       "    </tr>\n",
       "  </thead>\n",
       "  <tbody>\n",
       "    <tr>\n",
       "      <th id=\"T_2ae3f_level0_row0\" class=\"row_heading level0 row0\" >Resonant Site Frequency, fn (Hz)</th>\n",
       "      <td id=\"T_2ae3f_row0_col0\" class=\"data row0 col0\" >1.144</td>\n",
       "      <td id=\"T_2ae3f_row0_col1\" class=\"data row0 col1\" >0.087</td>\n",
       "      <td id=\"T_2ae3f_row0_col2\" class=\"data row0 col2\" >1.048</td>\n",
       "      <td id=\"T_2ae3f_row0_col3\" class=\"data row0 col3\" >1.248</td>\n",
       "    </tr>\n",
       "    <tr>\n",
       "      <th id=\"T_2ae3f_level0_row1\" class=\"row_heading level0 row1\" >Resonant Site Period, Tn (s)</th>\n",
       "      <td id=\"T_2ae3f_row1_col0\" class=\"data row1 col0\" >0.874</td>\n",
       "      <td id=\"T_2ae3f_row1_col1\" class=\"data row1 col1\" >0.087</td>\n",
       "      <td id=\"T_2ae3f_row1_col2\" class=\"data row1 col2\" >0.954</td>\n",
       "      <td id=\"T_2ae3f_row1_col3\" class=\"data row1 col3\" >0.801</td>\n",
       "    </tr>\n",
       "    <tr>\n",
       "      <th id=\"T_2ae3f_level0_row2\" class=\"row_heading level0 row2\" >Resonance Amplitude, An</th>\n",
       "      <td id=\"T_2ae3f_row2_col0\" class=\"data row2 col0\" >7.313</td>\n",
       "      <td id=\"T_2ae3f_row2_col1\" class=\"data row2 col1\" >0.852</td>\n",
       "      <td id=\"T_2ae3f_row2_col2\" class=\"data row2 col2\" >3.121</td>\n",
       "      <td id=\"T_2ae3f_row2_col3\" class=\"data row2 col3\" >17.137</td>\n",
       "    </tr>\n",
       "  </tbody>\n",
       "</table>\n"
      ]
     },
     "metadata": {},
     "output_type": "display_data"
    },
    {
     "name": "stdout",
     "output_type": "stream",
     "text": [
      "\n",
      "▶ Processing: 453017681.0014.2025.04.09.00.00.00.000\n",
      "\n",
      "▶ Processing: 453017681.0015.2025.04.09.00.19.14.000\n"
     ]
    },
    {
     "data": {
      "text/plain": [
       "<pandas.io.formats.style.Styler at 0x2088753f310>"
      ],
      "text/html": [
       "<style type=\"text/css\">\n",
       "#T_0afec caption {\n",
       "  caption-side: bottom;\n",
       "  font-size: 1.25em;\n",
       "}\n",
       "</style>\n",
       "<table id=\"T_0afec\">\n",
       "  <caption>The peak of the mean curve is at 1.087 Hz with amplitude 10.449.</caption>\n",
       "  <thead>\n",
       "    <tr>\n",
       "      <th class=\"blank level0\" >&nbsp;</th>\n",
       "      <th id=\"T_0afec_level0_col0\" class=\"col_heading level0 col0\" >Exponentitated Lognormal Median (units)</th>\n",
       "      <th id=\"T_0afec_level0_col1\" class=\"col_heading level0 col1\" >Lognormal Standard Deviation (log units)</th>\n",
       "      <th id=\"T_0afec_level0_col2\" class=\"col_heading level0 col2\" >-1 Lognormal Standard Deviation (units)</th>\n",
       "      <th id=\"T_0afec_level0_col3\" class=\"col_heading level0 col3\" >+1 Lognormal Standard Deviation (units)</th>\n",
       "    </tr>\n",
       "  </thead>\n",
       "  <tbody>\n",
       "    <tr>\n",
       "      <th id=\"T_0afec_level0_row0\" class=\"row_heading level0 row0\" >Resonant Site Frequency, fn (Hz)</th>\n",
       "      <td id=\"T_0afec_row0_col0\" class=\"data row0 col0\" >1.144</td>\n",
       "      <td id=\"T_0afec_row0_col1\" class=\"data row0 col1\" >0.072</td>\n",
       "      <td id=\"T_0afec_row0_col2\" class=\"data row0 col2\" >1.065</td>\n",
       "      <td id=\"T_0afec_row0_col3\" class=\"data row0 col3\" >1.229</td>\n",
       "    </tr>\n",
       "    <tr>\n",
       "      <th id=\"T_0afec_level0_row1\" class=\"row_heading level0 row1\" >Resonant Site Period, Tn (s)</th>\n",
       "      <td id=\"T_0afec_row1_col0\" class=\"data row1 col0\" >0.874</td>\n",
       "      <td id=\"T_0afec_row1_col1\" class=\"data row1 col1\" >0.072</td>\n",
       "      <td id=\"T_0afec_row1_col2\" class=\"data row1 col2\" >0.939</td>\n",
       "      <td id=\"T_0afec_row1_col3\" class=\"data row1 col3\" >0.813</td>\n",
       "    </tr>\n",
       "    <tr>\n",
       "      <th id=\"T_0afec_level0_row2\" class=\"row_heading level0 row2\" >Resonance Amplitude, An</th>\n",
       "      <td id=\"T_0afec_row2_col0\" class=\"data row2 col0\" >12.252</td>\n",
       "      <td id=\"T_0afec_row2_col1\" class=\"data row2 col1\" >0.734</td>\n",
       "      <td id=\"T_0afec_row2_col2\" class=\"data row2 col2\" >5.882</td>\n",
       "      <td id=\"T_0afec_row2_col3\" class=\"data row2 col3\" >25.520</td>\n",
       "    </tr>\n",
       "  </tbody>\n",
       "</table>\n"
      ]
     },
     "metadata": {},
     "output_type": "display_data"
    },
    {
     "name": "stdout",
     "output_type": "stream",
     "text": [
      "\n",
      "▶ Processing: 453017954.0001.2025.03.23.03.29.58.000\n"
     ]
    },
    {
     "data": {
      "text/plain": [
       "<pandas.io.formats.style.Styler at 0x20883d9f490>"
      ],
      "text/html": [
       "<style type=\"text/css\">\n",
       "#T_dfbdb caption {\n",
       "  caption-side: bottom;\n",
       "  font-size: 1.25em;\n",
       "}\n",
       "</style>\n",
       "<table id=\"T_dfbdb\">\n",
       "  <caption>The peak of the mean curve is at 4.473 Hz with amplitude 8.641.</caption>\n",
       "  <thead>\n",
       "    <tr>\n",
       "      <th class=\"blank level0\" >&nbsp;</th>\n",
       "      <th id=\"T_dfbdb_level0_col0\" class=\"col_heading level0 col0\" >Exponentitated Lognormal Median (units)</th>\n",
       "      <th id=\"T_dfbdb_level0_col1\" class=\"col_heading level0 col1\" >Lognormal Standard Deviation (log units)</th>\n",
       "      <th id=\"T_dfbdb_level0_col2\" class=\"col_heading level0 col2\" >-1 Lognormal Standard Deviation (units)</th>\n",
       "      <th id=\"T_dfbdb_level0_col3\" class=\"col_heading level0 col3\" >+1 Lognormal Standard Deviation (units)</th>\n",
       "    </tr>\n",
       "  </thead>\n",
       "  <tbody>\n",
       "    <tr>\n",
       "      <th id=\"T_dfbdb_level0_row0\" class=\"row_heading level0 row0\" >Resonant Site Frequency, fn (Hz)</th>\n",
       "      <td id=\"T_dfbdb_row0_col0\" class=\"data row0 col0\" >2.982</td>\n",
       "      <td id=\"T_dfbdb_row0_col1\" class=\"data row0 col1\" >0.549</td>\n",
       "      <td id=\"T_dfbdb_row0_col2\" class=\"data row0 col2\" >1.721</td>\n",
       "      <td id=\"T_dfbdb_row0_col3\" class=\"data row0 col3\" >5.165</td>\n",
       "    </tr>\n",
       "    <tr>\n",
       "      <th id=\"T_dfbdb_level0_row1\" class=\"row_heading level0 row1\" >Resonant Site Period, Tn (s)</th>\n",
       "      <td id=\"T_dfbdb_row1_col0\" class=\"data row1 col0\" >0.335</td>\n",
       "      <td id=\"T_dfbdb_row1_col1\" class=\"data row1 col1\" >0.549</td>\n",
       "      <td id=\"T_dfbdb_row1_col2\" class=\"data row1 col2\" >0.581</td>\n",
       "      <td id=\"T_dfbdb_row1_col3\" class=\"data row1 col3\" >0.194</td>\n",
       "    </tr>\n",
       "    <tr>\n",
       "      <th id=\"T_dfbdb_level0_row2\" class=\"row_heading level0 row2\" >Resonance Amplitude, An</th>\n",
       "      <td id=\"T_dfbdb_row2_col0\" class=\"data row2 col0\" >10.579</td>\n",
       "      <td id=\"T_dfbdb_row2_col1\" class=\"data row2 col1\" >0.317</td>\n",
       "      <td id=\"T_dfbdb_row2_col2\" class=\"data row2 col2\" >7.706</td>\n",
       "      <td id=\"T_dfbdb_row2_col3\" class=\"data row2 col3\" >14.522</td>\n",
       "    </tr>\n",
       "  </tbody>\n",
       "</table>\n"
      ]
     },
     "metadata": {},
     "output_type": "display_data"
    },
    {
     "name": "stdout",
     "output_type": "stream",
     "text": [
      "\n",
      "▶ Processing: 453017954.0002.2025.03.23.04.38.10.000\n"
     ]
    },
    {
     "data": {
      "text/plain": [
       "<pandas.io.formats.style.Styler at 0x20883e7cad0>"
      ],
      "text/html": [
       "<style type=\"text/css\">\n",
       "#T_a3ff7 caption {\n",
       "  caption-side: bottom;\n",
       "  font-size: 1.25em;\n",
       "}\n",
       "</style>\n",
       "<table id=\"T_a3ff7\">\n",
       "  <caption>The peak of the mean curve is at 4.473 Hz with amplitude 8.600.</caption>\n",
       "  <thead>\n",
       "    <tr>\n",
       "      <th class=\"blank level0\" >&nbsp;</th>\n",
       "      <th id=\"T_a3ff7_level0_col0\" class=\"col_heading level0 col0\" >Exponentitated Lognormal Median (units)</th>\n",
       "      <th id=\"T_a3ff7_level0_col1\" class=\"col_heading level0 col1\" >Lognormal Standard Deviation (log units)</th>\n",
       "      <th id=\"T_a3ff7_level0_col2\" class=\"col_heading level0 col2\" >-1 Lognormal Standard Deviation (units)</th>\n",
       "      <th id=\"T_a3ff7_level0_col3\" class=\"col_heading level0 col3\" >+1 Lognormal Standard Deviation (units)</th>\n",
       "    </tr>\n",
       "  </thead>\n",
       "  <tbody>\n",
       "    <tr>\n",
       "      <th id=\"T_a3ff7_level0_row0\" class=\"row_heading level0 row0\" >Resonant Site Frequency, fn (Hz)</th>\n",
       "      <td id=\"T_a3ff7_row0_col0\" class=\"data row0 col0\" >4.466</td>\n",
       "      <td id=\"T_a3ff7_row0_col1\" class=\"data row0 col1\" >0.031</td>\n",
       "      <td id=\"T_a3ff7_row0_col2\" class=\"data row0 col2\" >4.330</td>\n",
       "      <td id=\"T_a3ff7_row0_col3\" class=\"data row0 col3\" >4.606</td>\n",
       "    </tr>\n",
       "    <tr>\n",
       "      <th id=\"T_a3ff7_level0_row1\" class=\"row_heading level0 row1\" >Resonant Site Period, Tn (s)</th>\n",
       "      <td id=\"T_a3ff7_row1_col0\" class=\"data row1 col0\" >0.224</td>\n",
       "      <td id=\"T_a3ff7_row1_col1\" class=\"data row1 col1\" >0.031</td>\n",
       "      <td id=\"T_a3ff7_row1_col2\" class=\"data row1 col2\" >0.231</td>\n",
       "      <td id=\"T_a3ff7_row1_col3\" class=\"data row1 col3\" >0.217</td>\n",
       "    </tr>\n",
       "    <tr>\n",
       "      <th id=\"T_a3ff7_level0_row2\" class=\"row_heading level0 row2\" >Resonance Amplitude, An</th>\n",
       "      <td id=\"T_a3ff7_row2_col0\" class=\"data row2 col0\" >8.853</td>\n",
       "      <td id=\"T_a3ff7_row2_col1\" class=\"data row2 col1\" >0.225</td>\n",
       "      <td id=\"T_a3ff7_row2_col2\" class=\"data row2 col2\" >7.071</td>\n",
       "      <td id=\"T_a3ff7_row2_col3\" class=\"data row2 col3\" >11.085</td>\n",
       "    </tr>\n",
       "  </tbody>\n",
       "</table>\n"
      ]
     },
     "metadata": {},
     "output_type": "display_data"
    },
    {
     "name": "stdout",
     "output_type": "stream",
     "text": [
      "\n",
      "▶ Processing: 453017954.0003.2025.03.23.05.40.46.000\n"
     ]
    },
    {
     "data": {
      "text/plain": [
       "<pandas.io.formats.style.Styler at 0x208738c66d0>"
      ],
      "text/html": [
       "<style type=\"text/css\">\n",
       "#T_f6d05 caption {\n",
       "  caption-side: bottom;\n",
       "  font-size: 1.25em;\n",
       "}\n",
       "</style>\n",
       "<table id=\"T_f6d05\">\n",
       "  <caption>The peak of the mean curve is at 4.473 Hz with amplitude 7.341.</caption>\n",
       "  <thead>\n",
       "    <tr>\n",
       "      <th class=\"blank level0\" >&nbsp;</th>\n",
       "      <th id=\"T_f6d05_level0_col0\" class=\"col_heading level0 col0\" >Exponentitated Lognormal Median (units)</th>\n",
       "      <th id=\"T_f6d05_level0_col1\" class=\"col_heading level0 col1\" >Lognormal Standard Deviation (log units)</th>\n",
       "      <th id=\"T_f6d05_level0_col2\" class=\"col_heading level0 col2\" >-1 Lognormal Standard Deviation (units)</th>\n",
       "      <th id=\"T_f6d05_level0_col3\" class=\"col_heading level0 col3\" >+1 Lognormal Standard Deviation (units)</th>\n",
       "    </tr>\n",
       "  </thead>\n",
       "  <tbody>\n",
       "    <tr>\n",
       "      <th id=\"T_f6d05_level0_row0\" class=\"row_heading level0 row0\" >Resonant Site Frequency, fn (Hz)</th>\n",
       "      <td id=\"T_f6d05_row0_col0\" class=\"data row0 col0\" >2.984</td>\n",
       "      <td id=\"T_f6d05_row0_col1\" class=\"data row0 col1\" >0.578</td>\n",
       "      <td id=\"T_f6d05_row0_col2\" class=\"data row0 col2\" >1.673</td>\n",
       "      <td id=\"T_f6d05_row0_col3\" class=\"data row0 col3\" >5.320</td>\n",
       "    </tr>\n",
       "    <tr>\n",
       "      <th id=\"T_f6d05_level0_row1\" class=\"row_heading level0 row1\" >Resonant Site Period, Tn (s)</th>\n",
       "      <td id=\"T_f6d05_row1_col0\" class=\"data row1 col0\" >0.335</td>\n",
       "      <td id=\"T_f6d05_row1_col1\" class=\"data row1 col1\" >0.578</td>\n",
       "      <td id=\"T_f6d05_row1_col2\" class=\"data row1 col2\" >0.598</td>\n",
       "      <td id=\"T_f6d05_row1_col3\" class=\"data row1 col3\" >0.188</td>\n",
       "    </tr>\n",
       "    <tr>\n",
       "      <th id=\"T_f6d05_level0_row2\" class=\"row_heading level0 row2\" >Resonance Amplitude, An</th>\n",
       "      <td id=\"T_f6d05_row2_col0\" class=\"data row2 col0\" >8.816</td>\n",
       "      <td id=\"T_f6d05_row2_col1\" class=\"data row2 col1\" >0.331</td>\n",
       "      <td id=\"T_f6d05_row2_col2\" class=\"data row2 col2\" >6.329</td>\n",
       "      <td id=\"T_f6d05_row2_col3\" class=\"data row2 col3\" >12.280</td>\n",
       "    </tr>\n",
       "  </tbody>\n",
       "</table>\n"
      ]
     },
     "metadata": {},
     "output_type": "display_data"
    },
    {
     "name": "stdout",
     "output_type": "stream",
     "text": [
      "\n",
      "▶ Processing: 453017954.0004.2025.03.23.07.14.38.000\n"
     ]
    },
    {
     "data": {
      "text/plain": [
       "<pandas.io.formats.style.Styler at 0x208952c1ed0>"
      ],
      "text/html": [
       "<style type=\"text/css\">\n",
       "#T_d6bfc caption {\n",
       "  caption-side: bottom;\n",
       "  font-size: 1.25em;\n",
       "}\n",
       "</style>\n",
       "<table id=\"T_d6bfc\">\n",
       "  <caption>The peak of the mean curve is at 4.116 Hz with amplitude 7.577.</caption>\n",
       "  <thead>\n",
       "    <tr>\n",
       "      <th class=\"blank level0\" >&nbsp;</th>\n",
       "      <th id=\"T_d6bfc_level0_col0\" class=\"col_heading level0 col0\" >Exponentitated Lognormal Median (units)</th>\n",
       "      <th id=\"T_d6bfc_level0_col1\" class=\"col_heading level0 col1\" >Lognormal Standard Deviation (log units)</th>\n",
       "      <th id=\"T_d6bfc_level0_col2\" class=\"col_heading level0 col2\" >-1 Lognormal Standard Deviation (units)</th>\n",
       "      <th id=\"T_d6bfc_level0_col3\" class=\"col_heading level0 col3\" >+1 Lognormal Standard Deviation (units)</th>\n",
       "    </tr>\n",
       "  </thead>\n",
       "  <tbody>\n",
       "    <tr>\n",
       "      <th id=\"T_d6bfc_level0_row0\" class=\"row_heading level0 row0\" >Resonant Site Frequency, fn (Hz)</th>\n",
       "      <td id=\"T_d6bfc_row0_col0\" class=\"data row0 col0\" >4.158</td>\n",
       "      <td id=\"T_d6bfc_row0_col1\" class=\"data row0 col1\" >0.040</td>\n",
       "      <td id=\"T_d6bfc_row0_col2\" class=\"data row0 col2\" >3.993</td>\n",
       "      <td id=\"T_d6bfc_row0_col3\" class=\"data row0 col3\" >4.329</td>\n",
       "    </tr>\n",
       "    <tr>\n",
       "      <th id=\"T_d6bfc_level0_row1\" class=\"row_heading level0 row1\" >Resonant Site Period, Tn (s)</th>\n",
       "      <td id=\"T_d6bfc_row1_col0\" class=\"data row1 col0\" >0.241</td>\n",
       "      <td id=\"T_d6bfc_row1_col1\" class=\"data row1 col1\" >0.040</td>\n",
       "      <td id=\"T_d6bfc_row1_col2\" class=\"data row1 col2\" >0.250</td>\n",
       "      <td id=\"T_d6bfc_row1_col3\" class=\"data row1 col3\" >0.231</td>\n",
       "    </tr>\n",
       "    <tr>\n",
       "      <th id=\"T_d6bfc_level0_row2\" class=\"row_heading level0 row2\" >Resonance Amplitude, An</th>\n",
       "      <td id=\"T_d6bfc_row2_col0\" class=\"data row2 col0\" >7.997</td>\n",
       "      <td id=\"T_d6bfc_row2_col1\" class=\"data row2 col1\" >0.223</td>\n",
       "      <td id=\"T_d6bfc_row2_col2\" class=\"data row2 col2\" >6.401</td>\n",
       "      <td id=\"T_d6bfc_row2_col3\" class=\"data row2 col3\" >9.992</td>\n",
       "    </tr>\n",
       "  </tbody>\n",
       "</table>\n"
      ]
     },
     "metadata": {},
     "output_type": "display_data"
    },
    {
     "name": "stdout",
     "output_type": "stream",
     "text": [
      "\n",
      "▶ Processing: 453017954.0005.2025.03.23.08.21.30.000\n"
     ]
    },
    {
     "data": {
      "text/plain": [
       "<pandas.io.formats.style.Styler at 0x20887dff490>"
      ],
      "text/html": [
       "<style type=\"text/css\">\n",
       "#T_02b11 caption {\n",
       "  caption-side: bottom;\n",
       "  font-size: 1.25em;\n",
       "}\n",
       "</style>\n",
       "<table id=\"T_02b11\">\n",
       "  <caption>The peak of the mean curve is at 4.116 Hz with amplitude 7.928.</caption>\n",
       "  <thead>\n",
       "    <tr>\n",
       "      <th class=\"blank level0\" >&nbsp;</th>\n",
       "      <th id=\"T_02b11_level0_col0\" class=\"col_heading level0 col0\" >Exponentitated Lognormal Median (units)</th>\n",
       "      <th id=\"T_02b11_level0_col1\" class=\"col_heading level0 col1\" >Lognormal Standard Deviation (log units)</th>\n",
       "      <th id=\"T_02b11_level0_col2\" class=\"col_heading level0 col2\" >-1 Lognormal Standard Deviation (units)</th>\n",
       "      <th id=\"T_02b11_level0_col3\" class=\"col_heading level0 col3\" >+1 Lognormal Standard Deviation (units)</th>\n",
       "    </tr>\n",
       "  </thead>\n",
       "  <tbody>\n",
       "    <tr>\n",
       "      <th id=\"T_02b11_level0_row0\" class=\"row_heading level0 row0\" >Resonant Site Frequency, fn (Hz)</th>\n",
       "      <td id=\"T_02b11_row0_col0\" class=\"data row0 col0\" >4.096</td>\n",
       "      <td id=\"T_02b11_row0_col1\" class=\"data row0 col1\" >0.031</td>\n",
       "      <td id=\"T_02b11_row0_col2\" class=\"data row0 col2\" >3.973</td>\n",
       "      <td id=\"T_02b11_row0_col3\" class=\"data row0 col3\" >4.223</td>\n",
       "    </tr>\n",
       "    <tr>\n",
       "      <th id=\"T_02b11_level0_row1\" class=\"row_heading level0 row1\" >Resonant Site Period, Tn (s)</th>\n",
       "      <td id=\"T_02b11_row1_col0\" class=\"data row1 col0\" >0.244</td>\n",
       "      <td id=\"T_02b11_row1_col1\" class=\"data row1 col1\" >0.031</td>\n",
       "      <td id=\"T_02b11_row1_col2\" class=\"data row1 col2\" >0.252</td>\n",
       "      <td id=\"T_02b11_row1_col3\" class=\"data row1 col3\" >0.237</td>\n",
       "    </tr>\n",
       "    <tr>\n",
       "      <th id=\"T_02b11_level0_row2\" class=\"row_heading level0 row2\" >Resonance Amplitude, An</th>\n",
       "      <td id=\"T_02b11_row2_col0\" class=\"data row2 col0\" >8.178</td>\n",
       "      <td id=\"T_02b11_row2_col1\" class=\"data row2 col1\" >0.197</td>\n",
       "      <td id=\"T_02b11_row2_col2\" class=\"data row2 col2\" >6.714</td>\n",
       "      <td id=\"T_02b11_row2_col3\" class=\"data row2 col3\" >9.961</td>\n",
       "    </tr>\n",
       "  </tbody>\n",
       "</table>\n"
      ]
     },
     "metadata": {},
     "output_type": "display_data"
    },
    {
     "name": "stdout",
     "output_type": "stream",
     "text": [
      "\n",
      "▶ Processing: 453017954.0006.2025.03.23.09.26.18.000\n"
     ]
    },
    {
     "data": {
      "text/plain": [
       "<pandas.io.formats.style.Styler at 0x2088f213f50>"
      ],
      "text/html": [
       "<style type=\"text/css\">\n",
       "#T_35020 caption {\n",
       "  caption-side: bottom;\n",
       "  font-size: 1.25em;\n",
       "}\n",
       "</style>\n",
       "<table id=\"T_35020\">\n",
       "  <caption>The peak of the mean curve is at 4.116 Hz with amplitude 7.456.</caption>\n",
       "  <thead>\n",
       "    <tr>\n",
       "      <th class=\"blank level0\" >&nbsp;</th>\n",
       "      <th id=\"T_35020_level0_col0\" class=\"col_heading level0 col0\" >Exponentitated Lognormal Median (units)</th>\n",
       "      <th id=\"T_35020_level0_col1\" class=\"col_heading level0 col1\" >Lognormal Standard Deviation (log units)</th>\n",
       "      <th id=\"T_35020_level0_col2\" class=\"col_heading level0 col2\" >-1 Lognormal Standard Deviation (units)</th>\n",
       "      <th id=\"T_35020_level0_col3\" class=\"col_heading level0 col3\" >+1 Lognormal Standard Deviation (units)</th>\n",
       "    </tr>\n",
       "  </thead>\n",
       "  <tbody>\n",
       "    <tr>\n",
       "      <th id=\"T_35020_level0_row0\" class=\"row_heading level0 row0\" >Resonant Site Frequency, fn (Hz)</th>\n",
       "      <td id=\"T_35020_row0_col0\" class=\"data row0 col0\" >4.178</td>\n",
       "      <td id=\"T_35020_row0_col1\" class=\"data row0 col1\" >0.051</td>\n",
       "      <td id=\"T_35020_row0_col2\" class=\"data row0 col2\" >3.972</td>\n",
       "      <td id=\"T_35020_row0_col3\" class=\"data row0 col3\" >4.396</td>\n",
       "    </tr>\n",
       "    <tr>\n",
       "      <th id=\"T_35020_level0_row1\" class=\"row_heading level0 row1\" >Resonant Site Period, Tn (s)</th>\n",
       "      <td id=\"T_35020_row1_col0\" class=\"data row1 col0\" >0.239</td>\n",
       "      <td id=\"T_35020_row1_col1\" class=\"data row1 col1\" >0.051</td>\n",
       "      <td id=\"T_35020_row1_col2\" class=\"data row1 col2\" >0.252</td>\n",
       "      <td id=\"T_35020_row1_col3\" class=\"data row1 col3\" >0.227</td>\n",
       "    </tr>\n",
       "    <tr>\n",
       "      <th id=\"T_35020_level0_row2\" class=\"row_heading level0 row2\" >Resonance Amplitude, An</th>\n",
       "      <td id=\"T_35020_row2_col0\" class=\"data row2 col0\" >7.953</td>\n",
       "      <td id=\"T_35020_row2_col1\" class=\"data row2 col1\" >0.190</td>\n",
       "      <td id=\"T_35020_row2_col2\" class=\"data row2 col2\" >6.574</td>\n",
       "      <td id=\"T_35020_row2_col3\" class=\"data row2 col3\" >9.620</td>\n",
       "    </tr>\n",
       "  </tbody>\n",
       "</table>\n"
      ]
     },
     "metadata": {},
     "output_type": "display_data"
    },
    {
     "name": "stdout",
     "output_type": "stream",
     "text": [
      "\n",
      "▶ Processing: 453017954.0007.2025.03.25.06.35.26.000\n"
     ]
    },
    {
     "data": {
      "text/plain": [
       "<pandas.io.formats.style.Styler at 0x2088f434210>"
      ],
      "text/html": [
       "<style type=\"text/css\">\n",
       "#T_8cf59 caption {\n",
       "  caption-side: bottom;\n",
       "  font-size: 1.25em;\n",
       "}\n",
       "</style>\n",
       "<table id=\"T_8cf59\">\n",
       "  <caption>The peak of the mean curve is at 1.283 Hz with amplitude 21.732.</caption>\n",
       "  <thead>\n",
       "    <tr>\n",
       "      <th class=\"blank level0\" >&nbsp;</th>\n",
       "      <th id=\"T_8cf59_level0_col0\" class=\"col_heading level0 col0\" >Exponentitated Lognormal Median (units)</th>\n",
       "      <th id=\"T_8cf59_level0_col1\" class=\"col_heading level0 col1\" >Lognormal Standard Deviation (log units)</th>\n",
       "      <th id=\"T_8cf59_level0_col2\" class=\"col_heading level0 col2\" >-1 Lognormal Standard Deviation (units)</th>\n",
       "      <th id=\"T_8cf59_level0_col3\" class=\"col_heading level0 col3\" >+1 Lognormal Standard Deviation (units)</th>\n",
       "    </tr>\n",
       "  </thead>\n",
       "  <tbody>\n",
       "    <tr>\n",
       "      <th id=\"T_8cf59_level0_row0\" class=\"row_heading level0 row0\" >Resonant Site Frequency, fn (Hz)</th>\n",
       "      <td id=\"T_8cf59_row0_col0\" class=\"data row0 col0\" >1.310</td>\n",
       "      <td id=\"T_8cf59_row0_col1\" class=\"data row0 col1\" >0.157</td>\n",
       "      <td id=\"T_8cf59_row0_col2\" class=\"data row0 col2\" >1.119</td>\n",
       "      <td id=\"T_8cf59_row0_col3\" class=\"data row0 col3\" >1.533</td>\n",
       "    </tr>\n",
       "    <tr>\n",
       "      <th id=\"T_8cf59_level0_row1\" class=\"row_heading level0 row1\" >Resonant Site Period, Tn (s)</th>\n",
       "      <td id=\"T_8cf59_row1_col0\" class=\"data row1 col0\" >0.763</td>\n",
       "      <td id=\"T_8cf59_row1_col1\" class=\"data row1 col1\" >0.157</td>\n",
       "      <td id=\"T_8cf59_row1_col2\" class=\"data row1 col2\" >0.894</td>\n",
       "      <td id=\"T_8cf59_row1_col3\" class=\"data row1 col3\" >0.652</td>\n",
       "    </tr>\n",
       "    <tr>\n",
       "      <th id=\"T_8cf59_level0_row2\" class=\"row_heading level0 row2\" >Resonance Amplitude, An</th>\n",
       "      <td id=\"T_8cf59_row2_col0\" class=\"data row2 col0\" >29.921</td>\n",
       "      <td id=\"T_8cf59_row2_col1\" class=\"data row2 col1\" >0.351</td>\n",
       "      <td id=\"T_8cf59_row2_col2\" class=\"data row2 col2\" >21.069</td>\n",
       "      <td id=\"T_8cf59_row2_col3\" class=\"data row2 col3\" >42.493</td>\n",
       "    </tr>\n",
       "  </tbody>\n",
       "</table>\n"
      ]
     },
     "metadata": {},
     "output_type": "display_data"
    },
    {
     "name": "stdout",
     "output_type": "stream",
     "text": [
      "\n",
      "▶ Processing: 453017954.0008.2025.03.25.07.40.10.000\n"
     ]
    },
    {
     "data": {
      "text/plain": [
       "<pandas.io.formats.style.Styler at 0x20883065410>"
      ],
      "text/html": [
       "<style type=\"text/css\">\n",
       "#T_0b293 caption {\n",
       "  caption-side: bottom;\n",
       "  font-size: 1.25em;\n",
       "}\n",
       "</style>\n",
       "<table id=\"T_0b293\">\n",
       "  <caption>The peak of the mean curve is at 1.214 Hz with amplitude 13.951.</caption>\n",
       "  <thead>\n",
       "    <tr>\n",
       "      <th class=\"blank level0\" >&nbsp;</th>\n",
       "      <th id=\"T_0b293_level0_col0\" class=\"col_heading level0 col0\" >Exponentitated Lognormal Median (units)</th>\n",
       "      <th id=\"T_0b293_level0_col1\" class=\"col_heading level0 col1\" >Lognormal Standard Deviation (log units)</th>\n",
       "      <th id=\"T_0b293_level0_col2\" class=\"col_heading level0 col2\" >-1 Lognormal Standard Deviation (units)</th>\n",
       "      <th id=\"T_0b293_level0_col3\" class=\"col_heading level0 col3\" >+1 Lognormal Standard Deviation (units)</th>\n",
       "    </tr>\n",
       "  </thead>\n",
       "  <tbody>\n",
       "    <tr>\n",
       "      <th id=\"T_0b293_level0_row0\" class=\"row_heading level0 row0\" >Resonant Site Frequency, fn (Hz)</th>\n",
       "      <td id=\"T_0b293_row0_col0\" class=\"data row0 col0\" >1.872</td>\n",
       "      <td id=\"T_0b293_row0_col1\" class=\"data row0 col1\" >0.557</td>\n",
       "      <td id=\"T_0b293_row0_col2\" class=\"data row0 col2\" >1.073</td>\n",
       "      <td id=\"T_0b293_row0_col3\" class=\"data row0 col3\" >3.265</td>\n",
       "    </tr>\n",
       "    <tr>\n",
       "      <th id=\"T_0b293_level0_row1\" class=\"row_heading level0 row1\" >Resonant Site Period, Tn (s)</th>\n",
       "      <td id=\"T_0b293_row1_col0\" class=\"data row1 col0\" >0.534</td>\n",
       "      <td id=\"T_0b293_row1_col1\" class=\"data row1 col1\" >0.557</td>\n",
       "      <td id=\"T_0b293_row1_col2\" class=\"data row1 col2\" >0.932</td>\n",
       "      <td id=\"T_0b293_row1_col3\" class=\"data row1 col3\" >0.306</td>\n",
       "    </tr>\n",
       "    <tr>\n",
       "      <th id=\"T_0b293_level0_row2\" class=\"row_heading level0 row2\" >Resonance Amplitude, An</th>\n",
       "      <td id=\"T_0b293_row2_col0\" class=\"data row2 col0\" >21.913</td>\n",
       "      <td id=\"T_0b293_row2_col1\" class=\"data row2 col1\" >0.481</td>\n",
       "      <td id=\"T_0b293_row2_col2\" class=\"data row2 col2\" >13.543</td>\n",
       "      <td id=\"T_0b293_row2_col3\" class=\"data row2 col3\" >35.454</td>\n",
       "    </tr>\n",
       "  </tbody>\n",
       "</table>\n"
      ]
     },
     "metadata": {},
     "output_type": "display_data"
    },
    {
     "name": "stdout",
     "output_type": "stream",
     "text": [
      "\n",
      "▶ Processing: 453017954.0009.2025.04.01.04.49.58.000\n"
     ]
    },
    {
     "data": {
      "text/plain": [
       "<pandas.io.formats.style.Styler at 0x208b60e7490>"
      ],
      "text/html": [
       "<style type=\"text/css\">\n",
       "#T_7d3ff caption {\n",
       "  caption-side: bottom;\n",
       "  font-size: 1.25em;\n",
       "}\n",
       "</style>\n",
       "<table id=\"T_7d3ff\">\n",
       "  <caption>The peak of the mean curve is at 1.149 Hz with amplitude 9.295.</caption>\n",
       "  <thead>\n",
       "    <tr>\n",
       "      <th class=\"blank level0\" >&nbsp;</th>\n",
       "      <th id=\"T_7d3ff_level0_col0\" class=\"col_heading level0 col0\" >Exponentitated Lognormal Median (units)</th>\n",
       "      <th id=\"T_7d3ff_level0_col1\" class=\"col_heading level0 col1\" >Lognormal Standard Deviation (log units)</th>\n",
       "      <th id=\"T_7d3ff_level0_col2\" class=\"col_heading level0 col2\" >-1 Lognormal Standard Deviation (units)</th>\n",
       "      <th id=\"T_7d3ff_level0_col3\" class=\"col_heading level0 col3\" >+1 Lognormal Standard Deviation (units)</th>\n",
       "    </tr>\n",
       "  </thead>\n",
       "  <tbody>\n",
       "    <tr>\n",
       "      <th id=\"T_7d3ff_level0_row0\" class=\"row_heading level0 row0\" >Resonant Site Frequency, fn (Hz)</th>\n",
       "      <td id=\"T_7d3ff_row0_col0\" class=\"data row0 col0\" >1.231</td>\n",
       "      <td id=\"T_7d3ff_row0_col1\" class=\"data row0 col1\" >0.119</td>\n",
       "      <td id=\"T_7d3ff_row0_col2\" class=\"data row0 col2\" >1.093</td>\n",
       "      <td id=\"T_7d3ff_row0_col3\" class=\"data row0 col3\" >1.387</td>\n",
       "    </tr>\n",
       "    <tr>\n",
       "      <th id=\"T_7d3ff_level0_row1\" class=\"row_heading level0 row1\" >Resonant Site Period, Tn (s)</th>\n",
       "      <td id=\"T_7d3ff_row1_col0\" class=\"data row1 col0\" >0.812</td>\n",
       "      <td id=\"T_7d3ff_row1_col1\" class=\"data row1 col1\" >0.119</td>\n",
       "      <td id=\"T_7d3ff_row1_col2\" class=\"data row1 col2\" >0.915</td>\n",
       "      <td id=\"T_7d3ff_row1_col3\" class=\"data row1 col3\" >0.721</td>\n",
       "    </tr>\n",
       "    <tr>\n",
       "      <th id=\"T_7d3ff_level0_row2\" class=\"row_heading level0 row2\" >Resonance Amplitude, An</th>\n",
       "      <td id=\"T_7d3ff_row2_col0\" class=\"data row2 col0\" >12.347</td>\n",
       "      <td id=\"T_7d3ff_row2_col1\" class=\"data row2 col1\" >0.515</td>\n",
       "      <td id=\"T_7d3ff_row2_col2\" class=\"data row2 col2\" >7.374</td>\n",
       "      <td id=\"T_7d3ff_row2_col3\" class=\"data row2 col3\" >20.675</td>\n",
       "    </tr>\n",
       "  </tbody>\n",
       "</table>\n"
      ]
     },
     "metadata": {},
     "output_type": "display_data"
    },
    {
     "name": "stdout",
     "output_type": "stream",
     "text": [
      "\n",
      "▶ Processing: 453017954.0010.2025.04.01.05.55.30.000\n"
     ]
    },
    {
     "data": {
      "text/plain": [
       "<pandas.io.formats.style.Styler at 0x2088ffd0250>"
      ],
      "text/html": [
       "<style type=\"text/css\">\n",
       "#T_b9ff4 caption {\n",
       "  caption-side: bottom;\n",
       "  font-size: 1.25em;\n",
       "}\n",
       "</style>\n",
       "<table id=\"T_b9ff4\">\n",
       "  <caption>The peak of the mean curve is at 1.149 Hz with amplitude 9.808.</caption>\n",
       "  <thead>\n",
       "    <tr>\n",
       "      <th class=\"blank level0\" >&nbsp;</th>\n",
       "      <th id=\"T_b9ff4_level0_col0\" class=\"col_heading level0 col0\" >Exponentitated Lognormal Median (units)</th>\n",
       "      <th id=\"T_b9ff4_level0_col1\" class=\"col_heading level0 col1\" >Lognormal Standard Deviation (log units)</th>\n",
       "      <th id=\"T_b9ff4_level0_col2\" class=\"col_heading level0 col2\" >-1 Lognormal Standard Deviation (units)</th>\n",
       "      <th id=\"T_b9ff4_level0_col3\" class=\"col_heading level0 col3\" >+1 Lognormal Standard Deviation (units)</th>\n",
       "    </tr>\n",
       "  </thead>\n",
       "  <tbody>\n",
       "    <tr>\n",
       "      <th id=\"T_b9ff4_level0_row0\" class=\"row_heading level0 row0\" >Resonant Site Frequency, fn (Hz)</th>\n",
       "      <td id=\"T_b9ff4_row0_col0\" class=\"data row0 col0\" >1.217</td>\n",
       "      <td id=\"T_b9ff4_row0_col1\" class=\"data row0 col1\" >0.101</td>\n",
       "      <td id=\"T_b9ff4_row0_col2\" class=\"data row0 col2\" >1.100</td>\n",
       "      <td id=\"T_b9ff4_row0_col3\" class=\"data row0 col3\" >1.346</td>\n",
       "    </tr>\n",
       "    <tr>\n",
       "      <th id=\"T_b9ff4_level0_row1\" class=\"row_heading level0 row1\" >Resonant Site Period, Tn (s)</th>\n",
       "      <td id=\"T_b9ff4_row1_col0\" class=\"data row1 col0\" >0.822</td>\n",
       "      <td id=\"T_b9ff4_row1_col1\" class=\"data row1 col1\" >0.101</td>\n",
       "      <td id=\"T_b9ff4_row1_col2\" class=\"data row1 col2\" >0.909</td>\n",
       "      <td id=\"T_b9ff4_row1_col3\" class=\"data row1 col3\" >0.743</td>\n",
       "    </tr>\n",
       "    <tr>\n",
       "      <th id=\"T_b9ff4_level0_row2\" class=\"row_heading level0 row2\" >Resonance Amplitude, An</th>\n",
       "      <td id=\"T_b9ff4_row2_col0\" class=\"data row2 col0\" >13.163</td>\n",
       "      <td id=\"T_b9ff4_row2_col1\" class=\"data row2 col1\" >0.534</td>\n",
       "      <td id=\"T_b9ff4_row2_col2\" class=\"data row2 col2\" >7.719</td>\n",
       "      <td id=\"T_b9ff4_row2_col3\" class=\"data row2 col3\" >22.446</td>\n",
       "    </tr>\n",
       "  </tbody>\n",
       "</table>\n"
      ]
     },
     "metadata": {},
     "output_type": "display_data"
    },
    {
     "name": "stdout",
     "output_type": "stream",
     "text": [
      "\n",
      "▶ Processing: 453017954.0011.2025.04.06.04.07.42.000\n"
     ]
    },
    {
     "data": {
      "text/plain": [
       "<pandas.io.formats.style.Styler at 0x20895183490>"
      ],
      "text/html": [
       "<style type=\"text/css\">\n",
       "#T_ad8c5 caption {\n",
       "  caption-side: bottom;\n",
       "  font-size: 1.25em;\n",
       "}\n",
       "</style>\n",
       "<table id=\"T_ad8c5\">\n",
       "  <caption>The peak of the mean curve is at 5.139 Hz with amplitude 10.209.</caption>\n",
       "  <thead>\n",
       "    <tr>\n",
       "      <th class=\"blank level0\" >&nbsp;</th>\n",
       "      <th id=\"T_ad8c5_level0_col0\" class=\"col_heading level0 col0\" >Exponentitated Lognormal Median (units)</th>\n",
       "      <th id=\"T_ad8c5_level0_col1\" class=\"col_heading level0 col1\" >Lognormal Standard Deviation (log units)</th>\n",
       "      <th id=\"T_ad8c5_level0_col2\" class=\"col_heading level0 col2\" >-1 Lognormal Standard Deviation (units)</th>\n",
       "      <th id=\"T_ad8c5_level0_col3\" class=\"col_heading level0 col3\" >+1 Lognormal Standard Deviation (units)</th>\n",
       "    </tr>\n",
       "  </thead>\n",
       "  <tbody>\n",
       "    <tr>\n",
       "      <th id=\"T_ad8c5_level0_row0\" class=\"row_heading level0 row0\" >Resonant Site Frequency, fn (Hz)</th>\n",
       "      <td id=\"T_ad8c5_row0_col0\" class=\"data row0 col0\" >2.128</td>\n",
       "      <td id=\"T_ad8c5_row0_col1\" class=\"data row0 col1\" >0.693</td>\n",
       "      <td id=\"T_ad8c5_row0_col2\" class=\"data row0 col2\" >1.064</td>\n",
       "      <td id=\"T_ad8c5_row0_col3\" class=\"data row0 col3\" >4.253</td>\n",
       "    </tr>\n",
       "    <tr>\n",
       "      <th id=\"T_ad8c5_level0_row1\" class=\"row_heading level0 row1\" >Resonant Site Period, Tn (s)</th>\n",
       "      <td id=\"T_ad8c5_row1_col0\" class=\"data row1 col0\" >0.470</td>\n",
       "      <td id=\"T_ad8c5_row1_col1\" class=\"data row1 col1\" >0.693</td>\n",
       "      <td id=\"T_ad8c5_row1_col2\" class=\"data row1 col2\" >0.940</td>\n",
       "      <td id=\"T_ad8c5_row1_col3\" class=\"data row1 col3\" >0.235</td>\n",
       "    </tr>\n",
       "    <tr>\n",
       "      <th id=\"T_ad8c5_level0_row2\" class=\"row_heading level0 row2\" >Resonance Amplitude, An</th>\n",
       "      <td id=\"T_ad8c5_row2_col0\" class=\"data row2 col0\" >15.819</td>\n",
       "      <td id=\"T_ad8c5_row2_col1\" class=\"data row2 col1\" >0.526</td>\n",
       "      <td id=\"T_ad8c5_row2_col2\" class=\"data row2 col2\" >9.349</td>\n",
       "      <td id=\"T_ad8c5_row2_col3\" class=\"data row2 col3\" >26.765</td>\n",
       "    </tr>\n",
       "  </tbody>\n",
       "</table>\n"
      ]
     },
     "metadata": {},
     "output_type": "display_data"
    },
    {
     "name": "stdout",
     "output_type": "stream",
     "text": [
      "\n",
      "▶ Processing: 453017954.0012.2025.04.06.05.26.02.000\n"
     ]
    },
    {
     "data": {
      "text/plain": [
       "<pandas.io.formats.style.Styler at 0x20873ea3ed0>"
      ],
      "text/html": [
       "<style type=\"text/css\">\n",
       "#T_428b6 caption {\n",
       "  caption-side: bottom;\n",
       "  font-size: 1.25em;\n",
       "}\n",
       "</style>\n",
       "<table id=\"T_428b6\">\n",
       "  <caption>The peak of the mean curve is at 1.149 Hz with amplitude 12.732.</caption>\n",
       "  <thead>\n",
       "    <tr>\n",
       "      <th class=\"blank level0\" >&nbsp;</th>\n",
       "      <th id=\"T_428b6_level0_col0\" class=\"col_heading level0 col0\" >Exponentitated Lognormal Median (units)</th>\n",
       "      <th id=\"T_428b6_level0_col1\" class=\"col_heading level0 col1\" >Lognormal Standard Deviation (log units)</th>\n",
       "      <th id=\"T_428b6_level0_col2\" class=\"col_heading level0 col2\" >-1 Lognormal Standard Deviation (units)</th>\n",
       "      <th id=\"T_428b6_level0_col3\" class=\"col_heading level0 col3\" >+1 Lognormal Standard Deviation (units)</th>\n",
       "    </tr>\n",
       "  </thead>\n",
       "  <tbody>\n",
       "    <tr>\n",
       "      <th id=\"T_428b6_level0_row0\" class=\"row_heading level0 row0\" >Resonant Site Frequency, fn (Hz)</th>\n",
       "      <td id=\"T_428b6_row0_col0\" class=\"data row0 col0\" >1.879</td>\n",
       "      <td id=\"T_428b6_row0_col1\" class=\"data row0 col1\" >0.669</td>\n",
       "      <td id=\"T_428b6_row0_col2\" class=\"data row0 col2\" >0.962</td>\n",
       "      <td id=\"T_428b6_row0_col3\" class=\"data row0 col3\" >3.667</td>\n",
       "    </tr>\n",
       "    <tr>\n",
       "      <th id=\"T_428b6_level0_row1\" class=\"row_heading level0 row1\" >Resonant Site Period, Tn (s)</th>\n",
       "      <td id=\"T_428b6_row1_col0\" class=\"data row1 col0\" >0.532</td>\n",
       "      <td id=\"T_428b6_row1_col1\" class=\"data row1 col1\" >0.669</td>\n",
       "      <td id=\"T_428b6_row1_col2\" class=\"data row1 col2\" >1.039</td>\n",
       "      <td id=\"T_428b6_row1_col3\" class=\"data row1 col3\" >0.273</td>\n",
       "    </tr>\n",
       "    <tr>\n",
       "      <th id=\"T_428b6_level0_row2\" class=\"row_heading level0 row2\" >Resonance Amplitude, An</th>\n",
       "      <td id=\"T_428b6_row2_col0\" class=\"data row2 col0\" >19.294</td>\n",
       "      <td id=\"T_428b6_row2_col1\" class=\"data row2 col1\" >0.639</td>\n",
       "      <td id=\"T_428b6_row2_col2\" class=\"data row2 col2\" >10.187</td>\n",
       "      <td id=\"T_428b6_row2_col3\" class=\"data row2 col3\" >36.543</td>\n",
       "    </tr>\n",
       "  </tbody>\n",
       "</table>\n"
      ]
     },
     "metadata": {},
     "output_type": "display_data"
    },
    {
     "data": {
      "text/plain": [
       "<pandas.io.formats.style.Styler at 0x20873e95310>"
      ],
      "text/html": [
       "<style type=\"text/css\">\n",
       "#T_a25ec caption {\n",
       "  caption-side: bottom;\n",
       "  font-size: 1.25em;\n",
       "}\n",
       "</style>\n",
       "<table id=\"T_a25ec\">\n",
       "  <caption>The peak of the mean curve is at 8.236 Hz with amplitude 2.873.</caption>\n",
       "  <thead>\n",
       "    <tr>\n",
       "      <th class=\"blank level0\" >&nbsp;</th>\n",
       "      <th id=\"T_a25ec_level0_col0\" class=\"col_heading level0 col0\" >Exponentitated Lognormal Median (units)</th>\n",
       "      <th id=\"T_a25ec_level0_col1\" class=\"col_heading level0 col1\" >Lognormal Standard Deviation (log units)</th>\n",
       "      <th id=\"T_a25ec_level0_col2\" class=\"col_heading level0 col2\" >-1 Lognormal Standard Deviation (units)</th>\n",
       "      <th id=\"T_a25ec_level0_col3\" class=\"col_heading level0 col3\" >+1 Lognormal Standard Deviation (units)</th>\n",
       "    </tr>\n",
       "  </thead>\n",
       "  <tbody>\n",
       "    <tr>\n",
       "      <th id=\"T_a25ec_level0_row0\" class=\"row_heading level0 row0\" >Resonant Site Frequency, fn (Hz)</th>\n",
       "      <td id=\"T_a25ec_row0_col0\" class=\"data row0 col0\" >2.444</td>\n",
       "      <td id=\"T_a25ec_row0_col1\" class=\"data row0 col1\" >0.938</td>\n",
       "      <td id=\"T_a25ec_row0_col2\" class=\"data row0 col2\" >0.957</td>\n",
       "      <td id=\"T_a25ec_row0_col3\" class=\"data row0 col3\" >6.243</td>\n",
       "    </tr>\n",
       "    <tr>\n",
       "      <th id=\"T_a25ec_level0_row1\" class=\"row_heading level0 row1\" >Resonant Site Period, Tn (s)</th>\n",
       "      <td id=\"T_a25ec_row1_col0\" class=\"data row1 col0\" >0.409</td>\n",
       "      <td id=\"T_a25ec_row1_col1\" class=\"data row1 col1\" >0.938</td>\n",
       "      <td id=\"T_a25ec_row1_col2\" class=\"data row1 col2\" >1.045</td>\n",
       "      <td id=\"T_a25ec_row1_col3\" class=\"data row1 col3\" >0.160</td>\n",
       "    </tr>\n",
       "    <tr>\n",
       "      <th id=\"T_a25ec_level0_row2\" class=\"row_heading level0 row2\" >Resonance Amplitude, An</th>\n",
       "      <td id=\"T_a25ec_row2_col0\" class=\"data row2 col0\" >4.706</td>\n",
       "      <td id=\"T_a25ec_row2_col1\" class=\"data row2 col1\" >0.597</td>\n",
       "      <td id=\"T_a25ec_row2_col2\" class=\"data row2 col2\" >2.590</td>\n",
       "      <td id=\"T_a25ec_row2_col3\" class=\"data row2 col3\" >8.551</td>\n",
       "    </tr>\n",
       "  </tbody>\n",
       "</table>\n"
      ]
     },
     "metadata": {},
     "output_type": "display_data"
    },
    {
     "name": "stdout",
     "output_type": "stream",
     "text": [
      "\n",
      "▶ Processing: 453017954.0013.2025.04.08.23.18.58.000\n",
      "\n",
      "▶ Processing: 453017954.0014.2025.04.09.00.00.00.000\n"
     ]
    },
    {
     "data": {
      "text/plain": [
       "<pandas.io.formats.style.Styler at 0x2089a027490>"
      ],
      "text/html": [
       "<style type=\"text/css\">\n",
       "#T_d9a04 caption {\n",
       "  caption-side: bottom;\n",
       "  font-size: 1.25em;\n",
       "}\n",
       "</style>\n",
       "<table id=\"T_d9a04\">\n",
       "  <caption>The peak of the mean curve is at 1.057 Hz with amplitude 7.491.</caption>\n",
       "  <thead>\n",
       "    <tr>\n",
       "      <th class=\"blank level0\" >&nbsp;</th>\n",
       "      <th id=\"T_d9a04_level0_col0\" class=\"col_heading level0 col0\" >Exponentitated Lognormal Median (units)</th>\n",
       "      <th id=\"T_d9a04_level0_col1\" class=\"col_heading level0 col1\" >Lognormal Standard Deviation (log units)</th>\n",
       "      <th id=\"T_d9a04_level0_col2\" class=\"col_heading level0 col2\" >-1 Lognormal Standard Deviation (units)</th>\n",
       "      <th id=\"T_d9a04_level0_col3\" class=\"col_heading level0 col3\" >+1 Lognormal Standard Deviation (units)</th>\n",
       "    </tr>\n",
       "  </thead>\n",
       "  <tbody>\n",
       "    <tr>\n",
       "      <th id=\"T_d9a04_level0_row0\" class=\"row_heading level0 row0\" >Resonant Site Frequency, fn (Hz)</th>\n",
       "      <td id=\"T_d9a04_row0_col0\" class=\"data row0 col0\" >1.163</td>\n",
       "      <td id=\"T_d9a04_row0_col1\" class=\"data row0 col1\" >0.081</td>\n",
       "      <td id=\"T_d9a04_row0_col2\" class=\"data row0 col2\" >1.073</td>\n",
       "      <td id=\"T_d9a04_row0_col3\" class=\"data row0 col3\" >1.261</td>\n",
       "    </tr>\n",
       "    <tr>\n",
       "      <th id=\"T_d9a04_level0_row1\" class=\"row_heading level0 row1\" >Resonant Site Period, Tn (s)</th>\n",
       "      <td id=\"T_d9a04_row1_col0\" class=\"data row1 col0\" >0.860</td>\n",
       "      <td id=\"T_d9a04_row1_col1\" class=\"data row1 col1\" >0.081</td>\n",
       "      <td id=\"T_d9a04_row1_col2\" class=\"data row1 col2\" >0.932</td>\n",
       "      <td id=\"T_d9a04_row1_col3\" class=\"data row1 col3\" >0.793</td>\n",
       "    </tr>\n",
       "    <tr>\n",
       "      <th id=\"T_d9a04_level0_row2\" class=\"row_heading level0 row2\" >Resonance Amplitude, An</th>\n",
       "      <td id=\"T_d9a04_row2_col0\" class=\"data row2 col0\" >8.965</td>\n",
       "      <td id=\"T_d9a04_row2_col1\" class=\"data row2 col1\" >0.721</td>\n",
       "      <td id=\"T_d9a04_row2_col2\" class=\"data row2 col2\" >4.361</td>\n",
       "      <td id=\"T_d9a04_row2_col3\" class=\"data row2 col3\" >18.429</td>\n",
       "    </tr>\n",
       "  </tbody>\n",
       "</table>\n"
      ]
     },
     "metadata": {},
     "output_type": "display_data"
    },
    {
     "name": "stdout",
     "output_type": "stream",
     "text": [
      "\n",
      "▶ Processing: 453017954.0015.2025.04.11.02.50.30.000\n"
     ]
    },
    {
     "data": {
      "text/plain": [
       "<pandas.io.formats.style.Styler at 0x20895990910>"
      ],
      "text/html": [
       "<style type=\"text/css\">\n",
       "#T_4129f caption {\n",
       "  caption-side: bottom;\n",
       "  font-size: 1.25em;\n",
       "}\n",
       "</style>\n",
       "<table id=\"T_4129f\">\n",
       "  <caption>The peak of the mean curve is at 4.473 Hz with amplitude 15.880.</caption>\n",
       "  <thead>\n",
       "    <tr>\n",
       "      <th class=\"blank level0\" >&nbsp;</th>\n",
       "      <th id=\"T_4129f_level0_col0\" class=\"col_heading level0 col0\" >Exponentitated Lognormal Median (units)</th>\n",
       "      <th id=\"T_4129f_level0_col1\" class=\"col_heading level0 col1\" >Lognormal Standard Deviation (log units)</th>\n",
       "      <th id=\"T_4129f_level0_col2\" class=\"col_heading level0 col2\" >-1 Lognormal Standard Deviation (units)</th>\n",
       "      <th id=\"T_4129f_level0_col3\" class=\"col_heading level0 col3\" >+1 Lognormal Standard Deviation (units)</th>\n",
       "    </tr>\n",
       "  </thead>\n",
       "  <tbody>\n",
       "    <tr>\n",
       "      <th id=\"T_4129f_level0_row0\" class=\"row_heading level0 row0\" >Resonant Site Frequency, fn (Hz)</th>\n",
       "      <td id=\"T_4129f_row0_col0\" class=\"data row0 col0\" >4.437</td>\n",
       "      <td id=\"T_4129f_row0_col1\" class=\"data row0 col1\" >0.026</td>\n",
       "      <td id=\"T_4129f_row0_col2\" class=\"data row0 col2\" >4.322</td>\n",
       "      <td id=\"T_4129f_row0_col3\" class=\"data row0 col3\" >4.555</td>\n",
       "    </tr>\n",
       "    <tr>\n",
       "      <th id=\"T_4129f_level0_row1\" class=\"row_heading level0 row1\" >Resonant Site Period, Tn (s)</th>\n",
       "      <td id=\"T_4129f_row1_col0\" class=\"data row1 col0\" >0.225</td>\n",
       "      <td id=\"T_4129f_row1_col1\" class=\"data row1 col1\" >0.026</td>\n",
       "      <td id=\"T_4129f_row1_col2\" class=\"data row1 col2\" >0.231</td>\n",
       "      <td id=\"T_4129f_row1_col3\" class=\"data row1 col3\" >0.220</td>\n",
       "    </tr>\n",
       "    <tr>\n",
       "      <th id=\"T_4129f_level0_row2\" class=\"row_heading level0 row2\" >Resonance Amplitude, An</th>\n",
       "      <td id=\"T_4129f_row2_col0\" class=\"data row2 col0\" >16.264</td>\n",
       "      <td id=\"T_4129f_row2_col1\" class=\"data row2 col1\" >0.178</td>\n",
       "      <td id=\"T_4129f_row2_col2\" class=\"data row2 col2\" >13.617</td>\n",
       "      <td id=\"T_4129f_row2_col3\" class=\"data row2 col3\" >19.425</td>\n",
       "    </tr>\n",
       "  </tbody>\n",
       "</table>\n"
      ]
     },
     "metadata": {},
     "output_type": "display_data"
    },
    {
     "name": "stdout",
     "output_type": "stream",
     "text": [
      "\n",
      "▶ Processing: 453017954.0016.2025.04.11.04.03.30.000\n"
     ]
    },
    {
     "data": {
      "text/plain": [
       "<pandas.io.formats.style.Styler at 0x2089a01c5d0>"
      ],
      "text/html": [
       "<style type=\"text/css\">\n",
       "#T_74122 caption {\n",
       "  caption-side: bottom;\n",
       "  font-size: 1.25em;\n",
       "}\n",
       "</style>\n",
       "<table id=\"T_74122\">\n",
       "  <caption>The peak of the mean curve is at 4.473 Hz with amplitude 14.553.</caption>\n",
       "  <thead>\n",
       "    <tr>\n",
       "      <th class=\"blank level0\" >&nbsp;</th>\n",
       "      <th id=\"T_74122_level0_col0\" class=\"col_heading level0 col0\" >Exponentitated Lognormal Median (units)</th>\n",
       "      <th id=\"T_74122_level0_col1\" class=\"col_heading level0 col1\" >Lognormal Standard Deviation (log units)</th>\n",
       "      <th id=\"T_74122_level0_col2\" class=\"col_heading level0 col2\" >-1 Lognormal Standard Deviation (units)</th>\n",
       "      <th id=\"T_74122_level0_col3\" class=\"col_heading level0 col3\" >+1 Lognormal Standard Deviation (units)</th>\n",
       "    </tr>\n",
       "  </thead>\n",
       "  <tbody>\n",
       "    <tr>\n",
       "      <th id=\"T_74122_level0_row0\" class=\"row_heading level0 row0\" >Resonant Site Frequency, fn (Hz)</th>\n",
       "      <td id=\"T_74122_row0_col0\" class=\"data row0 col0\" >2.866</td>\n",
       "      <td id=\"T_74122_row0_col1\" class=\"data row0 col1\" >0.630</td>\n",
       "      <td id=\"T_74122_row0_col2\" class=\"data row0 col2\" >1.527</td>\n",
       "      <td id=\"T_74122_row0_col3\" class=\"data row0 col3\" >5.382</td>\n",
       "    </tr>\n",
       "    <tr>\n",
       "      <th id=\"T_74122_level0_row1\" class=\"row_heading level0 row1\" >Resonant Site Period, Tn (s)</th>\n",
       "      <td id=\"T_74122_row1_col0\" class=\"data row1 col0\" >0.349</td>\n",
       "      <td id=\"T_74122_row1_col1\" class=\"data row1 col1\" >0.630</td>\n",
       "      <td id=\"T_74122_row1_col2\" class=\"data row1 col2\" >0.655</td>\n",
       "      <td id=\"T_74122_row1_col3\" class=\"data row1 col3\" >0.186</td>\n",
       "    </tr>\n",
       "    <tr>\n",
       "      <th id=\"T_74122_level0_row2\" class=\"row_heading level0 row2\" >Resonance Amplitude, An</th>\n",
       "      <td id=\"T_74122_row2_col0\" class=\"data row2 col0\" >17.825</td>\n",
       "      <td id=\"T_74122_row2_col1\" class=\"data row2 col1\" >0.314</td>\n",
       "      <td id=\"T_74122_row2_col2\" class=\"data row2 col2\" >13.017</td>\n",
       "      <td id=\"T_74122_row2_col3\" class=\"data row2 col3\" >24.409</td>\n",
       "    </tr>\n",
       "  </tbody>\n",
       "</table>\n"
      ]
     },
     "metadata": {},
     "output_type": "display_data"
    },
    {
     "name": "stdout",
     "output_type": "stream",
     "text": [
      "\n",
      "▶ Processing: 453018570.0001.2025.03.23.03.31.22.000\n"
     ]
    },
    {
     "data": {
      "text/plain": [
       "<pandas.io.formats.style.Styler at 0x2089e51f490>"
      ],
      "text/html": [
       "<style type=\"text/css\">\n",
       "#T_447ad caption {\n",
       "  caption-side: bottom;\n",
       "  font-size: 1.25em;\n",
       "}\n",
       "</style>\n",
       "<table id=\"T_447ad\">\n",
       "  <caption>The peak of the mean curve is at 4.599 Hz with amplitude 10.391.</caption>\n",
       "  <thead>\n",
       "    <tr>\n",
       "      <th class=\"blank level0\" >&nbsp;</th>\n",
       "      <th id=\"T_447ad_level0_col0\" class=\"col_heading level0 col0\" >Exponentitated Lognormal Median (units)</th>\n",
       "      <th id=\"T_447ad_level0_col1\" class=\"col_heading level0 col1\" >Lognormal Standard Deviation (log units)</th>\n",
       "      <th id=\"T_447ad_level0_col2\" class=\"col_heading level0 col2\" >-1 Lognormal Standard Deviation (units)</th>\n",
       "      <th id=\"T_447ad_level0_col3\" class=\"col_heading level0 col3\" >+1 Lognormal Standard Deviation (units)</th>\n",
       "    </tr>\n",
       "  </thead>\n",
       "  <tbody>\n",
       "    <tr>\n",
       "      <th id=\"T_447ad_level0_row0\" class=\"row_heading level0 row0\" >Resonant Site Frequency, fn (Hz)</th>\n",
       "      <td id=\"T_447ad_row0_col0\" class=\"data row0 col0\" >2.503</td>\n",
       "      <td id=\"T_447ad_row0_col1\" class=\"data row0 col1\" >0.670</td>\n",
       "      <td id=\"T_447ad_row0_col2\" class=\"data row0 col2\" >1.281</td>\n",
       "      <td id=\"T_447ad_row0_col3\" class=\"data row0 col3\" >4.891</td>\n",
       "    </tr>\n",
       "    <tr>\n",
       "      <th id=\"T_447ad_level0_row1\" class=\"row_heading level0 row1\" >Resonant Site Period, Tn (s)</th>\n",
       "      <td id=\"T_447ad_row1_col0\" class=\"data row1 col0\" >0.399</td>\n",
       "      <td id=\"T_447ad_row1_col1\" class=\"data row1 col1\" >0.670</td>\n",
       "      <td id=\"T_447ad_row1_col2\" class=\"data row1 col2\" >0.781</td>\n",
       "      <td id=\"T_447ad_row1_col3\" class=\"data row1 col3\" >0.204</td>\n",
       "    </tr>\n",
       "    <tr>\n",
       "      <th id=\"T_447ad_level0_row2\" class=\"row_heading level0 row2\" >Resonance Amplitude, An</th>\n",
       "      <td id=\"T_447ad_row2_col0\" class=\"data row2 col0\" >14.010</td>\n",
       "      <td id=\"T_447ad_row2_col1\" class=\"data row2 col1\" >0.454</td>\n",
       "      <td id=\"T_447ad_row2_col2\" class=\"data row2 col2\" >8.902</td>\n",
       "      <td id=\"T_447ad_row2_col3\" class=\"data row2 col3\" >22.051</td>\n",
       "    </tr>\n",
       "  </tbody>\n",
       "</table>\n"
      ]
     },
     "metadata": {},
     "output_type": "display_data"
    },
    {
     "name": "stdout",
     "output_type": "stream",
     "text": [
      "\n",
      "▶ Processing: 453018570.0002.2025.03.23.04.37.18.000\n"
     ]
    },
    {
     "data": {
      "text/plain": [
       "<pandas.io.formats.style.Styler at 0x20883a51410>"
      ],
      "text/html": [
       "<style type=\"text/css\">\n",
       "#T_65d6d caption {\n",
       "  caption-side: bottom;\n",
       "  font-size: 1.25em;\n",
       "}\n",
       "</style>\n",
       "<table id=\"T_65d6d\">\n",
       "  <caption>The peak of the mean curve is at 4.729 Hz with amplitude 9.325.</caption>\n",
       "  <thead>\n",
       "    <tr>\n",
       "      <th class=\"blank level0\" >&nbsp;</th>\n",
       "      <th id=\"T_65d6d_level0_col0\" class=\"col_heading level0 col0\" >Exponentitated Lognormal Median (units)</th>\n",
       "      <th id=\"T_65d6d_level0_col1\" class=\"col_heading level0 col1\" >Lognormal Standard Deviation (log units)</th>\n",
       "      <th id=\"T_65d6d_level0_col2\" class=\"col_heading level0 col2\" >-1 Lognormal Standard Deviation (units)</th>\n",
       "      <th id=\"T_65d6d_level0_col3\" class=\"col_heading level0 col3\" >+1 Lognormal Standard Deviation (units)</th>\n",
       "    </tr>\n",
       "  </thead>\n",
       "  <tbody>\n",
       "    <tr>\n",
       "      <th id=\"T_65d6d_level0_row0\" class=\"row_heading level0 row0\" >Resonant Site Frequency, fn (Hz)</th>\n",
       "      <td id=\"T_65d6d_row0_col0\" class=\"data row0 col0\" >2.251</td>\n",
       "      <td id=\"T_65d6d_row0_col1\" class=\"data row0 col1\" >0.667</td>\n",
       "      <td id=\"T_65d6d_row0_col2\" class=\"data row0 col2\" >1.155</td>\n",
       "      <td id=\"T_65d6d_row0_col3\" class=\"data row0 col3\" >4.386</td>\n",
       "    </tr>\n",
       "    <tr>\n",
       "      <th id=\"T_65d6d_level0_row1\" class=\"row_heading level0 row1\" >Resonant Site Period, Tn (s)</th>\n",
       "      <td id=\"T_65d6d_row1_col0\" class=\"data row1 col0\" >0.444</td>\n",
       "      <td id=\"T_65d6d_row1_col1\" class=\"data row1 col1\" >0.667</td>\n",
       "      <td id=\"T_65d6d_row1_col2\" class=\"data row1 col2\" >0.866</td>\n",
       "      <td id=\"T_65d6d_row1_col3\" class=\"data row1 col3\" >0.228</td>\n",
       "    </tr>\n",
       "    <tr>\n",
       "      <th id=\"T_65d6d_level0_row2\" class=\"row_heading level0 row2\" >Resonance Amplitude, An</th>\n",
       "      <td id=\"T_65d6d_row2_col0\" class=\"data row2 col0\" >13.412</td>\n",
       "      <td id=\"T_65d6d_row2_col1\" class=\"data row2 col1\" >0.418</td>\n",
       "      <td id=\"T_65d6d_row2_col2\" class=\"data row2 col2\" >8.828</td>\n",
       "      <td id=\"T_65d6d_row2_col3\" class=\"data row2 col3\" >20.377</td>\n",
       "    </tr>\n",
       "  </tbody>\n",
       "</table>\n"
      ]
     },
     "metadata": {},
     "output_type": "display_data"
    },
    {
     "name": "stdout",
     "output_type": "stream",
     "text": [
      "\n",
      "▶ Processing: 453018570.0003.2025.03.23.05.41.34.000\n"
     ]
    },
    {
     "data": {
      "text/plain": [
       "<pandas.io.formats.style.Styler at 0x2089ed57490>"
      ],
      "text/html": [
       "<style type=\"text/css\">\n",
       "#T_782f4 caption {\n",
       "  caption-side: bottom;\n",
       "  font-size: 1.25em;\n",
       "}\n",
       "</style>\n",
       "<table id=\"T_782f4\">\n",
       "  <caption>The peak of the mean curve is at 4.599 Hz with amplitude 9.292.</caption>\n",
       "  <thead>\n",
       "    <tr>\n",
       "      <th class=\"blank level0\" >&nbsp;</th>\n",
       "      <th id=\"T_782f4_level0_col0\" class=\"col_heading level0 col0\" >Exponentitated Lognormal Median (units)</th>\n",
       "      <th id=\"T_782f4_level0_col1\" class=\"col_heading level0 col1\" >Lognormal Standard Deviation (log units)</th>\n",
       "      <th id=\"T_782f4_level0_col2\" class=\"col_heading level0 col2\" >-1 Lognormal Standard Deviation (units)</th>\n",
       "      <th id=\"T_782f4_level0_col3\" class=\"col_heading level0 col3\" >+1 Lognormal Standard Deviation (units)</th>\n",
       "    </tr>\n",
       "  </thead>\n",
       "  <tbody>\n",
       "    <tr>\n",
       "      <th id=\"T_782f4_level0_row0\" class=\"row_heading level0 row0\" >Resonant Site Frequency, fn (Hz)</th>\n",
       "      <td id=\"T_782f4_row0_col0\" class=\"data row0 col0\" >2.646</td>\n",
       "      <td id=\"T_782f4_row0_col1\" class=\"data row0 col1\" >0.664</td>\n",
       "      <td id=\"T_782f4_row0_col2\" class=\"data row0 col2\" >1.363</td>\n",
       "      <td id=\"T_782f4_row0_col3\" class=\"data row0 col3\" >5.139</td>\n",
       "    </tr>\n",
       "    <tr>\n",
       "      <th id=\"T_782f4_level0_row1\" class=\"row_heading level0 row1\" >Resonant Site Period, Tn (s)</th>\n",
       "      <td id=\"T_782f4_row1_col0\" class=\"data row1 col0\" >0.378</td>\n",
       "      <td id=\"T_782f4_row1_col1\" class=\"data row1 col1\" >0.664</td>\n",
       "      <td id=\"T_782f4_row1_col2\" class=\"data row1 col2\" >0.734</td>\n",
       "      <td id=\"T_782f4_row1_col3\" class=\"data row1 col3\" >0.195</td>\n",
       "    </tr>\n",
       "    <tr>\n",
       "      <th id=\"T_782f4_level0_row2\" class=\"row_heading level0 row2\" >Resonance Amplitude, An</th>\n",
       "      <td id=\"T_782f4_row2_col0\" class=\"data row2 col0\" >12.085</td>\n",
       "      <td id=\"T_782f4_row2_col1\" class=\"data row2 col1\" >0.383</td>\n",
       "      <td id=\"T_782f4_row2_col2\" class=\"data row2 col2\" >8.236</td>\n",
       "      <td id=\"T_782f4_row2_col3\" class=\"data row2 col3\" >17.731</td>\n",
       "    </tr>\n",
       "  </tbody>\n",
       "</table>\n"
      ]
     },
     "metadata": {},
     "output_type": "display_data"
    },
    {
     "name": "stdout",
     "output_type": "stream",
     "text": [
      "\n",
      "▶ Processing: 453018570.0004.2025.03.23.07.23.34.000\n"
     ]
    },
    {
     "data": {
      "text/plain": [
       "<pandas.io.formats.style.Styler at 0x2088394f490>"
      ],
      "text/html": [
       "<style type=\"text/css\">\n",
       "#T_5bb25 caption {\n",
       "  caption-side: bottom;\n",
       "  font-size: 1.25em;\n",
       "}\n",
       "</style>\n",
       "<table id=\"T_5bb25\">\n",
       "  <caption>The peak of the mean curve is at 4.232 Hz with amplitude 3.860.</caption>\n",
       "  <thead>\n",
       "    <tr>\n",
       "      <th class=\"blank level0\" >&nbsp;</th>\n",
       "      <th id=\"T_5bb25_level0_col0\" class=\"col_heading level0 col0\" >Exponentitated Lognormal Median (units)</th>\n",
       "      <th id=\"T_5bb25_level0_col1\" class=\"col_heading level0 col1\" >Lognormal Standard Deviation (log units)</th>\n",
       "      <th id=\"T_5bb25_level0_col2\" class=\"col_heading level0 col2\" >-1 Lognormal Standard Deviation (units)</th>\n",
       "      <th id=\"T_5bb25_level0_col3\" class=\"col_heading level0 col3\" >+1 Lognormal Standard Deviation (units)</th>\n",
       "    </tr>\n",
       "  </thead>\n",
       "  <tbody>\n",
       "    <tr>\n",
       "      <th id=\"T_5bb25_level0_row0\" class=\"row_heading level0 row0\" >Resonant Site Frequency, fn (Hz)</th>\n",
       "      <td id=\"T_5bb25_row0_col0\" class=\"data row0 col0\" >2.191</td>\n",
       "      <td id=\"T_5bb25_row0_col1\" class=\"data row0 col1\" >0.543</td>\n",
       "      <td id=\"T_5bb25_row0_col2\" class=\"data row0 col2\" >1.273</td>\n",
       "      <td id=\"T_5bb25_row0_col3\" class=\"data row0 col3\" >3.772</td>\n",
       "    </tr>\n",
       "    <tr>\n",
       "      <th id=\"T_5bb25_level0_row1\" class=\"row_heading level0 row1\" >Resonant Site Period, Tn (s)</th>\n",
       "      <td id=\"T_5bb25_row1_col0\" class=\"data row1 col0\" >0.456</td>\n",
       "      <td id=\"T_5bb25_row1_col1\" class=\"data row1 col1\" >0.543</td>\n",
       "      <td id=\"T_5bb25_row1_col2\" class=\"data row1 col2\" >0.786</td>\n",
       "      <td id=\"T_5bb25_row1_col3\" class=\"data row1 col3\" >0.265</td>\n",
       "    </tr>\n",
       "    <tr>\n",
       "      <th id=\"T_5bb25_level0_row2\" class=\"row_heading level0 row2\" >Resonance Amplitude, An</th>\n",
       "      <td id=\"T_5bb25_row2_col0\" class=\"data row2 col0\" >7.577</td>\n",
       "      <td id=\"T_5bb25_row2_col1\" class=\"data row2 col1\" >0.811</td>\n",
       "      <td id=\"T_5bb25_row2_col2\" class=\"data row2 col2\" >3.366</td>\n",
       "      <td id=\"T_5bb25_row2_col3\" class=\"data row2 col3\" >17.053</td>\n",
       "    </tr>\n",
       "  </tbody>\n",
       "</table>\n"
      ]
     },
     "metadata": {},
     "output_type": "display_data"
    },
    {
     "name": "stdout",
     "output_type": "stream",
     "text": [
      "\n",
      "▶ Processing: 453018570.0005.2025.03.23.09.30.06.000\n"
     ]
    },
    {
     "data": {
      "text/plain": [
       "<pandas.io.formats.style.Styler at 0x2086653f490>"
      ],
      "text/html": [
       "<style type=\"text/css\">\n",
       "#T_a0d3a caption {\n",
       "  caption-side: bottom;\n",
       "  font-size: 1.25em;\n",
       "}\n",
       "</style>\n",
       "<table id=\"T_a0d3a\">\n",
       "  <caption>The peak of the mean curve is at 4.232 Hz with amplitude 3.680.</caption>\n",
       "  <thead>\n",
       "    <tr>\n",
       "      <th class=\"blank level0\" >&nbsp;</th>\n",
       "      <th id=\"T_a0d3a_level0_col0\" class=\"col_heading level0 col0\" >Exponentitated Lognormal Median (units)</th>\n",
       "      <th id=\"T_a0d3a_level0_col1\" class=\"col_heading level0 col1\" >Lognormal Standard Deviation (log units)</th>\n",
       "      <th id=\"T_a0d3a_level0_col2\" class=\"col_heading level0 col2\" >-1 Lognormal Standard Deviation (units)</th>\n",
       "      <th id=\"T_a0d3a_level0_col3\" class=\"col_heading level0 col3\" >+1 Lognormal Standard Deviation (units)</th>\n",
       "    </tr>\n",
       "  </thead>\n",
       "  <tbody>\n",
       "    <tr>\n",
       "      <th id=\"T_a0d3a_level0_row0\" class=\"row_heading level0 row0\" >Resonant Site Frequency, fn (Hz)</th>\n",
       "      <td id=\"T_a0d3a_row0_col0\" class=\"data row0 col0\" >2.886</td>\n",
       "      <td id=\"T_a0d3a_row0_col1\" class=\"data row0 col1\" >0.527</td>\n",
       "      <td id=\"T_a0d3a_row0_col2\" class=\"data row0 col2\" >1.704</td>\n",
       "      <td id=\"T_a0d3a_row0_col3\" class=\"data row0 col3\" >4.887</td>\n",
       "    </tr>\n",
       "    <tr>\n",
       "      <th id=\"T_a0d3a_level0_row1\" class=\"row_heading level0 row1\" >Resonant Site Period, Tn (s)</th>\n",
       "      <td id=\"T_a0d3a_row1_col0\" class=\"data row1 col0\" >0.347</td>\n",
       "      <td id=\"T_a0d3a_row1_col1\" class=\"data row1 col1\" >0.527</td>\n",
       "      <td id=\"T_a0d3a_row1_col2\" class=\"data row1 col2\" >0.587</td>\n",
       "      <td id=\"T_a0d3a_row1_col3\" class=\"data row1 col3\" >0.205</td>\n",
       "    </tr>\n",
       "    <tr>\n",
       "      <th id=\"T_a0d3a_level0_row2\" class=\"row_heading level0 row2\" >Resonance Amplitude, An</th>\n",
       "      <td id=\"T_a0d3a_row2_col0\" class=\"data row2 col0\" >5.007</td>\n",
       "      <td id=\"T_a0d3a_row2_col1\" class=\"data row2 col1\" >0.474</td>\n",
       "      <td id=\"T_a0d3a_row2_col2\" class=\"data row2 col2\" >3.117</td>\n",
       "      <td id=\"T_a0d3a_row2_col3\" class=\"data row2 col3\" >8.045</td>\n",
       "    </tr>\n",
       "  </tbody>\n",
       "</table>\n"
      ]
     },
     "metadata": {},
     "output_type": "display_data"
    },
    {
     "name": "stdout",
     "output_type": "stream",
     "text": [
      "\n",
      "▶ Processing: 453018570.0006.2025.03.26.01.46.54.000\n"
     ]
    },
    {
     "data": {
      "text/plain": [
       "<pandas.io.formats.style.Styler at 0x208a91d5ed0>"
      ],
      "text/html": [
       "<style type=\"text/css\">\n",
       "#T_bee16 caption {\n",
       "  caption-side: bottom;\n",
       "  font-size: 1.25em;\n",
       "}\n",
       "</style>\n",
       "<table id=\"T_bee16\">\n",
       "  <caption>The peak of the mean curve is at 1.149 Hz with amplitude 11.106.</caption>\n",
       "  <thead>\n",
       "    <tr>\n",
       "      <th class=\"blank level0\" >&nbsp;</th>\n",
       "      <th id=\"T_bee16_level0_col0\" class=\"col_heading level0 col0\" >Exponentitated Lognormal Median (units)</th>\n",
       "      <th id=\"T_bee16_level0_col1\" class=\"col_heading level0 col1\" >Lognormal Standard Deviation (log units)</th>\n",
       "      <th id=\"T_bee16_level0_col2\" class=\"col_heading level0 col2\" >-1 Lognormal Standard Deviation (units)</th>\n",
       "      <th id=\"T_bee16_level0_col3\" class=\"col_heading level0 col3\" >+1 Lognormal Standard Deviation (units)</th>\n",
       "    </tr>\n",
       "  </thead>\n",
       "  <tbody>\n",
       "    <tr>\n",
       "      <th id=\"T_bee16_level0_row0\" class=\"row_heading level0 row0\" >Resonant Site Frequency, fn (Hz)</th>\n",
       "      <td id=\"T_bee16_row0_col0\" class=\"data row0 col0\" >1.963</td>\n",
       "      <td id=\"T_bee16_row0_col1\" class=\"data row0 col1\" >0.640</td>\n",
       "      <td id=\"T_bee16_row0_col2\" class=\"data row0 col2\" >1.035</td>\n",
       "      <td id=\"T_bee16_row0_col3\" class=\"data row0 col3\" >3.721</td>\n",
       "    </tr>\n",
       "    <tr>\n",
       "      <th id=\"T_bee16_level0_row1\" class=\"row_heading level0 row1\" >Resonant Site Period, Tn (s)</th>\n",
       "      <td id=\"T_bee16_row1_col0\" class=\"data row1 col0\" >0.509</td>\n",
       "      <td id=\"T_bee16_row1_col1\" class=\"data row1 col1\" >0.640</td>\n",
       "      <td id=\"T_bee16_row1_col2\" class=\"data row1 col2\" >0.966</td>\n",
       "      <td id=\"T_bee16_row1_col3\" class=\"data row1 col3\" >0.269</td>\n",
       "    </tr>\n",
       "    <tr>\n",
       "      <th id=\"T_bee16_level0_row2\" class=\"row_heading level0 row2\" >Resonance Amplitude, An</th>\n",
       "      <td id=\"T_bee16_row2_col0\" class=\"data row2 col0\" >16.571</td>\n",
       "      <td id=\"T_bee16_row2_col1\" class=\"data row2 col1\" >0.464</td>\n",
       "      <td id=\"T_bee16_row2_col2\" class=\"data row2 col2\" >10.415</td>\n",
       "      <td id=\"T_bee16_row2_col3\" class=\"data row2 col3\" >26.365</td>\n",
       "    </tr>\n",
       "  </tbody>\n",
       "</table>\n"
      ]
     },
     "metadata": {},
     "output_type": "display_data"
    },
    {
     "name": "stdout",
     "output_type": "stream",
     "text": [
      "\n",
      "▶ Processing: 453018570.0007.2025.04.01.04.53.22.000\n"
     ]
    },
    {
     "data": {
      "text/plain": [
       "<pandas.io.formats.style.Styler at 0x208a995a590>"
      ],
      "text/html": [
       "<style type=\"text/css\">\n",
       "#T_fe1bc caption {\n",
       "  caption-side: bottom;\n",
       "  font-size: 1.25em;\n",
       "}\n",
       "</style>\n",
       "<table id=\"T_fe1bc\">\n",
       "  <caption>The peak of the mean curve is at 1.248 Hz with amplitude 12.749.</caption>\n",
       "  <thead>\n",
       "    <tr>\n",
       "      <th class=\"blank level0\" >&nbsp;</th>\n",
       "      <th id=\"T_fe1bc_level0_col0\" class=\"col_heading level0 col0\" >Exponentitated Lognormal Median (units)</th>\n",
       "      <th id=\"T_fe1bc_level0_col1\" class=\"col_heading level0 col1\" >Lognormal Standard Deviation (log units)</th>\n",
       "      <th id=\"T_fe1bc_level0_col2\" class=\"col_heading level0 col2\" >-1 Lognormal Standard Deviation (units)</th>\n",
       "      <th id=\"T_fe1bc_level0_col3\" class=\"col_heading level0 col3\" >+1 Lognormal Standard Deviation (units)</th>\n",
       "    </tr>\n",
       "  </thead>\n",
       "  <tbody>\n",
       "    <tr>\n",
       "      <th id=\"T_fe1bc_level0_row0\" class=\"row_heading level0 row0\" >Resonant Site Frequency, fn (Hz)</th>\n",
       "      <td id=\"T_fe1bc_row0_col0\" class=\"data row0 col0\" >1.258</td>\n",
       "      <td id=\"T_fe1bc_row0_col1\" class=\"data row0 col1\" >0.122</td>\n",
       "      <td id=\"T_fe1bc_row0_col2\" class=\"data row0 col2\" >1.114</td>\n",
       "      <td id=\"T_fe1bc_row0_col3\" class=\"data row0 col3\" >1.421</td>\n",
       "    </tr>\n",
       "    <tr>\n",
       "      <th id=\"T_fe1bc_level0_row1\" class=\"row_heading level0 row1\" >Resonant Site Period, Tn (s)</th>\n",
       "      <td id=\"T_fe1bc_row1_col0\" class=\"data row1 col0\" >0.795</td>\n",
       "      <td id=\"T_fe1bc_row1_col1\" class=\"data row1 col1\" >0.122</td>\n",
       "      <td id=\"T_fe1bc_row1_col2\" class=\"data row1 col2\" >0.898</td>\n",
       "      <td id=\"T_fe1bc_row1_col3\" class=\"data row1 col3\" >0.703</td>\n",
       "    </tr>\n",
       "    <tr>\n",
       "      <th id=\"T_fe1bc_level0_row2\" class=\"row_heading level0 row2\" >Resonance Amplitude, An</th>\n",
       "      <td id=\"T_fe1bc_row2_col0\" class=\"data row2 col0\" >16.881</td>\n",
       "      <td id=\"T_fe1bc_row2_col1\" class=\"data row2 col1\" >0.621</td>\n",
       "      <td id=\"T_fe1bc_row2_col2\" class=\"data row2 col2\" >9.075</td>\n",
       "      <td id=\"T_fe1bc_row2_col3\" class=\"data row2 col3\" >31.401</td>\n",
       "    </tr>\n",
       "  </tbody>\n",
       "</table>\n"
      ]
     },
     "metadata": {},
     "output_type": "display_data"
    },
    {
     "name": "stdout",
     "output_type": "stream",
     "text": [
      "\n",
      "▶ Processing: 453018570.0008.2025.04.01.05.58.22.000\n"
     ]
    },
    {
     "data": {
      "text/plain": [
       "<pandas.io.formats.style.Styler at 0x2089ef59450>"
      ],
      "text/html": [
       "<style type=\"text/css\">\n",
       "#T_7cb7e caption {\n",
       "  caption-side: bottom;\n",
       "  font-size: 1.25em;\n",
       "}\n",
       "</style>\n",
       "<table id=\"T_7cb7e\">\n",
       "  <caption>The peak of the mean curve is at 1.181 Hz with amplitude 16.278.</caption>\n",
       "  <thead>\n",
       "    <tr>\n",
       "      <th class=\"blank level0\" >&nbsp;</th>\n",
       "      <th id=\"T_7cb7e_level0_col0\" class=\"col_heading level0 col0\" >Exponentitated Lognormal Median (units)</th>\n",
       "      <th id=\"T_7cb7e_level0_col1\" class=\"col_heading level0 col1\" >Lognormal Standard Deviation (log units)</th>\n",
       "      <th id=\"T_7cb7e_level0_col2\" class=\"col_heading level0 col2\" >-1 Lognormal Standard Deviation (units)</th>\n",
       "      <th id=\"T_7cb7e_level0_col3\" class=\"col_heading level0 col3\" >+1 Lognormal Standard Deviation (units)</th>\n",
       "    </tr>\n",
       "  </thead>\n",
       "  <tbody>\n",
       "    <tr>\n",
       "      <th id=\"T_7cb7e_level0_row0\" class=\"row_heading level0 row0\" >Resonant Site Frequency, fn (Hz)</th>\n",
       "      <td id=\"T_7cb7e_row0_col0\" class=\"data row0 col0\" >1.180</td>\n",
       "      <td id=\"T_7cb7e_row0_col1\" class=\"data row0 col1\" >0.087</td>\n",
       "      <td id=\"T_7cb7e_row0_col2\" class=\"data row0 col2\" >1.081</td>\n",
       "      <td id=\"T_7cb7e_row0_col3\" class=\"data row0 col3\" >1.287</td>\n",
       "    </tr>\n",
       "    <tr>\n",
       "      <th id=\"T_7cb7e_level0_row1\" class=\"row_heading level0 row1\" >Resonant Site Period, Tn (s)</th>\n",
       "      <td id=\"T_7cb7e_row1_col0\" class=\"data row1 col0\" >0.848</td>\n",
       "      <td id=\"T_7cb7e_row1_col1\" class=\"data row1 col1\" >0.087</td>\n",
       "      <td id=\"T_7cb7e_row1_col2\" class=\"data row1 col2\" >0.925</td>\n",
       "      <td id=\"T_7cb7e_row1_col3\" class=\"data row1 col3\" >0.777</td>\n",
       "    </tr>\n",
       "    <tr>\n",
       "      <th id=\"T_7cb7e_level0_row2\" class=\"row_heading level0 row2\" >Resonance Amplitude, An</th>\n",
       "      <td id=\"T_7cb7e_row2_col0\" class=\"data row2 col0\" >20.409</td>\n",
       "      <td id=\"T_7cb7e_row2_col1\" class=\"data row2 col1\" >0.499</td>\n",
       "      <td id=\"T_7cb7e_row2_col2\" class=\"data row2 col2\" >12.395</td>\n",
       "      <td id=\"T_7cb7e_row2_col3\" class=\"data row2 col3\" >33.605</td>\n",
       "    </tr>\n",
       "  </tbody>\n",
       "</table>\n"
      ]
     },
     "metadata": {},
     "output_type": "display_data"
    },
    {
     "name": "stdout",
     "output_type": "stream",
     "text": [
      "\n",
      "▶ Processing: 453018570.0009.2025.04.06.04.08.54.000\n"
     ]
    },
    {
     "data": {
      "text/plain": [
       "<pandas.io.formats.style.Styler at 0x2089efeefd0>"
      ],
      "text/html": [
       "<style type=\"text/css\">\n",
       "#T_4e519 caption {\n",
       "  caption-side: bottom;\n",
       "  font-size: 1.25em;\n",
       "}\n",
       "</style>\n",
       "<table id=\"T_4e519\">\n",
       "  <caption>The peak of the mean curve is at 4.599 Hz with amplitude 6.511.</caption>\n",
       "  <thead>\n",
       "    <tr>\n",
       "      <th class=\"blank level0\" >&nbsp;</th>\n",
       "      <th id=\"T_4e519_level0_col0\" class=\"col_heading level0 col0\" >Exponentitated Lognormal Median (units)</th>\n",
       "      <th id=\"T_4e519_level0_col1\" class=\"col_heading level0 col1\" >Lognormal Standard Deviation (log units)</th>\n",
       "      <th id=\"T_4e519_level0_col2\" class=\"col_heading level0 col2\" >-1 Lognormal Standard Deviation (units)</th>\n",
       "      <th id=\"T_4e519_level0_col3\" class=\"col_heading level0 col3\" >+1 Lognormal Standard Deviation (units)</th>\n",
       "    </tr>\n",
       "  </thead>\n",
       "  <tbody>\n",
       "    <tr>\n",
       "      <th id=\"T_4e519_level0_row0\" class=\"row_heading level0 row0\" >Resonant Site Frequency, fn (Hz)</th>\n",
       "      <td id=\"T_4e519_row0_col0\" class=\"data row0 col0\" >4.658</td>\n",
       "      <td id=\"T_4e519_row0_col1\" class=\"data row0 col1\" >0.041</td>\n",
       "      <td id=\"T_4e519_row0_col2\" class=\"data row0 col2\" >4.473</td>\n",
       "      <td id=\"T_4e519_row0_col3\" class=\"data row0 col3\" >4.851</td>\n",
       "    </tr>\n",
       "    <tr>\n",
       "      <th id=\"T_4e519_level0_row1\" class=\"row_heading level0 row1\" >Resonant Site Period, Tn (s)</th>\n",
       "      <td id=\"T_4e519_row1_col0\" class=\"data row1 col0\" >0.215</td>\n",
       "      <td id=\"T_4e519_row1_col1\" class=\"data row1 col1\" >0.041</td>\n",
       "      <td id=\"T_4e519_row1_col2\" class=\"data row1 col2\" >0.224</td>\n",
       "      <td id=\"T_4e519_row1_col3\" class=\"data row1 col3\" >0.206</td>\n",
       "    </tr>\n",
       "    <tr>\n",
       "      <th id=\"T_4e519_level0_row2\" class=\"row_heading level0 row2\" >Resonance Amplitude, An</th>\n",
       "      <td id=\"T_4e519_row2_col0\" class=\"data row2 col0\" >6.805</td>\n",
       "      <td id=\"T_4e519_row2_col1\" class=\"data row2 col1\" >0.170</td>\n",
       "      <td id=\"T_4e519_row2_col2\" class=\"data row2 col2\" >5.743</td>\n",
       "      <td id=\"T_4e519_row2_col3\" class=\"data row2 col3\" >8.062</td>\n",
       "    </tr>\n",
       "  </tbody>\n",
       "</table>\n"
      ]
     },
     "metadata": {},
     "output_type": "display_data"
    },
    {
     "name": "stdout",
     "output_type": "stream",
     "text": [
      "\n",
      "▶ Processing: 453018570.0010.2025.04.06.05.26.18.000\n"
     ]
    },
    {
     "data": {
      "text/plain": [
       "<pandas.io.formats.style.Styler at 0x208a9a6d610>"
      ],
      "text/html": [
       "<style type=\"text/css\">\n",
       "#T_b3820 caption {\n",
       "  caption-side: bottom;\n",
       "  font-size: 1.25em;\n",
       "}\n",
       "</style>\n",
       "<table id=\"T_b3820\">\n",
       "  <caption>The peak of the mean curve is at 4.599 Hz with amplitude 6.310.</caption>\n",
       "  <thead>\n",
       "    <tr>\n",
       "      <th class=\"blank level0\" >&nbsp;</th>\n",
       "      <th id=\"T_b3820_level0_col0\" class=\"col_heading level0 col0\" >Exponentitated Lognormal Median (units)</th>\n",
       "      <th id=\"T_b3820_level0_col1\" class=\"col_heading level0 col1\" >Lognormal Standard Deviation (log units)</th>\n",
       "      <th id=\"T_b3820_level0_col2\" class=\"col_heading level0 col2\" >-1 Lognormal Standard Deviation (units)</th>\n",
       "      <th id=\"T_b3820_level0_col3\" class=\"col_heading level0 col3\" >+1 Lognormal Standard Deviation (units)</th>\n",
       "    </tr>\n",
       "  </thead>\n",
       "  <tbody>\n",
       "    <tr>\n",
       "      <th id=\"T_b3820_level0_row0\" class=\"row_heading level0 row0\" >Resonant Site Frequency, fn (Hz)</th>\n",
       "      <td id=\"T_b3820_row0_col0\" class=\"data row0 col0\" >3.072</td>\n",
       "      <td id=\"T_b3820_row0_col1\" class=\"data row0 col1\" >0.571</td>\n",
       "      <td id=\"T_b3820_row0_col2\" class=\"data row0 col2\" >1.736</td>\n",
       "      <td id=\"T_b3820_row0_col3\" class=\"data row0 col3\" >5.436</td>\n",
       "    </tr>\n",
       "    <tr>\n",
       "      <th id=\"T_b3820_level0_row1\" class=\"row_heading level0 row1\" >Resonant Site Period, Tn (s)</th>\n",
       "      <td id=\"T_b3820_row1_col0\" class=\"data row1 col0\" >0.325</td>\n",
       "      <td id=\"T_b3820_row1_col1\" class=\"data row1 col1\" >0.571</td>\n",
       "      <td id=\"T_b3820_row1_col2\" class=\"data row1 col2\" >0.576</td>\n",
       "      <td id=\"T_b3820_row1_col3\" class=\"data row1 col3\" >0.184</td>\n",
       "    </tr>\n",
       "    <tr>\n",
       "      <th id=\"T_b3820_level0_row2\" class=\"row_heading level0 row2\" >Resonance Amplitude, An</th>\n",
       "      <td id=\"T_b3820_row2_col0\" class=\"data row2 col0\" >8.260</td>\n",
       "      <td id=\"T_b3820_row2_col1\" class=\"data row2 col1\" >0.414</td>\n",
       "      <td id=\"T_b3820_row2_col2\" class=\"data row2 col2\" >5.462</td>\n",
       "      <td id=\"T_b3820_row2_col3\" class=\"data row2 col3\" >12.491</td>\n",
       "    </tr>\n",
       "  </tbody>\n",
       "</table>\n"
      ]
     },
     "metadata": {},
     "output_type": "display_data"
    },
    {
     "data": {
      "text/plain": [
       "<pandas.io.formats.style.Styler at 0x208a9c39690>"
      ],
      "text/html": [
       "<style type=\"text/css\">\n",
       "#T_a84fc caption {\n",
       "  caption-side: bottom;\n",
       "  font-size: 1.25em;\n",
       "}\n",
       "</style>\n",
       "<table id=\"T_a84fc\">\n",
       "  <caption>The peak of the mean curve is at 1.057 Hz with amplitude 3.906.</caption>\n",
       "  <thead>\n",
       "    <tr>\n",
       "      <th class=\"blank level0\" >&nbsp;</th>\n",
       "      <th id=\"T_a84fc_level0_col0\" class=\"col_heading level0 col0\" >Exponentitated Lognormal Median (units)</th>\n",
       "      <th id=\"T_a84fc_level0_col1\" class=\"col_heading level0 col1\" >Lognormal Standard Deviation (log units)</th>\n",
       "      <th id=\"T_a84fc_level0_col2\" class=\"col_heading level0 col2\" >-1 Lognormal Standard Deviation (units)</th>\n",
       "      <th id=\"T_a84fc_level0_col3\" class=\"col_heading level0 col3\" >+1 Lognormal Standard Deviation (units)</th>\n",
       "    </tr>\n",
       "  </thead>\n",
       "  <tbody>\n",
       "    <tr>\n",
       "      <th id=\"T_a84fc_level0_row0\" class=\"row_heading level0 row0\" >Resonant Site Frequency, fn (Hz)</th>\n",
       "      <td id=\"T_a84fc_row0_col0\" class=\"data row0 col0\" >2.051</td>\n",
       "      <td id=\"T_a84fc_row0_col1\" class=\"data row0 col1\" >0.849</td>\n",
       "      <td id=\"T_a84fc_row0_col2\" class=\"data row0 col2\" >0.877</td>\n",
       "      <td id=\"T_a84fc_row0_col3\" class=\"data row0 col3\" >4.793</td>\n",
       "    </tr>\n",
       "    <tr>\n",
       "      <th id=\"T_a84fc_level0_row1\" class=\"row_heading level0 row1\" >Resonant Site Period, Tn (s)</th>\n",
       "      <td id=\"T_a84fc_row1_col0\" class=\"data row1 col0\" >0.488</td>\n",
       "      <td id=\"T_a84fc_row1_col1\" class=\"data row1 col1\" >0.849</td>\n",
       "      <td id=\"T_a84fc_row1_col2\" class=\"data row1 col2\" >1.140</td>\n",
       "      <td id=\"T_a84fc_row1_col3\" class=\"data row1 col3\" >0.209</td>\n",
       "    </tr>\n",
       "    <tr>\n",
       "      <th id=\"T_a84fc_level0_row2\" class=\"row_heading level0 row2\" >Resonance Amplitude, An</th>\n",
       "      <td id=\"T_a84fc_row2_col0\" class=\"data row2 col0\" >5.109</td>\n",
       "      <td id=\"T_a84fc_row2_col1\" class=\"data row2 col1\" >0.727</td>\n",
       "      <td id=\"T_a84fc_row2_col2\" class=\"data row2 col2\" >2.470</td>\n",
       "      <td id=\"T_a84fc_row2_col3\" class=\"data row2 col3\" >10.568</td>\n",
       "    </tr>\n",
       "  </tbody>\n",
       "</table>\n"
      ]
     },
     "metadata": {},
     "output_type": "display_data"
    },
    {
     "name": "stdout",
     "output_type": "stream",
     "text": [
      "\n",
      "▶ Processing: 453018570.0011.2025.04.08.23.08.54.000\n"
     ]
    },
    {
     "data": {
      "text/plain": [
       "<pandas.io.formats.style.Styler at 0x20887a97490>"
      ],
      "text/html": [
       "<style type=\"text/css\">\n",
       "#T_ace47 caption {\n",
       "  caption-side: bottom;\n",
       "  font-size: 1.25em;\n",
       "}\n",
       "</style>\n",
       "<table id=\"T_ace47\">\n",
       "  <caption>The peak of the mean curve is at 1.149 Hz with amplitude 7.600.</caption>\n",
       "  <thead>\n",
       "    <tr>\n",
       "      <th class=\"blank level0\" >&nbsp;</th>\n",
       "      <th id=\"T_ace47_level0_col0\" class=\"col_heading level0 col0\" >Exponentitated Lognormal Median (units)</th>\n",
       "      <th id=\"T_ace47_level0_col1\" class=\"col_heading level0 col1\" >Lognormal Standard Deviation (log units)</th>\n",
       "      <th id=\"T_ace47_level0_col2\" class=\"col_heading level0 col2\" >-1 Lognormal Standard Deviation (units)</th>\n",
       "      <th id=\"T_ace47_level0_col3\" class=\"col_heading level0 col3\" >+1 Lognormal Standard Deviation (units)</th>\n",
       "    </tr>\n",
       "  </thead>\n",
       "  <tbody>\n",
       "    <tr>\n",
       "      <th id=\"T_ace47_level0_row0\" class=\"row_heading level0 row0\" >Resonant Site Frequency, fn (Hz)</th>\n",
       "      <td id=\"T_ace47_row0_col0\" class=\"data row0 col0\" >1.167</td>\n",
       "      <td id=\"T_ace47_row0_col1\" class=\"data row0 col1\" >0.075</td>\n",
       "      <td id=\"T_ace47_row0_col2\" class=\"data row0 col2\" >1.082</td>\n",
       "      <td id=\"T_ace47_row0_col3\" class=\"data row0 col3\" >1.258</td>\n",
       "    </tr>\n",
       "    <tr>\n",
       "      <th id=\"T_ace47_level0_row1\" class=\"row_heading level0 row1\" >Resonant Site Period, Tn (s)</th>\n",
       "      <td id=\"T_ace47_row1_col0\" class=\"data row1 col0\" >0.857</td>\n",
       "      <td id=\"T_ace47_row1_col1\" class=\"data row1 col1\" >0.075</td>\n",
       "      <td id=\"T_ace47_row1_col2\" class=\"data row1 col2\" >0.924</td>\n",
       "      <td id=\"T_ace47_row1_col3\" class=\"data row1 col3\" >0.795</td>\n",
       "    </tr>\n",
       "    <tr>\n",
       "      <th id=\"T_ace47_level0_row2\" class=\"row_heading level0 row2\" >Resonance Amplitude, An</th>\n",
       "      <td id=\"T_ace47_row2_col0\" class=\"data row2 col0\" >9.990</td>\n",
       "      <td id=\"T_ace47_row2_col1\" class=\"data row2 col1\" >0.572</td>\n",
       "      <td id=\"T_ace47_row2_col2\" class=\"data row2 col2\" >5.639</td>\n",
       "      <td id=\"T_ace47_row2_col3\" class=\"data row2 col3\" >17.699</td>\n",
       "    </tr>\n",
       "  </tbody>\n",
       "</table>\n"
      ]
     },
     "metadata": {},
     "output_type": "display_data"
    },
    {
     "name": "stdout",
     "output_type": "stream",
     "text": [
      "\n",
      "▶ Processing: 453018570.0012.2025.04.09.00.00.00.000\n",
      "\n",
      "▶ Processing: 453018570.0013.2025.04.09.00.17.26.000\n"
     ]
    },
    {
     "data": {
      "text/plain": [
       "<pandas.io.formats.style.Styler at 0x20883391690>"
      ],
      "text/html": [
       "<style type=\"text/css\">\n",
       "#T_ed2f7 caption {\n",
       "  caption-side: bottom;\n",
       "  font-size: 1.25em;\n",
       "}\n",
       "</style>\n",
       "<table id=\"T_ed2f7\">\n",
       "  <caption>The peak of the mean curve is at 1.117 Hz with amplitude 13.173.</caption>\n",
       "  <thead>\n",
       "    <tr>\n",
       "      <th class=\"blank level0\" >&nbsp;</th>\n",
       "      <th id=\"T_ed2f7_level0_col0\" class=\"col_heading level0 col0\" >Exponentitated Lognormal Median (units)</th>\n",
       "      <th id=\"T_ed2f7_level0_col1\" class=\"col_heading level0 col1\" >Lognormal Standard Deviation (log units)</th>\n",
       "      <th id=\"T_ed2f7_level0_col2\" class=\"col_heading level0 col2\" >-1 Lognormal Standard Deviation (units)</th>\n",
       "      <th id=\"T_ed2f7_level0_col3\" class=\"col_heading level0 col3\" >+1 Lognormal Standard Deviation (units)</th>\n",
       "    </tr>\n",
       "  </thead>\n",
       "  <tbody>\n",
       "    <tr>\n",
       "      <th id=\"T_ed2f7_level0_row0\" class=\"row_heading level0 row0\" >Resonant Site Frequency, fn (Hz)</th>\n",
       "      <td id=\"T_ed2f7_row0_col0\" class=\"data row0 col0\" >1.147</td>\n",
       "      <td id=\"T_ed2f7_row0_col1\" class=\"data row0 col1\" >0.066</td>\n",
       "      <td id=\"T_ed2f7_row0_col2\" class=\"data row0 col2\" >1.074</td>\n",
       "      <td id=\"T_ed2f7_row0_col3\" class=\"data row0 col3\" >1.225</td>\n",
       "    </tr>\n",
       "    <tr>\n",
       "      <th id=\"T_ed2f7_level0_row1\" class=\"row_heading level0 row1\" >Resonant Site Period, Tn (s)</th>\n",
       "      <td id=\"T_ed2f7_row1_col0\" class=\"data row1 col0\" >0.872</td>\n",
       "      <td id=\"T_ed2f7_row1_col1\" class=\"data row1 col1\" >0.066</td>\n",
       "      <td id=\"T_ed2f7_row1_col2\" class=\"data row1 col2\" >0.931</td>\n",
       "      <td id=\"T_ed2f7_row1_col3\" class=\"data row1 col3\" >0.816</td>\n",
       "    </tr>\n",
       "    <tr>\n",
       "      <th id=\"T_ed2f7_level0_row2\" class=\"row_heading level0 row2\" >Resonance Amplitude, An</th>\n",
       "      <td id=\"T_ed2f7_row2_col0\" class=\"data row2 col0\" >16.120</td>\n",
       "      <td id=\"T_ed2f7_row2_col1\" class=\"data row2 col1\" >0.720</td>\n",
       "      <td id=\"T_ed2f7_row2_col2\" class=\"data row2 col2\" >7.844</td>\n",
       "      <td id=\"T_ed2f7_row2_col3\" class=\"data row2 col3\" >33.127</td>\n",
       "    </tr>\n",
       "  </tbody>\n",
       "</table>\n"
      ]
     },
     "metadata": {},
     "output_type": "display_data"
    },
    {
     "name": "stdout",
     "output_type": "stream",
     "text": [
      "\n",
      "▶ Processing: 453018570.0014.2025.04.11.02.54.54.000\n"
     ]
    },
    {
     "data": {
      "text/plain": [
       "<pandas.io.formats.style.Styler at 0x208ae8cf490>"
      ],
      "text/html": [
       "<style type=\"text/css\">\n",
       "#T_21c61 caption {\n",
       "  caption-side: bottom;\n",
       "  font-size: 1.25em;\n",
       "}\n",
       "</style>\n",
       "<table id=\"T_21c61\">\n",
       "  <caption>The peak of the mean curve is at 4.729 Hz with amplitude 10.045.</caption>\n",
       "  <thead>\n",
       "    <tr>\n",
       "      <th class=\"blank level0\" >&nbsp;</th>\n",
       "      <th id=\"T_21c61_level0_col0\" class=\"col_heading level0 col0\" >Exponentitated Lognormal Median (units)</th>\n",
       "      <th id=\"T_21c61_level0_col1\" class=\"col_heading level0 col1\" >Lognormal Standard Deviation (log units)</th>\n",
       "      <th id=\"T_21c61_level0_col2\" class=\"col_heading level0 col2\" >-1 Lognormal Standard Deviation (units)</th>\n",
       "      <th id=\"T_21c61_level0_col3\" class=\"col_heading level0 col3\" >+1 Lognormal Standard Deviation (units)</th>\n",
       "    </tr>\n",
       "  </thead>\n",
       "  <tbody>\n",
       "    <tr>\n",
       "      <th id=\"T_21c61_level0_row0\" class=\"row_heading level0 row0\" >Resonant Site Frequency, fn (Hz)</th>\n",
       "      <td id=\"T_21c61_row0_col0\" class=\"data row0 col0\" >4.641</td>\n",
       "      <td id=\"T_21c61_row0_col1\" class=\"data row0 col1\" >0.066</td>\n",
       "      <td id=\"T_21c61_row0_col2\" class=\"data row0 col2\" >4.343</td>\n",
       "      <td id=\"T_21c61_row0_col3\" class=\"data row0 col3\" >4.959</td>\n",
       "    </tr>\n",
       "    <tr>\n",
       "      <th id=\"T_21c61_level0_row1\" class=\"row_heading level0 row1\" >Resonant Site Period, Tn (s)</th>\n",
       "      <td id=\"T_21c61_row1_col0\" class=\"data row1 col0\" >0.215</td>\n",
       "      <td id=\"T_21c61_row1_col1\" class=\"data row1 col1\" >0.066</td>\n",
       "      <td id=\"T_21c61_row1_col2\" class=\"data row1 col2\" >0.230</td>\n",
       "      <td id=\"T_21c61_row1_col3\" class=\"data row1 col3\" >0.202</td>\n",
       "    </tr>\n",
       "    <tr>\n",
       "      <th id=\"T_21c61_level0_row2\" class=\"row_heading level0 row2\" >Resonance Amplitude, An</th>\n",
       "      <td id=\"T_21c61_row2_col0\" class=\"data row2 col0\" >11.135</td>\n",
       "      <td id=\"T_21c61_row2_col1\" class=\"data row2 col1\" >0.210</td>\n",
       "      <td id=\"T_21c61_row2_col2\" class=\"data row2 col2\" >9.021</td>\n",
       "      <td id=\"T_21c61_row2_col3\" class=\"data row2 col3\" >13.743</td>\n",
       "    </tr>\n",
       "  </tbody>\n",
       "</table>\n"
      ]
     },
     "metadata": {},
     "output_type": "display_data"
    },
    {
     "name": "stdout",
     "output_type": "stream",
     "text": [
      "\n",
      "▶ Processing: 453018809.0001.2025.03.23.03.35.38.000\n"
     ]
    },
    {
     "data": {
      "text/plain": [
       "<pandas.io.formats.style.Styler at 0x208aec91950>"
      ],
      "text/html": [
       "<style type=\"text/css\">\n",
       "#T_9a6a8 caption {\n",
       "  caption-side: bottom;\n",
       "  font-size: 1.25em;\n",
       "}\n",
       "</style>\n",
       "<table id=\"T_9a6a8\">\n",
       "  <caption>The peak of the mean curve is at 1.181 Hz with amplitude 21.908.</caption>\n",
       "  <thead>\n",
       "    <tr>\n",
       "      <th class=\"blank level0\" >&nbsp;</th>\n",
       "      <th id=\"T_9a6a8_level0_col0\" class=\"col_heading level0 col0\" >Exponentitated Lognormal Median (units)</th>\n",
       "      <th id=\"T_9a6a8_level0_col1\" class=\"col_heading level0 col1\" >Lognormal Standard Deviation (log units)</th>\n",
       "      <th id=\"T_9a6a8_level0_col2\" class=\"col_heading level0 col2\" >-1 Lognormal Standard Deviation (units)</th>\n",
       "      <th id=\"T_9a6a8_level0_col3\" class=\"col_heading level0 col3\" >+1 Lognormal Standard Deviation (units)</th>\n",
       "    </tr>\n",
       "  </thead>\n",
       "  <tbody>\n",
       "    <tr>\n",
       "      <th id=\"T_9a6a8_level0_row0\" class=\"row_heading level0 row0\" >Resonant Site Frequency, fn (Hz)</th>\n",
       "      <td id=\"T_9a6a8_row0_col0\" class=\"data row0 col0\" >1.219</td>\n",
       "      <td id=\"T_9a6a8_row0_col1\" class=\"data row0 col1\" >0.113</td>\n",
       "      <td id=\"T_9a6a8_row0_col2\" class=\"data row0 col2\" >1.089</td>\n",
       "      <td id=\"T_9a6a8_row0_col3\" class=\"data row0 col3\" >1.365</td>\n",
       "    </tr>\n",
       "    <tr>\n",
       "      <th id=\"T_9a6a8_level0_row1\" class=\"row_heading level0 row1\" >Resonant Site Period, Tn (s)</th>\n",
       "      <td id=\"T_9a6a8_row1_col0\" class=\"data row1 col0\" >0.820</td>\n",
       "      <td id=\"T_9a6a8_row1_col1\" class=\"data row1 col1\" >0.113</td>\n",
       "      <td id=\"T_9a6a8_row1_col2\" class=\"data row1 col2\" >0.919</td>\n",
       "      <td id=\"T_9a6a8_row1_col3\" class=\"data row1 col3\" >0.733</td>\n",
       "    </tr>\n",
       "    <tr>\n",
       "      <th id=\"T_9a6a8_level0_row2\" class=\"row_heading level0 row2\" >Resonance Amplitude, An</th>\n",
       "      <td id=\"T_9a6a8_row2_col0\" class=\"data row2 col0\" >28.344</td>\n",
       "      <td id=\"T_9a6a8_row2_col1\" class=\"data row2 col1\" >0.512</td>\n",
       "      <td id=\"T_9a6a8_row2_col2\" class=\"data row2 col2\" >16.994</td>\n",
       "      <td id=\"T_9a6a8_row2_col3\" class=\"data row2 col3\" >47.273</td>\n",
       "    </tr>\n",
       "  </tbody>\n",
       "</table>\n"
      ]
     },
     "metadata": {},
     "output_type": "display_data"
    },
    {
     "name": "stdout",
     "output_type": "stream",
     "text": [
      "\n",
      "▶ Processing: 453018809.0002.2025.03.23.04.41.14.000\n"
     ]
    },
    {
     "data": {
      "text/plain": [
       "<pandas.io.formats.style.Styler at 0x208ae068810>"
      ],
      "text/html": [
       "<style type=\"text/css\">\n",
       "#T_044e7 caption {\n",
       "  caption-side: bottom;\n",
       "  font-size: 1.25em;\n",
       "}\n",
       "</style>\n",
       "<table id=\"T_044e7\">\n",
       "  <caption>The peak of the mean curve is at 1.181 Hz with amplitude 13.457.</caption>\n",
       "  <thead>\n",
       "    <tr>\n",
       "      <th class=\"blank level0\" >&nbsp;</th>\n",
       "      <th id=\"T_044e7_level0_col0\" class=\"col_heading level0 col0\" >Exponentitated Lognormal Median (units)</th>\n",
       "      <th id=\"T_044e7_level0_col1\" class=\"col_heading level0 col1\" >Lognormal Standard Deviation (log units)</th>\n",
       "      <th id=\"T_044e7_level0_col2\" class=\"col_heading level0 col2\" >-1 Lognormal Standard Deviation (units)</th>\n",
       "      <th id=\"T_044e7_level0_col3\" class=\"col_heading level0 col3\" >+1 Lognormal Standard Deviation (units)</th>\n",
       "    </tr>\n",
       "  </thead>\n",
       "  <tbody>\n",
       "    <tr>\n",
       "      <th id=\"T_044e7_level0_row0\" class=\"row_heading level0 row0\" >Resonant Site Frequency, fn (Hz)</th>\n",
       "      <td id=\"T_044e7_row0_col0\" class=\"data row0 col0\" >1.701</td>\n",
       "      <td id=\"T_044e7_row0_col1\" class=\"data row0 col1\" >0.515</td>\n",
       "      <td id=\"T_044e7_row0_col2\" class=\"data row0 col2\" >1.016</td>\n",
       "      <td id=\"T_044e7_row0_col3\" class=\"data row0 col3\" >2.847</td>\n",
       "    </tr>\n",
       "    <tr>\n",
       "      <th id=\"T_044e7_level0_row1\" class=\"row_heading level0 row1\" >Resonant Site Period, Tn (s)</th>\n",
       "      <td id=\"T_044e7_row1_col0\" class=\"data row1 col0\" >0.588</td>\n",
       "      <td id=\"T_044e7_row1_col1\" class=\"data row1 col1\" >0.515</td>\n",
       "      <td id=\"T_044e7_row1_col2\" class=\"data row1 col2\" >0.985</td>\n",
       "      <td id=\"T_044e7_row1_col3\" class=\"data row1 col3\" >0.351</td>\n",
       "    </tr>\n",
       "    <tr>\n",
       "      <th id=\"T_044e7_level0_row2\" class=\"row_heading level0 row2\" >Resonance Amplitude, An</th>\n",
       "      <td id=\"T_044e7_row2_col0\" class=\"data row2 col0\" >20.910</td>\n",
       "      <td id=\"T_044e7_row2_col1\" class=\"data row2 col1\" >0.517</td>\n",
       "      <td id=\"T_044e7_row2_col2\" class=\"data row2 col2\" >12.465</td>\n",
       "      <td id=\"T_044e7_row2_col3\" class=\"data row2 col3\" >35.078</td>\n",
       "    </tr>\n",
       "  </tbody>\n",
       "</table>\n"
      ]
     },
     "metadata": {},
     "output_type": "display_data"
    },
    {
     "name": "stdout",
     "output_type": "stream",
     "text": [
      "\n",
      "▶ Processing: 453018809.0003.2025.03.23.05.46.10.000\n"
     ]
    },
    {
     "data": {
      "text/plain": [
       "<pandas.io.formats.style.Styler at 0x2088f8001d0>"
      ],
      "text/html": [
       "<style type=\"text/css\">\n",
       "#T_35dc4 caption {\n",
       "  caption-side: bottom;\n",
       "  font-size: 1.25em;\n",
       "}\n",
       "</style>\n",
       "<table id=\"T_35dc4\">\n",
       "  <caption>The peak of the mean curve is at 3.787 Hz with amplitude 12.235.</caption>\n",
       "  <thead>\n",
       "    <tr>\n",
       "      <th class=\"blank level0\" >&nbsp;</th>\n",
       "      <th id=\"T_35dc4_level0_col0\" class=\"col_heading level0 col0\" >Exponentitated Lognormal Median (units)</th>\n",
       "      <th id=\"T_35dc4_level0_col1\" class=\"col_heading level0 col1\" >Lognormal Standard Deviation (log units)</th>\n",
       "      <th id=\"T_35dc4_level0_col2\" class=\"col_heading level0 col2\" >-1 Lognormal Standard Deviation (units)</th>\n",
       "      <th id=\"T_35dc4_level0_col3\" class=\"col_heading level0 col3\" >+1 Lognormal Standard Deviation (units)</th>\n",
       "    </tr>\n",
       "  </thead>\n",
       "  <tbody>\n",
       "    <tr>\n",
       "      <th id=\"T_35dc4_level0_row0\" class=\"row_heading level0 row0\" >Resonant Site Frequency, fn (Hz)</th>\n",
       "      <td id=\"T_35dc4_row0_col0\" class=\"data row0 col0\" >1.877</td>\n",
       "      <td id=\"T_35dc4_row0_col1\" class=\"data row0 col1\" >0.553</td>\n",
       "      <td id=\"T_35dc4_row0_col2\" class=\"data row0 col2\" >1.080</td>\n",
       "      <td id=\"T_35dc4_row0_col3\" class=\"data row0 col3\" >3.262</td>\n",
       "    </tr>\n",
       "    <tr>\n",
       "      <th id=\"T_35dc4_level0_row1\" class=\"row_heading level0 row1\" >Resonant Site Period, Tn (s)</th>\n",
       "      <td id=\"T_35dc4_row1_col0\" class=\"data row1 col0\" >0.533</td>\n",
       "      <td id=\"T_35dc4_row1_col1\" class=\"data row1 col1\" >0.553</td>\n",
       "      <td id=\"T_35dc4_row1_col2\" class=\"data row1 col2\" >0.926</td>\n",
       "      <td id=\"T_35dc4_row1_col3\" class=\"data row1 col3\" >0.307</td>\n",
       "    </tr>\n",
       "    <tr>\n",
       "      <th id=\"T_35dc4_level0_row2\" class=\"row_heading level0 row2\" >Resonance Amplitude, An</th>\n",
       "      <td id=\"T_35dc4_row2_col0\" class=\"data row2 col0\" >18.149</td>\n",
       "      <td id=\"T_35dc4_row2_col1\" class=\"data row2 col1\" >0.405</td>\n",
       "      <td id=\"T_35dc4_row2_col2\" class=\"data row2 col2\" >12.100</td>\n",
       "      <td id=\"T_35dc4_row2_col3\" class=\"data row2 col3\" >27.223</td>\n",
       "    </tr>\n",
       "  </tbody>\n",
       "</table>\n"
      ]
     },
     "metadata": {},
     "output_type": "display_data"
    },
    {
     "name": "stdout",
     "output_type": "stream",
     "text": [
      "\n",
      "▶ Processing: 453018809.0004.2025.03.23.07.16.46.000\n"
     ]
    },
    {
     "data": {
      "text/plain": [
       "<pandas.io.formats.style.Styler at 0x208ae128d50>"
      ],
      "text/html": [
       "<style type=\"text/css\">\n",
       "#T_ef3fa caption {\n",
       "  caption-side: bottom;\n",
       "  font-size: 1.25em;\n",
       "}\n",
       "</style>\n",
       "<table id=\"T_ef3fa\">\n",
       "  <caption>The peak of the mean curve is at 4.862 Hz with amplitude 8.772.</caption>\n",
       "  <thead>\n",
       "    <tr>\n",
       "      <th class=\"blank level0\" >&nbsp;</th>\n",
       "      <th id=\"T_ef3fa_level0_col0\" class=\"col_heading level0 col0\" >Exponentitated Lognormal Median (units)</th>\n",
       "      <th id=\"T_ef3fa_level0_col1\" class=\"col_heading level0 col1\" >Lognormal Standard Deviation (log units)</th>\n",
       "      <th id=\"T_ef3fa_level0_col2\" class=\"col_heading level0 col2\" >-1 Lognormal Standard Deviation (units)</th>\n",
       "      <th id=\"T_ef3fa_level0_col3\" class=\"col_heading level0 col3\" >+1 Lognormal Standard Deviation (units)</th>\n",
       "    </tr>\n",
       "  </thead>\n",
       "  <tbody>\n",
       "    <tr>\n",
       "      <th id=\"T_ef3fa_level0_row0\" class=\"row_heading level0 row0\" >Resonant Site Frequency, fn (Hz)</th>\n",
       "      <td id=\"T_ef3fa_row0_col0\" class=\"data row0 col0\" >4.822</td>\n",
       "      <td id=\"T_ef3fa_row0_col1\" class=\"data row0 col1\" >0.025</td>\n",
       "      <td id=\"T_ef3fa_row0_col2\" class=\"data row0 col2\" >4.705</td>\n",
       "      <td id=\"T_ef3fa_row0_col3\" class=\"data row0 col3\" >4.943</td>\n",
       "    </tr>\n",
       "    <tr>\n",
       "      <th id=\"T_ef3fa_level0_row1\" class=\"row_heading level0 row1\" >Resonant Site Period, Tn (s)</th>\n",
       "      <td id=\"T_ef3fa_row1_col0\" class=\"data row1 col0\" >0.207</td>\n",
       "      <td id=\"T_ef3fa_row1_col1\" class=\"data row1 col1\" >0.025</td>\n",
       "      <td id=\"T_ef3fa_row1_col2\" class=\"data row1 col2\" >0.213</td>\n",
       "      <td id=\"T_ef3fa_row1_col3\" class=\"data row1 col3\" >0.202</td>\n",
       "    </tr>\n",
       "    <tr>\n",
       "      <th id=\"T_ef3fa_level0_row2\" class=\"row_heading level0 row2\" >Resonance Amplitude, An</th>\n",
       "      <td id=\"T_ef3fa_row2_col0\" class=\"data row2 col0\" >8.951</td>\n",
       "      <td id=\"T_ef3fa_row2_col1\" class=\"data row2 col1\" >0.196</td>\n",
       "      <td id=\"T_ef3fa_row2_col2\" class=\"data row2 col2\" >7.359</td>\n",
       "      <td id=\"T_ef3fa_row2_col3\" class=\"data row2 col3\" >10.888</td>\n",
       "    </tr>\n",
       "  </tbody>\n",
       "</table>\n"
      ]
     },
     "metadata": {},
     "output_type": "display_data"
    },
    {
     "name": "stdout",
     "output_type": "stream",
     "text": [
      "\n",
      "▶ Processing: 453018809.0005.2025.03.23.08.23.14.000\n"
     ]
    },
    {
     "data": {
      "text/plain": [
       "<pandas.io.formats.style.Styler at 0x208b6d67fd0>"
      ],
      "text/html": [
       "<style type=\"text/css\">\n",
       "#T_94c03 caption {\n",
       "  caption-side: bottom;\n",
       "  font-size: 1.25em;\n",
       "}\n",
       "</style>\n",
       "<table id=\"T_94c03\">\n",
       "  <caption>The peak of the mean curve is at 4.862 Hz with amplitude 8.961.</caption>\n",
       "  <thead>\n",
       "    <tr>\n",
       "      <th class=\"blank level0\" >&nbsp;</th>\n",
       "      <th id=\"T_94c03_level0_col0\" class=\"col_heading level0 col0\" >Exponentitated Lognormal Median (units)</th>\n",
       "      <th id=\"T_94c03_level0_col1\" class=\"col_heading level0 col1\" >Lognormal Standard Deviation (log units)</th>\n",
       "      <th id=\"T_94c03_level0_col2\" class=\"col_heading level0 col2\" >-1 Lognormal Standard Deviation (units)</th>\n",
       "      <th id=\"T_94c03_level0_col3\" class=\"col_heading level0 col3\" >+1 Lognormal Standard Deviation (units)</th>\n",
       "    </tr>\n",
       "  </thead>\n",
       "  <tbody>\n",
       "    <tr>\n",
       "      <th id=\"T_94c03_level0_row0\" class=\"row_heading level0 row0\" >Resonant Site Frequency, fn (Hz)</th>\n",
       "      <td id=\"T_94c03_row0_col0\" class=\"data row0 col0\" >4.856</td>\n",
       "      <td id=\"T_94c03_row0_col1\" class=\"data row0 col1\" >0.020</td>\n",
       "      <td id=\"T_94c03_row0_col2\" class=\"data row0 col2\" >4.761</td>\n",
       "      <td id=\"T_94c03_row0_col3\" class=\"data row0 col3\" >4.953</td>\n",
       "    </tr>\n",
       "    <tr>\n",
       "      <th id=\"T_94c03_level0_row1\" class=\"row_heading level0 row1\" >Resonant Site Period, Tn (s)</th>\n",
       "      <td id=\"T_94c03_row1_col0\" class=\"data row1 col0\" >0.206</td>\n",
       "      <td id=\"T_94c03_row1_col1\" class=\"data row1 col1\" >0.020</td>\n",
       "      <td id=\"T_94c03_row1_col2\" class=\"data row1 col2\" >0.210</td>\n",
       "      <td id=\"T_94c03_row1_col3\" class=\"data row1 col3\" >0.202</td>\n",
       "    </tr>\n",
       "    <tr>\n",
       "      <th id=\"T_94c03_level0_row2\" class=\"row_heading level0 row2\" >Resonance Amplitude, An</th>\n",
       "      <td id=\"T_94c03_row2_col0\" class=\"data row2 col0\" >9.082</td>\n",
       "      <td id=\"T_94c03_row2_col1\" class=\"data row2 col1\" >0.147</td>\n",
       "      <td id=\"T_94c03_row2_col2\" class=\"data row2 col2\" >7.843</td>\n",
       "      <td id=\"T_94c03_row2_col3\" class=\"data row2 col3\" >10.517</td>\n",
       "    </tr>\n",
       "  </tbody>\n",
       "</table>\n"
      ]
     },
     "metadata": {},
     "output_type": "display_data"
    },
    {
     "name": "stdout",
     "output_type": "stream",
     "text": [
      "\n",
      "▶ Processing: 453018809.0006.2025.03.23.09.27.30.000\n"
     ]
    },
    {
     "data": {
      "text/plain": [
       "<pandas.io.formats.style.Styler at 0x208b6fdf210>"
      ],
      "text/html": [
       "<style type=\"text/css\">\n",
       "#T_b4b2d caption {\n",
       "  caption-side: bottom;\n",
       "  font-size: 1.25em;\n",
       "}\n",
       "</style>\n",
       "<table id=\"T_b4b2d\">\n",
       "  <caption>The peak of the mean curve is at 4.862 Hz with amplitude 9.046.</caption>\n",
       "  <thead>\n",
       "    <tr>\n",
       "      <th class=\"blank level0\" >&nbsp;</th>\n",
       "      <th id=\"T_b4b2d_level0_col0\" class=\"col_heading level0 col0\" >Exponentitated Lognormal Median (units)</th>\n",
       "      <th id=\"T_b4b2d_level0_col1\" class=\"col_heading level0 col1\" >Lognormal Standard Deviation (log units)</th>\n",
       "      <th id=\"T_b4b2d_level0_col2\" class=\"col_heading level0 col2\" >-1 Lognormal Standard Deviation (units)</th>\n",
       "      <th id=\"T_b4b2d_level0_col3\" class=\"col_heading level0 col3\" >+1 Lognormal Standard Deviation (units)</th>\n",
       "    </tr>\n",
       "  </thead>\n",
       "  <tbody>\n",
       "    <tr>\n",
       "      <th id=\"T_b4b2d_level0_row0\" class=\"row_heading level0 row0\" >Resonant Site Frequency, fn (Hz)</th>\n",
       "      <td id=\"T_b4b2d_row0_col0\" class=\"data row0 col0\" >4.825</td>\n",
       "      <td id=\"T_b4b2d_row0_col1\" class=\"data row0 col1\" >0.026</td>\n",
       "      <td id=\"T_b4b2d_row0_col2\" class=\"data row0 col2\" >4.700</td>\n",
       "      <td id=\"T_b4b2d_row0_col3\" class=\"data row0 col3\" >4.954</td>\n",
       "    </tr>\n",
       "    <tr>\n",
       "      <th id=\"T_b4b2d_level0_row1\" class=\"row_heading level0 row1\" >Resonant Site Period, Tn (s)</th>\n",
       "      <td id=\"T_b4b2d_row1_col0\" class=\"data row1 col0\" >0.207</td>\n",
       "      <td id=\"T_b4b2d_row1_col1\" class=\"data row1 col1\" >0.026</td>\n",
       "      <td id=\"T_b4b2d_row1_col2\" class=\"data row1 col2\" >0.213</td>\n",
       "      <td id=\"T_b4b2d_row1_col3\" class=\"data row1 col3\" >0.202</td>\n",
       "    </tr>\n",
       "    <tr>\n",
       "      <th id=\"T_b4b2d_level0_row2\" class=\"row_heading level0 row2\" >Resonance Amplitude, An</th>\n",
       "      <td id=\"T_b4b2d_row2_col0\" class=\"data row2 col0\" >9.257</td>\n",
       "      <td id=\"T_b4b2d_row2_col1\" class=\"data row2 col1\" >0.158</td>\n",
       "      <td id=\"T_b4b2d_row2_col2\" class=\"data row2 col2\" >7.905</td>\n",
       "      <td id=\"T_b4b2d_row2_col3\" class=\"data row2 col3\" >10.841</td>\n",
       "    </tr>\n",
       "  </tbody>\n",
       "</table>\n"
      ]
     },
     "metadata": {},
     "output_type": "display_data"
    },
    {
     "name": "stdout",
     "output_type": "stream",
     "text": [
      "\n",
      "▶ Processing: 453018809.0007.2025.03.25.06.32.06.000\n"
     ]
    },
    {
     "data": {
      "text/plain": [
       "<pandas.io.formats.style.Styler at 0x208bc09f490>"
      ],
      "text/html": [
       "<style type=\"text/css\">\n",
       "#T_57a29 caption {\n",
       "  caption-side: bottom;\n",
       "  font-size: 1.25em;\n",
       "}\n",
       "</style>\n",
       "<table id=\"T_57a29\">\n",
       "  <caption>The peak of the mean curve is at 4.351 Hz with amplitude 12.913.</caption>\n",
       "  <thead>\n",
       "    <tr>\n",
       "      <th class=\"blank level0\" >&nbsp;</th>\n",
       "      <th id=\"T_57a29_level0_col0\" class=\"col_heading level0 col0\" >Exponentitated Lognormal Median (units)</th>\n",
       "      <th id=\"T_57a29_level0_col1\" class=\"col_heading level0 col1\" >Lognormal Standard Deviation (log units)</th>\n",
       "      <th id=\"T_57a29_level0_col2\" class=\"col_heading level0 col2\" >-1 Lognormal Standard Deviation (units)</th>\n",
       "      <th id=\"T_57a29_level0_col3\" class=\"col_heading level0 col3\" >+1 Lognormal Standard Deviation (units)</th>\n",
       "    </tr>\n",
       "  </thead>\n",
       "  <tbody>\n",
       "    <tr>\n",
       "      <th id=\"T_57a29_level0_row0\" class=\"row_heading level0 row0\" >Resonant Site Frequency, fn (Hz)</th>\n",
       "      <td id=\"T_57a29_row0_col0\" class=\"data row0 col0\" >2.053</td>\n",
       "      <td id=\"T_57a29_row0_col1\" class=\"data row0 col1\" >0.589</td>\n",
       "      <td id=\"T_57a29_row0_col2\" class=\"data row0 col2\" >1.139</td>\n",
       "      <td id=\"T_57a29_row0_col3\" class=\"data row0 col3\" >3.701</td>\n",
       "    </tr>\n",
       "    <tr>\n",
       "      <th id=\"T_57a29_level0_row1\" class=\"row_heading level0 row1\" >Resonant Site Period, Tn (s)</th>\n",
       "      <td id=\"T_57a29_row1_col0\" class=\"data row1 col0\" >0.487</td>\n",
       "      <td id=\"T_57a29_row1_col1\" class=\"data row1 col1\" >0.589</td>\n",
       "      <td id=\"T_57a29_row1_col2\" class=\"data row1 col2\" >0.878</td>\n",
       "      <td id=\"T_57a29_row1_col3\" class=\"data row1 col3\" >0.270</td>\n",
       "    </tr>\n",
       "    <tr>\n",
       "      <th id=\"T_57a29_level0_row2\" class=\"row_heading level0 row2\" >Resonance Amplitude, An</th>\n",
       "      <td id=\"T_57a29_row2_col0\" class=\"data row2 col0\" >20.552</td>\n",
       "      <td id=\"T_57a29_row2_col1\" class=\"data row2 col1\" >0.526</td>\n",
       "      <td id=\"T_57a29_row2_col2\" class=\"data row2 col2\" >12.141</td>\n",
       "      <td id=\"T_57a29_row2_col3\" class=\"data row2 col3\" >34.791</td>\n",
       "    </tr>\n",
       "  </tbody>\n",
       "</table>\n"
      ]
     },
     "metadata": {},
     "output_type": "display_data"
    },
    {
     "name": "stdout",
     "output_type": "stream",
     "text": [
      "\n",
      "▶ Processing: 453018809.0008.2025.03.25.07.36.22.000\n"
     ]
    },
    {
     "data": {
      "text/plain": [
       "<pandas.io.formats.style.Styler at 0x208bc3df490>"
      ],
      "text/html": [
       "<style type=\"text/css\">\n",
       "#T_3ebdd caption {\n",
       "  caption-side: bottom;\n",
       "  font-size: 1.25em;\n",
       "}\n",
       "</style>\n",
       "<table id=\"T_3ebdd\">\n",
       "  <caption>The peak of the mean curve is at 4.351 Hz with amplitude 12.243.</caption>\n",
       "  <thead>\n",
       "    <tr>\n",
       "      <th class=\"blank level0\" >&nbsp;</th>\n",
       "      <th id=\"T_3ebdd_level0_col0\" class=\"col_heading level0 col0\" >Exponentitated Lognormal Median (units)</th>\n",
       "      <th id=\"T_3ebdd_level0_col1\" class=\"col_heading level0 col1\" >Lognormal Standard Deviation (log units)</th>\n",
       "      <th id=\"T_3ebdd_level0_col2\" class=\"col_heading level0 col2\" >-1 Lognormal Standard Deviation (units)</th>\n",
       "      <th id=\"T_3ebdd_level0_col3\" class=\"col_heading level0 col3\" >+1 Lognormal Standard Deviation (units)</th>\n",
       "    </tr>\n",
       "  </thead>\n",
       "  <tbody>\n",
       "    <tr>\n",
       "      <th id=\"T_3ebdd_level0_row0\" class=\"row_heading level0 row0\" >Resonant Site Frequency, fn (Hz)</th>\n",
       "      <td id=\"T_3ebdd_row0_col0\" class=\"data row0 col0\" >2.260</td>\n",
       "      <td id=\"T_3ebdd_row0_col1\" class=\"data row0 col1\" >0.630</td>\n",
       "      <td id=\"T_3ebdd_row0_col2\" class=\"data row0 col2\" >1.204</td>\n",
       "      <td id=\"T_3ebdd_row0_col3\" class=\"data row0 col3\" >4.243</td>\n",
       "    </tr>\n",
       "    <tr>\n",
       "      <th id=\"T_3ebdd_level0_row1\" class=\"row_heading level0 row1\" >Resonant Site Period, Tn (s)</th>\n",
       "      <td id=\"T_3ebdd_row1_col0\" class=\"data row1 col0\" >0.443</td>\n",
       "      <td id=\"T_3ebdd_row1_col1\" class=\"data row1 col1\" >0.630</td>\n",
       "      <td id=\"T_3ebdd_row1_col2\" class=\"data row1 col2\" >0.831</td>\n",
       "      <td id=\"T_3ebdd_row1_col3\" class=\"data row1 col3\" >0.236</td>\n",
       "    </tr>\n",
       "    <tr>\n",
       "      <th id=\"T_3ebdd_level0_row2\" class=\"row_heading level0 row2\" >Resonance Amplitude, An</th>\n",
       "      <td id=\"T_3ebdd_row2_col0\" class=\"data row2 col0\" >18.087</td>\n",
       "      <td id=\"T_3ebdd_row2_col1\" class=\"data row2 col1\" >0.569</td>\n",
       "      <td id=\"T_3ebdd_row2_col2\" class=\"data row2 col2\" >10.237</td>\n",
       "      <td id=\"T_3ebdd_row2_col3\" class=\"data row2 col3\" >31.958</td>\n",
       "    </tr>\n",
       "  </tbody>\n",
       "</table>\n"
      ]
     },
     "metadata": {},
     "output_type": "display_data"
    },
    {
     "name": "stdout",
     "output_type": "stream",
     "text": [
      "\n",
      "▶ Processing: 453018809.0009.2025.04.01.04.46.58.000\n"
     ]
    },
    {
     "data": {
      "text/plain": [
       "<pandas.io.formats.style.Styler at 0x208bc79f490>"
      ],
      "text/html": [
       "<style type=\"text/css\">\n",
       "#T_3b38f caption {\n",
       "  caption-side: bottom;\n",
       "  font-size: 1.25em;\n",
       "}\n",
       "</style>\n",
       "<table id=\"T_3b38f\">\n",
       "  <caption>The peak of the mean curve is at 1.117 Hz with amplitude 4.512.</caption>\n",
       "  <thead>\n",
       "    <tr>\n",
       "      <th class=\"blank level0\" >&nbsp;</th>\n",
       "      <th id=\"T_3b38f_level0_col0\" class=\"col_heading level0 col0\" >Exponentitated Lognormal Median (units)</th>\n",
       "      <th id=\"T_3b38f_level0_col1\" class=\"col_heading level0 col1\" >Lognormal Standard Deviation (log units)</th>\n",
       "      <th id=\"T_3b38f_level0_col2\" class=\"col_heading level0 col2\" >-1 Lognormal Standard Deviation (units)</th>\n",
       "      <th id=\"T_3b38f_level0_col3\" class=\"col_heading level0 col3\" >+1 Lognormal Standard Deviation (units)</th>\n",
       "    </tr>\n",
       "  </thead>\n",
       "  <tbody>\n",
       "    <tr>\n",
       "      <th id=\"T_3b38f_level0_row0\" class=\"row_heading level0 row0\" >Resonant Site Frequency, fn (Hz)</th>\n",
       "      <td id=\"T_3b38f_row0_col0\" class=\"data row0 col0\" >1.182</td>\n",
       "      <td id=\"T_3b38f_row0_col1\" class=\"data row0 col1\" >0.088</td>\n",
       "      <td id=\"T_3b38f_row0_col2\" class=\"data row0 col2\" >1.083</td>\n",
       "      <td id=\"T_3b38f_row0_col3\" class=\"data row0 col3\" >1.291</td>\n",
       "    </tr>\n",
       "    <tr>\n",
       "      <th id=\"T_3b38f_level0_row1\" class=\"row_heading level0 row1\" >Resonant Site Period, Tn (s)</th>\n",
       "      <td id=\"T_3b38f_row1_col0\" class=\"data row1 col0\" >0.846</td>\n",
       "      <td id=\"T_3b38f_row1_col1\" class=\"data row1 col1\" >0.088</td>\n",
       "      <td id=\"T_3b38f_row1_col2\" class=\"data row1 col2\" >0.924</td>\n",
       "      <td id=\"T_3b38f_row1_col3\" class=\"data row1 col3\" >0.775</td>\n",
       "    </tr>\n",
       "    <tr>\n",
       "      <th id=\"T_3b38f_level0_row2\" class=\"row_heading level0 row2\" >Resonance Amplitude, An</th>\n",
       "      <td id=\"T_3b38f_row2_col0\" class=\"data row2 col0\" >5.677</td>\n",
       "      <td id=\"T_3b38f_row2_col1\" class=\"data row2 col1\" >0.457</td>\n",
       "      <td id=\"T_3b38f_row2_col2\" class=\"data row2 col2\" >3.594</td>\n",
       "      <td id=\"T_3b38f_row2_col3\" class=\"data row2 col3\" >8.965</td>\n",
       "    </tr>\n",
       "  </tbody>\n",
       "</table>\n"
      ]
     },
     "metadata": {},
     "output_type": "display_data"
    },
    {
     "name": "stdout",
     "output_type": "stream",
     "text": [
      "\n",
      "▶ Processing: 453018809.0010.2025.04.02.00.31.38.000\n"
     ]
    },
    {
     "data": {
      "text/plain": [
       "<pandas.io.formats.style.Styler at 0x208bc709b90>"
      ],
      "text/html": [
       "<style type=\"text/css\">\n",
       "#T_7034e caption {\n",
       "  caption-side: bottom;\n",
       "  font-size: 1.25em;\n",
       "}\n",
       "</style>\n",
       "<table id=\"T_7034e\">\n",
       "  <caption>The peak of the mean curve is at 3.389 Hz with amplitude 7.095.</caption>\n",
       "  <thead>\n",
       "    <tr>\n",
       "      <th class=\"blank level0\" >&nbsp;</th>\n",
       "      <th id=\"T_7034e_level0_col0\" class=\"col_heading level0 col0\" >Exponentitated Lognormal Median (units)</th>\n",
       "      <th id=\"T_7034e_level0_col1\" class=\"col_heading level0 col1\" >Lognormal Standard Deviation (log units)</th>\n",
       "      <th id=\"T_7034e_level0_col2\" class=\"col_heading level0 col2\" >-1 Lognormal Standard Deviation (units)</th>\n",
       "      <th id=\"T_7034e_level0_col3\" class=\"col_heading level0 col3\" >+1 Lognormal Standard Deviation (units)</th>\n",
       "    </tr>\n",
       "  </thead>\n",
       "  <tbody>\n",
       "    <tr>\n",
       "      <th id=\"T_7034e_level0_row0\" class=\"row_heading level0 row0\" >Resonant Site Frequency, fn (Hz)</th>\n",
       "      <td id=\"T_7034e_row0_col0\" class=\"data row0 col0\" >3.344</td>\n",
       "      <td id=\"T_7034e_row0_col1\" class=\"data row0 col1\" >0.037</td>\n",
       "      <td id=\"T_7034e_row0_col2\" class=\"data row0 col2\" >3.223</td>\n",
       "      <td id=\"T_7034e_row0_col3\" class=\"data row0 col3\" >3.469</td>\n",
       "    </tr>\n",
       "    <tr>\n",
       "      <th id=\"T_7034e_level0_row1\" class=\"row_heading level0 row1\" >Resonant Site Period, Tn (s)</th>\n",
       "      <td id=\"T_7034e_row1_col0\" class=\"data row1 col0\" >0.299</td>\n",
       "      <td id=\"T_7034e_row1_col1\" class=\"data row1 col1\" >0.037</td>\n",
       "      <td id=\"T_7034e_row1_col2\" class=\"data row1 col2\" >0.310</td>\n",
       "      <td id=\"T_7034e_row1_col3\" class=\"data row1 col3\" >0.288</td>\n",
       "    </tr>\n",
       "    <tr>\n",
       "      <th id=\"T_7034e_level0_row2\" class=\"row_heading level0 row2\" >Resonance Amplitude, An</th>\n",
       "      <td id=\"T_7034e_row2_col0\" class=\"data row2 col0\" >7.314</td>\n",
       "      <td id=\"T_7034e_row2_col1\" class=\"data row2 col1\" >0.117</td>\n",
       "      <td id=\"T_7034e_row2_col2\" class=\"data row2 col2\" >6.506</td>\n",
       "      <td id=\"T_7034e_row2_col3\" class=\"data row2 col3\" >8.222</td>\n",
       "    </tr>\n",
       "  </tbody>\n",
       "</table>\n"
      ]
     },
     "metadata": {},
     "output_type": "display_data"
    },
    {
     "name": "stdout",
     "output_type": "stream",
     "text": [
      "\n",
      "▶ Processing: 453018809.0011.2025.04.06.04.09.34.000\n"
     ]
    },
    {
     "data": {
      "text/plain": [
       "<pandas.io.formats.style.Styler at 0x208b6d9e5d0>"
      ],
      "text/html": [
       "<style type=\"text/css\">\n",
       "#T_3b0fe caption {\n",
       "  caption-side: bottom;\n",
       "  font-size: 1.25em;\n",
       "}\n",
       "</style>\n",
       "<table id=\"T_3b0fe\">\n",
       "  <caption>The peak of the mean curve is at 7.371 Hz with amplitude 4.746.</caption>\n",
       "  <thead>\n",
       "    <tr>\n",
       "      <th class=\"blank level0\" >&nbsp;</th>\n",
       "      <th id=\"T_3b0fe_level0_col0\" class=\"col_heading level0 col0\" >Exponentitated Lognormal Median (units)</th>\n",
       "      <th id=\"T_3b0fe_level0_col1\" class=\"col_heading level0 col1\" >Lognormal Standard Deviation (log units)</th>\n",
       "      <th id=\"T_3b0fe_level0_col2\" class=\"col_heading level0 col2\" >-1 Lognormal Standard Deviation (units)</th>\n",
       "      <th id=\"T_3b0fe_level0_col3\" class=\"col_heading level0 col3\" >+1 Lognormal Standard Deviation (units)</th>\n",
       "    </tr>\n",
       "  </thead>\n",
       "  <tbody>\n",
       "    <tr>\n",
       "      <th id=\"T_3b0fe_level0_row0\" class=\"row_heading level0 row0\" >Resonant Site Frequency, fn (Hz)</th>\n",
       "      <td id=\"T_3b0fe_row0_col0\" class=\"data row0 col0\" >5.132</td>\n",
       "      <td id=\"T_3b0fe_row0_col1\" class=\"data row0 col1\" >0.382</td>\n",
       "      <td id=\"T_3b0fe_row0_col2\" class=\"data row0 col2\" >3.504</td>\n",
       "      <td id=\"T_3b0fe_row0_col3\" class=\"data row0 col3\" >7.517</td>\n",
       "    </tr>\n",
       "    <tr>\n",
       "      <th id=\"T_3b0fe_level0_row1\" class=\"row_heading level0 row1\" >Resonant Site Period, Tn (s)</th>\n",
       "      <td id=\"T_3b0fe_row1_col0\" class=\"data row1 col0\" >0.195</td>\n",
       "      <td id=\"T_3b0fe_row1_col1\" class=\"data row1 col1\" >0.382</td>\n",
       "      <td id=\"T_3b0fe_row1_col2\" class=\"data row1 col2\" >0.285</td>\n",
       "      <td id=\"T_3b0fe_row1_col3\" class=\"data row1 col3\" >0.133</td>\n",
       "    </tr>\n",
       "    <tr>\n",
       "      <th id=\"T_3b0fe_level0_row2\" class=\"row_heading level0 row2\" >Resonance Amplitude, An</th>\n",
       "      <td id=\"T_3b0fe_row2_col0\" class=\"data row2 col0\" >5.259</td>\n",
       "      <td id=\"T_3b0fe_row2_col1\" class=\"data row2 col1\" >0.149</td>\n",
       "      <td id=\"T_3b0fe_row2_col2\" class=\"data row2 col2\" >4.530</td>\n",
       "      <td id=\"T_3b0fe_row2_col3\" class=\"data row2 col3\" >6.107</td>\n",
       "    </tr>\n",
       "  </tbody>\n",
       "</table>\n"
      ]
     },
     "metadata": {},
     "output_type": "display_data"
    },
    {
     "data": {
      "text/plain": [
       "<pandas.io.formats.style.Styler at 0x208bcd08450>"
      ],
      "text/html": [
       "<style type=\"text/css\">\n",
       "#T_b8366 caption {\n",
       "  caption-side: bottom;\n",
       "  font-size: 1.25em;\n",
       "}\n",
       "</style>\n",
       "<table id=\"T_b8366\">\n",
       "  <caption>The peak of the mean curve is at 1.057 Hz with amplitude 4.703.</caption>\n",
       "  <thead>\n",
       "    <tr>\n",
       "      <th class=\"blank level0\" >&nbsp;</th>\n",
       "      <th id=\"T_b8366_level0_col0\" class=\"col_heading level0 col0\" >Exponentitated Lognormal Median (units)</th>\n",
       "      <th id=\"T_b8366_level0_col1\" class=\"col_heading level0 col1\" >Lognormal Standard Deviation (log units)</th>\n",
       "      <th id=\"T_b8366_level0_col2\" class=\"col_heading level0 col2\" >-1 Lognormal Standard Deviation (units)</th>\n",
       "      <th id=\"T_b8366_level0_col3\" class=\"col_heading level0 col3\" >+1 Lognormal Standard Deviation (units)</th>\n",
       "    </tr>\n",
       "  </thead>\n",
       "  <tbody>\n",
       "    <tr>\n",
       "      <th id=\"T_b8366_level0_row0\" class=\"row_heading level0 row0\" >Resonant Site Frequency, fn (Hz)</th>\n",
       "      <td id=\"T_b8366_row0_col0\" class=\"data row0 col0\" >1.182</td>\n",
       "      <td id=\"T_b8366_row0_col1\" class=\"data row0 col1\" >0.105</td>\n",
       "      <td id=\"T_b8366_row0_col2\" class=\"data row0 col2\" >1.064</td>\n",
       "      <td id=\"T_b8366_row0_col3\" class=\"data row0 col3\" >1.313</td>\n",
       "    </tr>\n",
       "    <tr>\n",
       "      <th id=\"T_b8366_level0_row1\" class=\"row_heading level0 row1\" >Resonant Site Period, Tn (s)</th>\n",
       "      <td id=\"T_b8366_row1_col0\" class=\"data row1 col0\" >0.846</td>\n",
       "      <td id=\"T_b8366_row1_col1\" class=\"data row1 col1\" >0.105</td>\n",
       "      <td id=\"T_b8366_row1_col2\" class=\"data row1 col2\" >0.940</td>\n",
       "      <td id=\"T_b8366_row1_col3\" class=\"data row1 col3\" >0.762</td>\n",
       "    </tr>\n",
       "    <tr>\n",
       "      <th id=\"T_b8366_level0_row2\" class=\"row_heading level0 row2\" >Resonance Amplitude, An</th>\n",
       "      <td id=\"T_b8366_row2_col0\" class=\"data row2 col0\" >5.796</td>\n",
       "      <td id=\"T_b8366_row2_col1\" class=\"data row2 col1\" >0.466</td>\n",
       "      <td id=\"T_b8366_row2_col2\" class=\"data row2 col2\" >3.638</td>\n",
       "      <td id=\"T_b8366_row2_col3\" class=\"data row2 col3\" >9.236</td>\n",
       "    </tr>\n",
       "  </tbody>\n",
       "</table>\n"
      ]
     },
     "metadata": {},
     "output_type": "display_data"
    },
    {
     "name": "stdout",
     "output_type": "stream",
     "text": [
      "\n",
      "▶ Processing: 453018809.0012.2025.04.08.23.10.34.000\n"
     ]
    },
    {
     "data": {
      "text/plain": [
       "<pandas.io.formats.style.Styler at 0x208bd253b90>"
      ],
      "text/html": [
       "<style type=\"text/css\">\n",
       "#T_9e936 caption {\n",
       "  caption-side: bottom;\n",
       "  font-size: 1.25em;\n",
       "}\n",
       "</style>\n",
       "<table id=\"T_9e936\">\n",
       "  <caption>The peak of the mean curve is at 1.117 Hz with amplitude 4.549.</caption>\n",
       "  <thead>\n",
       "    <tr>\n",
       "      <th class=\"blank level0\" >&nbsp;</th>\n",
       "      <th id=\"T_9e936_level0_col0\" class=\"col_heading level0 col0\" >Exponentitated Lognormal Median (units)</th>\n",
       "      <th id=\"T_9e936_level0_col1\" class=\"col_heading level0 col1\" >Lognormal Standard Deviation (log units)</th>\n",
       "      <th id=\"T_9e936_level0_col2\" class=\"col_heading level0 col2\" >-1 Lognormal Standard Deviation (units)</th>\n",
       "      <th id=\"T_9e936_level0_col3\" class=\"col_heading level0 col3\" >+1 Lognormal Standard Deviation (units)</th>\n",
       "    </tr>\n",
       "  </thead>\n",
       "  <tbody>\n",
       "    <tr>\n",
       "      <th id=\"T_9e936_level0_row0\" class=\"row_heading level0 row0\" >Resonant Site Frequency, fn (Hz)</th>\n",
       "      <td id=\"T_9e936_row0_col0\" class=\"data row0 col0\" >1.213</td>\n",
       "      <td id=\"T_9e936_row0_col1\" class=\"data row0 col1\" >0.112</td>\n",
       "      <td id=\"T_9e936_row0_col2\" class=\"data row0 col2\" >1.084</td>\n",
       "      <td id=\"T_9e936_row0_col3\" class=\"data row0 col3\" >1.357</td>\n",
       "    </tr>\n",
       "    <tr>\n",
       "      <th id=\"T_9e936_level0_row1\" class=\"row_heading level0 row1\" >Resonant Site Period, Tn (s)</th>\n",
       "      <td id=\"T_9e936_row1_col0\" class=\"data row1 col0\" >0.824</td>\n",
       "      <td id=\"T_9e936_row1_col1\" class=\"data row1 col1\" >0.112</td>\n",
       "      <td id=\"T_9e936_row1_col2\" class=\"data row1 col2\" >0.922</td>\n",
       "      <td id=\"T_9e936_row1_col3\" class=\"data row1 col3\" >0.737</td>\n",
       "    </tr>\n",
       "    <tr>\n",
       "      <th id=\"T_9e936_level0_row2\" class=\"row_heading level0 row2\" >Resonance Amplitude, An</th>\n",
       "      <td id=\"T_9e936_row2_col0\" class=\"data row2 col0\" >5.677</td>\n",
       "      <td id=\"T_9e936_row2_col1\" class=\"data row2 col1\" >0.512</td>\n",
       "      <td id=\"T_9e936_row2_col2\" class=\"data row2 col2\" >3.401</td>\n",
       "      <td id=\"T_9e936_row2_col3\" class=\"data row2 col3\" >9.476</td>\n",
       "    </tr>\n",
       "  </tbody>\n",
       "</table>\n"
      ]
     },
     "metadata": {},
     "output_type": "display_data"
    },
    {
     "name": "stdout",
     "output_type": "stream",
     "text": [
      "\n",
      "▶ Processing: 453018809.0013.2025.04.09.00.00.00.000\n",
      "\n",
      "▶ Processing: 453018809.0014.2025.04.09.00.21.46.000\n"
     ]
    },
    {
     "data": {
      "text/plain": [
       "<pandas.io.formats.style.Styler at 0x208bd4a7490>"
      ],
      "text/html": [
       "<style type=\"text/css\">\n",
       "#T_960be caption {\n",
       "  caption-side: bottom;\n",
       "  font-size: 1.25em;\n",
       "}\n",
       "</style>\n",
       "<table id=\"T_960be\">\n",
       "  <caption>The peak of the mean curve is at 1.057 Hz with amplitude 4.815.</caption>\n",
       "  <thead>\n",
       "    <tr>\n",
       "      <th class=\"blank level0\" >&nbsp;</th>\n",
       "      <th id=\"T_960be_level0_col0\" class=\"col_heading level0 col0\" >Exponentitated Lognormal Median (units)</th>\n",
       "      <th id=\"T_960be_level0_col1\" class=\"col_heading level0 col1\" >Lognormal Standard Deviation (log units)</th>\n",
       "      <th id=\"T_960be_level0_col2\" class=\"col_heading level0 col2\" >-1 Lognormal Standard Deviation (units)</th>\n",
       "      <th id=\"T_960be_level0_col3\" class=\"col_heading level0 col3\" >+1 Lognormal Standard Deviation (units)</th>\n",
       "    </tr>\n",
       "  </thead>\n",
       "  <tbody>\n",
       "    <tr>\n",
       "      <th id=\"T_960be_level0_row0\" class=\"row_heading level0 row0\" >Resonant Site Frequency, fn (Hz)</th>\n",
       "      <td id=\"T_960be_row0_col0\" class=\"data row0 col0\" >1.292</td>\n",
       "      <td id=\"T_960be_row0_col1\" class=\"data row0 col1\" >0.179</td>\n",
       "      <td id=\"T_960be_row0_col2\" class=\"data row0 col2\" >1.080</td>\n",
       "      <td id=\"T_960be_row0_col3\" class=\"data row0 col3\" >1.545</td>\n",
       "    </tr>\n",
       "    <tr>\n",
       "      <th id=\"T_960be_level0_row1\" class=\"row_heading level0 row1\" >Resonant Site Period, Tn (s)</th>\n",
       "      <td id=\"T_960be_row1_col0\" class=\"data row1 col0\" >0.774</td>\n",
       "      <td id=\"T_960be_row1_col1\" class=\"data row1 col1\" >0.179</td>\n",
       "      <td id=\"T_960be_row1_col2\" class=\"data row1 col2\" >0.926</td>\n",
       "      <td id=\"T_960be_row1_col3\" class=\"data row1 col3\" >0.647</td>\n",
       "    </tr>\n",
       "    <tr>\n",
       "      <th id=\"T_960be_level0_row2\" class=\"row_heading level0 row2\" >Resonance Amplitude, An</th>\n",
       "      <td id=\"T_960be_row2_col0\" class=\"data row2 col0\" >6.197</td>\n",
       "      <td id=\"T_960be_row2_col1\" class=\"data row2 col1\" >0.565</td>\n",
       "      <td id=\"T_960be_row2_col2\" class=\"data row2 col2\" >3.523</td>\n",
       "      <td id=\"T_960be_row2_col3\" class=\"data row2 col3\" >10.900</td>\n",
       "    </tr>\n",
       "  </tbody>\n",
       "</table>\n"
      ]
     },
     "metadata": {},
     "output_type": "display_data"
    }
   ],
   "execution_count": 25
  }
 ],
 "metadata": {
  "kernelspec": {
   "display_name": "Python 3 (ipykernel)",
   "language": "python",
   "name": "python3"
  },
  "language_info": {
   "codemirror_mode": {
    "name": "ipython",
    "version": 3
   },
   "file_extension": ".py",
   "mimetype": "text/x-python",
   "name": "python",
   "nbconvert_exporter": "python",
   "pygments_lexer": "ipython3",
   "version": "3.8.10"
  }
 },
 "nbformat": 4,
 "nbformat_minor": 4
}
