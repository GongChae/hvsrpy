{
 "cells": [
  {
   "cell_type": "markdown",
   "metadata": {},
   "source": [
    "# Horizontal-to-Vertical Spectral Ratio (HVSR) Measurements from Microtremor Recordings (mHVSR)\n",
    "\n",
    "## License Information\n",
    "\n",
    "This file is part of _hvsrpy_, a Python package for horizontal-to-vertical spectral ratio processing.\n",
    "\n",
    "    Copyright (C) 2019-2024 Joseph P. Vantassel (joseph.p.vantassel@gmail.com)\n",
    "\n",
    "    This program is free software: you can redistribute it and/or modify\n",
    "    it under the terms of the GNU General Public License as published by\n",
    "    the Free Software Foundation, either version 3 of the License, or\n",
    "    (at your option) any later version.\n",
    "\n",
    "    This program is distributed in the hope that it will be useful,\n",
    "    but WITHOUT ANY WARRANTY; without even the implied warranty of\n",
    "    MERCHANTABILITY or FITNESS FOR A PARTICULAR PURPOSE.  See the\n",
    "    GNU General Public License for more details.\n",
    "\n",
    "    You should have received a copy of the GNU General Public License\n",
    "    along with this program.  If not, see <https: //www.gnu.org/licenses/>.\n",
    "    \n",
    "## About _hvsrpy_\n",
    "\n",
    "_hvsrpy_ is an open-source Python package for performing horizontal-to-vertical spectral ratio (HVSR) processing of microtremor and earthquake recordings. _hvsrpy_ was developed by [Joseph P. Vantassel](https://www.jpvantassel.com/) with contributions from Dana M. Brannon under the supervision of Professor Brady R. Cox at The University of Texas at Austin. _hvsrpy_ continues to be developed and maintained by [Joseph P. Vantassel and his research group at Virginia Tech](https://geoimaging-research.org/).\n",
    "\n",
    "## Citation\n",
    "\n",
    "If you use _hvsrpy_ in your research or consulting, we ask you please cite the following:\n",
    "\n",
    ">Joseph Vantassel. (2020). jpvantassel/hvsrpy: latest (Concept). Zenodo.\n",
    "[http://doi.org/10.5281/zenodo.3666956](http://doi.org/10.5281/zenodo.3666956)\n",
    "\n",
    "_Note: For software, version specific citations should be preferred to\n",
    "general concept citations, such as that listed above. To generate a version\n",
    "specific citation for hvsrpy, please use the citation tool on the hvsrpy\n",
    "[archive](http://doi.org/10.5281/zenodo.3666956)._\n",
    "\n",
    "## About this notebook\n",
    "\n",
    "This notebook demonstrates traditional mHVSR processing using _hvsrpy_.\n",
    "\n",
    "The lognormal statistics implemented in _hvsrpy_ were developed by Cox et al. (2020).\n",
    "If you use this feature, please also cite Cox et al. (2020) to recognize their original work.\n",
    "\n",
    "> Cox, B. R., Cheng, T., Vantassel, J. P., & Manuel, L. (2020). \"A statistical\n",
    "> representation and frequency-domain window-rejection algorithm for single-station\n",
    "> HVSR measurements. Geophysical Journal International, 221(3), 2170–2183.\n",
    "> https://doi.org/10.1093/gji/ggaa119\n",
    "\n",
    "The microtremor data presented are those by Cox and Vantassel (2018).\n",
    "If you use this data, please also cite Cox and Vantassel (2018).\n",
    "\n",
    ">Cox, B.R. and Vantassel, J.P. (2018). Dynamic Characterization of Wellington, New Zealand. DesignSafe-CI [publisher]. https://doi.org/10.17603/DS24M6J\n",
    "\n",
    "## Getting Started\n",
    "\n",
    "1. Install _hvsrpy_, with `pip install hvsrpy`. More information on _pip_ can be found [here](https://jpvantassel.github.io/python3-course/#/intro/pip). __(~3 minutes)__\n",
    "2. Try analyzing the provided examples. __(~10 minutes)__\n",
    "3. Try your own files by changing the file names below. __(~15 minutes)__\n",
    "\n",
    "Happy Processing!"
   ]
  },
  {
   "cell_type": "code",
   "metadata": {
    "tags": [],
    "ExecuteTime": {
     "end_time": "2025-05-12T03:48:54.809473Z",
     "start_time": "2025-05-12T03:48:53.823703Z"
    }
   },
   "source": [
    "import pathlib\n",
    "\n",
    "import numpy as np\n",
    "import matplotlib.pyplot as plt\n",
    "\n",
    "import hvsrpy\n",
    "\n",
    "plt.style.use(hvsrpy.HVSRPY_MPL_STYLE)"
   ],
   "outputs": [],
   "execution_count": 1
  },
  {
   "cell_type": "markdown",
   "metadata": {},
   "source": [
    "## Input Data"
   ]
  },
  {
   "cell_type": "code",
   "metadata": {
    "tags": [],
    "ExecuteTime": {
     "end_time": "2025-05-12T03:48:54.819026Z",
     "start_time": "2025-05-12T03:48:54.814538Z"
    }
   },
   "source": [
    "# Input file name (may be a relative or full path).\n",
    "fnames = [[\"C:/SOLODATA/zonghap/zonghap/Non_36dB/453018809.0010.2025.04.02.00.31.38.000.Z.sac\",\"C:/SOLODATA/zonghap/zonghap/Non_36dB/453018809.0010.2025.04.02.00.31.38.000.N.sac\",\"C:/SOLODATA/zonghap/zonghap/Non_36dB/453018809.0010.2025.04.02.00.31.38.000.E.sac\"]]\n",
    "# fnames = [[\"./data/UT.STN11.A2_C150.miniseed\"]]\n",
    "# fnames = [[\"./data/UT.STN11.A2_C300.miniseed\"]]\n",
    "\n",
    "print(f\"Number of recordings: {len(fnames)}\")\n",
    "for fname_set in fnames:\n",
    "    for file in fname_set:\n",
    "        if not pathlib.Path(file).exists():\n",
    "            raise FileNotFoundError(f\"file {file} not found; check spelling.\")\n",
    "print(\"All files exist.\")"
   ],
   "outputs": [
    {
     "name": "stdout",
     "output_type": "stream",
     "text": [
      "Number of recordings: 1\n",
      "All files exist.\n"
     ]
    }
   ],
   "execution_count": 2
  },
  {
   "cell_type": "markdown",
   "metadata": {},
   "source": [
    "## Preprocessing Settings"
   ]
  },
  {
   "cell_type": "code",
   "metadata": {
    "tags": [],
    "ExecuteTime": {
     "end_time": "2025-05-12T03:48:54.862625Z",
     "start_time": "2025-05-12T03:48:54.858446Z"
    }
   },
   "source": [
    "preprocessing_settings = hvsrpy.settings.HvsrPreProcessingSettings()\n",
    "preprocessing_settings.detrend = \"linear\"\n",
    "preprocessing_settings.window_length_in_seconds = 100\n",
    "preprocessing_settings.orient_to_degrees_from_north = 0.0\n",
    "preprocessing_settings.filter_corner_frequencies_in_hz = (None, None)\n",
    "preprocessing_settings.ignore_dissimilar_time_step_warning = False\n",
    "\n",
    "print(\"Preprocessing Summary\")\n",
    "print(\"-\"*60)\n",
    "preprocessing_settings.psummary()"
   ],
   "outputs": [
    {
     "name": "stdout",
     "output_type": "stream",
     "text": [
      "Preprocessing Summary\n",
      "------------------------------------------------------------\n",
      "hvsrpy_version                           : 2.0.0\n",
      "orient_to_degrees_from_north             : 0.0\n",
      "filter_corner_frequencies_in_hz          : (None, None)\n",
      "window_length_in_seconds                 : 100\n",
      "detrend                                  : linear\n",
      "ignore_dissimilar_time_step_warning      : False\n",
      "preprocessing_method                     : hvsr\n"
     ]
    }
   ],
   "execution_count": 3
  },
  {
   "cell_type": "markdown",
   "metadata": {},
   "source": [
    "## Processing Settings"
   ]
  },
  {
   "cell_type": "code",
   "metadata": {
    "tags": [],
    "ExecuteTime": {
     "end_time": "2025-05-12T03:48:54.874987Z",
     "start_time": "2025-05-12T03:48:54.870730Z"
    }
   },
   "source": [
    "processing_settings = hvsrpy.settings.HvsrTraditionalProcessingSettings()\n",
    "processing_settings.window_type_and_width = (\"tukey\", 0.2)\n",
    "processing_settings.smoothing=dict(operator=\"konno_and_ohmachi\",\n",
    "                                   bandwidth=40,\n",
    "                                   center_frequencies_in_hz=np.geomspace(0.2, 50, 200))\n",
    "processing_settings.method_to_combine_horizontals = \"geometric_mean\"\n",
    "processing_settings.handle_dissimilar_time_steps_by = \"frequency_domain_resampling\"\n",
    "\n",
    "print(\"Processing Summary\")\n",
    "print(\"-\"*60)\n",
    "processing_settings.psummary()"
   ],
   "outputs": [
    {
     "name": "stdout",
     "output_type": "stream",
     "text": [
      "Processing Summary\n",
      "------------------------------------------------------------\n",
      "hvsrpy_version                           : 2.0.0\n",
      "window_type_and_width                    : ('tukey', 0.2)\n",
      "smoothing                                :\n",
      "     operator                            : konno_and_ohmachi\n",
      "     bandwidth                           : 40\n",
      "     center_frequencies_in_hz            : [0.2, 0.205626908165 ... 1767550226364, 50.0]\n",
      "fft_settings                             : None\n",
      "handle_dissimilar_time_steps_by          : frequency_domain_resampling\n",
      "processing_method                        : traditional\n",
      "method_to_combine_horizontals            : geometric_mean\n"
     ]
    }
   ],
   "execution_count": 4
  },
  {
   "cell_type": "markdown",
   "metadata": {},
   "source": [
    "## Calculate HVSR"
   ]
  },
  {
   "cell_type": "code",
   "metadata": {
    "ExecuteTime": {
     "end_time": "2025-05-12T03:48:55.704149Z",
     "start_time": "2025-05-12T03:48:54.879334Z"
    }
   },
   "source": [
    "srecords = hvsrpy.read(fnames)\n",
    "srecords = hvsrpy.preprocess(srecords, preprocessing_settings)\n",
    "hvsr = hvsrpy.process(srecords, processing_settings)"
   ],
   "outputs": [],
   "execution_count": 5
  },
  {
   "cell_type": "markdown",
   "metadata": {},
   "source": [
    "## Summarize HVSR Results"
   ]
  },
  {
   "cell_type": "code",
   "metadata": {
    "tags": [],
    "ExecuteTime": {
     "end_time": "2025-05-12T03:48:56.135536Z",
     "start_time": "2025-05-12T03:48:55.711663Z"
    }
   },
   "source": [
    "print(\"\\nStatistical Summary:\")\n",
    "print(\"-\"*20)\n",
    "hvsrpy.summarize_hvsr_statistics(hvsr)\n",
    "(fig, ax) = hvsrpy.plot_single_panel_hvsr_curves(hvsr,)\n",
    "ax.get_legend().remove()\n",
    "ax.legend(loc=\"center left\", bbox_to_anchor=(1, 0.5))\n",
    "plt.show()"
   ],
   "outputs": [
    {
     "name": "stdout",
     "output_type": "stream",
     "text": [
      "\n",
      "Statistical Summary:\n",
      "--------------------\n"
     ]
    },
    {
     "data": {
      "text/plain": [
       "<pandas.io.formats.style.Styler at 0x1fef2c0d450>"
      ],
      "text/html": [
       "<style type=\"text/css\">\n",
       "#T_071dd caption {\n",
       "  caption-side: bottom;\n",
       "  font-size: 1.25em;\n",
       "}\n",
       "</style>\n",
       "<table id=\"T_071dd\">\n",
       "  <caption>The peak of the mean curve is at 41.174 Hz with amplitude 12.169.</caption>\n",
       "  <thead>\n",
       "    <tr>\n",
       "      <th class=\"blank level0\" >&nbsp;</th>\n",
       "      <th id=\"T_071dd_level0_col0\" class=\"col_heading level0 col0\" >Exponentitated Lognormal Median (units)</th>\n",
       "      <th id=\"T_071dd_level0_col1\" class=\"col_heading level0 col1\" >Lognormal Standard Deviation (log units)</th>\n",
       "      <th id=\"T_071dd_level0_col2\" class=\"col_heading level0 col2\" >-1 Lognormal Standard Deviation (units)</th>\n",
       "      <th id=\"T_071dd_level0_col3\" class=\"col_heading level0 col3\" >+1 Lognormal Standard Deviation (units)</th>\n",
       "    </tr>\n",
       "  </thead>\n",
       "  <tbody>\n",
       "    <tr>\n",
       "      <th id=\"T_071dd_level0_row0\" class=\"row_heading level0 row0\" >Resonant Site Frequency, fn (Hz)</th>\n",
       "      <td id=\"T_071dd_row0_col0\" class=\"data row0 col0\" >24.661</td>\n",
       "      <td id=\"T_071dd_row0_col1\" class=\"data row0 col1\" >1.555</td>\n",
       "      <td id=\"T_071dd_row0_col2\" class=\"data row0 col2\" >5.210</td>\n",
       "      <td id=\"T_071dd_row0_col3\" class=\"data row0 col3\" >116.742</td>\n",
       "    </tr>\n",
       "    <tr>\n",
       "      <th id=\"T_071dd_level0_row1\" class=\"row_heading level0 row1\" >Resonant Site Period, Tn (s)</th>\n",
       "      <td id=\"T_071dd_row1_col0\" class=\"data row1 col0\" >0.041</td>\n",
       "      <td id=\"T_071dd_row1_col1\" class=\"data row1 col1\" >1.555</td>\n",
       "      <td id=\"T_071dd_row1_col2\" class=\"data row1 col2\" >0.192</td>\n",
       "      <td id=\"T_071dd_row1_col3\" class=\"data row1 col3\" >0.009</td>\n",
       "    </tr>\n",
       "    <tr>\n",
       "      <th id=\"T_071dd_level0_row2\" class=\"row_heading level0 row2\" >Resonance Amplitude, An</th>\n",
       "      <td id=\"T_071dd_row2_col0\" class=\"data row2 col0\" >13.504</td>\n",
       "      <td id=\"T_071dd_row2_col1\" class=\"data row2 col1\" >0.296</td>\n",
       "      <td id=\"T_071dd_row2_col2\" class=\"data row2 col2\" >10.043</td>\n",
       "      <td id=\"T_071dd_row2_col3\" class=\"data row2 col3\" >18.159</td>\n",
       "    </tr>\n",
       "  </tbody>\n",
       "</table>\n"
      ]
     },
     "metadata": {},
     "output_type": "display_data"
    },
    {
     "data": {
      "text/plain": [
       "<Figure size 562.5x375 with 1 Axes>"
      ],
      "image/png": "[encoded data removed]"
     },
     "metadata": {},
     "output_type": "display_data"
    }
   ],
   "execution_count": 6
  },
  {
   "cell_type": "markdown",
   "metadata": {},
   "source": [
    "## Save HVSR Results"
   ]
  },
  {
   "cell_type": "code",
   "metadata": {
    "ExecuteTime": {
     "end_time": "2025-05-12T03:48:56.152988Z",
     "start_time": "2025-05-12T03:48:56.149630Z"
    }
   },
   "source": [
    "save_figure = False\n",
    "save_results = False\n",
    "fname_prefix = \"example_mhvsr_traditional\"\n",
    "\n",
    "if save_figure:\n",
    "    fname = f\"{fname_prefix}_all_panels.png\"\n",
    "    fig.savefig(fname)\n",
    "    plt.close()\n",
    "    print(f\"Figure saved successfully to {fname}!\")\n",
    "\n",
    "if save_results:\n",
    "    fname = f\"{fname_prefix}.csv\"\n",
    "    hvsrpy.object_io.write_hvsr_object_to_file(hvsr, fname)\n",
    "    print(f\"Results saved successfully to {fname}!\")"
   ],
   "outputs": [],
   "execution_count": 7
  },
  {
   "cell_type": "code",
   "metadata": {
    "ExecuteTime": {
     "end_time": "2025-05-12T03:48:56.168600Z",
     "start_time": "2025-05-12T03:48:56.166784Z"
    }
   },
   "source": [],
   "outputs": [],
   "execution_count": null
  }
 ],
 "metadata": {
  "kernelspec": {
   "display_name": "Python 3 (ipykernel)",
   "language": "python",
   "name": "python3"
  },
  "language_info": {
   "codemirror_mode": {
    "name": "ipython",
    "version": 3
   },
   "file_extension": ".py",
   "mimetype": "text/x-python",
   "name": "python",
   "nbconvert_exporter": "python",
   "pygments_lexer": "ipython3",
   "version": "3.8.10"
  }
 },
 "nbformat": 4,
 "nbformat_minor": 4
}
