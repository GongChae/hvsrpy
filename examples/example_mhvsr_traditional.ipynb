{
 "cells": [
  {
   "cell_type": "markdown",
   "metadata": {},
   "source": [
    "## License Information\n",
    "---\n",
    "\n",
    "This file is distributed as part of `hvsrpy`, a Python package for horizontal-to-vertical spectral ratio processing.\n",
    "\n",
    "    Copyright (C) 2019-2023 Joseph P. Vantassel (joseph.p.vantassel@gmail.com)\n",
    "\n",
    "    This program is free software: you can redistribute it and/or modify\n",
    "    it under the terms of the GNU General Public License as published by\n",
    "    the Free Software Foundation, either version 3 of the License, or\n",
    "    (at your option) any later version.\n",
    "\n",
    "    This program is distributed in the hope that it will be useful,\n",
    "    but WITHOUT ANY WARRANTY; without even the implied warranty of\n",
    "    MERCHANTABILITY or FITNESS FOR A PARTICULAR PURPOSE.  See the\n",
    "    GNU General Public License for more details.\n",
    "\n",
    "    You should have received a copy of the GNU General Public License\n",
    "    along with this program.  If not, see <https: //www.gnu.org/licenses/>.\n",
    "    \n",
    "## About _hvsrpy_ and this notebook\n",
    "---\n",
    "\n",
    "`hvsrpy` is a Python package for performing horizontal-to-vertical spectral ratio\n",
    "(HVSR) processing. `hvsrpy` was developed by Joseph P. Vantassel with\n",
    "contributions from Dana M. Brannon under the supervision of Professor Brady R.\n",
    "Cox at The University of Texas at Austin.\n",
    "\n",
    "If you use _hvsrpy_ in your research or consulting, we ask you please cite the following:\n",
    "\n",
    ">Joseph Vantassel. (2020). jpvantassel/hvsrpy: latest (Concept). Zenodo.\n",
    "[http://doi.org/10.5281/zenodo.3666956](http://doi.org/10.5281/zenodo.3666956)\n",
    "\n",
    "_Note: For software, version specific citations should be preferred to\n",
    "general concept citations, such as that listed above. To generate a version\n",
    "specific citation for `hvsrpy`, please use the citation tool on the `hvsrpy`\n",
    "[archive](http://doi.org/10.5281/zenodo.3666956)._\n",
    "\n",
    "The automated frequency-domain window-rejection algorithm and lognormal statistics\n",
    "implemented in `hvsrpy` were developed by Tianjian Cheng under the supervision of\n",
    "Professor Brady R. Cox at The University of Texas at Austin. To\n",
    "recognize their original work please cite the follwing:\n",
    "\n",
    "> Cox, B. R., Cheng, T., Vantassel, J. P., & Manuel, L. (2020). \"A statistical\n",
    "> representation and frequency-domain window-rejection algorithm for single-station\n",
    "> HVSR measurements. Geophysical Journal International, 221(3), 2170–2183.\n",
    "> https://doi.org/10.1093/gji/ggaa119\n",
    "\n",
    "\n",
    "This notebook also provides automatic checking of the SESAME (2004) reliability\n",
    "and clarity critera. To recognize their original work please also cite the following:\n",
    "\n",
    "> SESAME. (2004). Guidelines for the Implementation of the H/V Spectral Ratio Technique on Ambient Vibrations\n",
    "> Measurements, Processing, and Interpretation. European Commission - Research General Directorate, 62,\n",
    "> European Commission - Research General Directorate.\n",
    "\n",
    "## Getting Started\n",
    "---\n",
    "1. Install _hvsrpy_ and its dependencies, with `pip install hvsrpy`. If you are not familiar with `pip`, a useful tutorial can be found [here](https://jpvantassel.github.io/python3-course/#/intro/pip). __(~3 minutes)__\n",
    "2. Try analyzing the four provided examples. The names of these files have been written and commented out in the section _Time Domain Settings_ for your convenience. __(~15 minutes)__\n",
    "3. Try one of your own _miniseed_ files. If you wish you can confirm that, when the same settings are used, the result from _hvsrpy_ will exactly matches that of other software suites (e.g., Geopsy). If you get an error related to the _miniseed_ file this likely means it does not conform to the _SEED_ standard (refer to the [hvsrpy documentation](https://hvsrpy.readthedocs.io/en/stable/) for details). __(~15 minutes)__\n",
    "\n",
    "Happy Processing!"
   ]
  },
  {
   "cell_type": "code",
   "execution_count": 3,
   "metadata": {
    "tags": []
   },
   "outputs": [],
   "source": [
    "import time\n",
    "\n",
    "import numpy as np\n",
    "import pandas as pd\n",
    "import matplotlib.pyplot as plt\n",
    "\n",
    "import hvsrpy\n",
    "# from hvsrpy import utils\n",
    "\n",
    "plt.style.use(\"hvsrpy.mplstyle\")"
   ]
  },
  {
   "cell_type": "markdown",
   "metadata": {},
   "source": [
    "## Time Domain Settings\n",
    "---"
   ]
  },
  {
   "cell_type": "code",
   "execution_count": 4,
   "metadata": {
    "tags": []
   },
   "outputs": [],
   "source": [
    "# Input file name (may be a relative or full path).\n",
    "# file_name = \"UT.STN11.A2_C50.miniseed\"\n",
    "file_name = \"UT.STN11.A2_C150.miniseed\"\n",
    "# file_name = \"UT.STN12.A2_C50.miniseed\"\n",
    "# file_name = \"UT.STN12.A2_C150.miniseed\"\n",
    "\n",
    "# Window length in seconds. In general low frequency peaks require longer window lengths.\n",
    "# See the SESAME guidelines for specific window length recommendations.\n",
    "windowlength = 60\n",
    "\n",
    "# Boolean to control whether Butterworth filter is applied. \n",
    "# Geopsy does not apply a bandpass filter.\n",
    "filter_bool = False        \n",
    "# Low-cut frequency for bandpass filter.\n",
    "filter_flow = 0.1                   \n",
    "# High-cut frequency for bandpass filter.\n",
    "filter_fhigh = 30                   \n",
    "# Filter order.\n",
    "filter_order = 5\n",
    "\n",
    "# Width of cosine taper {0. - 1.}. Geopsy default of 0.05 is equal to 0.1 -> 0.1 is recommended\n",
    "width = 0.1"
   ]
  },
  {
   "cell_type": "markdown",
   "metadata": {},
   "source": [
    "## Frequency Domain Settings\n",
    "---"
   ]
  },
  {
   "cell_type": "code",
   "execution_count": 5,
   "metadata": {
    "tags": []
   },
   "outputs": [],
   "source": [
    "# Konno and Ohmachi smoothing constant. 40 is recommended.\n",
    "bandwidth = 40\n",
    "\n",
    "# Minimum frequency after resampling\n",
    "resample_fmin = 0.1  \n",
    "# Maximum frequency after resampling\n",
    "resample_fmax = 50\n",
    "# Number of frequencies after resampling\n",
    "resample_fnum = 200\n",
    "# Type of resampling {'log', 'linear'}\n",
    "resample_type = 'log'\n",
    "\n",
    "# Upper and lower frequency limits to restrict peak selection. To use the entire range use `None`.\n",
    "peak_f_lower = None\n",
    "peak_f_upper = None"
   ]
  },
  {
   "cell_type": "markdown",
   "metadata": {},
   "source": [
    "## HVSR Settings\n",
    "---"
   ]
  },
  {
   "cell_type": "code",
   "execution_count": 6,
   "metadata": {
    "tags": []
   },
   "outputs": [],
   "source": [
    "# Method for combining horizontal components {\"squared-average\", \"geometric-mean\", \"single-azimuth\"}.\n",
    "# Geopsy's default is \"squared-average\" -> \"geometric-mean\" is recommended.\n",
    "method = \"geometric-mean\"\n",
    "# If method=\"single-azimuth\", set azimuth in degree clock-wise from north. If method!=\"single-azimuth\", value is ignored.\n",
    "azimuth = 0\n",
    "\n",
    "# Boolean to control whether frequency domain rejection proposed by Cox et al. (2020) is applied.\n",
    "# Geopsy does not offer this functionality.\n",
    "rejection_bool = True\n",
    "# Number of standard deviations to consider during rejection. Smaller values will reject more windows -> 2 is recommended.\n",
    "n = 2\n",
    "# Maximum number of iterations to perform for rejection -> 50 is recommended.\n",
    "max_iterations = 50\n",
    "\n",
    "# Distribution of f0 {\"lognormal\", \"normal\"}. Geopsy default \"normal\" -> \"lognormal\" is recommended.\n",
    "distribution_f0 = \"lognormal\"\n",
    "# Distribution of mean curve {\"lognormal\", \"normal\"}. Geopsy default \"lognormal\" -> \"lognormal\" is recommended.\n",
    "distribution_mc = \"lognormal\""
   ]
  },
  {
   "cell_type": "markdown",
   "metadata": {},
   "source": [
    "## Plot Settings\n",
    "---"
   ]
  },
  {
   "cell_type": "code",
   "execution_count": 7,
   "metadata": {
    "tags": []
   },
   "outputs": [],
   "source": [
    "# Manually set the ylimits of the HVSR figures. Default is None so limits will be set automatically.\n",
    "ymin, ymax = 0, 10"
   ]
  },
  {
   "cell_type": "markdown",
   "metadata": {},
   "source": [
    "## Perform Calculation\n",
    "---"
   ]
  },
  {
   "cell_type": "code",
   "execution_count": 8,
   "metadata": {
    "tags": []
   },
   "outputs": [
    {
     "ename": "AttributeError",
     "evalue": "module 'hvsrpy' has no attribute 'Sensor3c'",
     "output_type": "error",
     "traceback": [
      "\u001b[0;31m---------------------------------------------------------------------------\u001b[0m",
      "\u001b[0;31mAttributeError\u001b[0m                            Traceback (most recent call last)",
      "Cell \u001b[0;32mIn[8], line 16\u001b[0m\n\u001b[1;32m     13\u001b[0m     ax4 \u001b[38;5;241m=\u001b[39m \u001b[38;5;28;01mFalse\u001b[39;00m\n\u001b[1;32m     15\u001b[0m start \u001b[38;5;241m=\u001b[39m time\u001b[38;5;241m.\u001b[39mtime()\n\u001b[0;32m---> 16\u001b[0m sensor \u001b[38;5;241m=\u001b[39m \u001b[43mhvsrpy\u001b[49m\u001b[38;5;241;43m.\u001b[39;49m\u001b[43mSensor3c\u001b[49m\u001b[38;5;241m.\u001b[39mfrom_mseed(file_name)\n\u001b[1;32m     17\u001b[0m bp_filter \u001b[38;5;241m=\u001b[39m {\u001b[38;5;124m\"\u001b[39m\u001b[38;5;124mflag\u001b[39m\u001b[38;5;124m\"\u001b[39m:filter_bool, \u001b[38;5;124m\"\u001b[39m\u001b[38;5;124mflow\u001b[39m\u001b[38;5;124m\"\u001b[39m:filter_flow, \u001b[38;5;124m\"\u001b[39m\u001b[38;5;124mfhigh\u001b[39m\u001b[38;5;124m\"\u001b[39m:filter_fhigh, \u001b[38;5;124m\"\u001b[39m\u001b[38;5;124morder\u001b[39m\u001b[38;5;124m\"\u001b[39m:filter_order}\n\u001b[1;32m     18\u001b[0m resampling \u001b[38;5;241m=\u001b[39m {\u001b[38;5;124m\"\u001b[39m\u001b[38;5;124mminf\u001b[39m\u001b[38;5;124m\"\u001b[39m:resample_fmin, \u001b[38;5;124m\"\u001b[39m\u001b[38;5;124mmaxf\u001b[39m\u001b[38;5;124m\"\u001b[39m:resample_fmax, \u001b[38;5;124m\"\u001b[39m\u001b[38;5;124mnf\u001b[39m\u001b[38;5;124m\"\u001b[39m:resample_fnum, \u001b[38;5;124m\"\u001b[39m\u001b[38;5;124mres_type\u001b[39m\u001b[38;5;124m\"\u001b[39m:resample_type}\n",
      "\u001b[0;31mAttributeError\u001b[0m: module 'hvsrpy' has no attribute 'Sensor3c'"
     ]
    },
    {
     "data": {
      "image/png": "[encoded data removed]",
      "text/plain": [
       "<Figure size 900x900 with 5 Axes>"
      ]
     },
     "metadata": {},
     "output_type": "display_data"
    }
   ],
   "source": [
    "fig = plt.figure(figsize=(6,6), dpi=150)\n",
    "gs = fig.add_gridspec(nrows=6,ncols=6)\n",
    "\n",
    "ax0 = fig.add_subplot(gs[0:2, 0:3])\n",
    "ax1 = fig.add_subplot(gs[2:4, 0:3])\n",
    "ax2 = fig.add_subplot(gs[4:6, 0:3])\n",
    "\n",
    "if rejection_bool:\n",
    "    ax3 = fig.add_subplot(gs[0:3, 3:6])\n",
    "    ax4 = fig.add_subplot(gs[3:6, 3:6])\n",
    "else:\n",
    "    ax3 = fig.add_subplot(gs[0:3, 3:6])\n",
    "    ax4 = False\n",
    "\n",
    "start = time.time()\n",
    "sensor = hvsrpy.Sensor3c.from_mseed(file_name)\n",
    "bp_filter = {\"flag\":filter_bool, \"flow\":filter_flow, \"fhigh\":filter_fhigh, \"order\":filter_order}\n",
    "resampling = {\"minf\":resample_fmin, \"maxf\":resample_fmax, \"nf\":resample_fnum, \"res_type\":resample_type}\n",
    "hv = sensor.hv(windowlength, bp_filter, width, bandwidth, resampling, method, f_low=peak_f_lower, f_high=peak_f_upper, azimuth=azimuth)\n",
    "end = time.time()\n",
    "print(f\"Elapsed Time: {str(end-start)[0:4]} seconds\")\n",
    "\n",
    "individual_width = 0.3\n",
    "median_width = 1.3\n",
    "for ax, title in zip([ax3, ax4], [\"Before Rejection\", \"After Rejection\"]):\n",
    "    # Rejected Windows\n",
    "    if title==\"After Rejection\":\n",
    "        if len(hv.rejected_window_indices):\n",
    "            label = \"Rejected\"\n",
    "            for amp in hv.amp[hv.rejected_window_indices]:\n",
    "                ax.plot(hv.frq, amp, color='#00ffff', linewidth=individual_width, zorder=2, label=label)\n",
    "                label=None\n",
    "            \n",
    "    # Accepted Windows\n",
    "    label=\"Accepted\"\n",
    "    for amp in hv.amp[hv.valid_window_indices]:\n",
    "        ax.plot(hv.frq, amp, color='#888888', linewidth=individual_width,\n",
    "                label = label if title==\"Before Rejection\" else \"\")\n",
    "        label=None\n",
    "    \n",
    "    # Window Peaks\n",
    "    ax.plot(hv.peak_frq, hv.peak_amp, linestyle=\"\", zorder=2,\n",
    "            marker='o', markersize=2.5, markerfacecolor=\"#ffffff\", markeredgewidth=0.5, markeredgecolor='k',\n",
    "            label=\"\" if title==\"Before Rejection\" and rejection_bool else r\"$f_{0,i}$\")\n",
    "    \n",
    "    # Peak Mean Curve\n",
    "    ax.plot(hv.mc_peak_frq(distribution_mc), hv.mc_peak_amp(distribution_mc), linestyle=\"\", zorder=4,\n",
    "            marker='D', markersize=4, markerfacecolor='#66ff33', markeredgewidth=1, markeredgecolor='k', \n",
    "            label = \"\" if title==\"Before Rejection\" and rejection_bool else r\"$f_{0,mc}$\")\n",
    "    \n",
    "    # Mean Curve\n",
    "    label = r\"$LM_{curve}$\" if distribution_mc==\"lognormal\" else \"Mean\"   \n",
    "    ax.plot(hv.frq, hv.mean_curve(distribution_mc), color='k', linewidth=median_width,\n",
    "            label=\"\" if title==\"Before Rejection\" and rejection_bool else label)\n",
    "    \n",
    "    # Mean +/- Curve\n",
    "    label = r\"$LM_{curve}$\"+\" ± 1 STD\" if distribution_mc==\"lognormal\" else \"Mean ± 1 STD\"\n",
    "    ax.plot(hv.frq, hv.nstd_curve(-1, distribution_mc),\n",
    "            color='k', linestyle='--', linewidth=median_width, zorder=3,\n",
    "            label = \"\" if title==\"Before Rejection\" and rejection_bool else label)\n",
    "    ax.plot(hv.frq, hv.nstd_curve(+1, distribution_mc),\n",
    "            color='k', linestyle='--', linewidth=median_width, zorder=3)\n",
    "\n",
    "    # f0 +/- STD\n",
    "    if ymin is not None and ymax is not None:\n",
    "        ax.set_ylim((ymin, ymax))\n",
    "    label = r\"$LM_{f0}$\"+\" ± 1 STD\" if distribution_f0==\"lognormal\" else \"Mean f0 ± 1 STD\"    \n",
    "    _ymin, _ymax = ax.get_ylim()\n",
    "    ax.plot([hv.mean_f0_frq(distribution_f0)]*2, [_ymin, _ymax], linestyle=\"-.\", color=\"#000000\")\n",
    "    ax.fill([hv.nstd_f0_frq(-1, distribution_f0)]*2 + [hv.nstd_f0_frq(+1, distribution_f0)]*2, [_ymin, _ymax, _ymax, _ymin], \n",
    "            color = \"#ff8080\",\n",
    "            label=\"\" if title==\"Before Rejection\" and rejection_bool else label)\n",
    "    ax.set_ylim((_ymin, _ymax))\n",
    "    \n",
    "    ax.set_xscale('log')\n",
    "    ax.set_xlabel(\"Frequency (Hz)\")\n",
    "    ax.set_ylabel(\"HVSR Amplitude\")\n",
    "    if rejection_bool:\n",
    "        if title==\"Before Rejection\":\n",
    "            print(\"\\nStatistics before rejection:\")\n",
    "            hv.print_stats(distribution_f0)\n",
    "            c_iter = hv.reject_windows(n, max_iterations=max_iterations, \n",
    "                                       distribution_f0=distribution_f0, distribution_mc=distribution_mc)\n",
    "        elif title==\"After Rejection\":\n",
    "            fig.legend(ncol=4, loc='lower center', bbox_to_anchor=(0.51, 0), columnspacing=2)\n",
    "\n",
    "            print(\"\\nAnalysis summary:\")  \n",
    "            display(pd.DataFrame(columns=[\"\"], index=[\"Window length\", \"No. of windows\", \"Number of iterations to convergence\", \"No. of rejected windows\"], \n",
    "                    data=[f\"{windowlength}s\", str(sensor.ns.nseries), f\"{c_iter} of {max_iterations} allowed\", str(sum(hv.rejected_window_indices))]))            \n",
    "            print(\"\\nStatistics after rejection:\")\n",
    "            hv.print_stats(distribution_f0)\n",
    "    else:\n",
    "        display(pd.DataFrame(columns=[\"\"], index=[\"Window length\", \"No. of windows\"], \n",
    "                         data=[f\"{windowlength}s\", str(sensor.ns.nseries)]))\n",
    "        hv.print_stats(distribution_f0)\n",
    "        fig.legend(loc=\"upper center\", bbox_to_anchor=(0.77, 0.4))\n",
    "        break\n",
    "    ax.set_title(title)\n",
    "\n",
    "norm_factor = sensor.normalization_factor\n",
    "for ax, timerecord, name in zip([ax0,ax1,ax2], [sensor.ns, sensor.ew, sensor.vt], [\"NS\", \"EW\", \"VT\"]):\n",
    "    ctime = timerecord.time\n",
    "    amp = timerecord.amp/norm_factor\n",
    "    ax.plot(ctime.T, amp.T, linewidth=0.2, color='#888888')\n",
    "    ax.set_title(f\"Time Records ({name})\")\n",
    "    ax.set_yticks([-1, -0.5, 0, 0.5, 1])\n",
    "    ax.set_xlim(0, windowlength*timerecord.nseries)\n",
    "    ax.set_ylim(-1, 1)\n",
    "    ax.set_xlabel('Time (s)')\n",
    "    ax.set_ylabel('Normalized Amplitude')\n",
    "    ax.plot(ctime[hv.rejected_window_indices].T, amp[hv.rejected_window_indices].T, linewidth=0.2, color=\"cyan\")\n",
    "\n",
    "if rejection_bool:\n",
    "    axs = [ax0, ax3, ax1, ax4, ax2]\n",
    "else:\n",
    "    axs = [ax0, ax3, ax1, ax2]\n",
    "    \n",
    "for ax, letter in zip(axs, list(\"abcde\")):    \n",
    "    ax.text(0.97, 0.97, f\"({letter})\", ha=\"right\", va=\"top\", transform=ax.transAxes, fontsize=12)\n",
    "    for spine in [\"top\", \"right\"]:\n",
    "        ax.spines[spine].set_visible(False)\n",
    "\n",
    "\n",
    "fig.tight_layout(h_pad=1, w_pad=2, rect=(0,0.08,1,1))\n",
    "plt.show()"
   ]
  },
  {
   "cell_type": "markdown",
   "metadata": {},
   "source": [
    "## SESAME (2004) Reliability and Clarity Criteria\n",
    "---\n",
    "\n",
    "Please note that this functionality is still in the beta stage of development.\n",
    "So please review the classification carefully before incorporating the results into your work.\n",
    "If you believe you have found an error or if you wish to provide other feedback related to this functionality it is both welcomed and appreciated."
   ]
  },
  {
   "cell_type": "code",
   "execution_count": 7,
   "metadata": {},
   "outputs": [
    {
     "name": "stdout",
     "output_type": "stream",
     "text": [
      "\u001b[1mAssessing SESAME (2004) reliability criteria ... \u001b[0m\n",
      "  Criteria i): \u001b[32mPass\u001b[0m\n",
      "  Criteria ii): \u001b[32mPass\u001b[0m\n",
      "  Criteria iii): \u001b[32mPass\u001b[0m\n",
      "  The chosen peak \u001b[32mPASSES\u001b[0m the peak reliability criteria, with 3 of 3.\n",
      "\u001b[1mAssessing SESAME (2004) clarity criteria ... \u001b[0m\n",
      "  Criteria i): \u001b[32mPass\u001b[0m\n",
      "  Criteria ii): \u001b[32mPass\u001b[0m\n",
      "  Criteria iii): \u001b[32mPass\u001b[0m\n",
      "  Criteria iv): \u001b[31mFail\u001b[0m\n",
      "  Criteria v): \u001b[32mPass\u001b[0m\n",
      "  Criteria vi): \u001b[32mPass\u001b[0m\n",
      "  The chosen peak \u001b[32mPASSES\u001b[0m the peak clarity criteria, with 5 of 6.\n"
     ]
    }
   ],
   "source": [
    "reliability = utils.sesame_reliability(hv.meta[\"Window Length\"], len(hv.valid_window_indices), hv.frq, hv.mean_curve(), hv.std_curve(), search_limits=(peak_f_lower, peak_f_upper), verbose=1)\n",
    "clarity = utils.sesame_clarity(hv.frq, hv.mean_curve(), hv.std_curve(), hv.std_f0_frq(distribution=\"normal\"), search_limits=(peak_f_lower, peak_f_upper), verbose=1)"
   ]
  },
  {
   "cell_type": "markdown",
   "metadata": {},
   "source": [
    "## Save Figure to File\n",
    "---"
   ]
  },
  {
   "cell_type": "code",
   "execution_count": 8,
   "metadata": {},
   "outputs": [
    {
     "name": "stdout",
     "output_type": "stream",
     "text": [
      "Figure saved successfully!\n"
     ]
    }
   ],
   "source": [
    "figure_name_out = \"example_hvsr_figure.png\"\n",
    "\n",
    "fig.savefig(figure_name_out, dpi=300, bbox_inches='tight')\n",
    "plt.close()\n",
    "print(\"Figure saved successfully!\")"
   ]
  },
  {
   "cell_type": "markdown",
   "metadata": {},
   "source": [
    "## Save Results to Text File\n",
    "---"
   ]
  },
  {
   "cell_type": "code",
   "execution_count": 9,
   "metadata": {},
   "outputs": [
    {
     "name": "stdout",
     "output_type": "stream",
     "text": [
      "Results saved successfully!\n"
     ]
    }
   ],
   "source": [
    "file_name_out = \"example_output_hvsrpy.hv\"\n",
    "\n",
    "hv.to_file(file_name_out, distribution_f0, distribution_mc, data_format=\"hvsrpy\")\n",
    "print(\"Results saved successfully!\")"
   ]
  },
  {
   "cell_type": "markdown",
   "metadata": {},
   "source": [
    "## Save Results to Geopsy-Style Text File\n",
    "---"
   ]
  },
  {
   "cell_type": "code",
   "execution_count": 10,
   "metadata": {},
   "outputs": [
    {
     "name": "stdout",
     "output_type": "stream",
     "text": [
      "Results saved successfully!\n"
     ]
    }
   ],
   "source": [
    "file_name_out = \"example_output_geopsy.hv\"\n",
    "\n",
    "hv.to_file(file_name_out, distribution_f0, distribution_mc, data_format=\"geopsy\")\n",
    "print(\"Results saved successfully!\")"
   ]
  },
  {
   "cell_type": "code",
   "execution_count": null,
   "metadata": {},
   "outputs": [],
   "source": []
  }
 ],
 "metadata": {
  "kernelspec": {
   "display_name": "Python 3 (ipykernel)",
   "language": "python",
   "name": "python3"
  },
  "language_info": {
   "codemirror_mode": {
    "name": "ipython",
    "version": 3
   },
   "file_extension": ".py",
   "mimetype": "text/x-python",
   "name": "python",
   "nbconvert_exporter": "python",
   "pygments_lexer": "ipython3",
   "version": "3.8.10"
  }
 },
 "nbformat": 4,
 "nbformat_minor": 4
}
