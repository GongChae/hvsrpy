{
 "cells": [
  {
   "cell_type": "markdown",
   "metadata": {},
   "source": [
    "## License Information\n",
    "---\n",
    "\n",
    "This file is distributed as part of `hvsrpy`, a Python package for horizontal-to-vertical spectral ratio processing.\n",
    "\n",
    "    Copyright (C) 2019-2023 Joseph P. Vantassel (joseph.p.vantassel@gmail.com)\n",
    "\n",
    "    This program is free software: you can redistribute it and/or modify\n",
    "    it under the terms of the GNU General Public License as published by\n",
    "    the Free Software Foundation, either version 3 of the License, or\n",
    "    (at your option) any later version.\n",
    "\n",
    "    This program is distributed in the hope that it will be useful,\n",
    "    but WITHOUT ANY WARRANTY; without even the implied warranty of\n",
    "    MERCHANTABILITY or FITNESS FOR A PARTICULAR PURPOSE.  See the\n",
    "    GNU General Public License for more details.\n",
    "\n",
    "    You should have received a copy of the GNU General Public License\n",
    "    along with this program.  If not, see <https: //www.gnu.org/licenses/>.\n",
    "    \n",
    "## About _hvsrpy_ and this notebook\n",
    "---\n",
    "\n",
    "`hvsrpy` is a Python package for performing horizontal-to-vertical spectral ratio\n",
    "(HVSR) processing. `hvsrpy` was developed by Joseph P. Vantassel with\n",
    "contributions from Dana M. Brannon under the supervision of Professor Brady R.\n",
    "Cox at The University of Texas at Austin.\n",
    "\n",
    "If you use _hvsrpy_ in your research or consulting, we ask you please cite the following:\n",
    "\n",
    ">Joseph Vantassel. (2020). jpvantassel/hvsrpy: latest (Concept). Zenodo.\n",
    "[http://doi.org/10.5281/zenodo.3666956](http://doi.org/10.5281/zenodo.3666956)\n",
    "\n",
    "_Note: For software, version specific citations should be preferred to\n",
    "general concept citations, such as that listed above. To generate a version\n",
    "specific citation for `hvsrpy`, please use the citation tool on the `hvsrpy`\n",
    "[archive](http://doi.org/10.5281/zenodo.3666956)._\n",
    "\n",
    "The automated frequency-domain window-rejection algorithm and lognormal statistics\n",
    "implemented in `hvsrpy` were developed by Tianjian Cheng under the supervision of\n",
    "Professor Brady R. Cox at The University of Texas at Austin. To\n",
    "recognize their original work please cite the follwing:\n",
    "\n",
    "> Cox, B. R., Cheng, T., Vantassel, J. P., & Manuel, L. (2020). \"A statistical\n",
    "> representation and frequency-domain window-rejection algorithm for single-station\n",
    "> HVSR measurements. Geophysical Journal International, 221(3), 2170–2183.\n",
    "> https://doi.org/10.1093/gji/ggaa119\n",
    "\n",
    "\n",
    "This notebook also provides automatic checking of the SESAME (2004) reliability\n",
    "and clarity critera. To recognize their original work please also cite the following:\n",
    "\n",
    "> SESAME. (2004). Guidelines for the Implementation of the H/V Spectral Ratio Technique on Ambient Vibrations\n",
    "> Measurements, Processing, and Interpretation. European Commission - Research General Directorate, 62,\n",
    "> European Commission - Research General Directorate.\n",
    "\n",
    "## Getting Started\n",
    "---\n",
    "1. Install _hvsrpy_ and its dependencies, with `pip install hvsrpy`. If you are not familiar with `pip`, a useful tutorial can be found [here](https://jpvantassel.github.io/python3-course/#/intro/pip). __(~3 minutes)__\n",
    "2. Try analyzing the four provided examples. The names of these files have been written and commented out in the section _Time Domain Settings_ for your convenience. __(~15 minutes)__\n",
    "3. Try one of your own _miniseed_ files. If you wish you can confirm that, when the same settings are used, the result from _hvsrpy_ will exactly matches that of other software suites (e.g., Geopsy). If you get an error related to the _miniseed_ file this likely means it does not conform to the _SEED_ standard (refer to the [hvsrpy documentation](https://hvsrpy.readthedocs.io/en/stable/) for details). __(~15 minutes)__\n",
    "\n",
    "Happy Processing!"
   ]
  },
  {
   "cell_type": "code",
   "execution_count": 1,
   "metadata": {
    "tags": []
   },
   "outputs": [],
   "source": [
    "import time\n",
    "import pathlib\n",
    "\n",
    "import numpy as np\n",
    "import pandas as pd\n",
    "import matplotlib.pyplot as plt\n",
    "\n",
    "import hvsrpy\n",
    "\n",
    "plt.style.use(\"./data/hvsrpy.mplstyle\")"
   ]
  },
  {
   "cell_type": "markdown",
   "metadata": {},
   "source": [
    "## Input Data"
   ]
  },
  {
   "cell_type": "code",
   "execution_count": 2,
   "metadata": {
    "tags": []
   },
   "outputs": [
    {
     "name": "stdout",
     "output_type": "stream",
     "text": [
      "Number of recordings: 1\n",
      "All files exists\n"
     ]
    }
   ],
   "source": [
    "# Input file name (may be a relative or full path).\n",
    "# fnames = [\n",
    "#     [\"data/UT.STN11.A2_C50.miniseed\"]\n",
    "# ]\n",
    "# fnames = [\n",
    "#     [\"data/UT.STN11.A2_C150.miniseed\"]\n",
    "# ]\n",
    "fnames = [\n",
    "    [\"data/UT.STN11.A2_C300.miniseed\"]\n",
    "]\n",
    "\n",
    "print(f\"Number of recordings: {len(fnames)}\")\n",
    "for fname_set in fnames:\n",
    "    for file in fname_set:\n",
    "        if not pathlib.Path(file).exists():\n",
    "            raise FileNotFoundError(f\"file {file} not found; check spelling.\")\n",
    "print(\"All files exists\")"
   ]
  },
  {
   "cell_type": "markdown",
   "metadata": {},
   "source": [
    "## Frequency Domain Settings\n",
    "---"
   ]
  },
  {
   "cell_type": "code",
   "execution_count": 3,
   "metadata": {
    "tags": []
   },
   "outputs": [
    {
     "name": "stdout",
     "output_type": "stream",
     "text": [
      "Preprocessing Summary\n",
      "------------------------------------------------------------\n",
      "hvsrpy_version                           : 2.0.0rc7\n",
      "orient_to_degrees_from_north             : 0.0\n",
      "filter_corner_frequencies_in_hz          : (None, None)\n",
      "window_length_in_seconds                 : 60\n",
      "detrend                                  : linear\n",
      "ignore_dissimilar_time_step_warning      : False\n",
      "preprocessing_method                     : hvsr\n"
     ]
    }
   ],
   "source": [
    "preprocessing_settings = hvsrpy.settings.HvsrPreProcessingSettings()\n",
    "preprocessing_settings.detrend = \"linear\"\n",
    "preprocessing_settings.window_length_in_seconds = 60\n",
    "preprocessing_settings.orient_to_degrees_from_north = 0.0\n",
    "preprocessing_settings.filter_corner_frequencies_in_hz=(None, None)\n",
    "\n",
    "print(\"Preprocessing Summary\")\n",
    "print(\"-\"*60)\n",
    "preprocessing_settings.psummary()"
   ]
  },
  {
   "cell_type": "markdown",
   "metadata": {},
   "source": [
    "## HVSR Settings\n",
    "---"
   ]
  },
  {
   "cell_type": "code",
   "execution_count": 4,
   "metadata": {
    "tags": []
   },
   "outputs": [
    {
     "name": "stdout",
     "output_type": "stream",
     "text": [
      "Processing Summary\n",
      "------------------------------------------------------------\n",
      "hvsrpy_version                           : 2.0.0rc7\n",
      "window_type_and_width                    : ('tukey', 0.1)\n",
      "smoothing                                :\n",
      "     operator                            : konno_and_ohmachi\n",
      "     bandwidth                           : 50\n",
      "     center_frequencies_in_hz            : [0.1, 0.101223591337 ... 9559972058108, 50.0]\n",
      "fft_settings                             : None\n",
      "handle_dissimilar_time_steps_by          : frequency_domain_resampling\n",
      "processing_method                        : traditional\n",
      "method_to_combine_horizontals            : geometric_mean\n"
     ]
    }
   ],
   "source": [
    "processing_settings = hvsrpy.settings.HvsrTraditionalProcessingSettings()\n",
    "processing_settings.window_type_and_width = (\"tukey\", 0.1)\n",
    "processing_settings.smoothing=dict(operator=\"konno_and_ohmachi\",\n",
    "                                   bandwidth=50,\n",
    "                                   center_frequencies_in_hz=np.geomspace(0.1, 50, 512))\n",
    "processing_settings.method_to_combine_horizontals=\"geometric_mean\"\n",
    "\n",
    "print(\"Processing Summary\")\n",
    "print(\"-\"*60)\n",
    "processing_settings.psummary()"
   ]
  },
  {
   "cell_type": "markdown",
   "metadata": {},
   "source": [
    "## Calculate"
   ]
  },
  {
   "cell_type": "code",
   "execution_count": 5,
   "metadata": {},
   "outputs": [],
   "source": [
    "srecords = hvsrpy.read(fnames)\n",
    "srecords = hvsrpy.preprocess(srecords, preprocessing_settings)\n",
    "hvsr = hvsrpy.process(srecords, processing_settings)"
   ]
  },
  {
   "cell_type": "markdown",
   "metadata": {},
   "source": [
    "## Manual Window Rejection"
   ]
  },
  {
   "cell_type": "code",
   "execution_count": null,
   "metadata": {},
   "outputs": [],
   "source": [
    "%matplotlib qt5\n",
    "hvsrpy.window_rejection.manual_window_rejection(hvsr=hvsr)"
   ]
  },
  {
   "cell_type": "code",
   "execution_count": null,
   "metadata": {},
   "outputs": [],
   "source": []
  },
  {
   "cell_type": "code",
   "execution_count": null,
   "metadata": {},
   "outputs": [],
   "source": []
  }
 ],
 "metadata": {
  "kernelspec": {
   "display_name": "Python 3 (ipykernel)",
   "language": "python",
   "name": "python3"
  },
  "language_info": {
   "codemirror_mode": {
    "name": "ipython",
    "version": 3
   },
   "file_extension": ".py",
   "mimetype": "text/x-python",
   "name": "python",
   "nbconvert_exporter": "python",
   "pygments_lexer": "ipython3",
   "version": "3.8.10"
  }
 },
 "nbformat": 4,
 "nbformat_minor": 4
}
