{
 "cells": [
  {
   "cell_type": "code",
   "execution_count": 1,
   "id": "76d64bec-3439-41ca-8403-ece7a97a75be",
   "metadata": {
    "tags": []
   },
   "outputs": [],
   "source": [
    "import matplotlib.pyplot as plt\n",
    "\n",
    "import hvsrpy\n",
    "\n",
    "plt.style.use(\"hvsrpy.mplstyle\")"
   ]
  },
  {
   "cell_type": "code",
   "execution_count": null,
   "id": "8e2875d2-bf64-4c35-aab9-67118a7bafca",
   "metadata": {},
   "outputs": [],
   "source": []
  },
  {
   "cell_type": "code",
   "execution_count": null,
   "id": "067be704-9c37-4087-b78e-4e905bcd3842",
   "metadata": {},
   "outputs": [],
   "source": [
    "\n",
    "\n",
    "hvsrpy.read("
   ]
  },
  {
   "cell_type": "code",
   "execution_count": null,
   "id": "c433f57b-fec4-43a4-81f4-4627db761359",
   "metadata": {},
   "outputs": [],
   "source": []
  }
 ],
 "metadata": {
  "kernelspec": {
   "display_name": "Python 3 (ipykernel)",
   "language": "python",
   "name": "python3"
  },
  "language_info": {
   "codemirror_mode": {
    "name": "ipython",
    "version": 3
   },
   "file_extension": ".py",
   "mimetype": "text/x-python",
   "name": "python",
   "nbconvert_exporter": "python",
   "pygments_lexer": "ipython3",
   "version": "3.8.10"
  }
 },
 "nbformat": 4,
 "nbformat_minor": 5
}
