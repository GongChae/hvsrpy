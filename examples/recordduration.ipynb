{
 "cells": [
  {
   "metadata": {
    "ExecuteTime": {
     "end_time": "2025-05-06T06:37:07.211964Z",
     "start_time": "2025-05-06T06:37:07.202647Z"
    }
   },
   "cell_type": "code",
   "source": [
    "from obspy import read\n",
    "\n",
    "\n",
    "\n",
    "def cut_last_200s_and_print_info(file_path):\n",
    "    tr = read(file_path)[0]  # 첫 번째 트레이스 가져오기\n",
    "    delta = tr.stats.delta\n",
    "    endtime = tr.stats.endtime\n",
    "    new_start = endtime - 200  # 끝에서 200초 전 시점 계산\n",
    "\n",
    "    # 트레이스 자르기\n",
    "    tr.trim(starttime=new_start)\n",
    "\n",
    "    # 정보 출력\n",
    "    print(f\"파일: {file_path}\")\n",
    "    print(f\"샘플 간격 (delta): {delta}초\")\n",
    "    print(f\"샘플 수 (npts): {tr.stats.npts}\")\n",
    "    print(f\"자른 데이터 길이: {tr.stats.npts * delta:.2f}초\")\n",
    "\n",
    "    return tr\n",
    "cut_last_200s_and_print_info(\"C:/SOLODATA/zonghap/3month/3월부터얻은데이터목록/453018809.0010.2025.04.02.00.31.38.000.Z.sac\")\n"
   ],
   "id": "9d37f9f8287203d4",
   "outputs": [
    {
     "name": "stdout",
     "output_type": "stream",
     "text": [
      "파일: C:/SOLODATA/zonghap/3month/3월부터얻은데이터목록/453018809.0010.2025.04.02.00.31.38.000.Z.sac\n",
      "샘플 간격 (delta): 0.00400000024414064초\n",
      "샘플 수 (npts): 50001\n",
      "자른 데이터 길이: 200.00초\n"
     ]
    },
    {
     "data": {
      "text/plain": [
       ".3018809..DPZ | 2025-04-02T01:33:06.000225Z - 2025-04-02T01:36:26.000237Z | 250.0 Hz, 50001 samples"
      ]
     },
     "execution_count": 13,
     "metadata": {},
     "output_type": "execute_result"
    }
   ],
   "execution_count": 13
  }
 ],
 "metadata": {
  "kernelspec": {
   "display_name": "Python 3",
   "language": "python",
   "name": "python3"
  },
  "language_info": {
   "codemirror_mode": {
    "name": "ipython",
    "version": 2
   },
   "file_extension": ".py",
   "mimetype": "text/x-python",
   "name": "python",
   "nbconvert_exporter": "python",
   "pygments_lexer": "ipython2",
   "version": "2.7.6"
  }
 },
 "nbformat": 4,
 "nbformat_minor": 5
}
