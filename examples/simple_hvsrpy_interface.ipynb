{
 "cells": [
  {
   "cell_type": "markdown",
   "metadata": {},
   "source": [
    "## License Information\n",
    "---------\n",
    "\n",
    "This file is part of `hvsrpy`, a module for horizontal-to-vertical spectral ratio (H/V) processing in Python.\n",
    "\n",
    "    Copyright (C) 2019 Joseph P. Vantassel (jvantassel@utexas.edu)\n",
    "\n",
    "    This program is free software: you can redistribute it and/or modify\n",
    "    it under the terms of the GNU General Public License as published by\n",
    "    the Free Software Foundation, either version 3 of the License, or\n",
    "    (at your option) any later version.\n",
    "\n",
    "    This program is distributed in the hope that it will be useful,\n",
    "    but WITHOUT ANY WARRANTY; without even the implied warranty of\n",
    "    MERCHANTABILITY or FITNESS FOR A PARTICULAR PURPOSE.  See the\n",
    "    GNU General Public License for more details.\n",
    "\n",
    "    You should have received a copy of the GNU General Public License\n",
    "    along with this program.  If not, see <https: //www.gnu.org/licenses/>.\n",
    "    \n",
    "## About _hvsrpy_\n",
    "---------------\n",
    "\n",
    "`hvsrpy` is a Python module for performing horizontal-to-vertical spectral ratio (H/V) calculations.\n",
    "This notebook and `hvsrpy` were developed by Joseph P. Vantassel with contributions from Dana Brannon under the supervision of Professor Brady R. Cox at the University of Texas at Austin.\n",
    "The automated frequency-domain rejection algorithm implemented in `hvsrpy` was developed by Tianjian Cheng under the supervision of Professor Brady R. Cox at the Univesity of Texas at Austin and detailed in Cheng et al. (in review). \n",
    "This notebook is intended as a simplified interface to `hvsrpy` to allow a user to perform H/V processing without the need to write any additional code.\n",
    "\n",
    "## Getting Started\n",
    "-----------------\n",
    "1. Follow the provided instructions to install _hvsrpy_ and its dependencies. __(~30 minutes)__\n",
    "2. Try analyzing the four provided example files. The names of these files have been written and commented out in the section _Time Domain Settings_ for your conveinience. __(~30 minutes)__\n",
    "3. Try one of your own _miniseed_ files and confirm that the result from _hvsrpy_ matches that of Geopsy. Note that Geopsy does not perform any bandpass filtering. If you get an error related to the _miniseed_ file this likely means it does\n",
    "not conform to the _SEED_ standard (refer to _hvsrpy_ documentation for details), if the problem persists please send a copy of the file along with the error message to (jvantassel@utexas.edu). __(~15 minutes)__\n",
    "\n",
    "Happy Processing!"
   ]
  },
  {
   "cell_type": "code",
   "execution_count": null,
   "metadata": {},
   "outputs": [],
   "source": [
    "import hvsrpy\n",
    "import numpy as np\n",
    "import matplotlib.pyplot as plt\n",
    "import time"
   ]
  },
  {
   "cell_type": "markdown",
   "metadata": {},
   "source": [
    "## Time Domain Settings\n",
    "-----------------------"
   ]
  },
  {
   "cell_type": "code",
   "execution_count": null,
   "metadata": {},
   "outputs": [],
   "source": [
    "# Input file name (may be relative or a full path).\n",
    "# file_name = \"UT.STN11.A2_C50.miniseed\"\n",
    "# file_name = \"UT.STN11.A2_C150.miniseed\"\n",
    "# file_name = \"UT.STN12.A2_C50.miniseed\"\n",
    "file_name = \"UT.STN12.A2_C150.miniseed\"\n",
    "\n",
    "# Window length in seconds. In general low frequency peaks require longer window lengths. See SESAME guidelines for specific window length recommendations.\n",
    "windowlength = 60\n",
    "\n",
    "# Boolean to control whether Butterworth filter is applied. Geopsy does not apply a bandpass filter.\n",
    "filter_bool = False          \n",
    "# Low-cut frequency for bandpass filter.\n",
    "flow = 0.1                   \n",
    "# High-cut frequency for bandpass filter.\n",
    "fhigh = 45                   \n",
    "# Filter order.\n",
    "forder = 5\n",
    "\n",
    "# Width of cosine taper {0. - 1.}. Geopsy default of 0.05 is equal to 0.1 -> 0.1 is recommended\n",
    "width = 0.1"
   ]
  },
  {
   "cell_type": "markdown",
   "metadata": {},
   "source": [
    "## Frequency Domain Settings\n",
    "--------------------------"
   ]
  },
  {
   "cell_type": "code",
   "execution_count": null,
   "metadata": {},
   "outputs": [],
   "source": [
    "# Konno and Ohmachi smoothing constant. 40 is recommended.\n",
    "bandwidth = 40\n",
    "\n",
    "# Minimum frequency after resampling\n",
    "minf = 0.3          \n",
    "# Maximum frequency after resampling\n",
    "maxf = 40\n",
    "# Number of frequencies after resampling\n",
    "nf = 2048\n",
    "# Type of resampling {'log', 'linear'}\n",
    "res_type = 'log'"
   ]
  },
  {
   "cell_type": "markdown",
   "metadata": {},
   "source": [
    "## H/V Settings\n",
    "--------------"
   ]
  },
  {
   "cell_type": "code",
   "execution_count": null,
   "metadata": {},
   "outputs": [],
   "source": [
    "# Method for combining horizontal components {\"squared-average\", \"geometric-mean\"}. Geopsy default is \"squared-average\" -> \"geometric-mean\" is recommended.\n",
    "method = 'geometric-mean'\n",
    "\n",
    "# Boolean to control whether frequency domain rejection proposed by Cheng et al. (in review) is applied. Geopsy does not offer the ability for automatic rejection in the frequency domain.\n",
    "rejection_bool = False\n",
    "# Number of standard deviations to consider during rejection. Smaller values will reject more windows -> 2 is recommended.\n",
    "n = 2\n",
    "# Maximum number of iterations to perform for rejection -> 50 is recommended.\n",
    "n_iteration = 50\n",
    "\n",
    "# Distribution of f0 {\"log-normal\", \"normal\"}. Geopsy default \"normal\" -> \"log-normal\" is recommended.\n",
    "distribution_f0 = \"normal\"\n",
    "# Distribution of f0 {\"log-normal\", \"normal\"}. Geopsy default \"log-normal\" -> \"log-normal\" is recommended.\n",
    "distribution_mc = \"log-normal\""
   ]
  },
  {
   "cell_type": "markdown",
   "metadata": {},
   "source": [
    "## Perform Calculation\n",
    "--------------"
   ]
  },
  {
   "cell_type": "code",
   "execution_count": null,
   "metadata": {},
   "outputs": [],
   "source": [
    "start = time.time()\n",
    "sensor = hvsrpy.Sensor3c.from_mseed(file_name)\n",
    "bp_filter = {\"flag\":filter_bool, \"flow\":flow, \"fhigh\":fhigh, \"order\":forder}\n",
    "resampling = {\"minf\":minf, \"maxf\":maxf, \"nf\":nf, \"res_type\":res_type}\n",
    "hv = sensor.hv(windowlength, bp_filter, width, bandwidth, resampling, method)\n",
    "end = time.time()\n",
    "print(f\"Elapsed Time: {(end-start)} seconds\")\n",
    "\n",
    "if rejection_bool:\n",
    "    fig, axs = plt.subplots(nrows=2, ncols=1, sharex=True, figsize=(5,6))\n",
    "    plt.subplots_adjust(hspace=0.2)\n",
    "    ax = axs[0]\n",
    "else:\n",
    "    fig, ax = plt.subplots(nrows=1, ncols=1, figsize=(5,3))\n",
    "\n",
    "for amp in hv.amp:\n",
    "    ax.plot(hv.frq, amp, color='#aaaaaa')\n",
    "ax.plot(hv.frq, hv.mean_curve(distribution_mc), color='k')\n",
    "ax.plot(hv.frq, hv.nstd_curve(-1, distribution_mc), color='k', linestyle='--')\n",
    "ax.plot(hv.frq, hv.nstd_curve(+1, distribution_mc), color='k', linestyle='--')\n",
    "if not rejection_bool:\n",
    "    ax.set_xlabel(\"Frequency (Hz)\")\n",
    "else:\n",
    "    ax.set_title(\"Before Rejection\")\n",
    "ax.set_ylabel(\"H/V Ampltidue (#)\")\n",
    "ax.set_xscale('log')\n",
    "\n",
    "if rejection_bool:\n",
    "    ax=axs[1]\n",
    "    c_iter = hv.reject_windows(n, max_iterations=n_iteration, distribution_f0=distribution_f0, distribution_mc=distribution_mc)\n",
    "    print(f\"Number of iterations to convergence is {c_iter} of {n_iteration} allowed.\")\n",
    "    for amp in hv.amp[hv.valid_window_indices]:\n",
    "        plt.plot(hv.frq, amp, color='#aaaaaa')\n",
    "    ax.set_title(\"After Rejection\")\n",
    "    ax.plot(hv.frq, hv.mean_curve(distribution_mc), color='k')\n",
    "    ax.plot(hv.frq, hv.nstd_curve(-1, distribution_mc), color='k', linestyle='--')\n",
    "    ax.plot(hv.frq, hv.nstd_curve(+1, distribution_mc), color='k', linestyle='--')\n",
    "    plt.xlabel(\"Frequency (Hz)\")\n",
    "    plt.ylabel(\"H/V Ampltidue (#)\")\n",
    "    plt.xscale('log')\n",
    "plt.show()"
   ]
  },
  {
   "cell_type": "markdown",
   "metadata": {},
   "source": [
    "## Save Figure to File\n",
    "-----------------"
   ]
  },
  {
   "cell_type": "code",
   "execution_count": null,
   "metadata": {},
   "outputs": [],
   "source": [
    "figure_name_out = \"example_hvsr_figure.png\"\n",
    "\n",
    "if rejection_bool:\n",
    "    fig, ax = plt.subplots(nrows=1, ncols=1, figsize=(5,3))\n",
    "    for amp in hv.amp[hv.valid_window_indices]:\n",
    "        plt.plot(hv.frq, amp, color='#aaaaaa')\n",
    "    ax.plot(hv.frq, hv.mean_curve(distribution_mc), color='k')\n",
    "    ax.plot(hv.frq, hv.nstd_curve(-1, distribution_mc), color='k', linestyle='--')\n",
    "    ax.plot(hv.frq, hv.nstd_curve(+1, distribution_mc), color='k', linestyle='--')\n",
    "    plt.xlabel(\"Frequency (Hz)\")\n",
    "    plt.ylabel(\"H/V Ampltidue (#)\")\n",
    "    plt.xscale('log')\n",
    "fig.savefig(figure_name_out, dpi=300, bbox_inches='tight')\n",
    "plt.close()\n",
    "print(\"Figure saved successfully!\")"
   ]
  },
  {
   "cell_type": "markdown",
   "metadata": {},
   "source": [
    "## Save Results to _Geopsy_-Style File\n",
    "---------------"
   ]
  },
  {
   "cell_type": "code",
   "execution_count": null,
   "metadata": {},
   "outputs": [],
   "source": [
    "file_name_out = \"example_output.hv\"\n",
    "\n",
    "hv.to_file_like_geopsy(file_name_out, distribution_f0, distribution_mc)\n",
    "print(\"Results saved successfully!\")"
   ]
  },
  {
   "cell_type": "code",
   "execution_count": null,
   "metadata": {},
   "outputs": [],
   "source": []
  }
 ],
 "metadata": {
  "kernelspec": {
   "display_name": "Python 3",
   "language": "python",
   "name": "python3"
  },
  "language_info": {
   "codemirror_mode": {
    "name": "ipython",
    "version": 3
   },
   "file_extension": ".py",
   "mimetype": "text/x-python",
   "name": "python",
   "nbconvert_exporter": "python",
   "pygments_lexer": "ipython3",
   "version": "3.7.2"
  }
 },
 "nbformat": 4,
 "nbformat_minor": 2
}
