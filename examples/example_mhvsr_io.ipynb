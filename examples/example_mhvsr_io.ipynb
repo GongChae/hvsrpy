{
 "cells": [
  {
   "cell_type": "markdown",
   "metadata": {},
   "source": [
    "# Horizontal-to-Vertical Spectral Ratio (HVSR) Measurements from Microtremor Recordings (mHVSR) Under the Diffuse Field Assumption (DFA)\n",
    "\n",
    "## License Information\n",
    "\n",
    "This file is part of _hvsrpy_, a Python package for horizontal-to-vertical spectral ratio processing.\n",
    "\n",
    "    Copyright (C) 2019-2023 Joseph P. Vantassel (joseph.p.vantassel@gmail.com)\n",
    "\n",
    "    This program is free software: you can redistribute it and/or modify\n",
    "    it under the terms of the GNU General Public License as published by\n",
    "    the Free Software Foundation, either version 3 of the License, or\n",
    "    (at your option) any later version.\n",
    "\n",
    "    This program is distributed in the hope that it will be useful,\n",
    "    but WITHOUT ANY WARRANTY; without even the implied warranty of\n",
    "    MERCHANTABILITY or FITNESS FOR A PARTICULAR PURPOSE.  See the\n",
    "    GNU General Public License for more details.\n",
    "\n",
    "    You should have received a copy of the GNU General Public License\n",
    "    along with this program.  If not, see <https: //www.gnu.org/licenses/>.\n",
    "    \n",
    "## About _hvsrpy_\n",
    "\n",
    "_hvsrpy_ is an open-source Python package for performing horizontal-to-vertical spectral ratio (HVSR) processing of microtremor and earthquake recordings. _hvsrpy_ was developed by [Jospeh P. Vantassel](https://www.jpvantassel.com/) with contributions from Dana M. Brannon under the supervision of Professor Brady R. Cox at The University of Texas at Austin. _hvsrpy_ continues to be developed and maintained by [Joseph P. Vantassel and his research group at Virginia Tech](https://geoimaging-research.org/).\n",
    "\n",
    "## Citation\n",
    "\n",
    "If you use _hvsrpy_ in your research or consulting, we ask you please cite the following:\n",
    "\n",
    ">Joseph Vantassel. (2020). jpvantassel/hvsrpy: latest (Concept). Zenodo.\n",
    "[http://doi.org/10.5281/zenodo.3666956](http://doi.org/10.5281/zenodo.3666956)\n",
    "\n",
    "_Note: For software, version specific citations should be preferred to\n",
    "general concept citations, such as that listed above. To generate a version\n",
    "specific citation for hvsrpy, please use the citation tool on the hvsrpy\n",
    "[archive](http://doi.org/10.5281/zenodo.3666956)._\n",
    "\n",
    "## About this notebook\n",
    "\n",
    "This notebook illustrates how _hvsrpy_ can be used for performing HVSR on microtremor records (mHVSR) under the diffuse field assumption (DFA). The DFA for HVSR was proposed by Sánchez-Sesma et al. (2011). The microtremor data presented are those by Cox and Vantassel (2018).\n",
    "\n",
    ">Sánchez-Sesma, F.J., Rodríguez, M., Iturrarán-Viveros, U., Luzón, F., Campillo, M., Margerin, L., García-Jerez, A., Suarez, M., Santoyo, M.A., Rodríguez-Castellanos, A. (2011). A theory for microtremor H/V spectral ratio: application for a layered medium: Theory for microtremor H/V spectral ratio. Geophysical Journal International 186, 221–225. https://doi.org/10.1111/j.1365-246X.2011.05064.x\n",
    "\n",
    ">Cox, B., Vantassel, J. (2018). Dynamic Characterization of Wellington, New Zealand. DesignSafe-CI [publisher]. https://doi.org/10.17603/DS24M6J\n",
    "\n",
    "## Getting Started\n",
    "\n",
    "1. Install _hvsrpy_, with `pip install hvsrpy`. If you are not familiar with _pip_, a useful tutorial can be found [here](https://jpvantassel.github.io/python3-course/#/intro/pip). __(~3 minutes)__\n",
    "2. Try analyzing the three provided examples. The names of these files have been written and commented out in the section _Input Data_ for your convenience. __(~15 minutes)__\n",
    "3. Try one of your own _miniSEED_ (or other accepted format) files by changing the input file names below.  __(~15 minutes)__\n",
    "\n",
    "Happy Processing!\n",
    "\n"
   ]
  },
  {
   "cell_type": "code",
   "execution_count": 1,
   "metadata": {
    "tags": []
   },
   "outputs": [],
   "source": [
    "import time\n",
    "import pathlib\n",
    "\n",
    "import numpy as np\n",
    "import matplotlib.pyplot as plt\n",
    "\n",
    "import hvsrpy\n",
    "from hvsrpy import plot_tools\n",
    "\n",
    "plt.style.use(\"data/hvsrpy.mplstyle\")"
   ]
  },
  {
   "cell_type": "markdown",
   "metadata": {},
   "source": [
    "## Input Data"
   ]
  },
  {
   "cell_type": "code",
   "execution_count": 2,
   "metadata": {
    "tags": []
   },
   "outputs": [
    {
     "name": "stdout",
     "output_type": "stream",
     "text": [
      "Number of recordings: 1\n",
      "All files exists\n"
     ]
    }
   ],
   "source": [
    "# Input file name (may be a relative or full path).\n",
    "fnames = [[\"./data/UT.STN11.A2_C50.miniseed\"]]\n",
    "# fnames = [[\"./data/UT.STN11.A2_C150.miniseed\"]]\n",
    "# fnames = [[\"./data/UT.STN11.A2_C300.miniseed\"]]\n",
    "\n",
    "print(f\"Number of recordings: {len(fnames)}\")\n",
    "for fname_set in fnames:\n",
    "    for file in fname_set:\n",
    "        if not pathlib.Path(file).exists():\n",
    "            raise FileNotFoundError(f\"file {file} not found; check spelling.\")\n",
    "print(\"All files exists\")"
   ]
  },
  {
   "cell_type": "markdown",
   "metadata": {},
   "source": [
    "## Preprocessing Settings"
   ]
  },
  {
   "cell_type": "code",
   "execution_count": 3,
   "metadata": {
    "tags": []
   },
   "outputs": [
    {
     "name": "stdout",
     "output_type": "stream",
     "text": [
      "Preprocessing Summary\n",
      "------------------------------------------------------------\n",
      "hvsrpy_version                           : 2.0.0rc7\n",
      "orient_to_degrees_from_north             : 0.0\n",
      "filter_corner_frequencies_in_hz          : (None, None)\n",
      "window_length_in_seconds                 : 60\n",
      "detrend                                  : linear\n",
      "ignore_dissimilar_time_step_warning      : False\n",
      "preprocessing_method                     : hvsr\n"
     ]
    }
   ],
   "source": [
    "preprocessing_settings = hvsrpy.settings.HvsrPreProcessingSettings()\n",
    "preprocessing_settings.detrend = \"linear\"\n",
    "preprocessing_settings.window_length_in_seconds = 60\n",
    "preprocessing_settings.orient_to_degrees_from_north = 0.0\n",
    "preprocessing_settings.filter_corner_frequencies_in_hz=(None, None)\n",
    "\n",
    "print(\"Preprocessing Summary\")\n",
    "print(\"-\"*60)\n",
    "preprocessing_settings.psummary()"
   ]
  },
  {
   "cell_type": "markdown",
   "metadata": {},
   "source": [
    "## HVSR Settings\n",
    "---"
   ]
  },
  {
   "cell_type": "code",
   "execution_count": 4,
   "metadata": {
    "tags": []
   },
   "outputs": [
    {
     "name": "stdout",
     "output_type": "stream",
     "text": [
      "Processing Summary\n",
      "------------------------------------------------------------\n",
      "hvsrpy_version                           : 2.0.0rc7\n",
      "window_type_and_width                    : ('tukey', 0.1)\n",
      "smoothing                                :\n",
      "     operator                            : log_rectangular\n",
      "     bandwidth                           : 0.02\n",
      "     center_frequencies_in_hz            : [0.1, 0.101223591337 ... 9559972058108, 50.0]\n",
      "fft_settings                             : None\n",
      "handle_dissimilar_time_steps_by          : keeping_majority_time_step\n",
      "processing_method                        : diffuse_field\n"
     ]
    }
   ],
   "source": [
    "processing_settings = hvsrpy.settings.HvsrDiffuseFieldProcessingSettings()\n",
    "processing_settings.window_type_and_width = (\"tukey\", 0.1)\n",
    "processing_settings.smoothing=dict(operator=\"log_rectangular\",\n",
    "                                   bandwidth=0.02,\n",
    "                                   center_frequencies_in_hz=np.geomspace(0.1, 50, 512))\n",
    "\n",
    "print(\"Processing Summary\")\n",
    "print(\"-\"*60)\n",
    "processing_settings.psummary()"
   ]
  },
  {
   "cell_type": "markdown",
   "metadata": {},
   "source": [
    "## Calculate"
   ]
  },
  {
   "cell_type": "code",
   "execution_count": 5,
   "metadata": {},
   "outputs": [],
   "source": [
    "srecords = hvsrpy.read(fnames)\n",
    "srecords = hvsrpy.preprocess(srecords, preprocessing_settings)\n",
    "hvsr = hvsrpy.process(srecords, processing_settings)"
   ]
  },
  {
   "cell_type": "markdown",
   "metadata": {},
   "source": [
    "## Plot HVSR"
   ]
  },
  {
   "cell_type": "code",
   "execution_count": 6,
   "metadata": {
    "tags": []
   },
   "outputs": [
    {
     "ename": "NotImplementedError",
     "evalue": "Can only plot valid HVSR curves from HvsrTraditional and HvsrAzimuthal objects.",
     "output_type": "error",
     "traceback": [
      "\u001b[0;31m---------------------------------------------------------------------------\u001b[0m",
      "\u001b[0;31mNotImplementedError\u001b[0m                       Traceback (most recent call last)",
      "Cell \u001b[0;32mIn[6], line 1\u001b[0m\n\u001b[0;32m----> 1\u001b[0m (fig, ax) \u001b[38;5;241m=\u001b[39m \u001b[43mhvsrpy\u001b[49m\u001b[38;5;241;43m.\u001b[39;49m\u001b[43mplot_tools\u001b[49m\u001b[38;5;241;43m.\u001b[39;49m\u001b[43mplot_single_panel_hvsr_curves\u001b[49m\u001b[43m(\u001b[49m\u001b[43mhvsr\u001b[49m\u001b[43m)\u001b[49m\n",
      "File \u001b[0;32m~/software/hvsrpy/hvsrpy/plot_tools.py:181\u001b[0m, in \u001b[0;36mplot_single_panel_hvsr_curves\u001b[0;34m(hvsr, distribution_mc, distribution_fn, plot_mc, plot_fn, ax)\u001b[0m\n\u001b[1;32m    178\u001b[0m     fig, ax \u001b[38;5;241m=\u001b[39m plt\u001b[38;5;241m.\u001b[39msubplots(figsize\u001b[38;5;241m=\u001b[39m(\u001b[38;5;241m3.75\u001b[39m, \u001b[38;5;241m2.5\u001b[39m), dpi\u001b[38;5;241m=\u001b[39m\u001b[38;5;241m150\u001b[39m)\n\u001b[1;32m    180\u001b[0m \u001b[38;5;66;03m# individual hvsr curves - valid\u001b[39;00m\n\u001b[0;32m--> 181\u001b[0m \u001b[43m_plot_individual_hvsr_curves\u001b[49m\u001b[43m(\u001b[49m\u001b[43max\u001b[49m\u001b[38;5;241;43m=\u001b[39;49m\u001b[43max\u001b[49m\u001b[43m,\u001b[49m\u001b[43m \u001b[49m\u001b[43mhvsr\u001b[49m\u001b[38;5;241;43m=\u001b[39;49m\u001b[43mhvsr\u001b[49m\u001b[43m,\u001b[49m\u001b[43m \u001b[49m\u001b[43mvalid\u001b[49m\u001b[38;5;241;43m=\u001b[39;49m\u001b[38;5;28;43;01mTrue\u001b[39;49;00m\u001b[43m)\u001b[49m\n\u001b[1;32m    183\u001b[0m \u001b[38;5;66;03m# individual hvsr curves - invalid\u001b[39;00m\n\u001b[1;32m    184\u001b[0m _plot_individual_hvsr_curves(ax\u001b[38;5;241m=\u001b[39max, hvsr\u001b[38;5;241m=\u001b[39mhvsr, valid\u001b[38;5;241m=\u001b[39m\u001b[38;5;28;01mFalse\u001b[39;00m)\n",
      "File \u001b[0;32m~/software/hvsrpy/hvsrpy/plot_tools.py:65\u001b[0m, in \u001b[0;36m_plot_individual_hvsr_curves\u001b[0;34m(ax, hvsr, valid, plot_kwargs)\u001b[0m\n\u001b[1;32m     63\u001b[0m     msg \u001b[38;5;241m=\u001b[39m \u001b[38;5;124m\"\u001b[39m\u001b[38;5;124mCan only plot valid HVSR curves from HvsrTraditional \u001b[39m\u001b[38;5;124m\"\u001b[39m\n\u001b[1;32m     64\u001b[0m     msg \u001b[38;5;241m+\u001b[39m\u001b[38;5;241m=\u001b[39m \u001b[38;5;124m\"\u001b[39m\u001b[38;5;124mand HvsrAzimuthal objects.\u001b[39m\u001b[38;5;124m\"\u001b[39m\n\u001b[0;32m---> 65\u001b[0m     \u001b[38;5;28;01mraise\u001b[39;00m \u001b[38;5;167;01mNotImplementedError\u001b[39;00m(msg)\n\u001b[1;32m     67\u001b[0m \u001b[38;5;28;01mif\u001b[39;00m valid:\n\u001b[1;32m     68\u001b[0m     default_kwargs \u001b[38;5;241m=\u001b[39m \u001b[38;5;28mdict\u001b[39m(linewidth\u001b[38;5;241m=\u001b[39mDEFAULT_KWARGS[\u001b[38;5;124m\"\u001b[39m\u001b[38;5;124mwidth_of_individual_hvsr_curve\u001b[39m\u001b[38;5;124m\"\u001b[39m],\n\u001b[1;32m     69\u001b[0m                           color\u001b[38;5;241m=\u001b[39mDEFAULT_KWARGS[\u001b[38;5;124m\"\u001b[39m\u001b[38;5;124mcolor_of_individual_valid_hvsr_curve\u001b[39m\u001b[38;5;124m\"\u001b[39m],\n\u001b[1;32m     70\u001b[0m                           label\u001b[38;5;241m=\u001b[39mDEFAULT_KWARGS[\u001b[38;5;124m\"\u001b[39m\u001b[38;5;124mlabel_of_individual_valid_hvsr_curve\u001b[39m\u001b[38;5;124m\"\u001b[39m])\n",
      "\u001b[0;31mNotImplementedError\u001b[0m: Can only plot valid HVSR curves from HvsrTraditional and HvsrAzimuthal objects."
     ]
    },
    {
     "data": {
      "image/png": "[encoded data removed]",
      "text/plain": [
       "<Figure size 562.5x375 with 1 Axes>"
      ]
     },
     "metadata": {},
     "output_type": "display_data"
    }
   ],
   "source": [
    "(fig, ax) = hvsrpy.plot_tools.plot_single_panel_hvsr_curves(hvsr)"
   ]
  },
  {
   "cell_type": "markdown",
   "metadata": {},
   "source": [
    "## Save Results to Text File\n",
    "---"
   ]
  },
  {
   "cell_type": "code",
   "execution_count": null,
   "metadata": {},
   "outputs": [],
   "source": [
    "file_name_out = \"example_output_hvsrpy.hv\"\n",
    "\n",
    "hv.to_file(file_name_out, distribution_f0, distribution_mc, data_format=\"hvsrpy\")\n",
    "print(\"Results saved successfully!\")"
   ]
  },
  {
   "cell_type": "markdown",
   "metadata": {},
   "source": [
    "## Save Results to Geopsy-Style Text File\n",
    "---"
   ]
  },
  {
   "cell_type": "code",
   "execution_count": null,
   "metadata": {},
   "outputs": [],
   "source": [
    "file_name_out = \"example_output_geopsy.hv\"\n",
    "\n",
    "hv.to_file(file_name_out, distribution_f0, distribution_mc, data_format=\"geopsy\")\n",
    "print(\"Results saved successfully!\")"
   ]
  },
  {
   "cell_type": "code",
   "execution_count": null,
   "metadata": {},
   "outputs": [],
   "source": []
  }
 ],
 "metadata": {
  "kernelspec": {
   "display_name": "Python 3 (ipykernel)",
   "language": "python",
   "name": "python3"
  },
  "language_info": {
   "codemirror_mode": {
    "name": "ipython",
    "version": 3
   },
   "file_extension": ".py",
   "mimetype": "text/x-python",
   "name": "python",
   "nbconvert_exporter": "python",
   "pygments_lexer": "ipython3",
   "version": "3.8.10"
  }
 },
 "nbformat": 4,
 "nbformat_minor": 4
}
