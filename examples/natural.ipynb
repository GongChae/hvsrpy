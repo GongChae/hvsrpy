{
 "cells": [
  {
   "cell_type": "code",
   "execution_count": null,
   "id": "initial_id",
   "metadata": {
    "collapsed": true
   },
   "outputs": [],
   "source": [
    "import pathlib\n",
    "\n",
    "import numpy as np\n",
    "import matplotlib.pyplot as plt\n",
    "\n",
    "import hvsrpy\n",
    "\n",
    "plt.style.use(hvsrpy.HVSRPY_MPL_STYLE)\n",
    "\n",
    "# Input file name (may be a relative or full path).\n",
    "fnames = [[\"./data/UT.STN11.A2_C50.miniseed\"]]\n",
    "# fnames = [[\"./data/UT.STN11.A2_C150.miniseed\"]]\n",
    "# fnames = [[\"./data/UT.STN11.A2_C300.miniseed\"]]\n",
    "\n",
    "print(f\"Number of recordings: {len(fnames)}\")\n",
    "for fname_set in fnames:\n",
    "    for file in fname_set:\n",
    "        if not pathlib.Path(file).exists():\n",
    "            raise FileNotFoundError(f\"file {file} not found; check spelling.\")\n",
    "print(\"All files exist.\")\n",
    "\n",
    "preprocessing_settings = hvsrpy.settings.HvsrPreProcessingSettings()\n",
    "preprocessing_settings.detrend = \"linear\"\n",
    "preprocessing_settings.window_length_in_seconds = 100\n",
    "preprocessing_settings.orient_to_degrees_from_north = 0.0\n",
    "preprocessing_settings.filter_corner_frequencies_in_hz = (None, None)\n",
    "preprocessing_settings.ignore_dissimilar_time_step_warning = False\n",
    "\n",
    "print(\"Preprocessing Summary\")\n",
    "print(\"-\"*60)\n",
    "preprocessing_settings.psummary()\n",
    "\n",
    "processing_settings = hvsrpy.settings.HvsrTraditionalProcessingSettings()\n",
    "processing_settings.window_type_and_width = (\"tukey\", 0.2)\n",
    "processing_settings.smoothing=dict(operator=\"konno_and_ohmachi\",\n",
    "                                   bandwidth=40,\n",
    "                                   center_frequencies_in_hz=np.geomspace(0.2, 50, 200))\n",
    "processing_settings.method_to_combine_horizontals = \"geometric_mean\"\n",
    "processing_settings.handle_dissimilar_time_steps_by = \"frequency_domain_resampling\"\n",
    "\n",
    "print(\"Processing Summary\")\n",
    "print(\"-\"*60)\n",
    "processing_settings.psummary()\n",
    "\n",
    "srecords = hvsrpy.read(fnames)\n",
    "srecords = hvsrpy.preprocess(srecords, preprocessing_settings)\n",
    "hvsr = hvsrpy.process(srecords, processing_settings)\n",
    "\n",
    "print(\"\\nStatistical Summary:\")\n",
    "print(\"-\"*20)\n",
    "hvsrpy.summarize_hvsr_statistics(hvsr)\n",
    "(fig, ax) = hvsrpy.plot_single_panel_hvsr_curves(hvsr,)\n",
    "ax.get_legend().remove()\n",
    "ax.legend(loc=\"center left\", bbox_to_anchor=(1, 0.5))\n",
    "plt.show()"
   ]
  }
 ],
 "metadata": {
  "kernelspec": {
   "display_name": "Python 3",
   "language": "python",
   "name": "python3"
  },
  "language_info": {
   "codemirror_mode": {
    "name": "ipython",
    "version": 2
   },
   "file_extension": ".py",
   "mimetype": "text/x-python",
   "name": "python",
   "nbconvert_exporter": "python",
   "pygments_lexer": "ipython2",
   "version": "2.7.6"
  }
 },
 "nbformat": 4,
 "nbformat_minor": 5
}
