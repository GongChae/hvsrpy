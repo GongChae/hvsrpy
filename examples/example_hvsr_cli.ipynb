{
 "cells": [
  {
   "cell_type": "markdown",
   "metadata": {},
   "source": [
    "# Command Line Interface (CLI) for Horizontal-to-Vertical Spectral Ratio (HVSR) Measurements\n",
    "\n",
    "## License Information\n",
    "\n",
    "This file is part of _hvsrpy_, a Python package for horizontal-to-vertical spectral ratio processing.\n",
    "\n",
    "    Copyright (C) 2019-2024 Joseph P. Vantassel (joseph.p.vantassel@gmail.com)\n",
    "\n",
    "    This program is free software: you can redistribute it and/or modify\n",
    "    it under the terms of the GNU General Public License as published by\n",
    "    the Free Software Foundation, either version 3 of the License, or\n",
    "    (at your option) any later version.\n",
    "\n",
    "    This program is distributed in the hope that it will be useful,\n",
    "    but WITHOUT ANY WARRANTY; without even the implied warranty of\n",
    "    MERCHANTABILITY or FITNESS FOR A PARTICULAR PURPOSE.  See the\n",
    "    GNU General Public License for more details.\n",
    "\n",
    "    You should have received a copy of the GNU General Public License\n",
    "    along with this program.  If not, see <https: //www.gnu.org/licenses/>.\n",
    "    \n",
    "## About _hvsrpy_\n",
    "\n",
    "_hvsrpy_ is an open-source Python package for performing horizontal-to-vertical spectral ratio (HVSR) processing of microtremor and earthquake recordings. _hvsrpy_ was developed by [Jospeh P. Vantassel](https://www.jpvantassel.com/) with contributions from Dana M. Brannon under the supervision of Professor Brady R. Cox at The University of Texas at Austin. _hvsrpy_ continues to be developed and maintained by [Joseph P. Vantassel and his research group at Virginia Tech](https://geoimaging-research.org/).\n",
    "\n",
    "## Citation\n",
    "\n",
    "If you use _hvsrpy_ in your research or consulting, we ask you please cite the following:\n",
    "\n",
    ">Joseph Vantassel. (2020). jpvantassel/hvsrpy: latest (Concept). Zenodo.\n",
    "[http://doi.org/10.5281/zenodo.3666956](http://doi.org/10.5281/zenodo.3666956)\n",
    "\n",
    "_Note: For software, version specific citations should be preferred to\n",
    "general concept citations, such as that listed above. To generate a version\n",
    "specific citation for hvsrpy, please use the citation tool on the hvsrpy\n",
    "[archive](http://doi.org/10.5281/zenodo.3666956)._\n",
    "\n",
    "## About this notebook\n",
    "\n",
    "This notebook demonstrates use of _hvsrpy_ command line interface (CLI).\n",
    "\n",
    "The lognormal statistics implemented in _hvsrpy_ were developed by Cox et al. (2020).\n",
    "If you use this feature, please also cite Cox et al. (2020) to recognize their original work.\n",
    "\n",
    "> Cox, B. R., Cheng, T., Vantassel, J. P., & Manuel, L. (2020). \"A statistical\n",
    "> representation and frequency-domain window-rejection algorithm for single-station\n",
    "> HVSR measurements. Geophysical Journal International, 221(3), 2170–2183.\n",
    "> https://doi.org/10.1093/gji/ggaa119\n",
    "\n",
    "The microtremor data presented are those by Cox and Vantassel (2018).\n",
    "If you use this data, please also cite Cox and Vantassel (2018).\n",
    "\n",
    ">Cox, B.R. and Vantassel, J.P. (2018). Dynamic Characterization of Wellington, New Zealand. DesignSafe-CI [publisher]. https://doi.org/10.17603/DS24M6J\n",
    "\n",
    "## Getting Started\n",
    "\n",
    "1. Install _hvsrpy_, with `pip install hvsrpy`. More information on _pip_ can be found [here](https://jpvantassel.github.io/python3-course/#/intro/pip). __(~3 minutes)__\n",
    "2. Try analyzing the provided examples. __(~10 minutes)__\n",
    "3. Try your processing your own files with _hvsrpy_ CLI. __(~15 minutes)__\n",
    "\n",
    "Happy Processing!"
   ]
  },
  {
   "cell_type": "code",
   "execution_count": 1,
   "metadata": {
    "tags": []
   },
   "outputs": [],
   "source": [
    "import numpy as np\n",
    "import matplotlib.pyplot as plt\n",
    "\n",
    "import hvsrpy"
   ]
  },
  {
   "cell_type": "markdown",
   "metadata": {},
   "source": [
    "## Preprocessing Settings"
   ]
  },
  {
   "cell_type": "code",
   "execution_count": 2,
   "metadata": {
    "tags": []
   },
   "outputs": [
    {
     "name": "stdout",
     "output_type": "stream",
     "text": [
      "Preprocessing Summary\n",
      "------------------------------------------------------------\n",
      "hvsrpy_version                           : 2.0.0rc7\n",
      "orient_to_degrees_from_north             : 0.0\n",
      "filter_corner_frequencies_in_hz          : (None, None)\n",
      "window_length_in_seconds                 : 100\n",
      "detrend                                  : linear\n",
      "ignore_dissimilar_time_step_warning      : False\n",
      "preprocessing_method                     : hvsr\n"
     ]
    }
   ],
   "source": [
    "preprocessing_settings = hvsrpy.settings.HvsrPreProcessingSettings()\n",
    "preprocessing_settings.detrend = \"linear\"\n",
    "preprocessing_settings.window_length_in_seconds = 100\n",
    "preprocessing_settings.orient_to_degrees_from_north = 0.0\n",
    "preprocessing_settings.filter_corner_frequencies_in_hz = (None, None)\n",
    "preprocessing_settings.ignore_dissimilar_time_step_warning = False\n",
    "preprocessing_settings.save(\"./data/preprocess.json\")\n",
    "\n",
    "print(\"Preprocessing Summary\")\n",
    "print(\"-\"*60)\n",
    "preprocessing_settings.psummary()"
   ]
  },
  {
   "cell_type": "markdown",
   "metadata": {},
   "source": [
    "## Processing Settings"
   ]
  },
  {
   "cell_type": "code",
   "execution_count": 3,
   "metadata": {
    "tags": []
   },
   "outputs": [
    {
     "name": "stdout",
     "output_type": "stream",
     "text": [
      "Processing Summary\n",
      "------------------------------------------------------------\n",
      "hvsrpy_version                           : 2.0.0rc7\n",
      "window_type_and_width                    : ('tukey', 0.2)\n",
      "smoothing                                :\n",
      "     operator                            : konno_and_ohmachi\n",
      "     bandwidth                           : 40\n",
      "     center_frequencies_in_hz            : [0.2, 0.205626908165 ... 1767550226364, 50.0]\n",
      "fft_settings                             : None\n",
      "handle_dissimilar_time_steps_by          : frequency_domain_resampling\n",
      "processing_method                        : traditional\n",
      "method_to_combine_horizontals            : geometric_mean\n"
     ]
    }
   ],
   "source": [
    "processing_settings = hvsrpy.settings.HvsrTraditionalProcessingSettings()\n",
    "processing_settings.window_type_and_width = (\"tukey\", 0.2)\n",
    "processing_settings.smoothing=dict(operator=\"konno_and_ohmachi\",\n",
    "                                   bandwidth=40,\n",
    "                                   center_frequencies_in_hz=np.geomspace(0.2, 50, 200))\n",
    "processing_settings.method_to_combine_horizontals = \"geometric_mean\"\n",
    "processing_settings.handle_dissimilar_time_steps_by = \"frequency_domain_resampling\"\n",
    "processing_settings.save(\"./data/process.json\")\n",
    "\n",
    "print(\"Processing Summary\")\n",
    "print(\"-\"*60)\n",
    "processing_settings.psummary()"
   ]
  },
  {
   "cell_type": "markdown",
   "metadata": {},
   "source": [
    "## Process HVSR using CLI"
   ]
  },
  {
   "cell_type": "code",
   "execution_count": 4,
   "metadata": {},
   "outputs": [
    {
     "name": "stdout",
     "output_type": "stream",
     "text": [
      "UT.STN11.A2_C50.miniseed completed in 1.641 seconds.\n",
      "UT.STN11.A2_C300.miniseed completed in 1.664 seconds.\n",
      "UT.STN11.A2_C150.miniseed completed in 1.725 seconds.\n"
     ]
    }
   ],
   "source": [
    "!cd data && hvsrpy UT*.miniseed --preprocessing_settings_file preprocess.json --processing_settings_file process.json"
   ]
  },
  {
   "cell_type": "markdown",
   "metadata": {},
   "source": [
    "## More Information on the _hvsrpy_ CLI"
   ]
  },
  {
   "cell_type": "code",
   "execution_count": 5,
   "metadata": {},
   "outputs": [
    {
     "name": "stdout",
     "output_type": "stream",
     "text": [
      "Usage: hvsrpy [OPTIONS] [FILE_NAMES]...\n",
      "\n",
      "  Command line interface to hvsrpy.\n",
      "\n",
      "Options:\n",
      "  --preprocessing_settings_file PATH\n",
      "                                  Path to preprocessing settings file.\n",
      "  --processing_settings_file PATH\n",
      "                                  Path to processing settings file.\n",
      "  --distribution_fn [lognormal|normal]\n",
      "                                  Distribution assumed to describe the site\n",
      "                                  frequency, default is 'lognormal'.\n",
      "  --distribution_mc [lognormal|normal]\n",
      "                                  Distribution assumed to describe the median\n",
      "                                  curve, default is 'lognormal'.\n",
      "  --no_figure                     Flag to prevent figure creation.\n",
      "  --no_file                       Flag to prevent HVSR from being saved.\n",
      "  --ymax FLOAT                    Manually set the upper y limit of the HVSR\n",
      "                                  figure.\n",
      "  --nproc INTEGER                 Number of subprocesses to launch, default is\n",
      "                                  number of CPUs minus 1.\n",
      "  --help                          Show this message and exit.\n"
     ]
    }
   ],
   "source": [
    "!hvsrpy --help"
   ]
  },
  {
   "cell_type": "code",
   "execution_count": null,
   "metadata": {},
   "outputs": [],
   "source": []
  }
 ],
 "metadata": {
  "kernelspec": {
   "display_name": "Python 3 (ipykernel)",
   "language": "python",
   "name": "python3"
  },
  "language_info": {
   "codemirror_mode": {
    "name": "ipython",
    "version": 3
   },
   "file_extension": ".py",
   "mimetype": "text/x-python",
   "name": "python",
   "nbconvert_exporter": "python",
   "pygments_lexer": "ipython3",
   "version": "3.8.10"
  }
 },
 "nbformat": 4,
 "nbformat_minor": 4
}
